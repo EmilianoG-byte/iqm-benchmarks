{
 "cells": [
  {
   "cell_type": "markdown",
   "metadata": {},
   "source": [
    "### QED-C Application-Oriented Benchmarks\n",
    "The notebook contains a suite of [application-oriented benchmarks](https://github.com/SRI-International/QC-App-Oriented-Benchmarks) for the Qiskit API.<br><hr>\n",
    "The code is hosted in QCVV suite separately from all other techniques, but it has been adapted to be run specifically with IQM's hardware. In particular, functionalities intended to support other backends has been removed, in order to ensure the intended behavior with IQM's backends.<br><br>\n",
    "&emsp;<u>Main relevant changes</u>:\n",
    "<ul>\n",
    "    <li>Configuration option to admit optimization of single-qubit gates added.</li>\n",
    "    <li>Transpiled circuit samples shown by default.</li>\n",
    "</ul>"
   ]
  },
  {
   "cell_type": "markdown",
   "metadata": {},
   "source": [
    "# Choose (or define) a backend"
   ]
  },
  {
   "cell_type": "code",
   "execution_count": null,
   "metadata": {},
   "outputs": [],
   "source": [
    "from iqm.benchmark.utils import get_iqm_backend\n",
    "\n",
    "#backend_id = \"IQMFakeAdonis\"\n",
    "backend_id = \"IQMFakeApollo\"\n",
    "#backend_id = \"garnet\"\n",
    "\n",
    "provider_backend = get_iqm_backend(backend_id)"
   ]
  },
  {
   "cell_type": "markdown",
   "metadata": {},
   "source": [
    "# -- Benchmark configurations --"
   ]
  },
  {
   "cell_type": "markdown",
   "metadata": {},
   "source": [
    "Optional: change the resolution of the displayed figures"
   ]
  },
  {
   "cell_type": "code",
   "execution_count": null,
   "metadata": {},
   "outputs": [],
   "source": [
    "import matplotlib as mpl\n",
    "mpl.rcParams['figure.dpi'] = 500"
   ]
  },
  {
   "cell_type": "markdown",
   "metadata": {},
   "source": [
    "### All experiments' common configuration"
   ]
  },
  {
   "cell_type": "code",
   "execution_count": null,
   "metadata": {},
   "outputs": [],
   "source": [
    "min_qubits=2\n",
    "max_qubits=10\n",
    "skip_qubits=1\n",
    "max_circuits=3\n",
    "num_shots=2**10\n",
    "\n",
    "#hub=\"ibm-q\"; group=\"open\"; project=\"main\"\n",
    "\n",
    "exec_options = {\"optimization_level\": 3, \"optimize_sqg\": True}"
   ]
  },
  {
   "cell_type": "code",
   "execution_count": null,
   "metadata": {},
   "outputs": [],
   "source": [
    "import sys\n",
    "sys.path.insert(1, \"_common/\")\n",
    "import metrics\n",
    "\n",
    "metrics.QV = 2**5"
   ]
  },
  {
   "cell_type": "code",
   "execution_count": null,
   "metadata": {},
   "outputs": [],
   "source": [
    "# Custom optimization options can be specified in this cell (below is an example)\n",
    "\n",
    "# # Example of pytket Transformer\n",
    "# import _common.transformers.tket_optimiser as tket_optimiser\n",
    "# exec_options.update({ \"optimization_level\": 0, \"layout_method\":'sabre', \"routing_method\":'sabre', \"transformer\": tket_optimiser.high_optimisation })\n",
    "\n",
    "# # Define a custom noise model to be used during execution\n",
    "# import _common.custom.custom_qiskit_noise_model as custom_qiskit_noise_model\n",
    "# exec_options.update({ \"noise_model\": custom_qiskit_noise_model.my_noise_model() })\n",
    "\n",
    "# # Example of mthree error mitigation\n",
    "# import _common.postprocessors.mthree.mthree_em as mthree_em\n",
    "# exec_options.update({ \"postprocessor\": mthree_em.get_mthree_handlers(backend_id, provider_backend) })\n"
   ]
  },
  {
   "cell_type": "markdown",
   "metadata": {},
   "source": [
    "### Deutsch-Jozsa"
   ]
  },
  {
   "cell_type": "code",
   "execution_count": null,
   "metadata": {
    "tags": []
   },
   "outputs": [],
   "source": [
    "import sys\n",
    "sys.path.insert(1, \"deutsch-jozsa/qiskit\")\n",
    "import dj_benchmark\n",
    "dj_benchmark.run(min_qubits=min_qubits,\n",
    "                 max_qubits=max_qubits,\n",
    "                 skip_qubits=skip_qubits,\n",
    "                 max_circuits=max_circuits,\n",
    "                 num_shots=num_shots,\n",
    "                 backend_id=backend_id,\n",
    "                 provider_backend=provider_backend,\n",
    "                 #hub=hub, group=group, project=project,\n",
    "                 exec_options=exec_options)"
   ]
  },
  {
   "cell_type": "markdown",
   "metadata": {},
   "source": [
    "### Bernstein-Vazirani"
   ]
  },
  {
   "cell_type": "code",
   "execution_count": null,
   "metadata": {},
   "outputs": [],
   "source": [
    "import sys\n",
    "sys.path.insert(1, \"bernstein-vazirani/qiskit\")\n",
    "import bv_benchmark\n",
    "bv_benchmark.run(min_qubits=min_qubits,\n",
    "                 max_qubits=max_qubits,\n",
    "                 skip_qubits=skip_qubits,\n",
    "                 max_circuits=max_circuits,\n",
    "                 num_shots=num_shots,\n",
    "                 method=1, # method=2 requires reset operations!\n",
    "                 backend_id=backend_id,\n",
    "                 provider_backend=provider_backend,\n",
    "                 #hub=hub, group=group, project=project,\n",
    "                 exec_options=exec_options)"
   ]
  },
  {
   "cell_type": "markdown",
   "metadata": {},
   "source": [
    "### Hidden Shift"
   ]
  },
  {
   "cell_type": "code",
   "execution_count": null,
   "metadata": {},
   "outputs": [],
   "source": [
    "import sys\n",
    "sys.path.insert(1, \"hidden-shift/qiskit\")\n",
    "import hs_benchmark\n",
    "hs_benchmark.run(min_qubits=min_qubits,\n",
    "                 max_qubits=max_qubits,\n",
    "                 max_circuits=max_circuits,\n",
    "                 num_shots=num_shots,\n",
    "                 backend_id=backend_id,\n",
    "                 provider_backend=provider_backend,\n",
    "                 #hub=hub, group=group, project=project,\n",
    "                 exec_options=exec_options)"
   ]
  },
  {
   "cell_type": "markdown",
   "metadata": {},
   "source": [
    "### Quantum Fourier Transform"
   ]
  },
  {
   "cell_type": "code",
   "execution_count": null,
   "metadata": {},
   "outputs": [],
   "source": [
    "import sys\n",
    "sys.path.insert(1, \"quantum-fourier-transform/qiskit\")\n",
    "import qft_benchmark\n",
    "qft_benchmark.run(min_qubits=min_qubits,\n",
    "                  max_qubits=max_qubits,\n",
    "                  skip_qubits=skip_qubits,\n",
    "                  max_circuits=max_circuits,\n",
    "                  num_shots=num_shots,\n",
    "                  method=1, # method=2\n",
    "                  backend_id=backend_id,\n",
    "                  provider_backend=provider_backend,\n",
    "                  #hub=hub, group=group, project=project,\n",
    "                  exec_options=exec_options)"
   ]
  },
  {
   "cell_type": "markdown",
   "metadata": {},
   "source": [
    "### Grover"
   ]
  },
  {
   "cell_type": "code",
   "execution_count": null,
   "metadata": {},
   "outputs": [],
   "source": [
    "import sys\n",
    "sys.path.insert(1, \"grovers/qiskit\")\n",
    "import grovers_benchmark\n",
    "grovers_benchmark.run(min_qubits=min_qubits,\n",
    "                      max_qubits=max_qubits,\n",
    "                      skip_qubits=skip_qubits,\n",
    "                      max_circuits=max_circuits,\n",
    "                      num_shots=num_shots,\n",
    "                      backend_id=backend_id,\n",
    "                      provider_backend=provider_backend,\n",
    "                      #hub=hub, group=group, project=project,\n",
    "                      exec_options=exec_options)"
   ]
  },
  {
   "cell_type": "markdown",
   "metadata": {},
   "source": [
    "### Phase Estimation"
   ]
  },
  {
   "cell_type": "code",
   "execution_count": null,
   "metadata": {},
   "outputs": [],
   "source": [
    "import sys\n",
    "sys.path.insert(1, \"phase-estimation/qiskit\")\n",
    "import pe_benchmark\n",
    "pe_benchmark.run(min_qubits=min_qubits,\n",
    "                 max_qubits=max_qubits,\n",
    "                 skip_qubits=skip_qubits,\n",
    "                 max_circuits=max_circu\n",
    "                 backend_id=backend_id,\n",
    "                 provider_backend=provider_backend,\n",
    "                 #hub=hub, group=group, project=project,\n",
    "                 exec_options=exec_options)"
   ]
  },
  {
   "cell_type": "markdown",
   "metadata": {},
   "source": [
    "### HHL Linear Solver"
   ]
  },
  {
   "cell_type": "code",
   "execution_count": null,
   "metadata": {},
   "outputs": [],
   "source": [
    "# REQUIRES reset OPERATIONS - NOT YET SUPPORTED\n",
    "\n",
    "# import sys\n",
    "# sys.path.insert(1, \"hhl/qiskit\")\n",
    "# import hhl_benchmark\n",
    "\n",
    "# hhl_benchmark.verbose=False\n",
    "\n",
    "# hhl_benchmark.run(min_qubits=min_qubits,\n",
    "#                   max_qubits=max_qubits,\n",
    "#                   skip_qubits=skip_qubits,\n",
    "#                   max_circuits=max_circuits,\n",
    "#                   num_shots=num_shots,\n",
    "#                   method=1,\n",
    "#                   use_best_widths=True,\n",
    "#                   backend_id=backend_id,\n",
    "#                   provider_backend=provider_backend,\n",
    "#                   #hub=hub, group=group, project=project,\n",
    "#                   exec_options=exec_options)"
   ]
  },
  {
   "cell_type": "markdown",
   "metadata": {},
   "source": [
    "### Amplitude Estimation"
   ]
  },
  {
   "cell_type": "code",
   "execution_count": null,
   "metadata": {},
   "outputs": [],
   "source": [
    "import sys\n",
    "sys.path.insert(1, \"amplitude-estimation/qiskit\")\n",
    "import ae_benchmark\n",
    "ae_benchmark.run(min_qubits=min_qubits,\n",
    "                 max_qubits=max_qubits,\n",
    "                 skip_qubits=skip_qubits,\n",
    "                 max_circuits=max_circuits,\n",
    "                 num_shots=num_shots,\n",
    "                 backend_id=backend_id,\n",
    "                 provider_backend=provider_backend,\n",
    "                 #hub=hub, group=group, project=project,\n",
    "                 exec_options=exec_options)"
   ]
  },
  {
   "cell_type": "markdown",
   "metadata": {},
   "source": [
    "### Monte Carlo"
   ]
  },
  {
   "cell_type": "markdown",
   "metadata": {},
   "source": [
    "**Warning**: Number of operations can easily exceed 1k !"
   ]
  },
  {
   "cell_type": "code",
   "execution_count": null,
   "metadata": {},
   "outputs": [],
   "source": [
    "import sys\n",
    "sys.path.insert(1, \"monte-carlo/qiskit\")\n",
    "import mc_benchmark\n",
    "mc_benchmark.run(min_qubits=min_qubits,\n",
    "                 max_qubits=max_qubits,\n",
    "                 skip_qubits=skip_qubits,\n",
    "                 max_circuits=max_circuits,\n",
    "                 num_shots=num_shots,\n",
    "                 backend_id=backend_id,\n",
    "                 provider_backend=provider_backend,\n",
    "                 # hub=hub, group=group, project=project,\n",
    "                 exec_options=exec_options)"
   ]
  },
  {
   "cell_type": "markdown",
   "metadata": {},
   "source": [
    "### Hamiltonian Simulation"
   ]
  },
  {
   "cell_type": "code",
   "execution_count": null,
   "metadata": {},
   "outputs": [],
   "source": [
    "import sys\n",
    "sys.path.insert(1, \"hamiltonian-simulation/qiskit\")\n",
    "import hamiltonian_simulation_benchmark\n",
    "hamiltonian_simulation_benchmark.run(min_qubits=min_qubits,\n",
    "                                     max_qubits=max_qubits,\n",
    "                                     skip_qubits=skip_qubits,\n",
    "                                     max_circuits=max_circuits,\n",
    "                                     num_shots=num_shots,\n",
    "                                     method=1, # method=2\n",
    "                                     backend_id=backend_id,\n",
    "                                     provider_backend=provider_backend,\n",
    "                                     #hub=hub, group=group, project=project,\n",
    "                                     exec_options=exec_options)"
   ]
  },
  {
   "cell_type": "markdown",
   "metadata": {},
   "source": [
    "### VQE"
   ]
  },
  {
   "cell_type": "markdown",
   "metadata": {},
   "source": [
    "**Warning**: Number of operations can easily exceed 1k !"
   ]
  },
  {
   "cell_type": "code",
   "execution_count": null,
   "metadata": {},
   "outputs": [],
   "source": [
    "import sys\n",
    "sys.path.insert(1, \"vqe/qiskit\")\n",
    "import vqe_benchmark\n",
    "vqe_num_shots=4098\n",
    "vqe_benchmark.run(min_qubits=min_qubits,\n",
    "                  max_qubits=max_qubits,\n",
    "                  max_circuits=max_circuits,\n",
    "                  num_shots=vqe_num_shots,\n",
    "                  method=1,\n",
    "                  backend_id=backend_id,\n",
    "                  provider_backend=provider_backend,\n",
    "                  #hub=hub, group=group, project=project,\n",
    "                  exec_options=exec_options)"
   ]
  },
  {
   "cell_type": "markdown",
   "metadata": {},
   "source": [
    "### Shor"
   ]
  },
  {
   "cell_type": "markdown",
   "metadata": {},
   "source": [
    "**Warning**: Number of operations can easily exceed 1k !"
   ]
  },
  {
   "cell_type": "code",
   "execution_count": null,
   "metadata": {},
   "outputs": [],
   "source": [
    "import sys\n",
    "sys.path.insert(1, \"shors/qiskit\")\n",
    "import shors_benchmark\n",
    "shors_benchmark.run(min_qubits=min_qubits,\n",
    "                    max_qubits=max_qubits,\n",
    "                    max_circuits=1,\n",
    "                    num_shots=num_shots,\n",
    "                    method=1, # method=2\n",
    "                    backend_id=backend_id,\n",
    "                    provider_backend=provider_backend,\n",
    "                    #hub=hub, group=group, project=project,\n",
    "                    exec_options=exec_options)"
   ]
  },
  {
   "cell_type": "markdown",
   "metadata": {},
   "source": [
    "### Combined Benchmark Results"
   ]
  },
  {
   "cell_type": "code",
   "execution_count": null,
   "metadata": {},
   "outputs": [],
   "source": [
    "import sys\n",
    "sys.path.insert(1, \"_common\")\n",
    "import metrics\n",
    "\n",
    "# metrics.depth_base = 2\n",
    "# metrics.QV = 0\n",
    "# apps = [ \"Hidden Shift\", \"Grover's Search\", \"Quantum Fourier Transform (1)\", \"Hamiltonian Simulation\" ]\n",
    "# backend_id='qasm_simulator'\n",
    "\n",
    "metrics.plot_all_app_metrics(backend_id, do_all_plots=False, include_apps=None)"
   ]
  },
  {
   "cell_type": "code",
   "execution_count": null,
   "metadata": {},
   "outputs": [],
   "source": []
  }
 ],
 "metadata": {
  "kernelspec": {
   "display_name": "qcvv-suite",
   "language": "python",
   "name": "qcvv-suite"
  },
  "language_info": {
   "codemirror_mode": {
    "name": "ipython",
    "version": 3
   },
   "file_extension": ".py",
   "mimetype": "text/x-python",
   "name": "python",
   "nbconvert_exporter": "python",
   "pygments_lexer": "ipython3",
   "version": "3.11.2"
  }
 },
 "nbformat": 4,
 "nbformat_minor": 4
}
