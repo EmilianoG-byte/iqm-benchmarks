{
 "cells": [
  {
   "cell_type": "code",
   "execution_count": 4,
   "id": "6e8fdb40-a4be-43bd-bcfc-86af251f0f0c",
   "metadata": {},
   "outputs": [],
   "source": [
    "# You will need to install iqm-benchmarks from the github repo to access all the mGST functions: https://github.com/iqm-finland/iqm-benchmarks\n",
    "from mGST.low_level_jit import dK, objf\n",
    "from mGST.optimization import tangent_proj\n",
    "import shelve\n",
    "import numpy as np"
   ]
  },
  {
   "cell_type": "code",
   "execution_count": 19,
   "id": "684b58af-c525-4157-b8d0-de1215d0bfcb",
   "metadata": {},
   "outputs": [
    {
     "name": "stdout",
     "output_type": "stream",
     "text": [
      "K\n",
      "E_new\n",
      "rho\n",
      "y\n",
      "J\n",
      "d\n",
      "r\n",
      "rK\n"
     ]
    }
   ],
   "source": [
    "# Loading parameters\n",
    "filename = \"shelve_out\"\n",
    "my_shelf = shelve.open(filename)\n",
    "for key in [\"K\", \"E_new\", \"rho\", \"y\", \"J\", \"d\", \"r\", \"rK\"]:\n",
    "    print(key)\n",
    "    globals()[key]=my_shelf[key]\n",
    "my_shelf.close()"
   ]
  },
  {
   "cell_type": "code",
   "execution_count": 6,
   "id": "f89c91cf-fd06-4526-8d91-31349aa97e4c",
   "metadata": {},
   "outputs": [],
   "source": [
    "# Setting some additional_parameters\n",
    "E = E_new\n",
    "pdim = int(np.sqrt(r))\n",
    "n = rK * pdim\n",
    "Delta = np.zeros((d, n, pdim)).astype(np.complex128)\n",
    "X = np.einsum(\"ijkl,ijnm -> iknlm\", K, K.conj()).reshape((d, r, r))"
   ]
  },
  {
   "cell_type": "markdown",
   "id": "e952c40c-43a7-46fc-8aa5-bfa240a1d892",
   "metadata": {},
   "source": [
    "The function dK computes the Wirtinger derivative $\\frac{\\partial \\mathcal L}{\\partial K}$.\n",
    "Here $\\mathcal L$ is the cost function \"objf\"."
   ]
  },
  {
   "cell_type": "code",
   "execution_count": 7,
   "id": "811be21a-0d6c-4f07-83cb-02d67893cc46",
   "metadata": {},
   "outputs": [],
   "source": [
    "dK_ = dK(X, K, E, rho, J, y, d, r, rK)"
   ]
  },
  {
   "cell_type": "code",
   "execution_count": 8,
   "id": "c9eed5e6-eabc-47e8-8092-3e92c7e5b5c6",
   "metadata": {},
   "outputs": [
    {
     "name": "stdout",
     "output_type": "stream",
     "text": [
      "0.0019762572998321807\n"
     ]
    }
   ],
   "source": [
    "print(objf(X, E, rho, J, y))"
   ]
  },
  {
   "cell_type": "code",
   "execution_count": 9,
   "id": "89fdea4c-9e11-4ee1-adaf-aa09c0f24b33",
   "metadata": {},
   "outputs": [],
   "source": [
    "# This loop computes the Riemannian gradient from the derivative\n",
    "for k in range(d):\n",
    "    # derivative\n",
    "    Fy = dK_[k].reshape(n, pdim)\n",
    "    Y = K[k].reshape(n, pdim)\n",
    "    # Riem. gradient taken from conjugate derivative\n",
    "    rGrad = Fy.conj() - Y @ Fy.T @ Y\n",
    "    Delta[k] = rGrad"
   ]
  },
  {
   "cell_type": "code",
   "execution_count": 10,
   "id": "ef130518-464f-405c-b2c5-b574db974690",
   "metadata": {},
   "outputs": [],
   "source": [
    "# There is also a function to project onto the tangent space should you need it:\n",
    "Delta_proj = tangent_proj(K, Delta, d, rK)"
   ]
  },
  {
   "cell_type": "code",
   "execution_count": 11,
   "id": "eccdc4bb-e7a6-4163-a903-a05b4d035647",
   "metadata": {},
   "outputs": [
    {
     "name": "stdout",
     "output_type": "stream",
     "text": [
      "3.170989642158836e-17\n"
     ]
    }
   ],
   "source": [
    "# As expected, the Riemannian gradient is already in the tangent space :)\n",
    "print(np.linalg.norm(Delta - Delta_proj))"
   ]
  },
  {
   "cell_type": "code",
   "execution_count": null,
   "id": "16febbe3",
   "metadata": {},
   "outputs": [],
   "source": []
  }
 ],
 "metadata": {
  "kernelspec": {
   "display_name": "qcvv-env",
   "language": "python",
   "name": "python3"
  },
  "language_info": {
   "codemirror_mode": {
    "name": "ipython",
    "version": 3
   },
   "file_extension": ".py",
   "mimetype": "text/x-python",
   "name": "python",
   "nbconvert_exporter": "python",
   "pygments_lexer": "ipython3",
   "version": "3.11.10"
  }
 },
 "nbformat": 4,
 "nbformat_minor": 5
}
