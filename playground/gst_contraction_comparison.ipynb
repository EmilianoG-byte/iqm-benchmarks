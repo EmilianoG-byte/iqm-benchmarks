{
 "cells": [
  {
   "cell_type": "code",
   "execution_count": 1,
   "metadata": {},
   "outputs": [],
   "source": [
    "from mGST.utility_functions_comparisons import get_x_from_k, get_full_mgst_parameters_from_configuration\n",
    "from mGST.algorithm import gd\n",
    "from mGST.low_level_jit import cost_function_jax_jit\n",
    "from iqm.benchmarks.compressive_gst.compressive_gst import GSTConfiguration\n",
    "\n",
    "import jax.numpy as jnp\n",
    "import jax\n",
    "\n",
    "backend = \"iqmfakeapollo\"\n",
    "\n",
    "%load_ext autoreload\n",
    "%autoreload 2"
   ]
  },
  {
   "cell_type": "code",
   "execution_count": 2,
   "metadata": {},
   "outputs": [],
   "source": [
    "def contract_kraus_state_povm(kraus, depth, dim_squared, gate_indices, povm, state):\n",
    "    \"\"\"\n",
    "    Contraction path that creates first a big tensor for the gates and then contracts it with the state and povm.\n",
    "    \n",
    "    It is expected that this cost function scales as O((2^N)^8).\n",
    "    \"\"\"\n",
    "    superop = get_x_from_k(k=kraus, d=depth, r=dim_squared)\n",
    "    full_gates_superop = contract(superop, gate_indices)\n",
    "    return povm.conj() @ full_gates_superop @ state\n",
    "    # return jnp.einsum(\"i,ij,j->\", povm.conj(), full_gates_superop, state)\n",
    "\n",
    "def contract_kraus_state_all_povm(kraus, d, r, gate_indices, povm_tensor, state, prob_tensor):\n",
    "    \"\"\"Full contraction using all the POVM's in povm_tensor\n",
    "\n",
    "    Args:\n",
    "        kraus: kraus tensor of dimensions: (num_gates, kraus_rank, dim_out, dim_in)\n",
    "        d: _description_\n",
    "        r: _description_\n",
    "        gate_indices: list of lists, where each inner list contains the indices of the gates to be contracted\n",
    "        povm_tensor: tensor of dimensions (num_povm, dim, dim)\n",
    "        state: tensor of dimension (dim**2)\n",
    "        prob_tensor: tensor containing the experimental probabilities, with dimension: (num_povm)\n",
    "    Returns:\n",
    "        summed expectation value\n",
    "    \"\"\"\n",
    "    superop = get_x_from_k(k=kraus, d=d, r=r)\n",
    "    cost_fn_value = 0\n",
    "    for prob, povm in zip(prob_tensor, povm_tensor):\n",
    "        full_gates_superop = contract(superop, gate_indices)\n",
    "        cost_fn_value += abs(povm.conj() @ full_gates_superop @ state - prob)**2\n",
    "    return cost_fn_value\n",
    "\n",
    "def contract(X, j_vec):\n",
    "    \"\"\"Contract a sequence of matrices in the given order.\n",
    "    \n",
    "    Implementation from mGST.low_level_jit without the j_vec processing\n",
    "    \"\"\"\n",
    "    res = jnp.eye(X[0].shape[0])\n",
    "    res = res.astype(jnp.complex128)\n",
    "    for j in j_vec:\n",
    "        # res = jnp.einsum(\"ij,jk->ik\", res, X[j])\n",
    "        res = res.dot(X[j])\n",
    "    return res"
   ]
  },
  {
   "cell_type": "code",
   "execution_count": 3,
   "metadata": {},
   "outputs": [],
   "source": [
    "# Now let's code up the MPS one\n",
    "def contract_mps_strategy(kraus, dim, gate_indices, povm, state, vectorized:bool=False):\n",
    "    \"\"\"\n",
    "    MPS-like strategy to contract the full chain.\n",
    "    \n",
    "    kraus: kraus tensor of dimensions: (num_gates, kraus_rank, dim_out, dim_in)\n",
    "        dim_out = dim_in = dim\n",
    "        num_gates: is the number of gates (first dimension in kraus tensor)\n",
    "    dim: local hilbert space dimension = 2^N\n",
    "    \n",
    "    It is expected that this cost function scales as O((2^N)^3 * rank * depth).\n",
    "    \"\"\"\n",
    "    if vectorized:\n",
    "        return _contract_mps_vectorized(kraus, dim, gate_indices, povm, state)\n",
    "    \n",
    "    return _contract_mps_tensors(kraus, gate_indices, povm, state)\n",
    "\n",
    "def contract_mps_all_povm(kraus, gate_indices, povm_tensor, state, prob_tensor):\n",
    "    \"\"\"Compute the full cost function for a single set of gate indices.\n",
    "\n",
    "    Args:\n",
    "        kraus: tensor of dimensions: (num_gates, kraus_rank, dim_out, dim_in)\n",
    "        gate_indices: list of indices that dictate which k[idx] will be chosen for each contraction loop.\n",
    "        povm_tensor: tensor containing all povm of dimensions: (num_povm, dim, dim)\n",
    "        state: tensor of dimensions: (dim, dim)\n",
    "        prob_tensor: tensor of dimension: (num_povm)\n",
    "    \"\"\"\n",
    "    # Initialize right tensor as the state\n",
    "    right_tensor = state  # dim_up_in, dim_down_in\n",
    "    # Iterate through the Kraus tensors in reverse order\n",
    "    for idx in reversed(gate_indices):\n",
    "        k = kraus[idx]  # kraus_rank, dim_up_out, dim_up_in\n",
    "        # (kraus_rank, dim_up_out, dim_up_in) x (dim_up_in, dim_down_in) -> kraus_rank, dim_up_out, dim_down_in\n",
    "        right_tensor = jnp.einsum(\"ijk,kl->ijl\", k, right_tensor)\n",
    "        # (kraus_rank, dim_up_out, dim_down_in) x (kraus_rank, dim_down_out, dim_down_in) -> dim_up_in, dim_down_in\n",
    "        right_tensor = jnp.einsum(\"ijl,iml->jm\", right_tensor, k.conj()) \n",
    "\n",
    "    inner_prod = jnp.einsum(\"kij,ij->k\", povm_tensor.conj(), right_tensor) # (num_povm, dim, dim) x (dim, dim) -> num_povm\n",
    "    cost_vector = jnp.abs(inner_prod - prob_tensor)**2\n",
    "    return jnp.einsum(\"i->\", cost_vector)\n",
    "    # return jnp.sum(cost_vector)\n",
    "        \n",
    "def _contract_mps_tensors(kraus, gate_indices, povm, state):\n",
    "    left_tensor = povm.conj() # dim_up_in, dim_down_in\n",
    "    for idx in gate_indices:\n",
    "        k = kraus[idx] # kraus_rank, dim_up_out, dim_up_in\n",
    "        # (kraus_rank, dim_up_out, dim_up_in) x (dim_up_in, dim_down_in) -> kraus_rank, dim_up_in, dim_down_in\n",
    "        left_tensor = jnp.einsum(\"ijk,jl->ikl\", k, left_tensor)\n",
    "        # k*: kraus_rank, dim_down_out, dim_down_in\n",
    "        # (kraus_rank, dim_up_in, dim_down_in) x (kraus_rank, dim_down_out, dim_down_in) ->\n",
    "        left_tensor = jnp.einsum(\"ikl,ilm->km\", left_tensor, k.conj())\n",
    "    return jnp.einsum(\"ij,ij->\", left_tensor, state)\n",
    "    \n",
    "def _contract_mps_vectorized(kraus, dim, gate_indices, povm, state):\n",
    "    left_tensor = jnp.reshape(povm.conj(), shape=(dim, dim)) # dim_up_in, dim_down_in\n",
    "    for idx in gate_indices:\n",
    "        k = kraus[idx] # kraus_rank, dim_up_out, dim_up_in\n",
    "        left_tensor = jnp.einsum(\"ijk,jl->ikl\", k, left_tensor)\n",
    "        left_tensor = jnp.einsum(\"ikl,ilm->km\", left_tensor, k.conj())\n",
    "        \n",
    "    left_vector = jnp.reshape(left_tensor, shape=(dim**2))\n",
    "    return jnp.einsum(\"i,i->\",left_vector, state)\n",
    "\n",
    "def _contract_mps_tensors_tensordot(kraus, gate_indices, povm, state):\n",
    "    left_tensor = povm.conj() # dim_up_in, dim_down_in\n",
    "    for idx in gate_indices:\n",
    "        k = kraus[idx] # kraus_rank, dim_up_out, dim_up_in\n",
    "        # (kraus_rank, dim_up_out, dim_up_in) x (dim_up_in, dim_down_in) -> kraus_rank, dim_up_in, dim_down_in\n",
    "        left_tensor = jnp.tensordot(k, left_tensor, axes=([1],[0])) # kraus_rank, dim_up_in, dim_down_in\n",
    "        # k*: kraus_rank, dim_down_out, dim_down_in\n",
    "        # (kraus_rank, dim_up_in, dim_down_in) x (kraus_rank, dim_down_out, dim_down_in) ->\n",
    "        left_tensor = jnp.tensordot(left_tensor, k.conj(), axes=([0,2],[0, 1])) # dim_up_in, dim_down_in\n",
    "    return jnp.tensordot(left_tensor, state, axes=([0,1], [0,1]))"
   ]
  },
  {
   "cell_type": "markdown",
   "metadata": {},
   "source": [
    "# 3GST: MPS-like vs exponential "
   ]
  },
  {
   "cell_type": "code",
   "execution_count": 192,
   "metadata": {},
   "outputs": [
    {
     "name": "stderr",
     "output_type": "stream",
     "text": [
      "2025-01-23 18:18:25,492 - iqm.benchmarks.logging_config - INFO - Now generating 1000 random GST circuits...\n",
      "2025-01-23 18:18:25,719 - iqm.benchmarks.logging_config - INFO - Will transpile all 1000 circuits according to fixed physical layout\n",
      "2025-01-23 18:18:25,719 - iqm.benchmarks.logging_config - INFO - Transpiling for backend IQMFakeApolloBackend with optimization level 0, sabre routing method all circuits\n",
      "2025-01-23 18:18:29,316 - iqm.benchmarks.logging_config - INFO - Submitting batch with 1000 circuits corresponding to qubits [0, 1, 3]\n",
      "2025-01-23 18:18:29,321 - iqm.benchmarks.logging_config - INFO - Now executing the corresponding circuit batch\n",
      "2025-01-23 18:18:29,346 - iqm.benchmarks.logging_config - INFO - Retrieving all counts\n"
     ]
    }
   ],
   "source": [
    "Q3_GST = GSTConfiguration(\n",
    "    qubit_layouts=[[0,1,3]],\n",
    "    gate_set=\"3QXYCZ\",\n",
    "    num_circuits=1000,\n",
    "    shots=1000,\n",
    "    rank=4,\n",
    ")\n",
    "\n",
    "K, X, E, rho, y, J, l, depth, pdim, dim_squared, n_povm, bsize, meas_samples, n, nt, rK = get_full_mgst_parameters_from_configuration(\n",
    "    Q3_GST, backend\n",
    ")"
   ]
  },
  {
   "cell_type": "code",
   "execution_count": 193,
   "metadata": {},
   "outputs": [],
   "source": [
    "# The idea is to now compare how long each of the contractions take.\n",
    "idx_gate = -2\n",
    "gate_indices = J[idx_gate] # Each J is a set of indices of length l (max depth)\n",
    "\n",
    "idx_povm = 0\n",
    "single_povm = E[idx_povm] # Each E is a vectorized 2^2N tensor \n",
    "\n",
    "empiric_prob = y[:, idx_gate] # (i,j) element is the counts of the i-th povm with j-th gate sequence."
   ]
  },
  {
   "cell_type": "code",
   "execution_count": 194,
   "metadata": {},
   "outputs": [
    {
     "data": {
      "text/plain": [
       "(8,\n",
       " 64,\n",
       " (8, 4, 8, 8),\n",
       " array([0.025, 0.239, 0.013, 0.226, 0.015, 0.231, 0.02 , 0.231]),\n",
       " (8, 64))"
      ]
     },
     "execution_count": 194,
     "metadata": {},
     "output_type": "execute_result"
    }
   ],
   "source": [
    "depth, dim_squared, K.shape, empiric_prob, E.shape"
   ]
  },
  {
   "cell_type": "code",
   "execution_count": 198,
   "metadata": {},
   "outputs": [
    {
     "data": {
      "text/plain": [
       "Array(0.00614434-1.42557763e-17j, dtype=complex128)"
      ]
     },
     "execution_count": 198,
     "metadata": {},
     "output_type": "execute_result"
    }
   ],
   "source": [
    "cost_exp = contract_kraus_state_povm(kraus=K, depth=depth, dim_squared=dim_squared, gate_indices=gate_indices, povm=single_povm, state=rho)\n",
    "cost_exp"
   ]
  },
  {
   "cell_type": "code",
   "execution_count": 196,
   "metadata": {},
   "outputs": [
    {
     "data": {
      "text/plain": [
       "Array(0.00614434-1.42557763e-17j, dtype=complex128)"
      ]
     },
     "execution_count": 196,
     "metadata": {},
     "output_type": "execute_result"
    }
   ],
   "source": [
    "cost_exp = contract_kraus_state_povm(kraus=K, depth=depth, dim_squared=dim_squared, gate_indices=gate_indices, povm=single_povm, state=rho)\n",
    "cost_exp"
   ]
  },
  {
   "cell_type": "code",
   "execution_count": 86,
   "metadata": {},
   "outputs": [
    {
     "data": {
      "text/plain": [
       "Array(0.00292068, dtype=float64)"
      ]
     },
     "execution_count": 86,
     "metadata": {},
     "output_type": "execute_result"
    }
   ],
   "source": [
    "total_cost = contract_kraus_state_all_povm(kraus=K, d=depth, r=dim_squared, gate_indices=gate_indices, povm_tensor=E, state=rho, prob_tensor=empiric_prob)\n",
    "total_cost"
   ]
  },
  {
   "cell_type": "code",
   "execution_count": 200,
   "metadata": {},
   "outputs": [
    {
     "name": "stdout",
     "output_type": "stream",
     "text": [
      "1.84 ms ± 15 μs per loop (mean ± std. dev. of 7 runs, 1,000 loops each)\n"
     ]
    }
   ],
   "source": [
    "%timeit contract_kraus_state_povm(kraus=K, depth=depth, dim_squared=dim_squared, gate_indices=gate_indices, povm=single_povm, state=rho)"
   ]
  },
  {
   "cell_type": "code",
   "execution_count": 202,
   "metadata": {},
   "outputs": [
    {
     "name": "stdout",
     "output_type": "stream",
     "text": [
      "1.48 ms ± 2.72 μs per loop (mean ± std. dev. of 7 runs, 1,000 loops each)\n"
     ]
    }
   ],
   "source": [
    "%timeit contract_kraus_state_povm(kraus=K, depth=depth, dim_squared=dim_squared, gate_indices=gate_indices, povm=single_povm, state=rho)"
   ]
  },
  {
   "cell_type": "markdown",
   "metadata": {},
   "source": [
    "NOTE:\n",
    "\n",
    "Just by changing @,dot with einsum, the time changes as:\n",
    "\n",
    "* `@,dot`: 1.48 ms ± 2.72 μs per loop (mean ± std. dev. of 7 runs, 1,000 loops each)\n",
    "* `einsum`: 1.84 ms ± 15 μs per loop (mean ± std. dev. of 7 runs, 1,000 loops each)"
   ]
  },
  {
   "cell_type": "code",
   "execution_count": 32,
   "metadata": {},
   "outputs": [
    {
     "data": {
      "text/plain": [
       "((64,), (64,), 64)"
      ]
     },
     "execution_count": 32,
     "metadata": {},
     "output_type": "execute_result"
    }
   ],
   "source": [
    "rho.shape, single_povm.shape, dim_squared"
   ]
  },
  {
   "cell_type": "code",
   "execution_count": 128,
   "metadata": {},
   "outputs": [],
   "source": []
  },
  {
   "cell_type": "code",
   "execution_count": null,
   "metadata": {},
   "outputs": [
    {
     "data": {
      "text/plain": [
       "(Array(0.00701178+6.07153217e-18j, dtype=complex128),\n",
       " Array(0.00701178+6.07153217e-18j, dtype=complex128))"
      ]
     },
     "execution_count": 109,
     "metadata": {},
     "output_type": "execute_result"
    }
   ],
   "source": [
    "dim = int(jnp.sqrt(dim_squared))\n",
    "num_gates = depth\n",
    "# reshape POVM and state to check if this improves computation time\n",
    "povm_rank2 = jnp.reshape(single_povm, shape=(dim, dim))\n",
    "state_rank2 = jnp.reshape(rho, shape=(dim, dim))\n",
    "# run the contraction\n",
    "cost_mps = contract_mps_strategy(kraus=K, dim=dim, gate_indices=gate_indices, povm=povm_rank2, state=state_rank2)\n",
    "\n",
    "cost_mps_vect = contract_mps_strategy(kraus=K, dim=dim, gate_indices=gate_indices, povm=single_povm, state=rho, vectorized=True)\n",
    "\n",
    "cost_mps, cost_mps_vect"
   ]
  },
  {
   "cell_type": "code",
   "execution_count": 107,
   "metadata": {},
   "outputs": [
    {
     "data": {
      "text/plain": [
       "(Array(True, dtype=bool), Array(True, dtype=bool))"
      ]
     },
     "execution_count": 107,
     "metadata": {},
     "output_type": "execute_result"
    }
   ],
   "source": [
    "jnp.allclose(cost_exp, cost_mps), #jnp.allclose(cost_mps_right_left, cost_mps): True"
   ]
  },
  {
   "cell_type": "code",
   "execution_count": 126,
   "metadata": {},
   "outputs": [
    {
     "data": {
      "text/plain": [
       "(Array(0.00292068, dtype=float64),\n",
       " Array(0.00292068, dtype=float64),\n",
       " Array(True, dtype=bool))"
      ]
     },
     "execution_count": 126,
     "metadata": {},
     "output_type": "execute_result"
    }
   ],
   "source": [
    "num_povm = len(y)\n",
    "povm_tensor = jnp.reshape(E, shape=(num_povm, dim, dim))\n",
    "\n",
    "cost_mps_all_povm = contract_mps_all_povm(kraus=K, gate_indices=gate_indices, povm_tensor=povm_tensor, state=state_rank2, prob_tensor=empiric_prob)\n",
    "cost_mps_all_povm, total_cost, jnp.allclose(cost_mps_all_povm, total_cost)"
   ]
  },
  {
   "cell_type": "code",
   "execution_count": 102,
   "metadata": {},
   "outputs": [
    {
     "name": "stdout",
     "output_type": "stream",
     "text": [
      "2.1 ms ± 5.11 μs per loop (mean ± std. dev. of 7 runs, 100 loops each)\n"
     ]
    }
   ],
   "source": [
    "%timeit contract_mps_strategy(kraus=K, dim=dim, gate_indices=gate_indices, povm=povm_rank2, state=state_rank2, vectorized=False)"
   ]
  },
  {
   "cell_type": "code",
   "execution_count": 101,
   "metadata": {},
   "outputs": [
    {
     "name": "stdout",
     "output_type": "stream",
     "text": [
      "2.15 ms ± 19.8 μs per loop (mean ± std. dev. of 7 runs, 100 loops each)\n"
     ]
    }
   ],
   "source": [
    "%timeit contract_mps_strategy(kraus=K, dim=dim, gate_indices=gate_indices, povm=single_povm, state=rho, vectorized=True)"
   ]
  },
  {
   "cell_type": "markdown",
   "metadata": {},
   "source": [
    "To keep record of mps contraction:\n",
    "\n",
    "* `jnp.tensordot` and no reshaping: 2.34 ms ± 122 μs per loop (mean ± std. dev. of 7 runs, 100 loops each)\n",
    "* `jnp.tensordot` and reshaping: 2.17 ms ± 16.7 μs per loop (mean ± std. dev. of 7 runs, 100 loops each)\n",
    "* `jnp.einsum` and no reshaping 2.1 ms ± 10.8 μs per loop (mean ± std. dev. of 7 runs, 100 loops each)\n",
    "* `jnp.einsum` and reshaping 2.13 ms ± 8.29 μs per loop (mean ± std. dev. of 7 runs, 100 loops each)\n",
    "\n",
    "Naive implementation gates-state-povm:\n",
    "* `@, dot`: 1.49 ms ± 34.8 μs per loop (mean ± std. dev. of 7 runs, 1,000 loops each)\n"
   ]
  },
  {
   "cell_type": "code",
   "execution_count": 129,
   "metadata": {},
   "outputs": [
    {
     "name": "stdout",
     "output_type": "stream",
     "text": [
      "2.23 ms ± 5.52 μs per loop (mean ± std. dev. of 7 runs, 100 loops each)\n"
     ]
    }
   ],
   "source": [
    "# Comparing the time of the two stragies for all POVM\n",
    "%timeit contract_mps_all_povm(kraus=K, gate_indices=gate_indices, povm_tensor=povm_tensor, state=state_rank2, prob_tensor=empiric_prob)"
   ]
  },
  {
   "cell_type": "code",
   "execution_count": 124,
   "metadata": {},
   "outputs": [
    {
     "name": "stdout",
     "output_type": "stream",
     "text": [
      "12.3 ms ± 82.2 μs per loop (mean ± std. dev. of 7 runs, 100 loops each)\n"
     ]
    }
   ],
   "source": [
    "%timeit contract_kraus_state_all_povm(kraus=K, d=d, r=r, gate_indices=gate_indices, povm_tensor=E, state=rho, prob_tensor=empiric_prob)"
   ]
  },
  {
   "cell_type": "markdown",
   "metadata": {},
   "source": [
    "* with `jnp.einsum` at the end: 2.2 ms ± 9.71 μs per loop (mean ± std. dev. of 7 runs, 100 loops each)\n",
    "* with `jnp.sum` at the end: 2.28 ms ± 147 μs per loop (mean ± std. dev. of 7 runs, 100 loops each)\n",
    "* using for loops with naive contraction: 12.3 ms ± 82.2 μs per loop (mean ± std. dev. of 7 runs, 100 loops each)"
   ]
  },
  {
   "cell_type": "markdown",
   "metadata": {},
   "source": [
    "# 4-GST: MPS-like vs Exponential"
   ]
  },
  {
   "cell_type": "code",
   "execution_count": null,
   "metadata": {},
   "outputs": [
    {
     "name": "stderr",
     "output_type": "stream",
     "text": [
      "2025-01-23 15:51:48,553 - iqm.benchmarks.logging_config - INFO - Now generating 2000 random GST circuits...\n",
      "2025-01-23 15:51:48,975 - iqm.benchmarks.logging_config - INFO - Will transpile all 2000 circuits according to fixed physical layout\n",
      "2025-01-23 15:51:48,976 - iqm.benchmarks.logging_config - INFO - Transpiling for backend IQMFakeApolloBackend with optimization level 0, sabre routing method all circuits\n",
      "2025-01-23 15:51:52,098 - iqm.benchmarks.logging_config - INFO - Submitting batch with 2000 circuits corresponding to qubits [0, 1, 3, 4]\n",
      "2025-01-23 15:51:52,105 - iqm.benchmarks.logging_config - INFO - Now executing the corresponding circuit batch\n",
      "2025-01-23 15:51:52,179 - iqm.benchmarks.logging_config - INFO - Retrieving all counts\n"
     ]
    }
   ],
   "source": [
    "from iqm.qiskit_iqm import IQMCircuit as QuantumCircuit\n",
    "from qiskit.circuit.library import CZGate, RGate\n",
    "\n",
    "cz_cz = QuantumCircuit(4)\n",
    "cz_cz.append(CZGate(), [0,1])\n",
    "cz_cz.append(CZGate(), [2,3])\n",
    "\n",
    "gate_list = [\n",
    "    RGate(0.5 * jnp.pi, 0),\n",
    "    RGate(0.5 * jnp.pi, 0),\n",
    "    RGate(0.5 * jnp.pi, 0),\n",
    "    RGate(0.5 * jnp.pi, 0),\n",
    "    RGate(0.5 * jnp.pi, jnp.pi / 2),\n",
    "    RGate(0.5 * jnp.pi, jnp.pi / 2),\n",
    "    RGate(0.5 * jnp.pi, jnp.pi / 2),\n",
    "    RGate(0.5 * jnp.pi, jnp.pi / 2),\n",
    "    cz_cz,\n",
    "]\n",
    "gates = [QuantumCircuit(4, 0) for _ in range(len(gate_list))]\n",
    "gate_qubits = [[0], [1], [2], [3], [0], [1], [2], [3], [0, 1, 2, 3]]\n",
    "for i, gate in enumerate(gate_list):\n",
    "    if isinstance(gate, QuantumCircuit):\n",
    "        gates[i].compose(gate, gate_qubits[i], inplace = True)\n",
    "    else:\n",
    "        gates[i].append(gate, gate_qubits[i])\n",
    "gate_labels = [\"Rx(pi/2)\", \"Rx(pi/2)\", \"Rx(pi/2)\", \"Rx(pi/2)\", \n",
    "               \"Ry(pi/2)\", \"Ry(pi/2)\", \"Ry(pi/2)\", \"Ry(pi/2)\", \n",
    "               \"CZ-CZ\"]\n",
    "\n",
    "Q4_GST = GSTConfiguration(\n",
    "    qubit_layouts=[[0,1,3,4]],\n",
    "    gate_set=gates,\n",
    "    gate_labels=gate_labels,\n",
    "    num_circuits=2000,\n",
    "    shots=1000,\n",
    "    rank=1,\n",
    ")\n",
    "\n",
    "K, X, E, rho, y, J, l, depth, pdim, dim_squared, n_povm, bsize, meas_samples, n, nt, rK = get_full_mgst_parameters_from_configuration(\n",
    "    Q4_GST, backend\n",
    ")"
   ]
  },
  {
   "cell_type": "code",
   "execution_count": null,
   "metadata": {},
   "outputs": [
    {
     "data": {
      "text/plain": [
       "(9, 256, (9, 1, 16, 16), (16, 2000), (16, 256), (2000, 14))"
      ]
     },
     "execution_count": 136,
     "metadata": {},
     "output_type": "execute_result"
    }
   ],
   "source": [
    "depth, dim_squared, K.shape, y.shape, E.shape, J.shape"
   ]
  },
  {
   "cell_type": "code",
   "execution_count": 145,
   "metadata": {},
   "outputs": [
    {
     "data": {
      "text/plain": [
       "((16,), (14,), (16, 16, 16), 16, (16, 16))"
      ]
     },
     "execution_count": 145,
     "metadata": {},
     "output_type": "execute_result"
    }
   ],
   "source": [
    "# The idea is to now compare how long each of the contractions take.\n",
    "idx_gate = -2\n",
    "gate_indices = J[idx_gate] # Each J is a set of indices of length l (max depth)\n",
    "empiric_prob = y[:, idx_gate] # (i,j) element is the counts of the i-th povm with j-th gate sequence.\n",
    "\n",
    "dim = int(jnp.sqrt(dim_squared))\n",
    "num_povm = len(y)\n",
    "povm_tensor = jnp.reshape(E, shape=(num_povm, dim, dim))\n",
    "state_rank2 = jnp.reshape(rho, shape=(dim, dim))\n",
    "\n",
    "empiric_prob.shape, gate_indices.shape, povm_tensor.shape, dim, state_rank2.shape"
   ]
  },
  {
   "cell_type": "code",
   "execution_count": 137,
   "metadata": {},
   "outputs": [
    {
     "data": {
      "text/plain": [
       "Array(True, dtype=bool)"
      ]
     },
     "execution_count": 137,
     "metadata": {},
     "output_type": "execute_result"
    }
   ],
   "source": [
    "# calculate cost function using both methods\n",
    "\n",
    "cost_naive_4gst = contract_kraus_state_all_povm(kraus=K, d=depth, r=dim_squared, gate_indices=gate_indices, povm_tensor=E, state=rho, prob_tensor=empiric_prob)\n",
    "cost_mps_4gst = contract_mps_all_povm(kraus=K, gate_indices=gate_indices, povm_tensor=povm_tensor, state=state_rank2, prob_tensor=empiric_prob)\n",
    "jnp.allclose(cost_naive_4gst, cost_mps_4gst)"
   ]
  },
  {
   "cell_type": "code",
   "execution_count": 140,
   "metadata": {},
   "outputs": [
    {
     "data": {
      "text/plain": [
       "Array(0.00523286, dtype=float64)"
      ]
     },
     "execution_count": 140,
     "metadata": {},
     "output_type": "execute_result"
    }
   ],
   "source": [
    "cost_mps_4gst"
   ]
  },
  {
   "cell_type": "code",
   "execution_count": 138,
   "metadata": {},
   "outputs": [
    {
     "name": "stdout",
     "output_type": "stream",
     "text": [
      "309 ms ± 4.02 ms per loop (mean ± std. dev. of 7 runs, 1 loop each)\n"
     ]
    }
   ],
   "source": [
    "%timeit contract_kraus_state_all_povm(kraus=K, d=d, r=r, gate_indices=gate_indices, povm_tensor=E, state=rho, prob_tensor=empiric_prob)"
   ]
  },
  {
   "cell_type": "code",
   "execution_count": 141,
   "metadata": {},
   "outputs": [
    {
     "data": {
      "text/plain": [
       "618.0"
      ]
     },
     "execution_count": 141,
     "metadata": {},
     "output_type": "execute_result"
    }
   ],
   "source": [
    "# Does the first one (kind of) agree with what we observed before with the cost function?\n",
    "len(J) * 309/1000\n",
    "# Not quite i'd say."
   ]
  },
  {
   "cell_type": "code",
   "execution_count": 139,
   "metadata": {},
   "outputs": [
    {
     "name": "stdout",
     "output_type": "stream",
     "text": [
      "2.24 ms ± 12.6 μs per loop (mean ± std. dev. of 7 runs, 100 loops each)\n"
     ]
    }
   ],
   "source": [
    "%timeit contract_mps_all_povm(kraus=K, gate_indices=gate_indices, povm_tensor=povm_tensor, state=state_rank2, prob_tensor=empiric_prob)"
   ]
  },
  {
   "cell_type": "code",
   "execution_count": 143,
   "metadata": {},
   "outputs": [
    {
     "data": {
      "text/plain": [
       "4.48"
      ]
     },
     "execution_count": 143,
     "metadata": {},
     "output_type": "execute_result"
    }
   ],
   "source": [
    "len(J) * 2.24/1000"
   ]
  },
  {
   "cell_type": "markdown",
   "metadata": {},
   "source": [
    "# Scaling of contractions for random tensors"
   ]
  },
  {
   "cell_type": "code",
   "execution_count": 4,
   "metadata": {},
   "outputs": [
    {
     "name": "stderr",
     "output_type": "stream",
     "text": [
      "INFO:2025-01-23 19:56:47,988:jax._src.xla_bridge:927: Unable to initialize backend 'rocm': module 'jaxlib.xla_extension' has no attribute 'GpuAllocatorConfig'\n",
      "2025-01-23 19:56:47,988 - jax._src.xla_bridge - INFO - Unable to initialize backend 'rocm': module 'jaxlib.xla_extension' has no attribute 'GpuAllocatorConfig'\n",
      "INFO:2025-01-23 19:56:47,990:jax._src.xla_bridge:927: Unable to initialize backend 'tpu': INTERNAL: Failed to open libtpu.so: dlopen(libtpu.so, 0x0001): tried: 'libtpu.so' (no such file), '/System/Volumes/Preboot/Cryptexes/OSlibtpu.so' (no such file), '/Users/emiliano.godinez/.pyenv/versions/3.11.10/lib/libtpu.so' (no such file), '/System/Volumes/Preboot/Cryptexes/OS/Users/emiliano.godinez/.pyenv/versions/3.11.10/lib/libtpu.so' (no such file), '/opt/homebrew/lib/libtpu.so' (no such file), '/System/Volumes/Preboot/Cryptexes/OS/opt/homebrew/lib/libtpu.so' (no such file), '/Users/emiliano.godinez/.pyenv/versions/3.11.10/lib/libtpu.so' (no such file), '/System/Volumes/Preboot/Cryptexes/OS/Users/emiliano.godinez/.pyenv/versions/3.11.10/lib/libtpu.so' (no such file), '/opt/homebrew/lib/libtpu.so' (no such file), '/System/Volumes/Preboot/Cryptexes/OS/opt/homebrew/lib/libtpu.so' (no such file), '/Users/emiliano.godinez/.pyenv/versions/3.11.10/lib/libtpu.so' (no such file), '/System/Volumes/Preboot/Cryptexes/OS/Users/emiliano.godinez/.pyenv/versions/3.11.10/lib/libtpu.so' (no such file), '/opt/homebrew/lib/libtpu.so' (no such file), '/System/Volumes/Preboot/Cryptexes/OS/opt/homebrew/lib/libtpu.so' (no such file), '/usr/lib/libtpu.so' (no such file, not in dyld cache), 'libtpu.so' (no such file), '/usr/local/lib/libtpu.so' (no such file), '/usr/lib/libtpu.so' (no such file, not in dyld cache)\n",
      "2025-01-23 19:56:47,990 - jax._src.xla_bridge - INFO - Unable to initialize backend 'tpu': INTERNAL: Failed to open libtpu.so: dlopen(libtpu.so, 0x0001): tried: 'libtpu.so' (no such file), '/System/Volumes/Preboot/Cryptexes/OSlibtpu.so' (no such file), '/Users/emiliano.godinez/.pyenv/versions/3.11.10/lib/libtpu.so' (no such file), '/System/Volumes/Preboot/Cryptexes/OS/Users/emiliano.godinez/.pyenv/versions/3.11.10/lib/libtpu.so' (no such file), '/opt/homebrew/lib/libtpu.so' (no such file), '/System/Volumes/Preboot/Cryptexes/OS/opt/homebrew/lib/libtpu.so' (no such file), '/Users/emiliano.godinez/.pyenv/versions/3.11.10/lib/libtpu.so' (no such file), '/System/Volumes/Preboot/Cryptexes/OS/Users/emiliano.godinez/.pyenv/versions/3.11.10/lib/libtpu.so' (no such file), '/opt/homebrew/lib/libtpu.so' (no such file), '/System/Volumes/Preboot/Cryptexes/OS/opt/homebrew/lib/libtpu.so' (no such file), '/Users/emiliano.godinez/.pyenv/versions/3.11.10/lib/libtpu.so' (no such file), '/System/Volumes/Preboot/Cryptexes/OS/Users/emiliano.godinez/.pyenv/versions/3.11.10/lib/libtpu.so' (no such file), '/opt/homebrew/lib/libtpu.so' (no such file), '/System/Volumes/Preboot/Cryptexes/OS/opt/homebrew/lib/libtpu.so' (no such file), '/usr/lib/libtpu.so' (no such file, not in dyld cache), 'libtpu.so' (no such file), '/usr/local/lib/libtpu.so' (no such file), '/usr/lib/libtpu.so' (no such file, not in dyld cache)\n"
     ]
    }
   ],
   "source": [
    "# creating all the tensor we need for the computation\n",
    "# Initialize a PRNG key\n",
    "key = jax.random.PRNGKey(42)\n",
    "def generate_random_instance(depth, num_qubits, rank_kraus):\n",
    "    dim = 2**num_qubits\n",
    "    povm_rnd_tensor =  jax.random.uniform(key, shape=(dim, dim))\n",
    "    kraus_rnd_tensor = jax.random.uniform(key, shape=(depth, rank_kraus, dim, dim))\n",
    "    state_rnd_tensor = jax.random.uniform(key, shape=(dim, dim))\n",
    "    gates_sequences_rnd = jax.random.randint(key, shape=(depth, ), minval=0, maxval=depth)\n",
    "    return kraus_rnd_tensor, povm_rnd_tensor, state_rnd_tensor, gates_sequences_rnd\n",
    "\n",
    "def test_compare_runtime(depth, num_qubits, rank_kraus):\n",
    "    \n",
    "    dim = 2**num_qubits\n",
    "    kraus_rnd_tensor, povm_rnd_tensor, state_rnd_tensor, gates_sequences_rnd = generate_random_instance(depth, num_qubits, rank_kraus)\n",
    "    # run for the naive\n",
    "    state_rnd_vect = jnp.reshape(state_rnd_tensor, shape=(dim**2))\n",
    "    povm_rnd_vect = jnp.reshape(povm_rnd_tensor, shape=(dim**2))\n",
    "    \n",
    "    cost_test_naive = contract_kraus_state_povm(kraus=kraus_rnd_tensor, depth=depth, dim_squared=dim**2, gate_indices=gates_sequences_rnd, povm=povm_rnd_vect, state=state_rnd_vect)\n",
    "    cost_test_mps = contract_mps_strategy(kraus=kraus_rnd_tensor, dim=dim, gate_indices=gates_sequences_rnd, povm=povm_rnd_tensor, state=state_rnd_tensor)\n",
    "    assert jnp.allclose(cost_test_naive, cost_test_mps), \"Something went wrong, the values do not match\"\n",
    "    \n",
    "    return kraus_rnd_tensor, povm_rnd_tensor, state_rnd_tensor, gates_sequences_rnd, state_rnd_vect, povm_rnd_vect"
   ]
  },
  {
   "cell_type": "code",
   "execution_count": 205,
   "metadata": {},
   "outputs": [],
   "source": [
    "depth = 5\n",
    "num_qubits = 2\n",
    "rank_kraus = 4\n",
    "dim = 2**num_qubits\n",
    "\n",
    "kraus_rnd_tensor, povm_rnd_tensor, state_rnd_tensor, gates_sequences_rnd, state_rnd_vect, povm_rnd_vect = test_compare_runtime(depth, num_qubits, rank_kraus)"
   ]
  },
  {
   "cell_type": "code",
   "execution_count": 171,
   "metadata": {},
   "outputs": [
    {
     "name": "stdout",
     "output_type": "stream",
     "text": [
      "288 μs ± 7.8 μs per loop (mean ± std. dev. of 7 runs, 1,000 loops each)\n"
     ]
    }
   ],
   "source": [
    "# run for the naive\n",
    "%timeit contract_kraus_state_povm(kraus=kraus_rnd_tensor, depth=depth, dim_squared=dim**2, gate_indices=gates_sequences_rnd, povm=povm_rnd_vect, state=state_rnd_vect)"
   ]
  },
  {
   "cell_type": "code",
   "execution_count": 172,
   "metadata": {},
   "outputs": [
    {
     "name": "stdout",
     "output_type": "stream",
     "text": [
      "2.03 ms ± 11.5 μs per loop (mean ± std. dev. of 7 runs, 100 loops each)\n"
     ]
    }
   ],
   "source": [
    "%timeit contract_mps_strategy(kraus=kraus_rnd_tensor, dim=dim, gate_indices=gates_sequences_rnd, povm=povm_rnd_tensor, state=state_rnd_tensor)"
   ]
  },
  {
   "cell_type": "code",
   "execution_count": 206,
   "metadata": {},
   "outputs": [],
   "source": [
    "depth = 5\n",
    "num_qubits = 3\n",
    "rank_kraus = 4\n",
    "dim = 2**num_qubits\n",
    "\n",
    "kraus_rnd_tensor, povm_rnd_tensor, state_rnd_tensor, gates_sequences_rnd, state_rnd_vect, povm_rnd_vect = test_compare_runtime(depth, num_qubits, rank_kraus)"
   ]
  },
  {
   "cell_type": "code",
   "execution_count": 208,
   "metadata": {},
   "outputs": [
    {
     "name": "stdout",
     "output_type": "stream",
     "text": [
      "955 μs ± 74.1 μs per loop (mean ± std. dev. of 7 runs, 1,000 loops each)\n"
     ]
    }
   ],
   "source": [
    "# run for the naive              \n",
    "%timeit contract_kraus_state_povm(kraus=kraus_rnd_tensor, depth=depth, dim_squared=dim**2, gate_indices=gates_sequences_rnd, povm=povm_rnd_vect, state=state_rnd_vect)"
   ]
  },
  {
   "cell_type": "code",
   "execution_count": 175,
   "metadata": {},
   "outputs": [
    {
     "name": "stdout",
     "output_type": "stream",
     "text": [
      "2.12 ms ± 22.1 μs per loop (mean ± std. dev. of 7 runs, 100 loops each)\n"
     ]
    }
   ],
   "source": [
    "%timeit contract_mps_strategy(kraus=kraus_rnd_tensor, dim=dim, gate_indices=gates_sequences_rnd, povm=povm_rnd_tensor, state=state_rnd_tensor)"
   ]
  },
  {
   "cell_type": "code",
   "execution_count": 176,
   "metadata": {},
   "outputs": [],
   "source": [
    "depth = 5\n",
    "num_qubits = 4\n",
    "rank_kraus = 4\n",
    "dim = 2**num_qubits\n",
    "\n",
    "kraus_rnd_tensor, povm_rnd_tensor, state_rnd_tensor, gates_sequences_rnd, state_rnd_vect, povm_rnd_vect = test_compare_runtime(depth, num_qubits, rank_kraus)"
   ]
  },
  {
   "cell_type": "code",
   "execution_count": 177,
   "metadata": {},
   "outputs": [
    {
     "name": "stdout",
     "output_type": "stream",
     "text": [
      "11 ms ± 135 μs per loop (mean ± std. dev. of 7 runs, 100 loops each)\n"
     ]
    }
   ],
   "source": [
    "# run for the naive\n",
    "%timeit contract_kraus_state_povm(kraus=kraus_rnd_tensor, depth=depth, dim_squared=dim**2, gate_indices=gates_sequences_rnd, povm=povm_rnd_vect, state=state_rnd_vect)"
   ]
  },
  {
   "cell_type": "code",
   "execution_count": 178,
   "metadata": {},
   "outputs": [
    {
     "name": "stdout",
     "output_type": "stream",
     "text": [
      "2.14 ms ± 11.4 μs per loop (mean ± std. dev. of 7 runs, 100 loops each)\n"
     ]
    }
   ],
   "source": [
    "%timeit contract_mps_strategy(kraus=kraus_rnd_tensor, dim=dim, gate_indices=gates_sequences_rnd, povm=povm_rnd_tensor, state=state_rnd_tensor)"
   ]
  },
  {
   "cell_type": "code",
   "execution_count": 179,
   "metadata": {},
   "outputs": [],
   "source": [
    "depth = 5\n",
    "num_qubits = 5\n",
    "rank_kraus = 4\n",
    "dim = 2**num_qubits\n",
    "\n",
    "kraus_rnd_tensor, povm_rnd_tensor, state_rnd_tensor, gates_sequences_rnd, state_rnd_vect, povm_rnd_vect = test_compare_runtime(depth, num_qubits, rank_kraus)"
   ]
  },
  {
   "cell_type": "code",
   "execution_count": 180,
   "metadata": {},
   "outputs": [
    {
     "name": "stdout",
     "output_type": "stream",
     "text": [
      "313 ms ± 2.91 ms per loop (mean ± std. dev. of 7 runs, 10 loops each)\n"
     ]
    }
   ],
   "source": [
    "# run for the naive\n",
    "%timeit contract_kraus_state_povm(kraus=kraus_rnd_tensor, depth=depth, dim_squared=dim**2, gate_indices=gates_sequences_rnd, povm=povm_rnd_vect, state=state_rnd_vect)"
   ]
  },
  {
   "cell_type": "code",
   "execution_count": 181,
   "metadata": {},
   "outputs": [
    {
     "name": "stdout",
     "output_type": "stream",
     "text": [
      "2.23 ms ± 9.06 μs per loop (mean ± std. dev. of 7 runs, 100 loops each)\n"
     ]
    }
   ],
   "source": [
    "%timeit contract_mps_strategy(kraus=kraus_rnd_tensor, dim=dim, gate_indices=gates_sequences_rnd, povm=povm_rnd_tensor, state=state_rnd_tensor)"
   ]
  },
  {
   "cell_type": "code",
   "execution_count": 183,
   "metadata": {},
   "outputs": [],
   "source": [
    "depth = 5\n",
    "num_qubits = 6\n",
    "rank_kraus = 4\n",
    "dim = 2**num_qubits\n",
    "\n",
    "kraus_rnd_tensor, povm_rnd_tensor, state_rnd_tensor, gates_sequences_rnd, state_rnd_vect, povm_rnd_vect = test_compare_runtime(depth, num_qubits, rank_kraus)"
   ]
  },
  {
   "cell_type": "code",
   "execution_count": 184,
   "metadata": {},
   "outputs": [
    {
     "name": "stdout",
     "output_type": "stream",
     "text": [
      "12.2 s ± 0 ns per loop (mean ± std. dev. of 1 run, 3 loops each)\n"
     ]
    }
   ],
   "source": [
    "# run for the naive\n",
    "%timeit -n3 -r1 contract_kraus_state_povm(kraus=kraus_rnd_tensor, depth=depth, dim_squared=dim**2, gate_indices=gates_sequences_rnd, povm=povm_rnd_vect, state=state_rnd_vect)"
   ]
  },
  {
   "cell_type": "code",
   "execution_count": 187,
   "metadata": {},
   "outputs": [
    {
     "name": "stdout",
     "output_type": "stream",
     "text": [
      "2.41 ms ± 41.7 μs per loop (mean ± std. dev. of 7 runs, 100 loops each)\n"
     ]
    }
   ],
   "source": [
    "%timeit contract_mps_strategy(kraus=kraus_rnd_tensor, dim=dim, gate_indices=gates_sequences_rnd, povm=povm_rnd_tensor, state=state_rnd_tensor)"
   ]
  },
  {
   "cell_type": "code",
   "execution_count": 186,
   "metadata": {},
   "outputs": [
    {
     "data": {
      "text/plain": [
       "Array(True, dtype=bool)"
      ]
     },
     "execution_count": 186,
     "metadata": {},
     "output_type": "execute_result"
    }
   ],
   "source": [
    "test_1 = contract_kraus_state_povm(kraus=kraus_rnd_tensor, depth=depth, dim_squared=dim**2, gate_indices=gates_sequences_rnd, povm=povm_rnd_vect, state=state_rnd_vect)\n",
    "test_2 = contract_mps_strategy(kraus=kraus_rnd_tensor, dim=dim, gate_indices=gates_sequences_rnd, povm=povm_rnd_tensor, state=state_rnd_tensor)\n",
    "jnp.allclose(test_1, test_2)"
   ]
  },
  {
   "cell_type": "code",
   "execution_count": null,
   "metadata": {},
   "outputs": [],
   "source": [
    "depth = 5\n",
    "num_qubits = 7\n",
    "rank_kraus = 4\n",
    "dim = 2**num_qubits\n",
    "\n",
    "kraus_rnd_tensor, povm_rnd_tensor, state_rnd_tensor, gates_sequences_rnd, state_rnd_vect, povm_rnd_vect = test_compare_runtime(depth, num_qubits, rank_kraus)"
   ]
  },
  {
   "cell_type": "code",
   "execution_count": 190,
   "metadata": {},
   "outputs": [
    {
     "data": {
      "image/png": "[encoded data removed]",
      "text/plain": [
       "<Figure size 2400x1500 with 1 Axes>"
      ]
     },
     "metadata": {},
     "output_type": "display_data"
    }
   ],
   "source": [
    "# Now plotting the things\n",
    "import matplotlib.pyplot as plt\n",
    "\n",
    "# Create the plot\n",
    "plt.figure(figsize=(8, 5), dpi=300)\n",
    "\n",
    "times_naive = jnp.array([288e-6, 903e-6, 11e-3, 313e-3, 12.2])\n",
    "times_mps = jnp.array([2.03, 2.12, 2.14, 2.23, 2.41])/1000\n",
    "\n",
    "plt.semilogy(range(2, num_qubits+1), times_mps, label=\"MPS-like\", color=\"#1f77b4\", linestyle=\"-\", marker=\"o\", linewidth=2, markersize=6)\n",
    "plt.semilogy(range(2, num_qubits+1), times_naive, label=\"Kraus-POVM-state\", color=\"#ff7f0e\", linestyle=\"-\", marker=\"v\", linewidth=2, markersize=6)\n",
    "\n",
    "\n",
    "# Add labels, legend, and grid\n",
    "plt.xlabel(\"Number of qubits\", fontsize=12)\n",
    "plt.ylabel(\"Wall time\", fontsize=12)\n",
    "plt.legend(fontsize=10)\n",
    "plt.grid(alpha=0.3)\n",
    "\n",
    "# Show the plot\n",
    "plt.tight_layout()\n",
    "plt.show()"
   ]
  },
  {
   "cell_type": "code",
   "execution_count": 6,
   "metadata": {},
   "outputs": [
    {
     "name": "stdout",
     "output_type": "stream",
     "text": [
      "7.04 ms ± 59.7 μs per loop (mean ± std. dev. of 7 runs, 100 loops each)\n",
      "7.02 ms ± 31 μs per loop (mean ± std. dev. of 7 runs, 100 loops each)\n",
      "6.99 ms ± 13.9 μs per loop (mean ± std. dev. of 7 runs, 100 loops each)\n",
      "7 ms ± 23.9 μs per loop (mean ± std. dev. of 7 runs, 100 loops each)\n"
     ]
    }
   ],
   "source": [
    "key = jax.random.PRNGKey(42)\n",
    "\n",
    "A = jax.random.uniform(key, [1000,1000])\n",
    "B = jax.random.uniform(key, [1000,1000])\n",
    "\n",
    "%timeit jnp.dot(A,B)\n",
    "\n",
    "%timeit A.dot(B)\n",
    "\n",
    "%timeit jnp.einsum(\"ij,jk\",A,B)\n",
    "\n",
    "%timeit A @ B"
   ]
  },
  {
   "cell_type": "code",
   "execution_count": 9,
   "metadata": {},
   "outputs": [
    {
     "name": "stdout",
     "output_type": "stream",
     "text": [
      "17.5 ms ± 1.44 ms per loop (mean ± std. dev. of 7 runs, 100 loops each)\n",
      "18.1 ms ± 1.62 ms per loop (mean ± std. dev. of 7 runs, 100 loops each)\n",
      "153 ms ± 6.21 ms per loop (mean ± std. dev. of 7 runs, 1 loop each)\n",
      "16.7 ms ± 361 μs per loop (mean ± std. dev. of 7 runs, 100 loops each)\n"
     ]
    }
   ],
   "source": [
    "import numpy as np\n",
    "A = np.random.random([1000,1000])\n",
    "B = np.random.random([1000,1000])\n",
    "\n",
    "%timeit np.dot(A,B)\n",
    "\n",
    "%timeit A.dot(B)\n",
    "\n",
    "%timeit np.einsum(\"ij,jk\",A,B)\n",
    "\n",
    "%timeit A @ B"
   ]
  },
  {
   "cell_type": "code",
   "execution_count": 10,
   "metadata": {},
   "outputs": [
    {
     "data": {
      "text/plain": [
       "array([[0.7900092 , 1.01838305, 0.94787053, 0.82512841, 0.57482204],\n",
       "       [1.33909362, 1.73355851, 1.46439781, 1.31868596, 0.97113692],\n",
       "       [0.71194852, 1.04261973, 1.0514495 , 0.9602178 , 0.52558704]])"
      ]
     },
     "execution_count": 10,
     "metadata": {},
     "output_type": "execute_result"
    }
   ],
   "source": [
    "matrix_1 = np.random.random([3,4])\n",
    "matrix_2 = np.random.random([4,5])\n",
    "\n",
    "matrix_1 @ matrix_2"
   ]
  },
  {
   "cell_type": "code",
   "execution_count": null,
   "metadata": {},
   "outputs": [],
   "source": [
    "# comparing: einsum vs reordering of legs-merging-matrix multiplication"
   ]
  },
  {
   "cell_type": "code",
   "execution_count": 22,
   "metadata": {},
   "outputs": [],
   "source": [
    "def matrix_multiplication_of_tensor(T1, T2, dot:bool=False):\n",
    "    \"\"\"Matrix-like multiplication of two tensors\n",
    "\n",
    "    Args:\n",
    "        T1: assume is a tensor of dimensions (d1, d2, d3)\n",
    "        T2: assume is a tensor of dimensions (d3, d4)\n",
    "    \"\"\"\n",
    "    d1, d2, d3 = T1.shape\n",
    "    matrix_T1 = jnp.reshape(T1, shape=(d1*d2, d3))\n",
    "    if dot:\n",
    "        return matrix_T1.dot(T2)\n",
    "    return matrix_T1 @ T2"
   ]
  },
  {
   "cell_type": "code",
   "execution_count": 13,
   "metadata": {},
   "outputs": [
    {
     "name": "stdout",
     "output_type": "stream",
     "text": [
      "71.9 ms ± 284 μs per loop (mean ± std. dev. of 7 runs, 100 loops each)\n"
     ]
    }
   ],
   "source": [
    "key = jax.random.PRNGKey(42)\n",
    "\n",
    "T1 = jax.random.uniform(key, [100,200,500])\n",
    "T2 = jax.random.uniform(key, [500,1000])\n",
    "\n",
    "%timeit matrix_multiplication_of_tensor(T1, T2)"
   ]
  },
  {
   "cell_type": "code",
   "execution_count": 20,
   "metadata": {},
   "outputs": [
    {
     "name": "stdout",
     "output_type": "stream",
     "text": [
      "The slowest run took 6.18 times longer than the fastest. This could mean that an intermediate result is being cached.\n",
      "40.5 μs ± 35 μs per loop (mean ± std. dev. of 7 runs, 1 loop each)\n"
     ]
    }
   ],
   "source": [
    "%timeit matrix_multiplication_of_tensor(T1, T2, dot=True)"
   ]
  },
  {
   "cell_type": "code",
   "execution_count": 23,
   "metadata": {},
   "outputs": [
    {
     "name": "stdout",
     "output_type": "stream",
     "text": [
      "74.7 ms ± 3.17 ms per loop (mean ± std. dev. of 7 runs, 100 loops each)\n"
     ]
    }
   ],
   "source": [
    "%timeit matrix_multiplication_of_tensor(T1, T2, dot=True)"
   ]
  },
  {
   "cell_type": "code",
   "execution_count": 14,
   "metadata": {},
   "outputs": [
    {
     "name": "stdout",
     "output_type": "stream",
     "text": [
      "70.2 ms ± 524 μs per loop (mean ± std. dev. of 7 runs, 100 loops each)\n"
     ]
    }
   ],
   "source": [
    "%timeit jnp.einsum(\"ijk,kl->ijl\", T1, T2)"
   ]
  },
  {
   "cell_type": "code",
   "execution_count": 15,
   "metadata": {},
   "outputs": [
    {
     "name": "stdout",
     "output_type": "stream",
     "text": [
      "142 μs ± 2.93 μs per loop (mean ± std. dev. of 7 runs, 10,000 loops each)\n",
      "143 μs ± 272 ns per loop (mean ± std. dev. of 7 runs, 10,000 loops each)\n",
      "12.3 μs ± 402 ns per loop (mean ± std. dev. of 7 runs, 100,000 loops each)\n",
      "203 μs ± 1.32 μs per loop (mean ± std. dev. of 7 runs, 1,000 loops each)\n"
     ]
    }
   ],
   "source": [
    "w = jnp.arange(5, 9).reshape(2, 2)\n",
    "x = jnp.arange(6).reshape(2, 3)\n",
    "y = jnp.arange(-2, 4).reshape(3, 2)\n",
    "z = jnp.array([[2, 4, 6], [3, 5, 7]])\n",
    "\n",
    "%timeit jnp.einsum('ij,jk,kl,lm->im', w, x, y, z)\n",
    "\n",
    "%timeit jnp.einsum(w, (0, 1), x, (1, 2), y, (2, 3), z, (3, 4))  # implicit, via indices\n",
    "\n",
    "%timeit w @ x @ y @ z  # direct chain of matmuls\n",
    "\n",
    "%timeit jnp.linalg.multi_dot([w, x, y, z])"
   ]
  },
  {
   "cell_type": "code",
   "execution_count": 17,
   "metadata": {},
   "outputs": [
    {
     "name": "stdout",
     "output_type": "stream",
     "text": [
      "187 μs ± 463 ns per loop (mean ± std. dev. of 7 runs, 10,000 loops each)\n"
     ]
    }
   ],
   "source": [
    "def chain_contraction(w,x,y,z):\n",
    "    t1 = jnp.einsum('ij,jk->ik',w,x)\n",
    "    t2 = jnp.einsum('ik,kl->il', t1, y)\n",
    "    return jnp.einsum('il,lm->im', t2, z)\n",
    "\n",
    "%timeit chain_contraction(w,x,y,z)"
   ]
  },
  {
   "cell_type": "markdown",
   "metadata": {},
   "source": []
  }
 ],
 "metadata": {
  "kernelspec": {
   "display_name": "qcvv-env",
   "language": "python",
   "name": "python3"
  },
  "language_info": {
   "codemirror_mode": {
    "name": "ipython",
    "version": 3
   },
   "file_extension": ".py",
   "mimetype": "text/x-python",
   "name": "python",
   "nbconvert_exporter": "python",
   "pygments_lexer": "ipython3",
   "version": "3.11.10"
  }
 },
 "nbformat": 4,
 "nbformat_minor": 2
}
