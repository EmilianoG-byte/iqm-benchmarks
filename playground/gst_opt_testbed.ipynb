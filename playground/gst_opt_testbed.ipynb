{
 "cells": [
  {
   "cell_type": "markdown",
   "id": "bd7af26b-26d0-4ae0-acf4-38e7d1e29b51",
   "metadata": {},
   "source": [
    "## Imports "
   ]
  },
  {
   "cell_type": "code",
   "execution_count": 1,
   "id": "fcd88d9d-af4e-48b7-8b1c-b20e52af4e51",
   "metadata": {},
   "outputs": [],
   "source": [
    "# Needs iqm-benchmarks from the github repo to access all the mGST functions: https://github.com/iqm-finland/iqm-benchmarks\n",
    "from mGST.low_level_jit import dK, objf, ddM, dK_dMdM\n",
    "from mGST import additional_fns\n",
    "from iqm.benchmarks.compressive_gst.compressive_gst import GSTConfiguration, CompressiveGST\n",
    "from iqm.benchmarks.compressive_gst.gst_analysis import dataset_counts_to_mgst_format\n",
    "\n",
    "from mGST.qiskit_interface import qiskit_gate_to_operator\n",
    "\n",
    "import numpy as np\n",
    "\n",
    "from mGST.low_level_jit import cost_function_jax, cost_function_jax_jit\n",
    "\n",
    "# Check compilation time for contract_jax_jit.\n",
    "import jax\n",
    "\n",
    "backend = \"iqmfakeapollo\"\n",
    "\n",
    "%load_ext autoreload\n",
    "%autoreload 2"
   ]
  },
  {
   "cell_type": "markdown",
   "id": "c202d1d9-2957-460f-89f0-1b9794eab515",
   "metadata": {},
   "source": [
    "### Renaming the parameters for the convention used in the derivatives"
   ]
  },
  {
   "cell_type": "code",
   "execution_count": 2,
   "id": "73a60aa2-6fd0-4def-bc11-10a80fa38fa7",
   "metadata": {},
   "outputs": [],
   "source": [
    "def get_mgst_parameters_from_dataset(dataset, qubit_layout, rK):\n",
    "    y = dataset_counts_to_mgst_format(dataset, qubit_layout)\n",
    "    J = dataset.attrs[\"J\"]\n",
    "    l = dataset.attrs[\"seq_len_list\"][-1]\n",
    "    d = dataset.attrs[\"num_gates\"]\n",
    "    pdim = dataset.attrs[\"pdim\"]\n",
    "    r = pdim ** 2\n",
    "    n_povm = dataset.attrs[\"num_povm\"]\n",
    "    bsize = dataset.attrs[\"batch_size\"]\n",
    "    meas_samples = dataset.attrs[\"shots\"]\n",
    "    # Setting some additional matrix shape parameters for the first and second derivatives\n",
    "    n = rK * pdim\n",
    "    nt = rK * r\n",
    "    return y, J, l, d, pdim, r, n_povm, bsize, meas_samples, n, nt"
   ]
  },
  {
   "cell_type": "markdown",
   "id": "73193287-2612-4c72-a582-bc7274c989ab",
   "metadata": {},
   "source": [
    "### Initialization"
   ]
  },
  {
   "cell_type": "code",
   "execution_count": 3,
   "id": "a696860a-a0fd-42ef-89ac-787de4fdaa60",
   "metadata": {},
   "outputs": [],
   "source": [
    "## Preparing an initialization (random gate set or target gate set)\n",
    "from mGST.additional_fns import random_gs\n",
    "\n",
    "def initialize_mgst_parameters(dataset, target_init = True):\n",
    "    d = dataset.attrs[\"num_gates\"]\n",
    "    pdim = dataset.attrs[\"pdim\"]\n",
    "    r = pdim ** 2\n",
    "    n_povm = dataset.attrs[\"num_povm\"]\n",
    "    rK = dataset.attrs[\"rank\"]\n",
    "    \n",
    "    if target_init:\n",
    "        K_target = qiskit_gate_to_operator(dataset.attrs[\"gate_set\"])\n",
    "        X_target = np.einsum(\"ijkl,ijnm -> iknlm\", K_target, K_target.conj()).reshape(\n",
    "            (dataset.attrs[\"num_gates\"], dataset.attrs[\"pdim\"] ** 2, dataset.attrs[\"pdim\"] ** 2)\n",
    "        )  # tensor of superoperators\n",
    "        \n",
    "        rho = (\n",
    "            np.kron(additional_fns.basis(dataset.attrs[\"pdim\"], 0).T.conj(), additional_fns.basis(dataset.attrs[\"pdim\"], 0))\n",
    "            .reshape(-1)\n",
    "            .astype(np.complex128)\n",
    "        )\n",
    "        \n",
    "        # Computational basis measurement:\n",
    "        E = np.array(\n",
    "            [\n",
    "                np.kron(\n",
    "                    additional_fns.basis(dataset.attrs[\"pdim\"], i).T.conj(), additional_fns.basis(dataset.attrs[\"pdim\"], i)\n",
    "                ).reshape(-1)\n",
    "                for i in range(dataset.attrs[\"pdim\"])\n",
    "            ]\n",
    "        ).astype(np.complex128)\n",
    "        \n",
    "        \n",
    "        K = additional_fns.perturbed_target_init(X_target, dataset.attrs[\"rank\"])\n",
    "        X = np.einsum(\"ijkl,ijnm -> iknlm\", K, K.conj()).reshape((d, r, r))\n",
    "    else:\n",
    "        K, X, E, rho = random_gs(d, r, rK, n_povm)\n",
    "        \n",
    "    return K, X, E, rho"
   ]
  },
  {
   "cell_type": "code",
   "execution_count": 4,
   "id": "70210434",
   "metadata": {},
   "outputs": [],
   "source": [
    "def get_full_mgst_parameters_from_configuration(configuration:GSTConfiguration, backend):\n",
    "    \n",
    "    benchmark = CompressiveGST(backend, configuration)\n",
    "    result = benchmark.run()\n",
    "    \n",
    "    rK = configuration.rank\n",
    "    qubit_layout = configuration.qubit_layouts[0]\n",
    "    dataset = result.dataset\n",
    "    y, J, l, d, pdim, r, n_povm, bsize, meas_samples, n, nt = get_mgst_parameters_from_dataset(dataset, qubit_layout=qubit_layout, rK=rK)\n",
    "    K, X, E, rho = initialize_mgst_parameters(dataset=dataset, target_init=True)\n",
    "    \n",
    "    return K, X, E, rho, y, J, l, d, pdim, r, n_povm, bsize, meas_samples, n, nt, rK"
   ]
  },
  {
   "cell_type": "code",
   "execution_count": 5,
   "id": "6f4022bd",
   "metadata": {},
   "outputs": [],
   "source": [
    "from mGST.algorithm import gd\n",
    "\n",
    "def get_x_from_k(k, d, r):\n",
    "    return np.einsum(\"ijkl,ijnm -> iknlm\", k, k.conj()).reshape((d, r, r))\n",
    "\n",
    "def compute_new_x(K, E, rho, y, J, d, r, rK, fixed_gates, gds_kwargs={}):\n",
    "    K_gds = gd(K, E, rho, y, J, d, r, rK, fixed_gates=fixed_gates, ls=\"COBYLA\", **gds_kwargs)\n",
    "    return get_x_from_k(k=K_gds, d=d, r=r)"
   ]
  },
  {
   "cell_type": "markdown",
   "id": "ec53228c-def9-4377-847d-af3b4a019434",
   "metadata": {},
   "source": [
    "## Gradient and Hessian"
   ]
  },
  {
   "cell_type": "markdown",
   "id": "a707975e-7ff9-457a-bbe4-6daedd8551b0",
   "metadata": {},
   "source": [
    "The function dK computes the Wirtinger derivative $\\frac{\\partial \\mathcal L}{\\partial K}$.\n",
    "Here $\\mathcal L$ is the cost function \"objf\"."
   ]
  },
  {
   "cell_type": "markdown",
   "id": "6202dab8",
   "metadata": {},
   "source": [
    "## 2-GST: $d = 5$"
   ]
  },
  {
   "cell_type": "markdown",
   "id": "7f55c845",
   "metadata": {},
   "source": [
    "### New tests: using $df/dz$ vs $df/dz^*$ in gradient descent!\n",
    "\n",
    "start: 08.01.25\n",
    "\n",
    "update: moved from test_jax_gst_gradient.ipynb\n",
    "\n",
    "goal: Currently the code from Raphael uses the df/dz instead of df/dz*, even thought the latter is the correct one (one relates to the other by conjugation)"
   ]
  },
  {
   "cell_type": "code",
   "execution_count": 6,
   "id": "5741ca58-ec41-4c41-a7d5-901979f35464",
   "metadata": {},
   "outputs": [
    {
     "name": "stderr",
     "output_type": "stream",
     "text": [
      "2025-01-10 16:25:05,814 - iqm.benchmarks.logging_config - INFO - Now generating 800 random GST circuits...\n",
      "2025-01-10 16:25:06,233 - iqm.benchmarks.logging_config - INFO - Will transpile all 800 circuits according to fixed physical layout\n",
      "2025-01-10 16:25:06,233 - iqm.benchmarks.logging_config - INFO - Transpiling for backend IQMFakeApolloBackend with optimization level 0, sabre routing method all circuits\n",
      "2025-01-10 16:25:07,931 - iqm.benchmarks.logging_config - INFO - Submitting batch with 800 circuits corresponding to qubits [0, 1]\n",
      "2025-01-10 16:25:07,939 - iqm.benchmarks.logging_config - INFO - Now executing the corresponding circuit batch\n",
      "2025-01-10 16:25:08,020 - iqm.benchmarks.logging_config - INFO - Retrieving all counts\n"
     ]
    }
   ],
   "source": [
    "# Euclidean Gradient\n",
    "Q2_GST = GSTConfiguration(\n",
    "    qubit_layouts=[[0, 1]],\n",
    "    gate_set=\"2QXYCZ\",\n",
    "    num_circuits=800,\n",
    "    shots=1000,\n",
    "    rank=4,\n",
    ")\n",
    "\n",
    "K, X, E, rho, y, J, l, d, pdim, r, n_povm, bsize, meas_samples, n, nt, rK = get_full_mgst_parameters_from_configuration(\n",
    "    Q2_GST, backend\n",
    ")\n",
    "\n",
    "dK_ = dK(X, K, E, rho, J, y, d, r, rK)"
   ]
  },
  {
   "cell_type": "markdown",
   "id": "03df35a8-6ace-43ff-b696-d077fb7b374f",
   "metadata": {},
   "source": [
    "The following code computes the Wirtinger derivatives \"Fyconjy\" $= \\frac{\\partial^2 \\mathcal L}{\\partial K \\partial K^*}$ and \"Fyy\" $= \\frac{\\partial^2 \\mathcal L}{\\partial K \\partial K}$. \\\n",
    "Here $\\mathcal L$ is the cost function \"objf\"."
   ]
  },
  {
   "cell_type": "code",
   "execution_count": 7,
   "id": "ec31204e-0bf8-46ba-8091-c457ada039ab",
   "metadata": {},
   "outputs": [],
   "source": [
    "# Euclidean Hessian (can take a while to compute depending on rK)\n",
    "# compute individual second derivative terms\n",
    "dK_, dM10, dM11 = dK_dMdM(X, K, E, rho, J, y, d, r, rK)\n",
    "dd, dconjd = ddM(X, K, E, rho, J, y, d, r, rK)\n",
    "\n",
    "# Assemple terms\n",
    "Fyconjy = dM11.reshape(d, nt, d, nt) + np.einsum(\"ijklmnop->ikmojlnp\", dconjd).reshape((d, nt, d, nt)) # Mixed derivate by K and K.conj()\n",
    "Fyy = dM10.reshape(d, nt, d, nt) + np.einsum(\"ijklmnop->ikmojlnp\", dd).reshape((d, nt, d, nt)) # Second derivate by K"
   ]
  },
  {
   "cell_type": "code",
   "execution_count": 8,
   "id": "af171c2d-9083-4881-94a6-9d0ab574459a",
   "metadata": {},
   "outputs": [
    {
     "name": "stdout",
     "output_type": "stream",
     "text": [
      "(5, 4, 4, 4)\n",
      "(5, 64, 5, 64) 5 64\n"
     ]
    }
   ],
   "source": [
    "print(K.shape)\n",
    "print(Fyy.shape, d, nt)\n",
    "# The second derivative is ordered with d = \"nubmer of gates\" and nt = pdim*pdim*rK = \"Product of all Kraus tensor dimenstions per gate\"\n",
    "# So for instance the second derivative just by gate 0 - parameters is stored in Fyy[0,:,0,:], while a mixed derivative by gate 0 and gate 1 - parameters is in Fyy[0,:,1,:] and Fyy[1,:,0,:]"
   ]
  },
  {
   "cell_type": "code",
   "execution_count": 9,
   "id": "e1a4191c",
   "metadata": {},
   "outputs": [
    {
     "data": {
      "text/plain": [
       "(5, array([False, False, False, False, False]), 0.001560237764992689)"
      ]
     },
     "execution_count": 9,
     "metadata": {},
     "output_type": "execute_result"
    }
   ],
   "source": [
    "fixed_gates = np.array([(f\"G%i\" % i in []) for i in range(d)])\n",
    "x_unoptimized = get_x_from_k(K, d, r)\n",
    "d, fixed_gates, objf(x_unoptimized, E, rho, J, y)"
   ]
  },
  {
   "cell_type": "code",
   "execution_count": 13,
   "id": "70d2b29e",
   "metadata": {},
   "outputs": [
    {
     "name": "stdout",
     "output_type": "stream",
     "text": [
      "Un-optimized f(x): 0.001560237764992689\n",
      "Optimized f(x): 0.001302074475287173\n"
     ]
    }
   ],
   "source": [
    "x_gds_not_conjugate = compute_new_x(K, E, rho, y, J, d, r, rK, fixed_gates)\n",
    "print('Un-optimized f(x):', objf(x_unoptimized, E, rho, J, y))\n",
    "print('Optimized f(x):', objf(x_gds_not_conjugate, E, rho, J, y))\n",
    "# without numba JIT: it takes 1.7 s approx"
   ]
  },
  {
   "cell_type": "code",
   "execution_count": 15,
   "id": "62a5c712",
   "metadata": {},
   "outputs": [
    {
     "name": "stdout",
     "output_type": "stream",
     "text": [
      "Un-optimized f(x): 0.001560237764992689\n",
      "Optimized f(x): 0.00155161497719539\n"
     ]
    }
   ],
   "source": [
    "x_gds_conjugate = compute_new_x(K, E, rho, y, J, d, r, rK, fixed_gates, {\"conjugate\":True})\n",
    "print('Un-optimized f(x):', objf(x_unoptimized, E, rho, J, y))\n",
    "print('Optimized f(x):', objf(x_gds_conjugate, E, rho, J, y))\n",
    "# without numba JIT: it takes 1.6 s approx"
   ]
  },
  {
   "cell_type": "code",
   "execution_count": 16,
   "id": "be450ee1",
   "metadata": {},
   "outputs": [
    {
     "name": "stderr",
     "output_type": "stream",
     "text": [
      "INFO:2025-01-10 13:18:57,475:jax._src.xla_bridge:927: Unable to initialize backend 'rocm': module 'jaxlib.xla_extension' has no attribute 'GpuAllocatorConfig'\n",
      "2025-01-10 13:18:57,475 - jax._src.xla_bridge - INFO - Unable to initialize backend 'rocm': module 'jaxlib.xla_extension' has no attribute 'GpuAllocatorConfig'\n",
      "INFO:2025-01-10 13:18:57,479:jax._src.xla_bridge:927: Unable to initialize backend 'tpu': INTERNAL: Failed to open libtpu.so: dlopen(libtpu.so, 0x0001): tried: 'libtpu.so' (no such file), '/System/Volumes/Preboot/Cryptexes/OSlibtpu.so' (no such file), '/Users/emiliano.godinez/.pyenv/versions/3.11.10/lib/libtpu.so' (no such file), '/System/Volumes/Preboot/Cryptexes/OS/Users/emiliano.godinez/.pyenv/versions/3.11.10/lib/libtpu.so' (no such file), '/opt/homebrew/lib/libtpu.so' (no such file), '/System/Volumes/Preboot/Cryptexes/OS/opt/homebrew/lib/libtpu.so' (no such file), '/Users/emiliano.godinez/.pyenv/versions/3.11.10/lib/libtpu.so' (no such file), '/System/Volumes/Preboot/Cryptexes/OS/Users/emiliano.godinez/.pyenv/versions/3.11.10/lib/libtpu.so' (no such file), '/opt/homebrew/lib/libtpu.so' (no such file), '/System/Volumes/Preboot/Cryptexes/OS/opt/homebrew/lib/libtpu.so' (no such file), '/Users/emiliano.godinez/.pyenv/versions/3.11.10/lib/libtpu.so' (no such file), '/System/Volumes/Preboot/Cryptexes/OS/Users/emiliano.godinez/.pyenv/versions/3.11.10/lib/libtpu.so' (no such file), '/opt/homebrew/lib/libtpu.so' (no such file), '/System/Volumes/Preboot/Cryptexes/OS/opt/homebrew/lib/libtpu.so' (no such file), '/usr/lib/libtpu.so' (no such file, not in dyld cache), 'libtpu.so' (no such file), '/usr/local/lib/libtpu.so' (no such file), '/usr/lib/libtpu.so' (no such file, not in dyld cache)\n",
      "2025-01-10 13:18:57,479 - jax._src.xla_bridge - INFO - Unable to initialize backend 'tpu': INTERNAL: Failed to open libtpu.so: dlopen(libtpu.so, 0x0001): tried: 'libtpu.so' (no such file), '/System/Volumes/Preboot/Cryptexes/OSlibtpu.so' (no such file), '/Users/emiliano.godinez/.pyenv/versions/3.11.10/lib/libtpu.so' (no such file), '/System/Volumes/Preboot/Cryptexes/OS/Users/emiliano.godinez/.pyenv/versions/3.11.10/lib/libtpu.so' (no such file), '/opt/homebrew/lib/libtpu.so' (no such file), '/System/Volumes/Preboot/Cryptexes/OS/opt/homebrew/lib/libtpu.so' (no such file), '/Users/emiliano.godinez/.pyenv/versions/3.11.10/lib/libtpu.so' (no such file), '/System/Volumes/Preboot/Cryptexes/OS/Users/emiliano.godinez/.pyenv/versions/3.11.10/lib/libtpu.so' (no such file), '/opt/homebrew/lib/libtpu.so' (no such file), '/System/Volumes/Preboot/Cryptexes/OS/opt/homebrew/lib/libtpu.so' (no such file), '/Users/emiliano.godinez/.pyenv/versions/3.11.10/lib/libtpu.so' (no such file), '/System/Volumes/Preboot/Cryptexes/OS/Users/emiliano.godinez/.pyenv/versions/3.11.10/lib/libtpu.so' (no such file), '/opt/homebrew/lib/libtpu.so' (no such file), '/System/Volumes/Preboot/Cryptexes/OS/opt/homebrew/lib/libtpu.so' (no such file), '/usr/lib/libtpu.so' (no such file, not in dyld cache), 'libtpu.so' (no such file), '/usr/local/lib/libtpu.so' (no such file), '/usr/lib/libtpu.so' (no such file, not in dyld cache)\n"
     ]
    },
    {
     "name": "stdout",
     "output_type": "stream",
     "text": [
      "Using JAX power\n",
      "Un-optimized f(x): 0.001560237764992689\n",
      "Optimized f(x): 0.0013020744756441372\n"
     ]
    }
   ],
   "source": [
    "x_gds_not_conjugate_jax = compute_new_x(K, E, rho, y, J, d, r, rK, fixed_gates, {\"use_jax\":True})\n",
    "print('Un-optimized f(x):', objf(x_unoptimized, E, rho, J, y))\n",
    "print('Optimized f(x):', objf(x_gds_not_conjugate_jax, E, rho, J, y))"
   ]
  },
  {
   "cell_type": "code",
   "execution_count": 17,
   "id": "83b3ea77",
   "metadata": {},
   "outputs": [
    {
     "name": "stdout",
     "output_type": "stream",
     "text": [
      "Using JAX power\n",
      "Un-optimized f(x): 0.001560237764992689\n",
      "Optimized f(x): 0.0015516149792380047\n"
     ]
    }
   ],
   "source": [
    "x_gds_conjugate_jax = compute_new_x(K, E, rho, y, J, d, r, rK, fixed_gates, {\"conjugate\":True, \"use_jax\":True})\n",
    "print('Un-optimized f(x):', objf(x_unoptimized, E, rho, J, y))\n",
    "print('Optimized f(x):', objf(x_gds_conjugate_jax, E, rho, J, y))"
   ]
  },
  {
   "cell_type": "markdown",
   "id": "5d6ecfa0",
   "metadata": {},
   "source": [
    "## 1-GST: $d = 3$"
   ]
  },
  {
   "cell_type": "code",
   "execution_count": 7,
   "id": "9a00222e",
   "metadata": {},
   "outputs": [
    {
     "name": "stderr",
     "output_type": "stream",
     "text": [
      "2025-01-10 14:36:50,941 - iqm.benchmarks.logging_config - INFO - Now generating 100 random GST circuits...\n",
      "2025-01-10 14:36:51,086 - iqm.benchmarks.logging_config - INFO - Will transpile all 100 circuits according to fixed physical layout\n",
      "2025-01-10 14:36:51,087 - iqm.benchmarks.logging_config - INFO - Transpiling for backend IQMFakeApolloBackend with optimization level 0, sabre routing method all circuits\n",
      "2025-01-10 14:36:51,611 - iqm.benchmarks.logging_config - INFO - Submitting batch with 100 circuits corresponding to qubits [0]\n",
      "2025-01-10 14:36:51,626 - iqm.benchmarks.logging_config - INFO - Now executing the corresponding circuit batch\n",
      "2025-01-10 14:36:51,711 - iqm.benchmarks.logging_config - INFO - Retrieving all counts\n"
     ]
    }
   ],
   "source": [
    "# Example configurations for 1 and 3 qubits:\n",
    "Q1_GST = GSTConfiguration(\n",
    "    qubit_layouts=[[0]],\n",
    "    gate_set=\"1QXYI\",\n",
    "    num_circuits=100,\n",
    "    shots=1000,\n",
    "    rank=4,\n",
    ")\n",
    "\n",
    "K, X, E, rho, y, J, l, d, pdim, r, n_povm, bsize, meas_samples, n, nt, rK = get_full_mgst_parameters_from_configuration(\n",
    "    Q1_GST, backend\n",
    ")"
   ]
  },
  {
   "cell_type": "code",
   "execution_count": 8,
   "id": "1f53f579",
   "metadata": {},
   "outputs": [
    {
     "data": {
      "text/plain": [
       "(3, array([False, False, False]), 0.0020824648688890345)"
      ]
     },
     "execution_count": 8,
     "metadata": {},
     "output_type": "execute_result"
    }
   ],
   "source": [
    "fixed_gates = np.array([(f\"G%i\" % i in []) for i in range(d)])\n",
    "x_unoptimized = get_x_from_k(K, d, r)\n",
    "d, fixed_gates, objf(x_unoptimized, E, rho, J, y)"
   ]
  },
  {
   "cell_type": "code",
   "execution_count": 9,
   "id": "1bf82384",
   "metadata": {},
   "outputs": [
    {
     "name": "stdout",
     "output_type": "stream",
     "text": [
      "Un-optimized f(x): 0.0018295245647571557\n",
      "Optimized f(x): 0.0014634378187419136\n"
     ]
    }
   ],
   "source": [
    "x_gds_not_conjugate = compute_new_x(K, E, rho, y, J, d, r, rK, fixed_gates)\n",
    "print('Un-optimized f(x):', objf(x_unoptimized, E, rho, J, y))\n",
    "print('Optimized f(x):', objf(x_gds_not_conjugate, E, rho, J, y))\n",
    "# without numba JIT: it takes 0.1 s approx"
   ]
  },
  {
   "cell_type": "code",
   "execution_count": 10,
   "id": "fa18b9d4",
   "metadata": {},
   "outputs": [
    {
     "name": "stdout",
     "output_type": "stream",
     "text": [
      "Un-optimized f(x): 0.0018295245647571557\n",
      "Optimized f(x): 0.0017468833116506134\n"
     ]
    }
   ],
   "source": [
    "x_gds_conjugate = compute_new_x(K, E, rho, y, J, d, r, rK, fixed_gates, {\"conjugate\":True})\n",
    "print('Un-optimized f(x):', objf(x_unoptimized, E, rho, J, y))\n",
    "print('Optimized f(x):', objf(x_gds_conjugate, E, rho, J, y))\n",
    "# without numba JIT: it takes 0.1 s approx"
   ]
  },
  {
   "cell_type": "code",
   "execution_count": 11,
   "id": "5fd820d2",
   "metadata": {},
   "outputs": [
    {
     "name": "stderr",
     "output_type": "stream",
     "text": [
      "INFO:2025-01-10 13:46:54,788:jax._src.xla_bridge:927: Unable to initialize backend 'rocm': module 'jaxlib.xla_extension' has no attribute 'GpuAllocatorConfig'\n",
      "2025-01-10 13:46:54,788 - jax._src.xla_bridge - INFO - Unable to initialize backend 'rocm': module 'jaxlib.xla_extension' has no attribute 'GpuAllocatorConfig'\n",
      "INFO:2025-01-10 13:46:54,790:jax._src.xla_bridge:927: Unable to initialize backend 'tpu': INTERNAL: Failed to open libtpu.so: dlopen(libtpu.so, 0x0001): tried: 'libtpu.so' (no such file), '/System/Volumes/Preboot/Cryptexes/OSlibtpu.so' (no such file), '/Users/emiliano.godinez/.pyenv/versions/3.11.10/lib/libtpu.so' (no such file), '/System/Volumes/Preboot/Cryptexes/OS/Users/emiliano.godinez/.pyenv/versions/3.11.10/lib/libtpu.so' (no such file), '/opt/homebrew/lib/libtpu.so' (no such file), '/System/Volumes/Preboot/Cryptexes/OS/opt/homebrew/lib/libtpu.so' (no such file), '/Users/emiliano.godinez/.pyenv/versions/3.11.10/lib/libtpu.so' (no such file), '/System/Volumes/Preboot/Cryptexes/OS/Users/emiliano.godinez/.pyenv/versions/3.11.10/lib/libtpu.so' (no such file), '/opt/homebrew/lib/libtpu.so' (no such file), '/System/Volumes/Preboot/Cryptexes/OS/opt/homebrew/lib/libtpu.so' (no such file), '/Users/emiliano.godinez/.pyenv/versions/3.11.10/lib/libtpu.so' (no such file), '/System/Volumes/Preboot/Cryptexes/OS/Users/emiliano.godinez/.pyenv/versions/3.11.10/lib/libtpu.so' (no such file), '/opt/homebrew/lib/libtpu.so' (no such file), '/System/Volumes/Preboot/Cryptexes/OS/opt/homebrew/lib/libtpu.so' (no such file), '/usr/lib/libtpu.so' (no such file, not in dyld cache), 'libtpu.so' (no such file), '/usr/local/lib/libtpu.so' (no such file), '/usr/lib/libtpu.so' (no such file, not in dyld cache)\n",
      "2025-01-10 13:46:54,790 - jax._src.xla_bridge - INFO - Unable to initialize backend 'tpu': INTERNAL: Failed to open libtpu.so: dlopen(libtpu.so, 0x0001): tried: 'libtpu.so' (no such file), '/System/Volumes/Preboot/Cryptexes/OSlibtpu.so' (no such file), '/Users/emiliano.godinez/.pyenv/versions/3.11.10/lib/libtpu.so' (no such file), '/System/Volumes/Preboot/Cryptexes/OS/Users/emiliano.godinez/.pyenv/versions/3.11.10/lib/libtpu.so' (no such file), '/opt/homebrew/lib/libtpu.so' (no such file), '/System/Volumes/Preboot/Cryptexes/OS/opt/homebrew/lib/libtpu.so' (no such file), '/Users/emiliano.godinez/.pyenv/versions/3.11.10/lib/libtpu.so' (no such file), '/System/Volumes/Preboot/Cryptexes/OS/Users/emiliano.godinez/.pyenv/versions/3.11.10/lib/libtpu.so' (no such file), '/opt/homebrew/lib/libtpu.so' (no such file), '/System/Volumes/Preboot/Cryptexes/OS/opt/homebrew/lib/libtpu.so' (no such file), '/Users/emiliano.godinez/.pyenv/versions/3.11.10/lib/libtpu.so' (no such file), '/System/Volumes/Preboot/Cryptexes/OS/Users/emiliano.godinez/.pyenv/versions/3.11.10/lib/libtpu.so' (no such file), '/opt/homebrew/lib/libtpu.so' (no such file), '/System/Volumes/Preboot/Cryptexes/OS/opt/homebrew/lib/libtpu.so' (no such file), '/usr/lib/libtpu.so' (no such file, not in dyld cache), 'libtpu.so' (no such file), '/usr/local/lib/libtpu.so' (no such file), '/usr/lib/libtpu.so' (no such file, not in dyld cache)\n"
     ]
    },
    {
     "name": "stdout",
     "output_type": "stream",
     "text": [
      "Using JAX power\n",
      "Un-optimized f(x): 0.0018295245647571557\n",
      "Optimized f(x): 0.0014634378284405938\n"
     ]
    }
   ],
   "source": [
    "x_gds_not_conjugate_jax = compute_new_x(K, E, rho, y, J, d, r, rK, fixed_gates, {\"use_jax\":True})\n",
    "print('Un-optimized f(x):', objf(x_unoptimized, E, rho, J, y))\n",
    "print('Optimized f(x):', objf(x_gds_not_conjugate_jax, E, rho, J, y))"
   ]
  },
  {
   "cell_type": "code",
   "execution_count": 12,
   "id": "075b016c",
   "metadata": {},
   "outputs": [
    {
     "name": "stdout",
     "output_type": "stream",
     "text": [
      "Using JAX power\n",
      "Un-optimized f(x): 0.0018295245647571557\n",
      "Optimized f(x): 0.0017468833441460598\n"
     ]
    }
   ],
   "source": [
    "x_gds_conjugate_jax = compute_new_x(K, E, rho, y, J, d, r, rK, fixed_gates, {\"conjugate\":True, \"use_jax\":True})\n",
    "print('Un-optimized f(x):', objf(x_unoptimized, E, rho, J, y))\n",
    "print('Optimized f(x):', objf(x_gds_conjugate_jax, E, rho, J, y))"
   ]
  },
  {
   "cell_type": "markdown",
   "id": "ff2c8732",
   "metadata": {},
   "source": [
    "## 3-GST: $d = 8$"
   ]
  },
  {
   "cell_type": "code",
   "execution_count": 13,
   "id": "cbe66fb6",
   "metadata": {},
   "outputs": [
    {
     "name": "stderr",
     "output_type": "stream",
     "text": [
      "2025-01-10 13:46:58,857 - iqm.benchmarks.logging_config - INFO - Now generating 1000 random GST circuits...\n",
      "2025-01-10 13:46:59,067 - iqm.benchmarks.logging_config - INFO - Will transpile all 1000 circuits according to fixed physical layout\n",
      "2025-01-10 13:46:59,068 - iqm.benchmarks.logging_config - INFO - Transpiling for backend IQMFakeApolloBackend with optimization level 0, sabre routing method all circuits\n",
      "2025-01-10 13:47:01,284 - iqm.benchmarks.logging_config - INFO - Submitting batch with 1000 circuits corresponding to qubits [0, 1, 3]\n",
      "2025-01-10 13:47:01,286 - iqm.benchmarks.logging_config - INFO - Now executing the corresponding circuit batch\n",
      "2025-01-10 13:47:01,352 - iqm.benchmarks.logging_config - INFO - Retrieving all counts\n"
     ]
    }
   ],
   "source": [
    "Q3_GST = GSTConfiguration(\n",
    "    qubit_layouts=[[0,1,3]],\n",
    "    gate_set=\"3QXYCZ\",\n",
    "    num_circuits=1000,\n",
    "    shots=1000,\n",
    "    rank=4,\n",
    ")\n",
    "\n",
    "K, X, E, rho, y, J, l, d, pdim, r, n_povm, bsize, meas_samples, n, nt, rK = get_full_mgst_parameters_from_configuration(\n",
    "    Q3_GST, backend\n",
    ")"
   ]
  },
  {
   "cell_type": "code",
   "execution_count": 14,
   "id": "77b3c8d2",
   "metadata": {},
   "outputs": [
    {
     "data": {
      "text/plain": [
       "(8,\n",
       " array([False, False, False, False, False, False, False, False]),\n",
       " 0.000798526620967516)"
      ]
     },
     "execution_count": 14,
     "metadata": {},
     "output_type": "execute_result"
    }
   ],
   "source": [
    "fixed_gates = np.array([(f\"G%i\" % i in []) for i in range(d)])\n",
    "x_unoptimized = get_x_from_k(K, d, r)\n",
    "d, fixed_gates, objf(x_unoptimized, E, rho, J, y)"
   ]
  },
  {
   "cell_type": "code",
   "execution_count": 26,
   "id": "fb262557",
   "metadata": {},
   "outputs": [
    {
     "name": "stdout",
     "output_type": "stream",
     "text": [
      "Un-optimized f(x): 0.0007295188784255194\n",
      "Optimized f(x): 0.0006669932844894213\n"
     ]
    }
   ],
   "source": [
    "x_gds_not_conjugate = compute_new_x(K, E, rho, y, J, d, r, rK, fixed_gates)\n",
    "print('Un-optimized f(x):', objf(x_unoptimized, E, rho, J, y))\n",
    "print('Optimized f(x):', objf(x_gds_not_conjugate, E, rho, J, y))\n",
    "# 2m 28.8"
   ]
  },
  {
   "cell_type": "code",
   "execution_count": 26,
   "id": "6defba8d",
   "metadata": {},
   "outputs": [
    {
     "name": "stdout",
     "output_type": "stream",
     "text": [
      "Un-optimized f(x): 0.000757607351976269\n",
      "Optimized f(x): 0.0006827538052883298\n"
     ]
    }
   ],
   "source": [
    "# unjit numba - no compilation time\n",
    "# x_gds_not_conjugate = compute_new_x()\n",
    "# print('Un-optimized f(x):', objf(x_unoptimized, E, rho, J, y))\n",
    "# print('Optimized f(x):', objf(x_gds_not_conjugate, E, rho, J, y))"
   ]
  },
  {
   "cell_type": "code",
   "execution_count": 27,
   "id": "a76106e6",
   "metadata": {},
   "outputs": [
    {
     "name": "stdout",
     "output_type": "stream",
     "text": [
      "Un-optimized f(x): 0.0007295188784255194\n",
      "Optimized f(x): 0.0007293663469541819\n"
     ]
    }
   ],
   "source": [
    "x_gds_conjugate = compute_new_x(K, E, rho, y, J, d, r, rK, fixed_gates, {\"conjugate\":True})\n",
    "print('Un-optimized f(x):', objf(x_unoptimized, E, rho, J, y))\n",
    "print('Optimized f(x):', objf(x_gds_conjugate, E, rho, J, y))"
   ]
  },
  {
   "cell_type": "code",
   "execution_count": 25,
   "id": "1e807ccf",
   "metadata": {},
   "outputs": [
    {
     "name": "stdout",
     "output_type": "stream",
     "text": [
      "Un-optimized f(x): 0.000757607351976269\n",
      "Optimized f(x): 0.0007519109514575818\n"
     ]
    }
   ],
   "source": [
    "# unjit numba - no compilation time\n",
    "# x_gds_conjugate = compute_new_x({\"conjugate\":True})\n",
    "# print('Un-optimized f(x):', objf(x_unoptimized, E, rho, J, y))\n",
    "# print('Optimized f(x):', objf(x_gds_conjugate, E, rho, J, y))"
   ]
  },
  {
   "cell_type": "code",
   "execution_count": 28,
   "id": "41e8f27c",
   "metadata": {},
   "outputs": [
    {
     "name": "stdout",
     "output_type": "stream",
     "text": [
      "Using JAX power\n",
      "Un-optimized f(x): 0.0007295188784255194\n",
      "Optimized f(x): 0.0006669932844901381\n"
     ]
    }
   ],
   "source": [
    "x_gds_not_conjugate_jax = compute_new_x(K, E, rho, y, J, d, r, rK, fixed_gates, {\"use_jax\":True})\n",
    "print('Un-optimized f(x):', objf(x_unoptimized, E, rho, J, y))\n",
    "print('Optimized f(x):', objf(x_gds_not_conjugate_jax, E, rho, J, y))\n",
    "# Before: 50 s"
   ]
  },
  {
   "cell_type": "code",
   "execution_count": 29,
   "id": "879d14f4",
   "metadata": {},
   "outputs": [
    {
     "name": "stdout",
     "output_type": "stream",
     "text": [
      "Using JAX power\n",
      "Un-optimized f(x): 0.0007295188784255194\n",
      "Optimized f(x): 0.0007293663469620103\n"
     ]
    }
   ],
   "source": [
    "x_gds_conjugate_jax = compute_new_x(K, E, rho, y, J, d, r, rK, fixed_gates, {\"conjugate\":True, \"use_jax\":True})\n",
    "print('Un-optimized f(x):', objf(x_unoptimized, E, rho, J, y))\n",
    "print('Optimized f(x):', objf(x_gds_conjugate_jax, E, rho, J, y))\n",
    "# before 47s"
   ]
  },
  {
   "cell_type": "code",
   "execution_count": 30,
   "id": "2cadbe9d",
   "metadata": {},
   "outputs": [
    {
     "data": {
      "text/plain": [
       "(array([[-1, -1, -1, ..., -1, -1, -1],\n",
       "        [-1, -1, -1, ..., -1, -1,  2],\n",
       "        [-1, -1, -1, ..., -1, -1,  6],\n",
       "        ...,\n",
       "        [ 2,  5,  4, ...,  3,  2,  5],\n",
       "        [ 4,  4,  2, ...,  5,  4,  5],\n",
       "        [ 0,  5,  3, ...,  5,  5,  0]]),\n",
       " 1000,\n",
       " (1000, 14))"
      ]
     },
     "execution_count": 30,
     "metadata": {},
     "output_type": "execute_result"
    }
   ],
   "source": [
    "J, len(J), J.shape"
   ]
  },
  {
   "cell_type": "markdown",
   "id": "fabbaa50",
   "metadata": {},
   "source": [
    "## Profiling"
   ]
  },
  {
   "cell_type": "code",
   "execution_count": 30,
   "id": "a3373298",
   "metadata": {},
   "outputs": [
    {
     "name": "stdout",
     "output_type": "stream",
     "text": [
      " \n",
      "*** Profile stats marshalled to file 'program.prof'.\n"
     ]
    },
    {
     "name": "stdout",
     "output_type": "stream",
     "text": [
      "         64489 function calls in 167.512 seconds\n",
      "\n",
      "   Ordered by: internal time\n",
      "\n",
      "   ncalls  tottime  percall  cumtime  percall filename:lineno(function)\n",
      "       68   88.259    1.298   88.259    1.298 low_level_jit.py:107(objf)\n",
      "        1   60.612   60.612   60.612   60.612 low_level_jit.py:316(dK)\n",
      "      552   17.969    0.033   17.976    0.033 linalg.py:492(inv)\n",
      "      552    0.213    0.000    0.250    0.000 linalg.py:1193(eig)\n",
      "      622    0.126    0.000    0.126    0.000 {built-in method numpy.core._multiarray_umath.c_einsum}\n",
      "       69    0.120    0.002   18.552    0.269 optimization.py:60(update_K_geodesic)\n",
      "      552    0.026    0.000    0.110    0.000 linalg.py:789(qr)\n",
      "      552    0.023    0.000    0.061    0.000 twodim_base.py:366(tri)\n",
      "     1104    0.021    0.000    0.023    0.000 twodim_base.py:33(_min_int)\n",
      "      552    0.017    0.000    0.021    0.000 linalg.py:215(_assert_finite)\n",
      "     1104    0.015    0.000    0.017    0.000 twodim_base.py:158(eye)\n",
      "      552    0.013    0.000    0.013    0.000 {method 'outer' of 'numpy.ufunc' objects}\n",
      "     1862    0.013    0.000    0.013    0.000 {built-in method numpy.asarray}\n",
      "      552    0.009    0.000    0.071    0.000 twodim_base.py:485(triu)\n",
      "      552    0.009    0.000   18.301    0.033 optimization.py:11(eigy_expm)\n",
      "     4003    0.008    0.000    0.008    0.000 {method 'astype' of 'numpy.ndarray' objects}\n",
      "        1    0.007    0.007  167.512  167.512 algorithm.py:251(gd)\n",
      "      552    0.004    0.000    0.005    0.000 <string>:1(<lambda>)\n",
      "      620    0.004    0.000    0.004    0.000 {method 'reduce' of 'numpy.ufunc' objects}\n",
      "     1750    0.004    0.000    0.004    0.000 {method 'conj' of 'numpy.ndarray' objects}\n",
      "     1656    0.004    0.000    0.006    0.000 linalg.py:159(_commonType)\n",
      "     1728    0.003    0.000    0.003    0.000 {built-in method numpy.zeros}\n",
      "       68    0.002    0.000  106.605    1.568 optimization.py:98(lineobjf_isom_geodesic)\n",
      "        1    0.002    0.002  106.619  106.619 _cobyla_py.py:189(_minimize_cobyla)\n",
      "     1104    0.002    0.000    0.002    0.000 {built-in method numpy.arange}\n",
      "     1656    0.002    0.000    0.015    0.000 linalg.py:135(_makearray)\n",
      "       68    0.002    0.000    0.003    0.000 _aliases.py:78(asarray)\n",
      "       68    0.001    0.000  106.607    1.568 _differentiable_functions.py:16(wrapped)\n",
      "      555    0.001    0.000    0.001    0.000 {built-in method numpy.asanyarray}\n",
      "     2208    0.001    0.000    0.001    0.000 linalg.py:130(get_linalg_error_extobj)\n",
      "     4416    0.001    0.000    0.002    0.000 linalg.py:140(isComplexType)\n",
      "       68    0.001    0.000    0.003    0.000 numeric.py:2378(array_equal)\n",
      "        1    0.001    0.001  106.620  106.620 _cobyla_py.py:32(wrapper)\n",
      "      622    0.001    0.000    0.127    0.000 einsumfunc.py:1009(einsum)\n",
      "      552    0.001    0.000    0.001    0.000 linalg.py:184(_to_native_byte_order)\n",
      "     1104    0.001    0.000    0.001    0.000 getlimits.py:709(max)\n",
      "      139    0.001    0.000    0.001    0.000 {built-in method numpy.array}\n",
      "     3662    0.001    0.000    0.001    0.000 einsumfunc.py:1001(_einsum_dispatcher)\n",
      "     1656    0.001    0.000    0.001    0.000 linalg.py:203(_assert_stacked_2d)\n",
      "     1656    0.001    0.000    0.001    0.000 linalg.py:153(_realType)\n",
      "     1104    0.001    0.000    0.001    0.000 getlimits.py:696(min)\n",
      "     6075    0.001    0.000    0.001    0.000 {built-in method builtins.issubclass}\n",
      "     1104    0.001    0.000    0.001    0.000 linalg.py:209(_assert_stacked_square)\n",
      "       67    0.001    0.000    0.004    0.000 _differentiable_functions.py:270(_update_x)\n",
      "      620    0.001    0.000    0.005    0.000 {method 'all' of 'numpy.ndarray' objects}\n",
      "       68    0.001    0.000  105.279    1.548 _differentiable_functions.py:323(fun)\n",
      "     2208    0.001    0.000    0.001    0.000 {method '__array_prepare__' of 'numpy.ndarray' objects}\n",
      "        1    0.001    0.001    0.001    0.001 optimization.py:28(tangent_proj)\n",
      "     1104    0.001    0.000    0.001    0.000 {built-in method __new__ of type object at 0x1053dfc78}\n",
      "      552    0.000    0.000    0.000    0.000 {built-in method builtins.min}\n",
      "     1657    0.000    0.000    0.000    0.000 {built-in method builtins.getattr}\n",
      "      620    0.000    0.000    0.004    0.000 _methods.py:61(_all)\n",
      "      229    0.000    0.000    0.000    0.000 {method 'reshape' of 'numpy.ndarray' objects}\n",
      "       68    0.000    0.000  105.280    1.548 _cobyla_py.py:280(calcfc)\n",
      "       69    0.000    0.000    0.000    0.000 {method 'copy' of 'numpy.ndarray' objects}\n",
      "       69    0.000    0.000  106.607    1.545 _differentiable_functions.py:293(_update_fun)\n",
      "     2210    0.000    0.000    0.000    0.000 {method 'get' of 'dict' objects}\n",
      "     2208    0.000    0.000    0.000    0.000 {built-in method _operator.index}\n",
      "       68    0.000    0.000    0.000    0.000 numeric.py:1855(isscalar)\n",
      "      552    0.000    0.000    0.000    0.000 linalg.py:156(_complexType)\n",
      "        1    0.000    0.000    1.337    1.337 _differentiable_functions.py:166(__init__)\n",
      "        1    0.000    0.000  167.512  167.512 3237540815.py:6(compute_new_x)\n",
      "      142    0.000    0.000    0.000    0.000 {built-in method builtins.isinstance}\n",
      "        1    0.000    0.000  106.621  106.621 _minimize.py:53(minimize)\n",
      "      555    0.000    0.000    0.000    0.000 {built-in method builtins.len}\n",
      "     1104    0.000    0.000    0.000    0.000 linalg.py:488(_unary_dispatcher)\n",
      "      555    0.000    0.000    0.000    0.000 {method 'append' of 'list' objects}\n",
      "       68    0.000    0.000    0.000    0.000 enum.py:193(__get__)\n",
      "      552    0.000    0.000    0.000    0.000 linalg.py:785(_qr_dispatcher)\n",
      "      553    0.000    0.000    0.000    0.000 multiarray.py:346(where)\n",
      "      552    0.000    0.000    0.000    0.000 twodim_base.py:426(_trilu_dispatcher)\n",
      "       71    0.000    0.000    0.000    0.000 function_base.py:873(copy)\n",
      "        1    0.000    0.000  167.513  167.513 {built-in method builtins.exec}\n",
      "        1    0.000    0.000    0.000    0.000 _aliases.py:487(isdtype)\n",
      "        1    0.000    0.000    0.000    0.000 _differentiable_functions.py:55(_wrapper_hess)\n",
      "       68    0.000    0.000    0.000    0.000 enum.py:1257(value)\n",
      "       68    0.000    0.000    0.001    0.000 _aliases.py:236(astype)\n",
      "       68    0.000    0.000    0.000    0.000 _funcs.py:12(atleast_nd)\n",
      "       68    0.000    0.000    0.000    0.000 {built-in method builtins.hasattr}\n",
      "        1    0.000    0.000    1.337    1.337 _optimize.py:203(_prepare_scalar_function)\n",
      "       68    0.000    0.000    0.000    0.000 _cobyla_py.py:288(wrapped_callback)\n",
      "        1    0.000    0.000    0.000    0.000 _internal.py:26(wrapped_f)\n",
      "        1    0.000    0.000  167.512  167.512 <string>:1(<module>)\n",
      "        1    0.000    0.000    0.000    0.000 serialize.py:30(_numba_unpickle)\n",
      "        1    0.000    0.000    0.001    0.001 _differentiable_functions.py:39(wrapped)\n",
      "        2    0.000    0.000    0.001    0.001 shape_base.py:23(atleast_1d)\n",
      "        1    0.000    0.000    0.000    0.000 numerictypes.py:357(issubdtype)\n",
      "       68    0.000    0.000    0.000    0.000 numeric.py:2374(_array_equal_dispatcher)\n",
      "       71    0.000    0.000    0.000    0.000 function_base.py:869(_copy_dispatcher)\n",
      "        1    0.000    0.000    0.001    0.001 3237540815.py:3(get_x_from_k)\n",
      "        1    0.000    0.000    0.000    0.000 _differentiable_functions.py:13(_wrapper_fun)\n",
      "        1    0.000    0.000    0.000    0.000 _differentiable_functions.py:35(_wrapper_grad)\n",
      "        1    0.000    0.000    0.001    0.001 _differentiable_functions.py:303(_update_grad)\n",
      "        1    0.000    0.000    0.000    0.000 _base.py:1400(issparse)\n",
      "        2    0.000    0.000    0.000    0.000 numerictypes.py:283(issubclass_)\n",
      "        1    0.000    0.000    0.000    0.000 _minimize.py:1066(standardize_constraints)\n",
      "        1    0.000    0.000    0.000    0.000 _array_api.py:114(array_namespace)\n",
      "        1    0.000    0.000    0.000    0.000 {method '__exit__' of '_thread.RLock' objects}\n",
      "        1    0.000    0.000    0.000    0.000 shape_base.py:81(atleast_2d)\n",
      "        1    0.000    0.000    0.000    0.000 _util.py:1086(__getattr__)\n",
      "        8    0.000    0.000    0.000    0.000 {built-in method builtins.callable}\n",
      "        1    0.000    0.000    0.000    0.000 {built-in method numpy.ascontiguousarray}\n",
      "        1    0.000    0.000    0.000    0.000 {method 'lower' of 'str' objects}\n",
      "        1    0.000    0.000    0.000    0.000 {method 'disable' of '_lsprof.Profiler' objects}\n",
      "        1    0.000    0.000    0.000    0.000 {built-in method builtins.sum}\n",
      "        1    0.000    0.000    0.000    0.000 _optimize.py:283(hess)\n",
      "        1    0.000    0.000    0.000    0.000 _cobyla_py.py:275(_jac)\n",
      "        2    0.000    0.000    0.000    0.000 shape_base.py:19(_atleast_1d_dispatcher)\n",
      "        1    0.000    0.000    0.000    0.000 shape_base.py:77(_atleast_2d_dispatcher)\n",
      "        1    0.000    0.000    0.000    0.000 _optimize.py:175(_check_unknown_options)\n",
      "        1    0.000    0.000    0.000    0.000 _optimize.py:88(_wrap_callback)"
     ]
    }
   ],
   "source": [
    "%prun -D program.prof compute_new_x()"
   ]
  },
  {
   "cell_type": "code",
   "execution_count": 31,
   "id": "e446a703",
   "metadata": {},
   "outputs": [
    {
     "name": "stdout",
     "output_type": "stream",
     "text": [
      "Using JAX power\n",
      " \n",
      "*** Profile stats marshalled to file 'program_jax.prof'.\n"
     ]
    },
    {
     "name": "stdout",
     "output_type": "stream",
     "text": [
      "         57597570 function calls (56059077 primitive calls) in 110.362 seconds\n",
      "\n",
      "   Ordered by: internal time\n",
      "\n",
      "   ncalls  tottime  percall  cumtime  percall filename:lineno(function)\n",
      "       45   72.137    1.603   72.137    1.603 low_level_jit.py:107(objf)\n",
      "      368   11.132    0.030   11.139    0.030 linalg.py:492(inv)\n",
      "       29    1.553    0.054    1.557    0.054 compiler.py:276(backend_compile)\n",
      "   451139    1.324    0.000    2.983    0.000 abstract_arrays.py:46(canonical_concrete_aval)\n",
      "    81967    1.294    0.000    3.907    0.000 pjit.py:1736(_pjit_call_impl)\n",
      "145946/137954    1.057    0.000    5.997    0.000 core.py:928(process_primitive)\n",
      "41109/41004    0.813    0.000    8.285    0.000 pjit.py:2154(_pjit_partial_eval)\n",
      "   131623    0.726    0.000    0.897    0.000 partial_eval.py:771(newvar)\n",
      "  1668990    0.549    0.000    0.550    0.000 pjit.py:2181(<genexpr>)\n",
      "    55987    0.546    0.000    0.676    0.000 dispatch.py:83(apply_primitive)\n",
      "6150010/6149840    0.530    0.000    0.555    0.000 {built-in method builtins.isinstance}\n",
      "   345420    0.463    0.000    0.464    0.000 config.py:194(trace_context)\n",
      "     15/1    0.396    0.026    7.834    7.834 ad.py:253(backward_pass)\n",
      "268396/125303    0.377    0.000   15.838    0.000 core.py:447(bind)\n",
      "41069/40964    0.372    0.000   10.094    0.000 pjit.py:2057(_pjit_jvp)\n",
      "   657744    0.365    0.000    1.031    0.000 pjit.py:2180(keep_where)\n",
      "739986/723456    0.336    0.000    2.975    0.000 {jaxlib.utils.safe_map}\n",
      "   451139    0.334    0.000    0.335    0.000 core.py:1762(_get_abstract_sharding)\n",
      "   610246    0.320    0.000    0.972    0.000 core.py:1681(__init__)\n",
      "   611707    0.291    0.000    0.409    0.000 core.py:1594(canonicalize_shape)\n",
      "   834424    0.284    0.000    0.284    0.000 core.py:1039(set_trace)\n",
      "1768850/1275556    0.280    0.000    2.007    0.000 {built-in method builtins.next}\n",
      "41068/40963    0.280    0.000    4.400    0.000 pjit.py:2339(_pjit_transpose)\n",
      "  1521181    0.265    0.000    0.266    0.000 {jaxlib.utils.safe_zip}\n",
      "   563788    0.258    0.000    0.298    0.000 contextlib.py:104(__init__)\n",
      "  41981/1    0.250    0.000   26.850   26.850 traceback_util.py:176(reraise_with_filtered_traceback)\n",
      "   451139    0.224    0.000    3.237    0.000 core.py:1407(concrete_aval)\n",
      "41979/41004    0.218    0.000    1.241    0.000 pjit.py:738(_infer_params)\n",
      "1351752/1326649    0.211    0.000    0.395    0.000 {built-in method builtins.getattr}\n",
      "58782/56997    0.211    0.000   12.898    0.000 ad.py:388(process_primitive)\n",
      "  1522742    0.205    0.000    0.405    0.000 {method 'get' of 'dict' objects}\n",
      "   123294    0.188    0.000    1.523    0.000 core.py:285(manager)\n",
      "563787/317140    0.185    0.000    0.814    0.000 contextlib.py:141(__exit__)\n",
      "91278/88966    0.184    0.000   10.200    0.000 partial_eval.py:209(process_primitive)\n",
      "   610246    0.179    0.000    0.244    0.000 core.py:1530(_dtype_object)\n",
      "       16    0.179    0.011    1.973    0.123 partial_eval.py:746(tracers_to_jaxpr)\n",
      "       16    0.175    0.011    0.681    0.043 util.py:222(toposort)\n",
      "478869/462885    0.175    0.000    0.279    0.000 dtypes.py:723(is_weakly_typed)\n",
      "477994/429038    0.171    0.000    3.302    0.000 core.py:1438(get_aval)\n",
      "51060/42819    0.171    0.000    0.447    0.000 partial_eval.py:1323(_jaxpr_forwarding)\n",
      "41979/41004    0.170    0.000   12.723    0.000 pjit.py:176(_python_pjit_helper)\n",
      "   563787    0.166    0.000    0.464    0.000 contextlib.py:299(helper)\n",
      "   123294    0.153    0.000    0.209    0.000 xla_metadata.py:33(set_xla_metadata)\n",
      "    61647    0.147    0.000    0.465    0.000 contextlib.py:558(__exit__)\n",
      "   247487    0.146    0.000    0.240    0.000 core.py:217(out_avals)\n",
      "   246408    0.145    0.000    0.283    0.000 pjit.py:2343(prune_type)\n",
      "563787/317140    0.140    0.000    1.349    0.000 contextlib.py:132(__enter__)\n",
      "   418842    0.138    0.000    0.284    0.000 partial_eval.py:535(parents)\n",
      "   536049    0.135    0.000    0.135    0.000 dtypes.py:273(canonicalize_dtype)\n",
      "   207485    0.128    0.000    0.150    0.000 util.py:125(split_list)\n",
      "    57621    0.123    0.000    0.300    0.000 partial_eval.py:708(new_eqn_recipe)\n",
      "   123294    0.122    0.000    0.156    0.000 compute_on.py:29(extend_compute_type)\n",
      "82682/82654    0.116    0.000    0.148    0.000 functools.py:981(__get__)\n",
      "      414    0.116    0.000    0.116    0.000 {built-in method numpy.core._multiarray_umath.c_einsum}\n",
      "   280302    0.116    0.000    0.166    0.000 dtypes.py:365(issubdtype)\n",
      "    68379    0.115    0.000    0.149    0.000 source_info_util.py:226(current)\n",
      "   210385    0.115    0.000    0.195    0.000 core.py:1709(__eq__)\n",
      "303436/125303    0.115    0.000   15.511    0.000 core.py:467(bind_with_trace)\n",
      "   297568    0.112    0.000    0.207    0.000 core.py:1065(set_current_trace)\n",
      "473357/473353    0.111    0.000    0.158    0.000 fromnumeric.py:1980(shape)\n",
      "   246588    0.109    0.000    0.665    0.000 contextlib.py:502(enter_context)\n",
      "       46    0.108    0.002   11.551    0.251 optimization.py:60(update_K_geodesic)\n",
      "    50169    0.107    0.000    1.355    0.000 partial_eval.py:217(default_process_primitive)\n",
      "   147772    0.100    0.000    0.155    0.000 ad.py:277(read_primal)\n",
      "   573936    0.094    0.000    0.094    0.000 pjit.py:2344(<genexpr>)\n",
      "        1    0.094    0.094   16.787   16.787 low_level_jit.py:148(cost_function_jax)\n",
      "   460519    0.093    0.000    0.146    0.000 partial_eval.py:135(get_aval)\n",
      "    82048    0.093    0.000    0.862    0.000 partial_eval.py:167(new_instantiated_const)\n",
      "   460503    0.093    0.000    0.239    0.000 partial_eval.py:531(aval)\n",
      "    50782    0.092    0.000    0.504    0.000 dtypes.py:742(dtype)\n",
      "    92169    0.092    0.000    0.100    0.000 partial_eval.py:1353(prune_closed_jaxpr_outputs)\n",
      "   246588    0.091    0.000    0.191    0.000 contextlib.py:534(_push_cm_exit)\n",
      "    97957    0.086    0.000    0.086    0.000 <string>:2(__eq__)\n",
      "   265966    0.085    0.000    0.116    0.000 partial_eval.py:109(__new__)\n",
      "   265919    0.083    0.000    0.098    0.000 partial_eval.py:520(__init__)\n",
      "      368    0.082    0.000    0.098    0.000 linalg.py:1193(eig)\n",
      "   207231    0.080    0.000    0.148    0.000 tree_util.py:82(tree_unflatten)\n",
      "41979/41004    0.079    0.000   12.888    0.000 pjit.py:330(cache_miss)\n",
      "   314516    0.078    0.000    0.201    0.000 {built-in method builtins.all}\n",
      "  1454571    0.076    0.000    0.076    0.000 {built-in method builtins.id}\n",
      "    40791    0.076    0.000   11.596    0.000 array_methods.py:568(deferring_binary_op)\n",
      "   193499    0.075    0.000    0.139    0.000 core.py:1715(__hash__)\n",
      "    41125    0.075    0.000    0.123    0.000 util.py:150(merge_lists)\n",
      "41069/40964    0.075    0.000    0.439    0.000 ad.py:928(jvp_jaxpr)\n",
      "   126275    0.072    0.000    0.214    0.000 partial_eval.py:160(new_const)\n",
      "   628550    0.072    0.000    0.072    0.000 partial_eval.py:131(get_known)\n",
      "   102524    0.071    0.000    0.348    0.000 core.py:1722(to_tangent_aval)\n",
      "    59007    0.070    0.000    0.086    0.000 util.py:93(unzip2)\n",
      "    21988    0.068    0.000    0.373    0.000 utils.py:49(standard_abstract_eval)\n",
      "       16    0.068    0.004    0.261    0.016 util.py:254(check_toposort)\n",
      "   192045    0.068    0.000    0.299    0.000 partial_eval.py:151(to_jaxpr_tracer)\n",
      "  1233524    0.067    0.000    0.067    0.000 {method 'append' of 'list' objects}\n",
      "   525158    0.066    0.000    0.066    0.000 pjit.py:2078(<genexpr>)\n",
      "    82218    0.063    0.000    0.118    0.000 util.py:161(subs_list)\n",
      "   183835    0.061    0.000    0.381    0.000 {built-in method builtins.any}\n",
      "   118508    0.059    0.000    0.146    0.000 core.py:1771(primal_dtype_to_tangent_dtype)\n",
      "    64181    0.059    0.000    0.070    0.000 core.py:272(__init__)\n",
      "   246414    0.058    0.000    0.098    0.000 pjit.py:2077(_filter_zeros)\n",
      "851523/835011    0.057    0.000    0.061    0.000 {built-in method builtins.len}\n",
      "   477679    0.057    0.000    0.057    0.000 dtypes.py:737(check_valid_dtype)\n",
      "   270718    0.056    0.000    0.074    0.000 core.py:1575(_canonicalize_dimension)\n",
      "    57379    0.056    0.000    0.134    0.000 util.py:298(wrapper)\n",
      "   147787    0.056    0.000    0.452    0.000 ad.py:258(write_cotangent)\n",
      "41084/40979    0.056    0.000    0.807    0.000 linear_util.py:326(memoized_fun)\n",
      "   143726    0.056    0.000    0.075    0.000 source_info_util.py:156(replace)\n",
      "    41153    0.055    0.000    0.060    0.000 tree_util.py:74(tree_flatten)\n",
      "41109/41004    0.055    0.000    0.408    0.000 partial_eval.py:868(partial_eval_jaxpr_nounits)\n",
      "    82252    0.054    0.000    0.072    0.000 linear_util.py:168(wrap)\n",
      "    41109    0.054    0.000    0.110    0.000 partial_eval.py:1501(move_binders_to_front)\n",
      "   590456    0.053    0.000    0.053    0.000 core.py:204(<lambda>)\n",
      "   246588    0.052    0.000    0.068    0.000 contextlib.py:539(_push_exit_callback)\n",
      "   145946    0.051    0.000    0.076    0.000 core.py:921(check_eval_args)\n",
      "   125001    0.051    0.000    0.074    0.000 core.py:229(effects)\n",
      "    16338    0.051    0.000    4.301    0.000 ufunc_api.py:172(__call__)\n",
      "   284343    0.050    0.000    0.084    0.000 core.py:1289(full_lower)\n",
      "48838/48208    0.049    0.000   13.736    0.000 array_methods.py:1049(op)\n",
      "   247487    0.047    0.000    0.047    0.000 core.py:219(<listcomp>)\n",
      "   207284    0.047    0.000    0.047    0.000 mesh.py:491(set_abstract_mesh)\n",
      "   176845    0.047    0.000    1.376    0.000 ad.py:526(aval)\n",
      "   380795    0.047    0.000    0.047    0.000 array.py:253(dtype)\n",
      "   407421    0.047    0.000    0.047    0.000 {built-in method __new__ of type object at 0x1053dfc78}\n",
      "   373508    0.046    0.000    0.046    0.000 array.py:249(shape)\n",
      "    81968    0.046    0.000    0.060    0.000 <string>:2(__hash__)\n",
      "   128826    0.045    0.000    0.076    0.000 source_info_util.py:246(user_context)\n",
      "   139660    0.043    0.000    0.102    0.000 partial_eval.py:124(unknown)\n",
      "      368    0.043    0.000    0.092    0.000 linalg.py:789(qr)\n",
      "       29    0.043    0.001    0.043    0.001 {built-in method jaxlib.mlir._mlir_libs._mlir.ir.load_all_available_dialects}\n",
      "    58195    0.042    0.000    0.260    0.000 ad.py:274(read_cotangent)\n",
      "    76078    0.042    0.000    0.584    0.000 api_util.py:604(shaped_abstractify)\n",
      "    51060    0.040    0.000    0.053    0.000 partial_eval.py:1335(<listcomp>)\n",
      "   126306    0.039    0.000    0.096    0.000 partial_eval.py:120(known)\n",
      "   423421    0.039    0.000    0.039    0.000 core.py:105(outvars)\n",
      "   473357    0.038    0.000    0.038    0.000 fromnumeric.py:1976(_shape_dispatcher)\n",
      "    93796    0.038    0.000    0.346    0.000 ad.py:381(to_primal_tangent_pair)\n",
      "    41055    0.038    0.000    0.062    0.000 linear_util.py:179(populate_stores)\n",
      "    41109    0.037    0.000    0.058    0.000 pjit.py:2231(<listcomp>)\n",
      "     8782    0.037    0.000    1.143    0.000 lax.py:545(_convert_element_type)\n",
      "   155681    0.036    0.000    0.901    0.000 pjit.py:2359(<genexpr>)\n",
      "    44312    0.036    0.000    0.492    0.000 ad_util.py:68(from_primal_value)\n",
      "   493050    0.035    0.000    0.035    0.000 multiarray.py:669(result_type)\n",
      "   370654    0.035    0.000    0.035    0.000 partial_eval.py:128(is_known)\n",
      "   164583    0.035    0.000    0.047    0.000 pjit.py:2160(<genexpr>)\n",
      "   220973    0.034    0.000    0.178    0.000 {built-in method builtins.hasattr}\n",
      "   147803    0.034    0.000    0.040    0.000 partial_eval.py:768(get_atom)\n",
      "    82218    0.034    0.000    0.043    0.000 util.py:165(<listcomp>)\n",
      "   296600    0.033    0.000    0.033    0.000 {built-in method builtins.hash}\n",
      "    59263    0.033    0.000    0.046    0.000 core.py:328(replace)\n",
      "   180481    0.033    0.000    0.033    0.000 {method 'setdefault' of 'dict' objects}\n",
      "   123354    0.033    0.000    0.033    0.000 config.py:283(__call__)\n",
      "   287386    0.033    0.000    0.040    0.000 util.py:257(<genexpr>)\n",
      "   246588    0.033    0.000    0.033    0.000 contextlib.py:462(_create_exit_wrapper)\n",
      "   150770    0.033    0.000    0.041    0.000 core.py:372(__init__)\n",
      "    64413    0.031    0.000    0.046    0.000 source_info_util.py:125(__add__)\n",
      "    64320    0.031    0.000    0.054    0.000 core.py:350(new_jaxpr_eqn)\n",
      "    41109    0.030    0.000    0.078    0.000 pjit.py:2264(<listcomp>)\n",
      "   143907    0.029    0.000    0.045    0.000 core.py:565(is_valid)\n",
      "    81967    0.029    0.000    0.030    0.000 pjit.py:1756(<genexpr>)\n",
      "     16/1    0.029    0.002   18.781   18.781 partial_eval.py:581(trace_to_subjaxpr_nounits)\n",
      "    41109    0.029    0.000    0.040    0.000 pjit.py:2262(<listcomp>)\n",
      "    41768    0.029    0.000    0.048    0.000 core.py:213(in_avals)\n",
      "     9522    0.028    0.000    0.109    0.000 lax.py:2150(naryop_dtype_rule)\n",
      "   123382    0.028    0.000    0.028    0.000 linear_util.py:155(__init__)\n",
      "   355210    0.028    0.000    0.028    0.000 {method 'pop' of 'list' objects}\n",
      "    57430    0.028    0.000    0.044    0.000 ad.py:510(maybe_jvp_tracer)\n",
      "   323143    0.027    0.000    0.027    0.000 ad_util.py:64(__init__)\n",
      "    42008    0.027    0.000    0.035    0.000 pxla.py:3035(reflatten_outputs_for_dispatch)\n",
      "   118041    0.027    0.000    0.611    0.000 pjit.py:756(<genexpr>)\n",
      "   197207    0.027    0.000    0.027    0.000 {method 'add' of 'set' objects}\n",
      "   123583    0.026    0.000    0.026    0.000 core.py:315(__init__)\n",
      "    57550    0.026    0.000    0.779    0.000 partial_eval.py:794(<listcomp>)\n",
      "    83/29    0.025    0.000    0.246    0.008 mlir.py:1797(jaxpr_subcomp)\n",
      "    41117    0.025    0.000    0.066    0.000 linear_util.py:236(transformation_with_aux2)\n",
      "    76064    0.024    0.000    0.215    0.000 dispatch.py:282(check_arg)\n",
      "   125609    0.024    0.000    0.024    0.000 {built-in method builtins.sorted}\n",
      "    42008    0.024    0.000    0.059    0.000 pjit.py:254(_get_fastpath_data)\n",
      "    41130    0.024    0.000    0.034    0.000 linear_util.py:251(wrap_init)\n",
      "     9951    0.023    0.000    0.114    0.000 pjit.py:1860(_pjit_forwarding)\n",
      "    51060    0.022    0.000    0.023    0.000 partial_eval.py:1334(<dictcomp>)\n",
      "    49029    0.022    0.000    0.063    0.000 util.py:132(_arraylike)\n",
      "    48956    0.022    0.000    0.442    0.000 api_util.py:588(_shaped_abstractify_slow)\n",
      "    82172    0.022    0.000    0.032    0.000 linear_util.py:102(val)\n",
      "    16479    0.022    0.000    0.141    0.000 core.py:804(__getattr__)\n",
      "     7992    0.021    0.000    0.622    0.000 ad.py:784(standard_jvp2)\n",
      "     3045    0.021    0.000    0.021    0.000 {built-in method }\n",
      "    53866    0.021    0.000    0.363    0.000 core.py:660(<lambda>)\n",
      "   131623    0.020    0.000    0.028    0.000 partial_eval.py:778(type_substitute)\n",
      "    41109    0.020    0.000    0.138    0.000 partial_eval.py:1521(move_binders_to_back)\n",
      "   288014    0.020    0.000    0.020    0.000 {built-in method _operator.index}\n",
      "    41069    0.020    0.000    0.026    0.000 pjit.py:2070(<listcomp>)\n",
      "    57621    0.020    0.000    0.057    0.000 partial_eval.py:725(<listcomp>)\n",
      "     8000    0.019    0.000    0.035    0.000 api_util.py:622(_np_scalar_abstractify)\n",
      "    17475    0.019    0.000    0.040    0.000 lax.py:3057(_convert_elt_type_fwd_rule)\n",
      "   143726    0.019    0.000    0.019    0.000 source_info_util.py:152(__init__)\n",
      "     6560    0.019    0.000    0.249    0.000 partial_eval.py:1899(default_process_primitive)\n",
      "    50169    0.019    0.000    0.028    0.000 partial_eval.py:222(<listcomp>)\n",
      "    41109    0.019    0.000    0.023    0.000 pjit.py:2210(<dictcomp>)\n",
      "40681/16675    0.018    0.000    0.835    0.000 lax.py:3079(_convert_element_type_bind_with_trace)\n",
      "     8000    0.018    0.000    2.980    0.000 ufuncs.py:2565(power)\n",
      "    41125    0.018    0.000    0.023    0.000 util.py:156(<listcomp>)\n",
      "     8000    0.018    0.000    1.588    0.000 array_methods.py:934(<lambda>)\n",
      "   164516    0.018    0.000    0.018    0.000 {built-in method builtins.sum}\n",
      "    17014    0.018    0.000    0.055    0.000 api_util.py:615(_numpy_array_abstractify)\n",
      "    41069    0.017    0.000    0.050    0.000 ad.py:400(<listcomp>)\n",
      "   127073    0.017    0.000    0.017    0.000 ad.py:390(<genexpr>)\n",
      "   197371    0.017    0.000    0.017    0.000 core.py:101(invars)\n",
      "    41116    0.017    0.000    0.023    0.000 weakref.py:507(setdefault)\n",
      "    22652    0.017    0.000    0.407    0.000 core.py:499(abstract_eval_)\n",
      "    57414    0.017    0.000    0.017    0.000 ad.py:519(__init__)\n",
      "     8661    0.017    0.000    0.124    0.000 pjit.py:1870(pjit_forwarding_rule)\n",
      "     7992    0.017    0.000    0.973    0.000 lax.py:2691(_integer_pow_jvp)\n",
      "     8097    0.017    0.000    1.320    0.000 ad.py:773(standard_jvp)\n",
      "      368    0.017    0.000    0.017    0.000 {method 'outer' of 'numpy.ufunc' objects}\n",
      "       30    0.017    0.001    0.476    0.016 core.py:514(eval_jaxpr)\n",
      "    34647    0.016    0.000    0.019    0.000 partial_eval.py:1328(<listcomp>)\n",
      "    73510    0.016    0.000    0.079    0.000 util.py:140(<genexpr>)\n",
      "   164583    0.016    0.000    0.016    0.000 pjit.py:2161(<genexpr>)\n",
      "     7992    0.016    0.000    0.140    0.000 lax.py:3011(_convert_element_type_transpose_rule)\n",
      "    61647    0.016    0.000    0.016    0.000 contextlib.py:472(__init__)\n",
      "     1153    0.015    0.000    0.015    0.000 {built-in method numpy.zeros}\n",
      "    78175    0.015    0.000    0.015    0.000 source_info_util.py:272(current_name_stack)\n",
      "       29    0.015    0.001    0.015    0.001 mlir.py:592(__init__)\n",
      "    41109    0.015    0.000    0.020    0.000 pjit.py:2211(<listcomp>)\n",
      "    41979    0.015    0.000    0.022    0.000 core.py:1110(trace_state_clean)\n",
      "   246589    0.015    0.000    0.015    0.000 {method 'append' of 'collections.deque' objects}\n",
      "    41109    0.015    0.000    0.017    0.000 pjit.py:2191(<listcomp>)\n",
      "   207834    0.014    0.000    0.014    0.000 {built-in method builtins.iter}\n",
      "     7992    0.014    0.000    0.028    0.000 lax.py:2247(_unbroadcast)\n",
      "   246588    0.014    0.000    0.014    0.000 {method 'pop' of 'collections.deque' objects}\n",
      "    24481    0.014    0.000    0.105    0.000 util.py:137(check_arraylike)\n",
      "    41069    0.014    0.000    0.014    0.000 pjit.py:2073(<listcomp>)\n",
      "    22304    0.013    0.000    0.018    0.000 {built-in method builtins.max}\n",
      "   147787    0.013    0.000    0.013    0.000 ad.py:349(__init__)\n",
      "     7992    0.013    0.000    0.167    0.000 lax.py:2829(_mul_transpose)\n",
      "     8135    0.013    0.000    0.235    0.000 dtypes.py:766(_lattice_result_type)\n",
      "    10572    0.013    0.000    0.051    0.000 lax.py:6326(check_same_dtypes)\n",
      "    16512    0.013    0.000    0.040    0.000 partial_eval.py:389(_current_truncated_name_stack)\n",
      "     8000    0.013    0.000    1.361    0.000 util.py:105(promote_dtypes_numeric)\n",
      "    64181    0.013    0.000    0.013    0.000 compute_on.py:44(current_compute_type)\n",
      "    74072    0.013    0.000    0.019    0.000 ad.py:287(write_primal)\n",
      "    41069    0.013    0.000    0.015    0.000 pjit.py:2098(<listcomp>)\n",
      "    66269    0.013    0.000    0.024    0.000 <frozen abc>:117(__instancecheck__)\n",
      "   125164    0.012    0.000    0.012    0.000 core.py:113(effects)\n",
      "       29    0.012    0.000    0.012    0.000 {built-in method jaxlib.mlir._mlir_libs._mlirHlo.register_mhlo_dialect}\n",
      "    41135    0.012    0.000    0.048    0.000 linear_util.py:205(transformation2)\n",
      "    81968    0.011    0.000    0.011    0.000 pxla.py:3022(contains_explicit_attributes)\n",
      "    58181    0.011    0.000    0.013    0.000 utils.py:51(<genexpr>)\n",
      "    20314    0.011    0.000    0.016    0.000 core.py:2022(definitely_equal_shape)\n",
      "   107154    0.011    0.000    0.011    0.000 ad.py:354(is_undefined_primal)\n",
      "     6158    0.011    0.000    0.028    0.000 ipkernel.py:775(_clean_thread_parent_frames)\n",
      "    66269    0.011    0.000    0.011    0.000 {built-in method _abc._abc_instancecheck}\n",
      "   110220    0.011    0.000    0.011    0.000 partial_eval.py:223(<genexpr>)\n",
      "      368    0.011    0.000   11.329    0.031 optimization.py:11(eigy_expm)\n",
      "    64197    0.011    0.000    0.011    0.000 mesh.py:499(get_abstract_mesh)\n",
      "    25106    0.011    0.000    0.102    0.000 partial_eval.py:191(instantiate_const)\n",
      "    41109    0.010    0.000    0.010    0.000 pjit.py:2158(<listcomp>)\n",
      "   123286    0.010    0.000    0.010    0.000 pjit.py:2175(<genexpr>)\n",
      "    24000    0.010    0.000    0.172    0.000 util.py:162(<genexpr>)\n",
      "    41768    0.010    0.000    0.010    0.000 core.py:215(<listcomp>)\n",
      "2766/2658    0.010    0.000    0.147    0.000 mlir.py:1949(lower_per_platform)\n",
      "     9166    0.010    0.000    0.010    0.000 {method 'conj' of 'numpy.ndarray' objects}\n",
      "    41979    0.010    0.000    0.014    0.000 pjit.py:169(__hash__)\n",
      "    82172    0.010    0.000    0.010    0.000 linear_util.py:108(__nonzero__)\n",
      "      368    0.010    0.000    0.013    0.000 linalg.py:215(_assert_finite)\n",
      "    41116    0.010    0.000    0.024    0.000 linear_util.py:242(<lambda>)\n",
      "     6797    0.009    0.000    0.009    0.000 {method 'reduce' of 'numpy.ufunc' objects}\n",
      "    23976    0.009    0.000    0.847    0.000 lax.py:451(mul)\n",
      "   132721    0.009    0.000    0.009    0.000 {method 'items' of 'dict' objects}\n",
      "    44268    0.009    0.000    0.024    0.000 lax.py:2158(<genexpr>)\n",
      "    85764    0.009    0.000    0.009    0.000 {method '__exit__' of '_thread.RLock' objects}\n",
      "     7992    0.009    0.000    0.336    0.000 lax.py:2098(_add_arrays)\n",
      "     7992    0.009    0.000    0.044    0.000 lax.py:6371(_const)\n",
      "    61647    0.009    0.000    0.009    0.000 {built-in method sys.exc_info}\n",
      "       59    0.009    0.000    0.045    0.001 partial_eval.py:1714(_const_folding_and_forwarding)\n",
      "     4380    0.009    0.000    0.009    0.000 {method 'astype' of 'numpy.ndarray' objects}\n",
      "    84568    0.009    0.000    0.009    0.000 core.py:205(<lambda>)\n",
      "    25474    0.009    0.000    0.183    0.000 core.py:1389(valid_jaxtype)\n",
      "    64181    0.009    0.000    0.009    0.000 xla_metadata.py:30(current_xla_metadata)\n",
      "    81968    0.009    0.000    0.009    0.000 pjit.py:321(_get_cpp_global_cache)\n",
      "    15984    0.009    0.000    0.299    0.000 ad.py:786(<genexpr>)\n",
      "    57550    0.009    0.000    0.009    0.000 ad.py:361(get_primitive_transpose)\n",
      "     7992    0.008    0.000    0.290    0.000 lax.py:3024(_convert_element_type_jvp_rule)\n",
      "     6770    0.008    0.000    0.017    0.000 partial_eval.py:1881(makevar)\n",
      "      222    0.008    0.000    0.016    0.000 partial_eval.py:1590(make_jaxpr_effects)\n",
      "    11836    0.008    0.000    0.014    0.000 utils.py:97(_standard_weak_type_rule)\n",
      "     8345    0.008    0.000    0.217    0.000 dtypes.py:537(_dtype_and_weaktype)\n",
      "     2394    0.008    0.000    0.018    0.000 lax.py:3287(<genexpr>)\n",
      "    16512    0.008    0.000    0.012    0.000 source_info_util.py:119(__getitem__)\n",
      "    31716    0.008    0.000    0.019    0.000 lax.py:6330(<genexpr>)\n",
      "    93561    0.008    0.000    0.008    0.000 util.py:289(_ignore)\n",
      "   141908    0.008    0.000    0.008    0.000 {method 'extend' of 'list' objects}\n",
      "    41109    0.008    0.000    0.008    0.000 pjit.py:2199(<listcomp>)\n",
      "      222    0.008    0.000    0.008    0.000 partial_eval.py:1593(<dictcomp>)\n",
      "     8097    0.007    0.000    1.003    0.000 ad.py:775(<listcomp>)\n",
      "    24354    0.007    0.000    0.402    0.000 ad.py:791(add_tangents)\n",
      "     7430    0.007    0.000    0.355    0.000 partial_eval.py:1891(process_primitive)\n",
      "       29    0.007    0.000    0.007    0.000 {built-in method jaxlib.mlir._mlir_libs._stablehlo.register_dialect}\n",
      "     8782    0.007    0.000    0.008    0.000 typing.py:1695(__hash__)\n",
      "15992/8000    0.007    0.000    1.379    0.000 lax.py:403(integer_pow)\n",
      "    41117    0.007    0.000    0.007    0.000 linear_util.py:93(store)\n",
      "24104/16112    0.007    0.000    0.012    0.000 core.py:1449(to_concrete_value)\n",
      "    15833    0.007    0.000    0.052    0.000 partial_eval.py:1827(to_jaxpr_tracer)\n",
      "    41979    0.007    0.000    0.007    0.000 core.py:1035(is_top_level)\n",
      "    21158    0.007    0.000    0.010    0.000 partial_eval.py:1779(lit)\n",
      "     8604    0.007    0.000    0.010    0.000 core.py:180(jaxprs_in_params)\n",
      "    16512    0.007    0.000    0.021    0.000 partial_eval.py:226(<listcomp>)\n",
      "     2766    0.007    0.000    0.019    0.000 mlir.py:462(_traceback_to_location)\n",
      "       58    0.007    0.000    0.007    0.000 {built-in method jaxlib.mlir._mlir_libs._mlir.ir.write_bytecode}\n",
      "   318/29    0.007    0.000    0.007    0.000 compiler.py:76(_walk_operations)\n",
      "    61647    0.007    0.000    0.007    0.000 xla_metadata.py:45(<genexpr>)\n",
      "      368    0.007    0.000    0.031    0.000 twodim_base.py:485(triu)\n",
      "    61647    0.007    0.000    0.007    0.000 xla_metadata.py:52(<genexpr>)\n",
      "    41109    0.007    0.000    0.007    0.000 pjit.py:2213(<listcomp>)\n",
      "     9186    0.006    0.000    0.010    0.000 lax.py:4240(_broadcast_in_dim_fwd_rule)\n",
      "    61659    0.006    0.000    0.006    0.000 {method 'update' of 'dict' objects}\n",
      "     2394    0.006    0.000    0.013    0.000 lax.py:3294(<genexpr>)\n",
      "     7684    0.006    0.000    0.011    0.000 partial_eval.py:1784(<lambda>)\n",
      "      870    0.006    0.000    0.017    0.000 partial_eval.py:2544(inline_jaxpr_into_trace)\n",
      "    16118    0.006    0.000    0.012    0.000 {built-in method _functools.reduce}\n",
      "      210    0.006    0.000    0.011    0.000 lax.py:4325(_broadcast_in_dim_abstract_eval)\n",
      "       59    0.006    0.000    0.009    0.000 partial_eval.py:1796(<setcomp>)\n",
      "    16061    0.006    0.000    0.007    0.000 numeric.py:1855(isscalar)\n",
      "    61647    0.006    0.000    0.006    0.000 compute_on.py:35(<lambda>)\n",
      "     3079    0.006    0.000    0.010    0.000 ipkernel.py:790(<setcomp>)\n",
      "       59    0.006    0.000    0.069    0.001 partial_eval.py:1767(_inline_literals)\n",
      "    10850    0.006    0.000    0.006    0.000 {built-in method numpy.array}\n",
      "      210    0.006    0.000    0.044    0.000 pjit.py:1942(_pjit_lowering)\n",
      "    49151    0.006    0.000    0.006    0.000 ad.py:358(<lambda>)\n",
      "    58496    0.006    0.000    0.006    0.000 {method 'pop' of 'dict' objects}\n",
      "    17598    0.005    0.000    0.024    0.000 core.py:1548(__ne__)\n",
      "     1472    0.005    0.000    0.005    0.000 {method '__array_prepare__' of 'numpy.ndarray' objects}\n",
      "    10098    0.005    0.000    0.010    0.000 partial_eval.py:1690(newvar)\n",
      "    15188    0.005    0.000    0.016    0.000 partial_eval.py:1787(<lambda>)\n",
      "    21144    0.005    0.000    0.007    0.000 lax.py:6336(<genexpr>)\n",
      "     3079    0.005    0.000    0.006    0.000 threading.py:1501(enumerate)\n",
      "    15130    0.005    0.000    0.007    0.000 partial_eval.py:1875(getvar)\n",
      "       29    0.005    0.000    0.005    0.000 {built-in method jaxlib.mlir._mlir_libs._mlir.ir.verify}\n",
      "     3825    0.005    0.000    0.043    0.000 partial_eval.py:1846(new_const)\n",
      "     8782    0.005    0.000    0.013    0.000 typing.py:373(inner)\n",
      "     8000    0.005    0.000    0.005    0.000 dtypes.py:231(to_numeric_dtype)\n",
      "        1    0.005    0.005  110.603  110.603 algorithm.py:251(gd)\n",
      "    41117    0.005    0.000    0.005    0.000 linear_util.py:90(__init__)\n",
      "    16112    0.005    0.000    0.016    0.000 core.py:1446(is_concrete)\n",
      "    41109    0.005    0.000    0.005    0.000 pjit.py:2162(<genexpr>)\n",
      "    83/29    0.005    0.000    0.273    0.009 mlir.py:1331(lower_jaxpr_to_fun)\n",
      "     8000    0.005    0.000    1.107    0.000 util.py:112(<listcomp>)\n",
      "    52713    0.005    0.000    0.005    0.000 core.py:109(eqns)\n",
      "    17817    0.005    0.000    0.006    0.000 source_info_util.py:122(__len__)\n",
      "     7992    0.005    0.000    0.341    0.000 ad_util.py:39(add_impl)\n",
      "    18627    0.005    0.000    0.017    0.000 partial_eval.py:1785(<lambda>)\n",
      "      798    0.005    0.000    0.048    0.000 lax.py:3281(_dot_general_shape_rule)\n",
      "     8782    0.004    0.000    0.018    0.000 typing.py:1397(__or__)\n",
      "     1596    0.004    0.000    0.005    0.000 lax.py:3400(tuple_delete)\n",
      "     7234    0.004    0.000    0.016    0.000 core.py:1688(update)\n",
      "    41069    0.004    0.000    0.004    0.000 pjit.py:2061(<genexpr>)\n",
      "      736    0.004    0.000    0.019    0.000 twodim_base.py:158(eye)\n",
      "     6384    0.004    0.000    0.013    0.000 fromnumeric.py:71(_wrapreduction)\n",
      "     1290    0.004    0.000    0.049    0.000 pjit.py:1805(pjit_staging_rule)\n",
      "    42037    0.004    0.000    0.004    0.000 pjit.py:250(_need_to_rebuild_with_fdo)\n",
      "    61647    0.004    0.000    0.004    0.000 contextlib.py:555(__enter__)\n",
      "    16480    0.004    0.000    0.221    0.000 dtypes.py:767(<genexpr>)\n",
      "    16268    0.004    0.000    0.006    0.000 partial_eval.py:1719(apply_var_sub)\n",
      "     3294    0.004    0.000    0.004    0.000 {built-in method jaxlib.mlir._mlir_libs._mlir.ir.name}\n",
      "    56170    0.004    0.000    0.004    0.000 {method 'values' of 'dict' objects}\n",
      "    61647    0.004    0.000    0.004    0.000 {method 'copy' of 'dict' objects}\n",
      "     6863    0.004    0.000    0.008    0.000 core.py:3052(clean_up_dead_vars)\n",
      "    24632    0.004    0.000    0.004    0.000 threading.py:1168(ident)\n",
      "     2579    0.004    0.000    0.010    0.000 partial_eval.py:1859(_new_const)\n",
      "    21988    0.004    0.000    0.004    0.000 core.py:541(check_avals_context_mesh)\n",
      "        1    0.004    0.004    7.838    7.838 ad.py:228(unbound_vjp)\n",
      "    36193    0.004    0.000    0.004    0.000 utils.py:47(_get_array_abstraction_level)\n",
      "     6553    0.004    0.000    0.006    0.000 _ods_common.py:90(get_op_result_or_value)\n",
      "     9522    0.004    0.000    0.006    0.000 lax.py:2178(broadcasting_shape_rule)\n",
      "       29    0.004    0.000    0.004    0.000 compiler.py:112(get_compile_options)\n",
      "     8265    0.004    0.000    0.395    0.000 ad_util.py:33(add_jaxvals)\n",
      "    33380    0.004    0.000    0.004    0.000 dtypes.py:539(<genexpr>)\n",
      "     16/1    0.004    0.000   18.752   18.752 partial_eval.py:611(_trace_to_subjaxpr_nounits)\n",
      "       29    0.004    0.000    0.004    0.000 {built-in method jaxlib.mlir._mlir_libs._chlo.register_dialect}\n",
      "     7865    0.004    0.000    0.009    0.000 partial_eval.py:1723(<listcomp>)\n",
      "    54382    0.004    0.000    0.004    0.000 {method 'keys' of 'dict' objects}\n",
      "      765    0.004    0.000    0.004    0.000 {built-in method numpy.arange}\n",
      "      602    0.004    0.000    0.004    0.000 {built-in method importlib._bootstrap.get}\n",
      "     2766    0.004    0.000    0.029    0.000 mlir.py:503(_source_info_to_location)\n",
      "      435    0.003    0.000    0.019    0.000 lax.py:2941(_compare_lower_hlo)\n",
      "       29    0.003    0.000    0.003    0.000 {built-in method jaxlib.mlir._mlir_libs._sdy.register_dialect}\n",
      "     1596    0.003    0.000    0.013    0.000 lax.py:3414(type_properties)\n",
      "    10968    0.003    0.000    0.003    0.000 partial_eval.py:1529(__init__)\n",
      "     9951    0.003    0.000    0.004    0.000 pjit.py:1862(<listcomp>)\n",
      "     7992    0.003    0.000    0.240    0.000 lax.py:443(add)\n",
      "       45    0.003    0.000   83.460    1.855 optimization.py:98(lineobjf_isom_geodesic)\n",
      "      414    0.003    0.000    0.119    0.000 einsumfunc.py:1009(einsum)\n",
      "     9147    0.003    0.000    0.005    0.000 utils.py:31(_input_dtype)\n",
      "     8000    0.003    0.000    1.674    0.000 {built-in method builtins.abs}\n",
      "     2670    0.003    0.000    0.003    0.000 {built-in method jaxlib.mlir._mlir_libs._mlir.ir.get}\n",
      "     1080    0.003    0.000    0.009    0.000 lax.py:3033(_convert_elt_type_folding_rule)\n",
      "     6384    0.003    0.000    0.016    0.000 fromnumeric.py:2421(all)\n",
      "     6863    0.003    0.000    0.004    0.000 core.py:3055(<setcomp>)\n",
      "     2670    0.003    0.000    0.017    0.000 mlir.py:210(_array_ir_types)\n",
      "     6560    0.003    0.000    0.005    0.000 partial_eval.py:1907(<listcomp>)\n",
      "     6384    0.003    0.000    0.003    0.000 fromnumeric.py:72(<dictcomp>)\n",
      "    15900    0.003    0.000    0.004    0.000 mlir.py:454(_is_user_file)\n",
      "    23672    0.003    0.000    0.003    0.000 utils.py:98(<genexpr>)\n",
      "     6538    0.003    0.000    0.012    0.000 mlir.py:1814(read)\n",
      "     3659    0.003    0.000    0.004    0.000 core.py:406(__init__)\n",
      "        1    0.003    0.003   83.469   83.469 _cobyla_py.py:189(_minimize_cobyla)\n",
      "     8000    0.003    0.000    0.179    0.000 util.py:160(check_no_float0s)\n",
      "       29    0.003    0.000    0.416    0.014 pxla.py:2176(lower_sharding_computation)\n",
      "     1104    0.003    0.000    0.005    0.000 linalg.py:159(_commonType)\n",
      "     2768    0.003    0.000    0.007    0.000 mlir.py:196(dtype_to_ir_type)\n",
      "      113    0.003    0.000    0.003    0.000 core.py:3042(last_used)\n",
      "     6785    0.003    0.000    0.018    0.000 partial_eval.py:1807(<listcomp>)\n",
      "       59    0.003    0.000    0.007    0.000 partial_eval.py:1776(<dictcomp>)\n",
      "     6158    0.003    0.000    0.003    0.000 __init__.py:96(_xla_gc_callback)\n",
      "     5825    0.002    0.000    0.003    0.000 mlir.py:867(flatten_ir_values)\n",
      "     7992    0.002    0.000    0.005    0.000 ad.py:536(to_concrete_value)\n",
      "      210    0.002    0.000    0.006    0.000 mlir.py:2306(reshape)\n",
      "     6785    0.002    0.000    0.015    0.000 partial_eval.py:1808(<listcomp>)\n",
      "       83    0.002    0.000    0.004    0.000 func.py:95(add_entry_block)\n",
      "      512    0.002    0.000    0.008    0.000 _stablehlo_ops_gen.py:79(add)\n",
      "       29    0.002    0.000    1.609    0.055 pxla.py:2863(from_hlo)\n",
      "     3045    0.002    0.000    0.002    0.000 _ods_common.py:78(get_default_loc_context)\n",
      "     4788    0.002    0.000    0.003    0.000 _finfo.py:703(__new__)\n",
      "       29    0.002    0.000    0.376    0.013 mlir.py:1059(lower_jaxpr_to_module)\n",
      "       29    0.002    0.000    0.012    0.000 partial_eval.py:1402(_dce_jaxpr)\n",
      "      301    0.002    0.000    0.017    0.000 lax.py:3764(_dot_general_lower)\n",
      "       29    0.002    0.000    0.002    0.000 {method '__reduce_ex__' of 'object' objects}\n",
      "     2824    0.002    0.000    0.003    0.000 source_info_util.py:131(__str__)\n",
      "     8929    0.002    0.000    0.003    0.000 core.py:515(read)\n",
      "     9522    0.002    0.000    0.002    0.000 lax.py:2179(<listcomp>)\n",
      "       29    0.002    0.000    0.012    0.000 pxla.py:1279(__call__)\n",
      "     2944    0.002    0.000    0.002    0.000 linalg.py:140(isComplexType)\n",
      "      528    0.002    0.000    0.002    0.000 source_info_util.py:173(raw_frame_to_frame)\n",
      "       28    0.002    0.000    0.007    0.000 array.py:1134(_array_shard_arg)\n",
      "      128    0.002    0.000    0.125    0.001 lax_numpy.py:11834(_attempt_rewriting_take_via_slice)\n",
      "    10035    0.002    0.000    0.003    0.000 core.py:1699(<lambda>)\n",
      "     9951    0.002    0.000    0.002    0.000 pjit.py:1867(<listcomp>)\n",
      "     1290    0.002    0.000    0.007    0.000 lax.py:6344(_check_shapelike)\n",
      "     7234    0.002    0.000    0.018    0.000 core.py:1572(update_weak_type)\n",
      "     9951    0.002    0.000    0.002    0.000 pjit.py:1866(<listcomp>)\n",
      "     2635    0.002    0.000    0.003    0.000 layout.py:47(from_pjrt_layout)\n",
      "      382    0.002    0.000    0.008    0.000 lax.py:5076(_select_hlo_lowering)\n",
      "     7865    0.002    0.000    0.002    0.000 partial_eval.py:1651(add_eqn)\n",
      "      196    0.002    0.000    0.034    0.000 lax.py:3454(_dot_general_transpose_lhs)\n",
      "     8669    0.002    0.000    0.007    0.000 mlir.py:1826(aval)\n",
      "        1    0.002    0.002    0.002    0.002 optimization.py:28(tangent_proj)\n",
      "      915    0.002    0.000    0.005    0.000 lax.py:4696(_compute_squeeze_shape)\n",
      "      413    0.002    0.000    0.002    0.000 {built-in method builtins.min}\n",
      "       31    0.002    0.000    0.002    0.000 tree_util.py:88(tree_leaves)\n",
      "       29    0.002    0.000    0.002    0.000 {built-in method jaxlib.mlir._mlir_libs._mlir.passmanager.parse}\n",
      "      330    0.002    0.000    0.010    0.000 lax.py:2306(_nary_lower_hlo)\n",
      "    15188    0.002    0.000    0.002    0.000 partial_eval.py:1791(vars_in_shape)\n",
      "     9986    0.002    0.000    0.003    0.000 core.py:2017(<genexpr>)\n",
      "     8661    0.002    0.000    0.002    0.000 pjit.py:1873(<listcomp>)\n",
      "       59    0.002    0.000    0.118    0.002 partial_eval.py:1654(to_jaxpr)\n",
      "       29    0.002    0.000    0.002    0.000 {built-in method jaxlib.mlir._mlir_libs._mlir.passmanager.run}\n",
      "      798    0.002    0.000    0.007    0.000 lax.py:3346(_dot_general_shape_computation)\n",
      "      717    0.002    0.000    0.011    0.000 core.py:190(subjaxprs)\n",
      "       29    0.002    0.000    0.002    0.000 copy.py:259(_reconstruct)\n",
      "     3045    0.002    0.000    0.002    0.000 {slot wrapper '__init__' of 'object' objects}\n",
      "      893    0.002    0.000    0.004    0.000 dtypes.py:306(_scalar_type_to_dtype)\n",
      "     2871    0.002    0.000    0.002    0.000 mlir.py:2025(<lambda>)\n",
      "     8564    0.002    0.000    0.003    0.000 mlir.py:1904(<genexpr>)\n",
      "       58    0.002    0.000    0.002    0.000 pxla.py:2814(<listcomp>)\n",
      "        9    0.002    0.000    0.012    0.001 ufuncs.py:3266(conj)\n",
      "     3352    0.001    0.000    0.002    0.000 mlir.py:1296(__init__)\n",
      "     9951    0.001    0.000    0.001    0.000 pjit.py:1864(<listcomp>)\n",
      "     6259    0.001    0.000    0.002    0.000 partial_eval.py:1411(write)\n",
      "      525    0.001    0.000    0.005    0.000 slicing.py:1379(_dynamic_slice_shape_rule)\n",
      "     6560    0.001    0.000    0.001    0.000 partial_eval.py:1900(<listcomp>)\n",
      "     2871    0.001    0.000    0.002    0.000 mlir.py:2029(<lambda>)\n",
      "   191/57    0.001    0.000   19.745    0.346 profiler.py:330(wrapper)\n",
      "     2766    0.001    0.000    0.003    0.000 mlir.py:1317(subset)\n",
      "      392    0.001    0.000    0.001    0.000 {method 'argsort' of 'numpy.ndarray' objects}\n",
      "     5532    0.001    0.000    0.001    0.000 mlir.py:1937(_platforms_for_eqn_ctx)\n",
      "     1526    0.001    0.000    0.004    0.000 abstract_arrays.py:61(_make_shaped_array_for_numpy_array)\n",
      "       29    0.001    0.000    0.003    0.000 pxla.py:2621(_get_layouts_from_executable)\n",
      "     1801    0.001    0.000    0.001    0.000 getlimits.py:685(__init__)\n",
      "     7992    0.001    0.000    0.001    0.000 dtypes.py:731(is_python_scalar)\n",
      "       29    0.001    0.000    0.001    0.000 {built-in method jaxlib.mlir._mlir_libs._mlir.ir.clone}\n",
      "     6689    0.001    0.000    0.002    0.000 mlir.py:150(_is_ir_values)\n",
      "      390    0.001    0.000    0.006    0.000 slicing.py:1234(_slice_shape_rule)\n",
      "       29    0.001    0.000    0.001    0.000 {built-in method jaxlib.mlir._mlir_libs._mlir.ir.create}\n",
      "      105    0.001    0.000    0.087    0.001 slicing.py:3027(_dynamic_slice_indices)\n",
      "      915    0.001    0.000    0.006    0.000 lax.py:4687(_squeeze_shape_rule)\n",
      "     8661    0.001    0.000    0.001    0.000 pjit.py:1877(<listcomp>)\n",
      "      210    0.001    0.000    0.001    0.000 func.py:85(name)\n",
      "       29    0.001    0.000    0.007    0.000 pjit.py:1472(_resolve_in_layouts)\n",
      "       83    0.001    0.000    0.001    0.000 {built-in method jaxlib.mlir._mlir_libs._mlir.ir.insert}\n",
      "     1318    0.001    0.000    0.004    0.000 array.py:538(layout)\n",
      "     3186    0.001    0.000    0.001    0.000 {built-in method numpy.asarray}\n",
      "     4270    0.001    0.000    0.006    0.000 core.py:2015(is_constant_shape)\n",
      "      368    0.001    0.000    0.024    0.000 twodim_base.py:366(tri)\n",
      "      945    0.001    0.000    0.007    0.000 lax.py:4969(_select_dtype_rule)\n",
      "     6260    0.001    0.000    0.002    0.000 core.py:2004(is_constant_dim)\n",
      "     7744    0.001    0.000    0.002    0.000 partial_eval.py:2425(_substitute_vars_in_type)\n",
      "       29    0.001    0.000    0.006    0.000 dispatch.py:228(get_intermediate_shardings)\n",
      "     4277    0.001    0.000    0.001    0.000 core.py:518(write)\n",
      "       29    0.001    0.000    0.086    0.003 mlir.py:599(make_ir_context)\n",
      "       29    0.001    0.000    0.003    0.000 pjit.py:1532(_resolve_in_shardings)\n",
      "     3664    0.001    0.000    0.001    0.000 mlir.py:1832(write)\n",
      "     8241    0.001    0.000    0.002    0.000 partial_eval.py:1408(read)\n",
      "      798    0.001    0.000    0.015    0.000 lax.py:3405(_dot_general_dtype_rule)\n",
      "     1104    0.001    0.000    0.004    0.000 linalg.py:135(_makearray)\n",
      "     3285    0.001    0.000    0.001    0.000 lax.py:6366(<genexpr>)\n",
      "      210    0.001    0.000    0.003    0.000 pjit.py:2411(dce_jaxpr_pjit_rule)\n",
      "     2880    0.001    0.000    0.002    0.000 core.py:1516(physical_aval)\n",
      "     8682    0.001    0.000    0.001    0.000 lax.py:2995(_convert_element_type_shape_rule)\n",
      "      736    0.001    0.000    0.002    0.000 twodim_base.py:33(_min_int)\n",
      "       29    0.001    0.000    0.089    0.003 mlir.py:723(__init__)\n",
      "      210    0.001    0.000    0.004    0.000 lax.py:4113(_broadcast_in_dim_shape_rule)\n",
      "       29    0.001    0.000    0.379    0.013 pxla.py:1888(_cached_lowering_to_hlo)\n",
      "        8    0.001    0.000    0.002    0.000 slicing.py:1356(_slice_impl)\n",
      "       83    0.001    0.000    0.001    0.000 func.py:77(type)\n",
      "       29    0.001    0.000    0.002    0.000 pxla.py:2056(get_out_layouts_via_propagation)\n",
      "     2635    0.001    0.000    0.001    0.000 layout.py:40(__init__)\n",
      "     2795    0.001    0.000    0.001    0.000 effects.py:100(filter_in)\n",
      "     1667    0.001    0.000    0.003    0.000 mlir.py:182(<lambda>)\n",
      "      870    0.001    0.000    0.001    0.000 partial_eval.py:2565(new_tracer)\n",
      "     1526    0.001    0.000    0.001    0.000 mlir.py:1771(__init__)\n",
      "       29    0.001    0.000    0.005    0.000 pxla.py:2958(<listcomp>)\n",
      "      749    0.001    0.000    0.002    0.000 partial_eval.py:1839(new_arg)\n",
      "      765    0.001    0.000    0.003    0.000 mlir.py:2288(multi_broadcast_in_dim)\n",
      "      688    0.001    0.000    0.001    0.000 sharding_impls.py:961(get_replicated)\n",
      "      210    0.001    0.000    0.027    0.000 pjit.py:1911(_pjit_cached_lower_jaxpr_to_fun)\n",
      "     5698    0.001    0.000    0.001    0.000 source_info_util.py:89(wrap)\n",
      "       45    0.001    0.000   83.461    1.855 _differentiable_functions.py:16(wrapped)\n",
      "     1644    0.001    0.000    0.001    0.000 getlimits.py:709(max)\n",
      "       29    0.001    0.000    0.010    0.000 pxla.py:125(shard_args)\n",
      "       29    0.001    0.000    0.001    0.000 cache_key.py:223(_hash_accelerator_config)\n",
      "      528    0.001    0.000    0.001    0.000 {built-in method jaxlib.mlir._mlir_libs._mlir.ir.file}\n",
      "     1428    0.001    0.000    0.003    0.000 mlir.py:1787(__eq__)\n",
      "      512    0.001    0.000    0.001    0.000 _stablehlo_ops_gen.py:75(result)\n",
      "     1318    0.001    0.000    0.001    0.000 layout.py:100(__init__)\n",
      "     3808    0.001    0.000    0.001    0.000 sharding_impls.py:466(memory_kind)\n",
      "     2670    0.001    0.000    0.018    0.000 mlir.py:223(aval_to_ir_type)\n",
      "     1644    0.001    0.000    0.001    0.000 getlimits.py:696(min)\n",
      "     4655    0.001    0.000    0.013    0.000 core.py:1336(strip_weak_type)\n",
      "       29    0.001    0.000    0.001    0.000 {built-in method jaxlib.mlir._mlir_libs._mlir.ir.append_dialect_registry}\n",
      "      435    0.001    0.000    0.005    0.000 _stablehlo_ops_gen.py:1094(__init__)\n",
      "     1472    0.001    0.000    0.001    0.000 linalg.py:130(get_linalg_error_extobj)\n",
      "     1596    0.001    0.000    0.003    0.000 lax.py:3435(_bit_width)\n",
      "     2478    0.001    0.000    0.001    0.000 partial_eval.py:1444(_default_dce_rule)\n",
      "        1    0.001    0.001  110.604  110.604 3237540815.py:6(compute_new_x)\n",
      "      435    0.001    0.000    0.006    0.000 _stablehlo_ops_gen.py:1148(compare)\n",
      "     1104    0.001    0.000    0.001    0.000 linalg.py:153(_realType)\n",
      "     2242    0.001    0.000    0.002    0.000 core.py:1304(definitely_equal)\n",
      "       29    0.001    0.000    0.001    0.000 {built-in method _hashlib.openssl_sha256}\n",
      "     8682    0.001    0.000    0.001    0.000 lax.py:3007(_convert_element_type_weak_type_rule)\n",
      "      368    0.001    0.000    0.001    0.000 linalg.py:184(_to_native_byte_order)\n",
      "     2871    0.001    0.000    0.001    0.000 mlir.py:2240(wrap_xla_metadata_in_place)\n",
      "     1288    0.001    0.000    0.002    0.000 sharding_impls.py:445(__hash__)\n",
      "      266    0.001    0.000    0.008    0.000 mlir.py:2259(broadcast_in_dim)\n",
      "     2100    0.001    0.000    0.002    0.000 slicing.py:1410(<genexpr>)\n",
      "      659    0.001    0.000    0.001    0.000 array.py:1183(_array_global_result_handler)\n",
      "     1526    0.001    0.000    0.005    0.000 core.py:1422(abstractify)\n",
      "       45    0.001    0.000    0.003    0.000 numeric.py:2378(array_equal)\n",
      "      326    0.001    0.000    0.001    0.000 core.py:121(__init__)\n",
      "     1305    0.001    0.000    0.001    0.000 partial_eval.py:2557(<listcomp>)\n",
      "     5041    0.001    0.000    0.001    0.000 mlir.py:901(len_ir_types)\n",
      "      512    0.001    0.000    0.005    0.000 _stablehlo_ops_gen.py:56(__init__)\n",
      "     1095    0.001    0.000    0.001    0.000 warnings.py:182(_add_filter)\n",
      "      382    0.001    0.000    0.005    0.000 _stablehlo_ops_gen.py:4582(__init__)\n",
      "     1344    0.001    0.000    0.001    0.000 op_shardings.py:48(is_op_sharding_replicated)\n",
      "     1596    0.001    0.000    0.001    0.000 lax.py:3105(_real_dtype)\n",
      "      945    0.001    0.000    0.001    0.000 lax.py:4945(_select_shape_rule)\n",
      "      435    0.001    0.000    0.014    0.000 mlir.py:2435(compare_hlo)\n",
      "     1095    0.001    0.000    0.001    0.000 warnings.py:467(__enter__)\n",
      "      588    0.001    0.000    0.003    0.000 fromnumeric.py:40(_wrapit)\n",
      "       59    0.001    0.000    0.898    0.015 partial_eval.py:2172(trace_to_jaxpr_dynamic)\n",
      "       59    0.001    0.000    0.001    0.000 partial_eval.py:1774(<listcomp>)\n",
      "     8682    0.001    0.000    0.001    0.000 lax.py:3003(_convert_element_type_dtype_rule)\n",
      "      413    0.001    0.000    0.005    0.000 {method 'all' of 'numpy.ndarray' objects}\n",
      "      301    0.001    0.000    0.004    0.000 _stablehlo_ops_gen.py:1887(__init__)\n",
      "     3347    0.001    0.000    0.001    0.000 mlir.py:2233(wrap_compute_type_in_place)\n",
      "      658    0.001    0.000    0.002    0.000 sharding_impls.py:900(__eq__)\n",
      "      525    0.001    0.000    0.001    0.000 lax.py:215(_merge_dyn_shape)\n",
      "     6384    0.001    0.000    0.001    0.000 fromnumeric.py:2416(_all_dispatcher)\n",
      "     3645    0.001    0.000    0.001    0.000 {method 'item' of 'numpy.ndarray' objects}\n",
      "      786    0.001    0.000    0.001    0.000 api_util.py:51(_ensure_index_tuple)\n",
      "     8818    0.001    0.000    0.001    0.000 typing.py:2287(cast)\n",
      "       98    0.001    0.000    0.003    0.000 mlir.py:277(_numpy_array_constant)\n",
      "     1050    0.001    0.000    0.001    0.000 pjit.py:2420(keep_where)\n",
      "     2658    0.001    0.000    0.001    0.000 dispatch.py:298(_eqn_replicas)\n",
      "       29    0.001    0.000    1.577    0.054 compiler.py:333(compile_or_get_cached)\n",
      "       29    0.001    0.000    0.010    0.000 cache_key.py:210(_hash_computation)\n",
      "       16    0.001    0.000    0.214    0.013 pjit.py:543(_infer_params_impl)\n",
      "      105    0.001    0.000    0.007    0.000 lax.py:1913(expand_dims)\n",
      "     4808    0.001    0.000    0.001    0.000 {built-in method builtins.issubclass}\n",
      "      382    0.001    0.000    0.006    0.000 _stablehlo_ops_gen.py:4610(select)\n",
      "      382    0.001    0.000    0.001    0.000 _stablehlo_ops_gen.py:4606(result)\n",
      "     2438    0.001    0.000    0.001    0.000 einsumfunc.py:1001(_einsum_dispatcher)\n",
      "     2871    0.001    0.000    0.001    0.000 mlir.py:93(_is_not_block_argument)\n",
      "     1274    0.001    0.000    0.001    0.000 sharding_impls.py:450(__eq__)\n",
      "      420    0.001    0.000    0.018    0.000 slicing.py:1474(_dynamic_slice_staging_rule)\n",
      "      586    0.001    0.000    0.001    0.000 pxla.py:1846(__hash__)\n",
      "      299    0.001    0.000    0.001    0.000 {built-in method jaxlib.mlir._mlir_libs._mlir.ir.callsite}\n",
      "       58    0.001    0.000    0.001    0.000 {built-in method jaxlib.mlir._mlir_libs._mlir.ir.unknown}\n",
      "       59    0.001    0.000    0.001    0.000 partial_eval.py:1822(invalidate)\n",
      "       59    0.001    0.000    0.002    0.000 partial_eval.py:1802(<listcomp>)\n",
      "     7865    0.001    0.000    0.001    0.000 partial_eval.py:1725(<genexpr>)\n",
      "     1104    0.001    0.000    0.001    0.000 linalg.py:203(_assert_stacked_2d)\n",
      "      105    0.001    0.000    0.004    0.000 slicing.py:1520(_dynamic_slice_lower)\n",
      "       30    0.001    0.000    0.002    0.000 mlir.py:2409(iota)\n",
      "      301    0.001    0.000    0.004    0.000 _stablehlo_ops_gen.py:1963(dot_general)\n",
      "       58    0.001    0.000    0.001    0.000 {built-in method numpy.frompyfunc}\n",
      "      196    0.001    0.000    0.024    0.000 lax.py:1129(dot_general)\n",
      "      196    0.001    0.000    0.001    0.000 {method 'take' of 'numpy.ndarray' objects}\n",
      "       29    0.001    0.000    0.012    0.000 pxla.py:2665(create_compile_options)\n",
      "     2931    0.001    0.000    0.001    0.000 {method 'join' of 'str' objects}\n",
      "       29    0.001    0.000    0.002    0.000 pxla.py:2735(_maybe_get_and_check_in_shardings)\n",
      "     1830    0.001    0.000    0.001    0.000 lax.py:4702(<genexpr>)\n",
      "      945    0.001    0.000    0.001    0.000 lax.py:4979(_select_weak_type_rule)\n",
      "     2579    0.001    0.000    0.001    0.000 partial_eval.py:1867(_lift_tracers_in_aval)\n",
      "      233    0.001    0.000    0.009    0.000 lax.py:1905(squeeze)\n",
      "       29    0.001    0.000    0.004    0.000 pxla.py:1989(jaxpr_transfer_mem_kinds)\n",
      "       29    0.001    0.000    0.018    0.001 cache_key.py:74(get)\n",
      "      204    0.001    0.000    0.004    0.000 lax.py:1459(transpose)\n",
      "     1317    0.000    0.000    0.001    0.000 layout.py:65(__eq__)\n",
      "     1095    0.000    0.000    0.002    0.000 warnings.py:166(simplefilter)\n",
      "      266    0.000    0.000    0.003    0.000 _stablehlo_ops_gen.py:737(broadcast_in_dim)\n",
      "     1305    0.000    0.000    0.001    0.000 partial_eval.py:2556(<listcomp>)\n",
      "     3192    0.000    0.000    0.000    0.000 lax.py:3402(<genexpr>)\n",
      "      455    0.000    0.000    0.004    0.000 abstract_arrays.py:82(_make_concrete_python_scalar)\n",
      "      266    0.000    0.000    0.003    0.000 _stablehlo_ops_gen.py:708(__init__)\n",
      "     2100    0.000    0.000    0.001    0.000 slicing.py:1397(<genexpr>)\n",
      "     1095    0.000    0.000    0.000    0.000 {method 'remove' of 'list' objects}\n",
      "      376    0.000    0.000    0.001    0.000 mlir.py:877(flatten_ir_types)\n",
      "     1095    0.000    0.000    0.001    0.000 warnings.py:488(__exit__)\n",
      "     1290    0.000    0.000    0.001    0.000 pjit.py:1853(<listcomp>)\n",
      "       30    0.000    0.000    0.003    0.000 lax_numpy.py:5483(array)\n",
      "     2115    0.000    0.000    0.000    0.000 lax.py:4706(<genexpr>)\n",
      "       14    0.000    0.000    0.001    0.000 pxla.py:230(batched_device_put)\n",
      "      487    0.000    0.000    0.000    0.000 {built-in method numpy.asanyarray}\n",
      "      301    0.000    0.000    0.005    0.000 lax.py:3718(precision_attr)\n",
      "      588    0.000    0.000    0.003    0.000 fromnumeric.py:53(_wrapfunc)\n",
      "       59    0.000    0.000    0.002    0.000 partial_eval.py:1801(<listcomp>)\n",
      "      870    0.000    0.000    0.002    0.000 partial_eval.py:2570(<listcomp>)\n",
      "      525    0.000    0.000    0.003    0.000 slicing.py:1408(_dynamic_slice_dtype_rule)\n",
      "      105    0.000    0.000    0.004    0.000 slicing.py:1367(_slice_lower)\n",
      "      423    0.000    0.000    0.003    0.000 api_util.py:630(_python_scalar_abstractify)\n",
      "     5259    0.000    0.000    0.000    0.000 array.py:265(sharding)\n",
      "      478    0.000    0.000    0.001    0.000 pxla.py:1837(<listcomp>)\n",
      "      736    0.000    0.000    0.000    0.000 linalg.py:209(_assert_stacked_square)\n",
      "     2959    0.000    0.000    0.001    0.000 pxla.py:1847(<genexpr>)\n",
      "     1317    0.000    0.000    0.001    0.000 fromnumeric.py:3176(ndim)\n",
      "      301    0.000    0.000    0.005    0.000 lax.py:3726(<listcomp>)\n",
      "      210    0.000    0.000    0.016    0.000 lax.py:1247(broadcast_in_dim)\n",
      "     1596    0.000    0.000    0.001    0.000 getlimits.py:484(__new__)\n",
      "     2766    0.000    0.000    0.000    0.000 mlir.py:2009(<listcomp>)\n",
      "       15    0.000    0.000    0.295    0.020 partial_eval.py:931(_partial_eval_jaxpr_nounits)\n",
      "       29    0.000    0.000    0.004    0.000 dispatch.py:212(jaxpr_has_prim_requiring_devices)\n",
      "     2766    0.000    0.000    0.000    0.000 mlir.py:1849(get_override_lowering_rule)\n",
      "       44    0.000    0.000    0.002    0.000 _differentiable_functions.py:270(_update_x)\n",
      "       29    0.000    0.000    1.591    0.055 pxla.py:2711(_cached_compilation)\n",
      "       58    0.000    0.000    0.002    0.000 function_base.py:2443(_vectorize_call)\n",
      "     4097    0.000    0.000    0.000    0.000 core.py:494(get_bind_params)\n",
      "      525    0.000    0.000    0.001    0.000 utils.py:35(<lambda>)\n",
      "       83    0.000    0.000    0.001    0.000 mlir.py:1445(<listcomp>)\n",
      "     2610    0.000    0.000    0.000    0.000 pjit.py:1811(<genexpr>)\n",
      "      210    0.000    0.000    0.003    0.000 _func_ops_gen.py:64(__init__)\n",
      "       59    0.000    0.000    0.003    0.000 partial_eval.py:2405(_input_type_to_tracers)\n",
      "      503    0.000    0.000    0.002    0.000 _ods_common.py:112(get_op_results_or_values)\n",
      "     1830    0.000    0.000    0.000    0.000 lax.py:4700(<genexpr>)\n",
      "       29    0.000    0.000    0.005    0.000 mlir.py:1213(_set_up_aliases)\n",
      "      478    0.000    0.000    0.001    0.000 pxla.py:1835(__init__)\n",
      "       45    0.000    0.000   82.291    1.829 _differentiable_functions.py:323(fun)\n",
      "      503    0.000    0.000    0.002    0.000 _ods_common.py:130(<listcomp>)\n",
      "  833/832    0.000    0.000    0.001    0.000 core.py:1473(concrete_or_error)\n",
      "      105    0.000    0.000    0.023    0.000 slicing.py:1423(_dynamic_slice_transpose_rule)\n",
      "      658    0.000    0.000    0.001    0.000 op_shardings.py:56(are_op_shardings_equal)\n",
      "     1080    0.000    0.000    0.000    0.000 partial_eval.py:1730(<listcomp>)\n",
      "       29    0.000    0.000    0.005    0.000 cache_key.py:273(_hash_serialized_compile_options)\n",
      "       29    0.000    0.000    0.002    0.000 pxla.py:2779(_maybe_get_and_check_out_shardings)\n",
      "     2250    0.000    0.000    0.000    0.000 partial_eval.py:1728(<genexpr>)\n",
      "     3255    0.000    0.000    0.000    0.000 pjit.py:2421(<genexpr>)\n",
      "      210    0.000    0.000    0.002    0.000 _stablehlo_ops_gen.py:4127(reshape)\n",
      "     1624    0.000    0.000    0.001    0.000 mlir.py:1784(__hash__)\n",
      "       83    0.000    0.000    0.000    0.000 func.py:69(is_external)\n",
      "     2766    0.000    0.000    0.000    0.000 core.py:444(__repr__)\n",
      "      105    0.000    0.000    0.008    0.000 array_methods.py:188(_dot)\n",
      "       15    0.000    0.000    0.167    0.011 low_level_jit.py:187(contract_jax)\n",
      "      196    0.000    0.000    0.035    0.000 ad.py:806(bilinear_transpose)\n",
      "     3421    0.000    0.000    0.000    0.000 pxla.py:2069(write)\n",
      "      105    0.000    0.000    0.008    0.000 lax_numpy.py:2910(where)\n",
      "      365    0.000    0.000    0.004    0.000 core.py:2441(typematch)\n",
      "     1317    0.000    0.000    0.000    0.000 layout.py:61(__hash__)\n",
      "      293    0.000    0.000    0.001    0.000 mlir.py:912(<listcomp>)\n",
      "      106    0.000    0.000    0.010    0.000 lax.py:1227(broadcast)\n",
      "       29    0.000    0.000    2.051    0.071 pjit.py:1639(_pjit_call_impl_python)\n",
      "     1526    0.000    0.000    0.000    0.000 {method 'tobytes' of 'numpy.ndarray' objects}\n",
      "      392    0.000    0.000    0.000    0.000 lax.py:6409(remaining)\n",
      "      146    0.000    0.000    0.001    0.000 dispatch.py:172(log_elapsed_time)\n",
      "      361    0.000    0.000    0.000    0.000 util.py:188(concatenate)\n",
      "      413    0.000    0.000    0.004    0.000 _methods.py:61(_all)\n",
      "     1890    0.000    0.000    0.000    0.000 lax.py:4948(<genexpr>)\n",
      "       83    0.000    0.000    0.001    0.000 mlir.py:1456(<listcomp>)\n",
      "       29    0.000    0.000    0.013    0.000 partial_eval.py:1386(dce_jaxpr_consts)\n",
      "      756    0.000    0.000    0.001    0.000 xla.py:115(canonicalize_dtype)\n",
      "       83    0.000    0.000    0.001    0.000 mlir.py:1467(<listcomp>)\n",
      "       29    0.000    0.000    0.012    0.000 partial_eval.py:1366(dce_jaxpr)\n",
      "      180    0.000    0.000    0.000    0.000 {method 'reshape' of 'numpy.ndarray' objects}\n",
      "       46    0.000    0.000    0.000    0.000 {method 'copy' of 'numpy.ndarray' objects}\n",
      "     1095    0.000    0.000    0.000    0.000 warnings.py:441(__init__)\n",
      "       98    0.000    0.000    0.002    0.000 _stablehlo_ops_gen.py:1349(constant)\n",
      "       88    0.000    0.000    0.000    0.000 {built-in method jaxlib.mlir._mlir_libs._mlir.ir.get_signless}\n",
      "       45    0.000    0.000    0.001    0.000 _aliases.py:78(asarray)\n",
      "      784    0.000    0.000    0.000    0.000 lax.py:6401(ranges_like)\n",
      "       29    0.000    0.000    0.015    0.001 pxla.py:1769(_dce_jaxpr)\n",
      "      647    0.000    0.000    0.000    0.000 enum.py:193(__get__)\n",
      "     2795    0.000    0.000    0.000    0.000 effects.py:101(<listcomp>)\n",
      "      293    0.000    0.000    0.001    0.000 mlir.py:904(unflatten_ir_values_like_types)\n",
      "      210    0.000    0.000    0.002    0.000 _stablehlo_ops_gen.py:4112(__init__)\n",
      "       58    0.000    0.000    0.000    0.000 pxla.py:2589(maybe_recover_user_shardings)\n",
      "   116/29    0.000    0.000    0.004    0.000 copy.py:128(deepcopy)\n",
      "      106    0.000    0.000    0.017    0.000 lax.py:1721(full)\n",
      "       30    0.000    0.000    0.001    0.000 _stablehlo_ops_gen.py:3040(iota)\n",
      "       83    0.000    0.000    0.000    0.000 mlir.py:1492(<listcomp>)\n",
      "      667    0.000    0.000    0.000    0.000 sharding_impls.py:462(device_set)\n",
      "      136    0.000    0.000    0.010    0.000 ad.py:745(linear_jvp)\n",
      "     16/1    0.000    0.000   16.787   16.787 api_util.py:285(_argnums_partial)\n",
      "       58    0.000    0.000    0.000    0.000 function_base.py:2285(__init__)\n",
      "      703    0.000    0.000    0.001    0.000 pxla.py:1780(<genexpr>)\n",
      "      210    0.000    0.000    0.003    0.000 func.py:255(__init__)\n",
      "     2610    0.000    0.000    0.000    0.000 pjit.py:1813(<genexpr>)\n",
      "     2584    0.000    0.000    0.000    0.000 core.py:97(constvars)\n",
      "      105    0.000    0.000    0.003    0.000 mlir.py:2316(slice_op)\n",
      "       45    0.000    0.000   82.291    1.829 _cobyla_py.py:280(calcfc)\n",
      "      420    0.000    0.000    0.000    0.000 mlir.py:1314(effects)\n",
      "       83    0.000    0.000    0.002    0.000 func.py:38(__init__)\n",
      "      105    0.000    0.000    0.005    0.000 slicing.py:862(slice_in_dim)\n",
      "     1008    0.000    0.000    0.000    0.000 mlir.py:2280(<genexpr>)\n",
      "       29    0.000    0.000    1.557    0.054 compiler.py:644(_compile_and_write_cache)\n",
      "      870    0.000    0.000    0.000    0.000 lax.py:2113(<lambda>)\n",
      "     2766    0.000    0.000    0.000    0.000 mlir.py:1319(<genexpr>)\n",
      "     1317    0.000    0.000    0.004    0.000 mlir.py:1222(<lambda>)\n",
      "      667    0.000    0.000    0.001    0.000 sharding_impls.py:1599(is_single_device_sharding)\n",
      "       29    0.000    0.000    0.009    0.000 cache_key.py:198(_canonicalize_ir)\n",
      "      128    0.000    0.000    0.001    0.000 lax_numpy.py:11814(_is_valid_integer_index_for_slice)\n",
      "       29    0.000    0.000    0.000    0.000 pxla.py:2002(are_all_shardings_default_mem_kind)\n",
      "       59    0.000    0.000    0.000    0.000 partial_eval.py:1799(<setcomp>)\n",
      "     1740    0.000    0.000    0.000    0.000 pjit.py:1812(<genexpr>)\n",
      "     3659    0.000    0.000    0.000    0.000 partial_eval.py:1774(<genexpr>)\n",
      "      420    0.000    0.000    0.001    0.000 pjit.py:1906(_pjit_abstract_eval)\n",
      "      105    0.000    0.000    0.002    0.000 _stablehlo_ops_gen.py:4932(slice)\n",
      "       46    0.000    0.000   83.461    1.814 _differentiable_functions.py:293(_update_fun)\n",
      "      652    0.000    0.000    0.000    0.000 array.py:592(_check_if_deleted)\n",
      "       29    0.000    0.000    0.000    0.000 xla_bridge.py:1052(get_device_backend)\n",
      "     2661    0.000    0.000    0.000    0.000 sharding_impls.py:935(memory_kind)\n",
      "       29    0.000    0.000    0.001    0.000 pxla.py:2459(<listcomp>)\n",
      "     1596    0.000    0.000    0.000    0.000 lax.py:3337(<genexpr>)\n",
      "       90    0.000    0.000    0.002    0.000 lax.py:6118(_iota_abstract_eval)\n",
      "      105    0.000    0.000    0.009    0.000 slicing.py:937(index_in_dim)\n",
      "      113    0.000    0.000    0.000    0.000 source_info_util.py:105(extend)\n",
      "     2100    0.000    0.000    0.000    0.000 lax.py:221(<genexpr>)\n",
      "     2100    0.000    0.000    0.000    0.000 slicing.py:1393(<genexpr>)\n",
      "       83    0.000    0.000    0.002    0.000 _func_ops_gen.py:136(__init__)\n",
      "      105    0.000    0.000    0.093    0.001 slicing.py:112(dynamic_slice)\n",
      "      105    0.000    0.000    0.002    0.000 _stablehlo_ops_gen.py:2526(__init__)\n",
      "      658    0.000    0.000    0.001    0.000 sharding_impls.py:909(__hash__)\n",
      "      364    0.000    0.000    0.004    0.000 ad_util.py:44(add_abstract)\n",
      "       29    0.000    0.000    0.000    0.000 compiler.py:695(_cache_write)\n",
      "      658    0.000    0.000    0.000    0.000 sharding.py:169(_addressable_device_assignment)\n",
      "      105    0.000    0.000    0.011    0.000 slicing.py:1417(_dynamic_slice_jvp)\n",
      "       29    0.000    0.000    0.000    0.000 compiler.py:350(<setcomp>)\n",
      "      602    0.000    0.000    0.000    0.000 lax.py:732(__str__)\n",
      "      667    0.000    0.000    0.001    0.000 sharding_impls.py:458(num_devices)\n",
      "      644    0.000    0.000    0.000    0.000 array.py:413(is_fully_addressable)\n",
      "       29    0.000    0.000    0.001    0.000 pxla.py:2488(_get_in_shardings_from_xla)\n",
      "       90    0.000    0.000    0.000    0.000 dtypes.py:823(check_user_dtype_supported)\n",
      "      105    0.000    0.000    0.000    0.000 lax.py:4898(_transpose_shape_rule)\n",
      "       29    0.000    0.000    2.052    0.071 pjit.py:1740(call_impl_cache_miss)\n",
      "    75/15    0.000    0.000   18.894    1.260 linear_util.py:185(call_wrapped)\n",
      "      210    0.000    0.000    0.001    0.000 core.py:2019(definitely_equal_one_of_dim)\n",
      "      182    0.000    0.000    0.003    0.000 mlir.py:2425(add_jaxvals_lowering)\n",
      "     1890    0.000    0.000    0.000    0.000 lax.py:4980(<genexpr>)\n",
      "      251    0.000    0.000    0.007    0.000 lax.py:4312(_broadcast_in_dim_lower)\n",
      "      312    0.000    0.000    0.001    0.000 pxla.py:1851(__eq__)\n",
      "      166    0.000    0.000    0.000    0.000 func.py:73(body)\n",
      "      234    0.000    0.000    0.000    0.000 numerictypes.py:357(issubdtype)\n",
      "       29    0.000    0.000    0.000    0.000 compilation_cache.py:166(_get_cache)\n",
      "       29    0.000    0.000    0.000    0.000 util.py:201(<listcomp>)\n",
      "      105    0.000    0.000    0.002    0.000 _stablehlo_ops_gen.py:4876(__init__)\n",
      "     1346    0.000    0.000    0.000    0.000 pxla.py:2896(<genexpr>)\n",
      "      128    0.000    0.000    0.125    0.001 lax_numpy.py:11915(_rewriting_take)\n",
      "      105    0.000    0.000    0.003    0.000 mlir.py:2342(dynamic_slice)\n",
      "       29    0.000    0.000    0.000    0.000 mlir.py:1629(<listcomp>)\n",
      "      105    0.000    0.000    0.002    0.000 _stablehlo_ops_gen.py:2479(__init__)\n",
      "       15    0.000    0.000    0.009    0.001 lax_numpy.py:6639(_eye)\n",
      "       15    0.000    0.000    0.210    0.014 pjit.py:1291(_create_pjit_jaxpr)\n",
      "       29    0.000    0.000    0.000    0.000 mlir.py:1670(<listcomp>)\n",
      "      105    0.000    0.000    0.002    0.000 _stablehlo_ops_gen.py:5214(transpose)\n",
      "       29    0.000    0.000    0.000    0.000 pjit.py:286(<listcomp>)\n",
      "     1317    0.000    0.000    0.000    0.000 pxla.py:2373(_to_logical_sharding)\n",
      "      105    0.000    0.000    0.002    0.000 lax.py:4924(_transpose_lower)\n",
      "      392    0.000    0.000    0.003    0.000 fromnumeric.py:1025(argsort)\n",
      "      730    0.000    0.000    0.003    0.000 core.py:1339(normalize)\n",
      "      936    0.000    0.000    0.000    0.000 pxla.py:1854(<genexpr>)\n",
      "       83    0.000    0.000    0.000    0.000 func.py:112(arg_attrs)\n",
      "      354    0.000    0.000    0.000    0.000 util.py:385(canonicalize_axis)\n",
      "      197    0.000    0.000    0.008    0.000 ad.py:763(linear_transpose2)\n",
      "       98    0.000    0.000    0.004    0.000 mlir.py:293(_ndarray_constant_handler)\n",
      "      105    0.000    0.000    0.001    0.000 slicing.py:1542(_dynamic_update_slice_shape_rule)\n",
      "      876    0.000    0.000    0.000    0.000 mlir.py:1859(<genexpr>)\n",
      "       16    0.000    0.000    0.000    0.000 inspect.py:3059(_bind)\n",
      "       29    0.000    0.000    0.000    0.000 mlir.py:1148(<listcomp>)\n",
      "       16    0.000    0.000    0.000    0.000 ad.py:73(<listcomp>)\n",
      "     2160    0.000    0.000    0.000    0.000 partial_eval.py:1733(<genexpr>)\n",
      "     1596    0.000    0.000    0.000    0.000 lax.py:3338(<genexpr>)\n",
      "      468    0.000    0.000    0.000    0.000 numerictypes.py:283(issubclass_)\n",
      "     3285    0.000    0.000    0.000    0.000 {built-in method _warnings._filters_mutated}\n",
      "       15    0.000    0.000    0.258    0.017 partial_eval.py:936(fun)\n",
      "       30    0.000    0.000    0.476    0.016 core.py:258(jaxpr_as_fun)\n",
      "      450    0.000    0.000    0.000    0.000 __init__.py:1734(isEnabledFor)\n",
      "      210    0.000    0.000    0.014    0.000 lax.py:4247(_broadcast_in_dim_staging_rule)\n",
      "      840    0.000    0.000    0.000    0.000 lax.py:4328(<genexpr>)\n",
      "       58    0.000    0.000    0.000    0.000 pxla.py:3203(check_device_backend_on_shardings)\n",
      "      659    0.000    0.000    0.001    0.000 pxla.py:298(global_aval_to_result_handler)\n",
      "       29    0.000    0.000    0.000    0.000 pxla.py:108(to_xc_copy_semantics)\n",
      "      105    0.000    0.000    0.002    0.000 _stablehlo_ops_gen.py:2555(dynamic_update_slice)\n",
      "       16    0.000    0.000    0.001    0.000 inspect.py:2331(_signature_from_function)\n",
      "      105    0.000    0.000    0.002    0.000 _stablehlo_ops_gen.py:2517(dynamic_slice)\n",
      "     1635    0.000    0.000    0.000    0.000 partial_eval.py:1586(_dynamic_jaxpr_tracer_shaped_abstractify)\n",
      "       83    0.000    0.000    0.001    0.000 mlir.py:1566(<listcomp>)\n",
      "      105    0.000    0.000    0.021    0.000 lax.py:3483(_dot_general_transpose_rhs)\n",
      "      420    0.000    0.000    0.000    0.000 slicing.py:1570(<genexpr>)\n",
      "      368    0.000    0.000    0.000    0.000 linalg.py:156(_complexType)\n",
      "      528    0.000    0.000    0.000    0.000 mlir.py:443(get_canonical_source_file)\n",
      "       20    0.000    0.000    0.000    0.000 {built-in method math.prod}\n",
      "     1740    0.000    0.000    0.000    0.000 pjit.py:1814(<genexpr>)\n",
      "      210    0.000    0.000    0.000    0.000 mlir.py:1321(update_tokens)\n",
      "      105    0.000    0.000    0.017    0.000 util.py:78(promote_dtypes)\n",
      "      315    0.000    0.000    0.000    0.000 core.py:2117(dimension_as_value)\n",
      "      105    0.000    0.000    0.001    0.000 _stablehlo_ops_gen.py:5182(__init__)\n",
      "      420    0.000    0.000    0.001    0.000 lax.py:4131(<genexpr>)\n",
      "        1    0.000    0.000    0.000    0.000 iostream.py:259(schedule)\n",
      "     16/1    0.000    0.000   18.781   18.781 partial_eval.py:564(trace_to_jaxpr_nounits)\n",
      "       29    0.000    0.000    0.001    0.000 pxla.py:1211(<listcomp>)\n",
      "       29    0.000    0.000    0.001    0.000 cache_key.py:336(_hash_xla_flags)\n",
      "       15    0.000    0.000    0.268    0.018 ad.py:935(_jvp_jaxpr)\n",
      "      210    0.000    0.000    0.007    0.000 lax.py:4730(_squeeze_lower)\n",
      "       32    0.000    0.000    0.000    0.000 pjit.py:1370(seen_attrs_get)\n",
      "       29    0.000    0.000    0.001    0.000 pxla.py:1720(_get_and_check_device_assignment)\n",
      "      823    0.000    0.000    0.000    0.000 mlir.py:1934(<genexpr>)\n",
      "      122    0.000    0.000    0.023    0.000 array_methods.py:1054(meth)\n",
      "      105    0.000    0.000    0.000    0.000 _stablehlo_ops_gen.py:5210(result)\n",
      "      105    0.000    0.000    0.000    0.000 _stablehlo_ops_gen.py:2551(result)\n",
      "       98    0.000    0.000    0.002    0.000 _stablehlo_ops_gen.py:1322(__init__)\n",
      "      105    0.000    0.000    0.000    0.000 _stablehlo_ops_gen.py:2513(result)\n",
      "       29    0.000    0.000    1.609    0.055 pxla.py:2410(compile)\n",
      "      113    0.000    0.000    0.000    0.000 core.py:3044(<dictcomp>)\n",
      "       83    0.000    0.000    0.001    0.000 _func_ops_gen.py:249(__init__)\n",
      "      742    0.000    0.000    0.000    0.000 {built-in method jaxlib.mlir._mlir_libs._mlir.ir.get_dynamic_size}\n",
      "       29    0.000    0.000    0.000    0.000 mlir.py:1510(<listcomp>)\n",
      "       60    0.000    0.000    0.000    0.000 lax.py:105(_try_broadcast_shapes)\n",
      "      630    0.000    0.000    0.000    0.000 core.py:2020(<genexpr>)\n",
      "       16    0.000    0.000    0.001    0.000 api_util.py:673(_arg_names)\n",
      "      315    0.000    0.000    0.012    0.000 lax.py:1408(select)\n",
      "     1050    0.000    0.000    0.000    0.000 utils.py:35(<genexpr>)\n",
      "       45    0.000    0.000    0.000    0.000 core.py:163(replace)\n",
      "       59    0.000    0.000    0.000    0.000 partial_eval.py:1637(__init__)\n",
      "       29    0.000    0.000    0.427    0.015 pjit.py:1622(_resolve_and_lower)\n",
      "       60    0.000    0.000    0.000    0.000 api.py:125(_update_debug_special_thread_local)\n",
      "     16/1    0.000    0.000   16.787   16.787 ad.py:106(jvp_subtrace)\n",
      "      175    0.000    0.000    0.000    0.000 <frozen importlib._bootstrap>:1207(_handle_fromlist)\n",
      "       29    0.000    0.000    0.002    0.000 pxla.py:2843(build_unsafe_call)\n",
      "       29    0.000    0.000    0.000    0.000 pxla.py:1641(check_if_any_auto)\n",
      "       29    0.000    0.000    0.000    0.000 tree_util.py:96(tree_structure)\n",
      "       44    0.000    0.000    0.000    0.000 partial_eval.py:829(convert_constvars_jaxpr)\n",
      "      315    0.000    0.000    0.017    0.000 lax.py:527(convert_element_type)\n",
      "      749    0.000    0.000    0.000    0.000 partial_eval.py:2415(_substitute_tracers_in_aval)\n",
      "       58    0.000    0.000    0.000    0.000 <frozen os>:674(__getitem__)\n",
      "      688    0.000    0.000    0.000    0.000 pjit.py:268(<genexpr>)\n",
      "      798    0.000    0.000    0.000    0.000 lax.py:3441(_maybe_upcast)\n",
      "       59    0.000    0.000    0.002    0.000 partial_eval.py:1804(<listcomp>)\n",
      "     1317    0.000    0.000    0.000    0.000 fromnumeric.py:3172(_ndim_dispatcher)\n",
      "        1    0.000    0.000  110.604  110.604 {built-in method builtins.exec}\n",
      "      128    0.000    0.000    0.008    0.000 slicing.py:56(slice)\n",
      "       98    0.000    0.000    0.004    0.000 mlir.py:258(ir_constant)\n",
      "      105    0.000    0.000    0.015    0.000 util.py:91(<listcomp>)\n",
      "       83    0.000    0.000    0.001    0.000 mlir.py:1601(<listcomp>)\n",
      "      148    0.000    0.000    0.000    0.000 core.py:207(__init__)\n",
      "      687    0.000    0.000    0.000    0.000 pxla.py:2656(<genexpr>)\n",
      "      930    0.000    0.000    0.000    0.000 slicing.py:1249(<genexpr>)\n",
      "      915    0.000    0.000    0.000    0.000 lax.py:4684(_squeeze_dtype_rule)\n",
      "      612    0.000    0.000    0.000    0.000 lax.py:1465(<genexpr>)\n",
      "     1200    0.000    0.000    0.000    0.000 {method 'insert' of 'list' objects}\n",
      "      466    0.000    0.000    0.000    0.000 lax.py:1908(<genexpr>)\n",
      "       15    0.000    0.000    0.002    0.000 partial_eval.py:964(<listcomp>)\n",
      "      150    0.000    0.000    0.001    0.000 core.py:1131(ensure_no_leaks)\n",
      "       59    0.000    0.000    0.001    0.000 partial_eval.py:1810(<listcomp>)\n",
      "     16/1    0.000    0.000   16.788   16.788 ad.py:70(jvpfun)\n",
      "      688    0.000    0.000    0.000    0.000 pxla.py:2912(<genexpr>)\n",
      "      105    0.000    0.000    0.002    0.000 slicing.py:1640(_dynamic_update_slice_lower)\n",
      "      687    0.000    0.000    0.000    0.000 pxla.py:2910(<genexpr>)\n",
      "       83    0.000    0.000    0.000    0.000 func.py:129(result_attrs)\n",
      "      105    0.000    0.000    0.007    0.000 lax.py:4708(_squeeze_transpose_rule)\n",
      "       36    0.000    0.000    0.000    0.000 inspect.py:2669(__init__)\n",
      "        1    0.000    0.000   83.470   83.470 _minimize.py:53(minimize)\n",
      "      659    0.000    0.000    0.000    0.000 pxla.py:2064(read)\n",
      "       30    0.000    0.000    0.000    0.000 partial_eval.py:1343(<listcomp>)\n",
      "      118    0.000    0.000    0.000    0.000 source_info_util.py:296(reset_name_stack)\n",
      "      420    0.000    0.000    0.000    0.000 slicing.py:1425(<genexpr>)\n",
      "       15    0.000    0.000    0.002    0.000 lax_numpy.py:5676(astype)\n",
      "       59    0.000    0.000    0.000    0.000 partial_eval.py:1663(<listcomp>)\n",
      "       15    0.000    0.000    0.002    0.000 partial_eval.py:968(<listcomp>)\n",
      "      420    0.000    0.000    0.000    0.000 mlir.py:2329(<genexpr>)\n",
      "      736    0.000    0.000    0.000    0.000 linalg.py:488(_unary_dispatcher)\n",
      "       15    0.000    0.000    0.000    0.000 partial_eval.py:1506(_move_binders_to_front)\n",
      "      382    0.000    0.000    0.000    0.000 lax.py:5071(_add_shit_to_select)\n",
      "     1533    0.000    0.000    0.000    0.000 mlir.py:1039(_to_xla_layout)\n",
      "       29    0.000    0.000    0.013    0.000 pxla.py:1759(prune_unused_inputs)\n",
      "        1    0.000    0.000   83.469   83.469 _cobyla_py.py:32(wrapper)\n",
      "        1    0.000    0.000    0.000    0.000 contract.py:170(contract_path)\n",
      "      520    0.000    0.000    0.000    0.000 lax_numpy.py:11838(<genexpr>)\n",
      "      105    0.000    0.000    0.001    0.000 slicing.py:1568(_dynamic_update_slice_dtype_rule)\n",
      "       83    0.000    0.000    0.002    0.000 _func_ops_gen.py:264(return_)\n",
      "      105    0.000    0.000    0.002    0.000 mlir.py:2376(dynamic_update_slice)\n",
      "      112    0.000    0.000    0.000    0.000 xla.py:131(_canonicalize_ndarray_dtype)\n",
      "       16    0.000    0.000    0.001    0.000 inspect.py:2435(_signature_from_callable)\n",
      "      146    0.000    0.000    0.000    0.000 {built-in method time.time}\n",
      "     1533    0.000    0.000    0.000    0.000 mlir.py:1013(_to_physical_op_sharding)\n",
      "       83    0.000    0.000    0.000    0.000 mlir.py:1305(create)\n",
      "      196    0.000    0.000    0.001    0.000 fromnumeric.py:95(take)\n",
      "       29    0.000    0.000    0.004    0.000 cache_key.py:188(_serialize_ir)\n",
      "      120    0.000    0.000    0.122    0.001 array_methods.py:645(_getitem)\n",
      "       29    0.000    0.000    0.007    0.000 compiler.py:89(use_detailed_logging)\n",
      "       15    0.000    0.000    0.000    0.000 lax.py:85(_clip_int_to_valid_range)\n",
      "       58    0.000    0.000    0.001    0.000 mlir.py:115(i32_attr)\n",
      "      688    0.000    0.000    0.000    0.000 pxla.py:2657(<genexpr>)\n",
      "       29    0.000    0.000    0.416    0.014 pjit.py:1773(_pjit_lower)\n",
      "      128    0.000    0.000    0.001    0.000 lax_numpy.py:11855(<setcomp>)\n",
      "       15    0.000    0.000    0.002    0.000 partial_eval.py:966(<listcomp>)\n",
      "      392    0.000    0.000    0.000    0.000 lax.py:6411(<listcomp>)\n",
      "       15    0.000    0.000    0.001    0.000 lax.py:3107(_convert_element_type_lower)\n",
      "       15    0.000    0.000    0.000    0.000 partial_eval.py:946(<listcomp>)\n",
      "       59    0.000    0.000    0.000    0.000 partial_eval.py:1747(<listcomp>)\n",
      "      360    0.000    0.000    0.000    0.000 lax.py:6122(<genexpr>)\n",
      "       15    0.000    0.000    0.002    0.000 partial_eval.py:969(<listcomp>)\n",
      "       30    0.000    0.000    0.001    0.000 lax.py:1784(broadcasted_iota)\n",
      "       15    0.000    0.000    0.233    0.016 ad.py:946(f_jvp_traceable)\n",
      "      798    0.000    0.000    0.000    0.000 lax.py:3331(<genexpr>)\n",
      "       58    0.000    0.000    0.002    0.000 function_base.py:2337(_call_as_normal)\n",
      "     1317    0.000    0.000    0.000    0.000 mlir.py:921(sharded_aval)\n",
      "      687    0.000    0.000    0.000    0.000 pxla.py:1786(<genexpr>)\n",
      "      420    0.000    0.000    0.000    0.000 slicing.py:1555(<genexpr>)\n",
      "      233    0.000    0.000    0.001    0.000 lax_numpy.py:166(_dtype)\n",
      "      798    0.000    0.000    0.000    0.000 lax.py:3332(<genexpr>)\n",
      "       58    0.000    0.000    0.001    0.000 function_base.py:2374(_get_ufunc_and_otypes)\n",
      "       29    0.000    0.000    0.000    0.000 {method 'sub' of 're.Pattern' objects}\n",
      "       29    0.000    0.000    0.000    0.000 pxla.py:1281(<listcomp>)\n",
      "      128    0.000    0.000    0.000    0.000 lax_numpy.py:11854(<setcomp>)\n",
      "      602    0.000    0.000    0.000    0.000 enum.py:1252(name)\n",
      "       90    0.000    0.000    0.003    0.000 lax.py:6143(_iota_staging_rule)\n",
      "      310    0.000    0.000    0.000    0.000 lax_numpy.py:11898(<genexpr>)\n",
      "       29    0.000    0.000    0.000    0.000 pxla.py:1713(get_default_device)\n",
      "     1302    0.000    0.000    0.000    0.000 sharding_impls.py:492(is_fully_addressable)\n",
      "       59    0.000    0.000    0.118    0.002 partial_eval.py:2082(to_jaxpr)\n",
      "       29    0.000    0.000    0.000    0.000 pxla.py:3051(__init__)\n",
      "      687    0.000    0.000    0.000    0.000 pxla.py:2209(<genexpr>)\n",
      "        1    0.000    0.000   26.623   26.623 api.py:448(value_and_grad_f)\n",
      "       31    0.000    0.000    0.000    0.000 tree_util.py:351(tree_map)\n",
      "       58    0.000    0.000    0.000    0.000 function_base.py:2314(<listcomp>)\n",
      "      174    0.000    0.000    0.000    0.000 {method 'update' of '_hashlib.HASH' objects}\n",
      "       16    0.000    0.000    0.000    0.000 pjit.py:1378(_attr_token)\n",
      "       29    0.000    0.000    0.000    0.000 pxla.py:1863(_raise_warnings_or_errors_for_jit_of_pmap)\n",
      "       59    0.000    0.000    0.000    0.000 partial_eval.py:1819(__init__)\n",
      "      118    0.000    0.000    0.000    0.000 source_info_util.py:286(set_name_stack)\n",
      "      798    0.000    0.000    0.000    0.000 lax.py:3348(<genexpr>)\n",
      "      658    0.000    0.000    0.000    0.000 sharding_impls.py:476(_device_assignment)\n",
      "      105    0.000    0.000    0.010    0.000 ad.py:802(<lambda>)\n",
      "      120    0.000    0.000    0.009    0.000 lax.py:2090(<genexpr>)\n",
      "      203    0.000    0.000    0.000    0.000 cache_key.py:147(_log_cache_key_hash)\n",
      "       87    0.000    0.000    0.000    0.000 {built-in method fromkeys}\n",
      "      687    0.000    0.000    0.000    0.000 pxla.py:2210(<genexpr>)\n",
      "       29    0.000    0.000    0.000    0.000 pxla.py:1225(__init__)\n",
      "       36    0.000    0.000    0.000    0.000 enum.py:688(__call__)\n",
      "      128    0.000    0.000    0.000    0.000 lax_numpy.py:11806(_is_integer_index)\n",
      "       10    0.000    0.000    0.001    0.000 lax.py:1290(reshape)\n",
      "       29    0.000    0.000    0.000    0.000 pxla.py:1161(__init__)\n",
      "      210    0.000    0.000    0.000    0.000 pjit.py:2437(<listcomp>)\n",
      "      270    0.000    0.000    0.000    0.000 lax.py:6131(<genexpr>)\n",
      "        1    0.000    0.000    0.000    0.000 socket.py:626(send)\n",
      "       29    0.000    0.000    0.000    0.000 pxla.py:2855(load)\n",
      "      369    0.000    0.000    0.000    0.000 multiarray.py:346(where)\n",
      "        1    0.000    0.000    0.000    0.000 api.py:404(value_and_grad)\n",
      "      688    0.000    0.000    0.000    0.000 pxla.py:2225(<genexpr>)\n",
      "       15    0.000    0.000    0.000    0.000 api_util.py:103(flattened_fun_in_tree)\n",
      "      368    0.000    0.000    0.000    0.000 linalg.py:785(_qr_dispatcher)\n",
      "       29    0.000    0.000    0.000    0.000 cache_key.py:109(<lambda>)\n",
      "       30    0.000    0.000    0.003    0.000 lax_numpy.py:5742(asarray)\n",
      "      735    0.000    0.000    0.000    0.000 dispatch.py:244(<genexpr>)\n",
      "       14    0.000    0.000    0.001    0.000 pxla.py:202(_shard_np_array)\n",
      "       59    0.000    0.000    0.000    0.000 partial_eval.py:2187(<listcomp>)\n",
      "       91    0.000    0.000    0.012    0.000 ad.py:801(<lambda>)\n",
      "      105    0.000    0.000    0.000    0.000 lax.py:1918(<listcomp>)\n",
      "        9    0.000    0.000    0.000    0.000 array_methods.py:439(_compute_newshape)\n",
      "       16    0.000    0.000    0.000    0.000 pjit.py:1394(_attr_update)\n",
      "       29    0.000    0.000    0.001    0.000 pxla.py:1207(global_avals_to_results_handler)\n",
      "       58    0.000    0.000    0.000    0.000 <frozen _collections_abc>:771(get)\n",
      "        1    0.000    0.000   18.782   18.782 ad.py:195(linearize)\n",
      "       29    0.000    0.000    0.000    0.000 xla_bridge.py:1061(device_count)\n",
      "       58    0.000    0.000    0.000    0.000 __init__.py:1544(log)\n",
      "       29    0.000    0.000    0.002    0.000 mlir.py:584(module_to_bytecode)\n",
      "       29    0.000    0.000    0.000    0.000 pxla.py:2393(__init__)\n",
      "      112    0.000    0.000    0.000    0.000 util.py:375(wrap_name)\n",
      "       29    0.000    0.000    0.000    0.000 pxla.py:2086(_get_num_devices)\n",
      "       60    0.000    0.000    0.000    0.000 partial_eval.py:1789(<lambda>)\n",
      "       30    0.000    0.000    0.000    0.000 partial_eval.py:1342(_prune_jaxpr_outputs)\n",
      "       30    0.000    0.000    0.000    0.000 _stablehlo_ops_gen.py:3012(__init__)\n",
      "        1    0.000    0.000    0.000    0.000 pjit.py:393(_parse_jit_arguments)\n",
      "      787    0.000    0.000    0.000    0.000 core.py:1476(<lambda>)\n",
      "       60    0.000    0.000    0.000    0.000 core.py:395(__init__)\n",
      "       15    0.000    0.000   16.901    1.127 api_util.py:87(flatten_fun_nokwargs)\n",
      "       15    0.000    0.000    0.000    0.000 _stablehlo_ops_gen.py:1377(convert)\n",
      "       14    0.000    0.000    0.135    0.010 pjit.py:2331(_pjit_transpose_trace)\n",
      "      128    0.000    0.000    0.000    0.000 lax_numpy.py:11857(<setcomp>)\n",
      "       58    0.000    0.000    0.000    0.000 <frozen os>:773(getenv)\n",
      "       51    0.000    0.000    0.000    0.000 tree_util.py:1125(tree_flatten_with_path)\n",
      "       29    0.000    0.000    0.018    0.001 compilation_cache.py:270(get_cache_key)\n",
      "        1    0.000    0.000    1.176    1.176 _differentiable_functions.py:166(__init__)\n",
      "       29    0.000    0.000    0.001    0.000 pxla.py:2433(get_out_shardings_from_executable)\n",
      "       14    0.000    0.000    0.113    0.008 ad.py:341(closed_backward_pass)\n",
      "       29    0.000    0.000    0.005    0.000 cache_key.py:119(<lambda>)\n",
      "       29    0.000    0.000    0.000    0.000 compilation_cache.py:54(is_cache_used)\n",
      "       58    0.000    0.000    0.002    0.000 function_base.py:2367(__call__)\n",
      "      196    0.000    0.000    0.000    0.000 lax.py:6414(canonicalize_precision)\n",
      "       15    0.000    0.000    0.000    0.000 api_util.py:695(jaxpr_debug_info)\n",
      "       29    0.000    0.000    0.000    0.000 copy.py:210(_deepcopy_tuple)\n",
      "       29    0.000    0.000    0.000    0.000 {method 'digest' of '_hashlib.HASH' objects}\n",
      "      256    0.000    0.000    0.000    0.000 lax_numpy.py:11850(<genexpr>)\n",
      "       29    0.000    0.000    0.000    0.000 source_info_util.py:138(new_name_stack)\n",
      "        1    0.000    0.000    0.002    0.002 lax_numpy.py:9503(einsum)\n",
      "      239    0.000    0.000    0.000    0.000 pxla.py:2243(<genexpr>)\n",
      "       32    0.000    0.000    0.000    0.000 inspect.py:735(unwrap)\n",
      "      368    0.000    0.000    0.000    0.000 twodim_base.py:426(_trilu_dispatcher)\n",
      "       48    0.000    0.000    0.000    0.000 api_util.py:685(<genexpr>)\n",
      "       15    0.000    0.000    0.000    0.000 _stablehlo_ops_gen.py:1373(result)\n",
      "        8    0.000    0.000    0.003    0.000 array.py:334(__getitem__)\n",
      "      296    0.000    0.000    0.000    0.000 pxla.py:2283(<genexpr>)\n",
      "       58    0.000    0.000    0.000    0.000 cache_key.py:362(_hash_string)\n",
      "       16    0.000    0.000    0.000    0.000 inspect.py:2955(__init__)\n",
      "       29    0.000    0.000    0.000    0.000 pxla.py:2133(_discharge_refs_jaxpr)\n",
      "       16    0.000    0.000    0.000    0.000 partial_eval.py:171(new_arg)\n",
      "       29    0.000    0.000    0.000    0.000 pxla.py:1765(<setcomp>)\n",
      "      264    0.000    0.000    0.000    0.000 {method 'indices' of 'slice' objects}\n",
      "        8    0.000    0.000    0.000    0.000 lax_numpy.py:1255(transpose)\n",
      "      180    0.000    0.000    0.000    0.000 lax.py:117(<genexpr>)\n",
      "      525    0.000    0.000    0.000    0.000 dispatch.py:245(<genexpr>)\n",
      "      687    0.000    0.000    0.000    0.000 pxla.py:161(<genexpr>)\n",
      "       15    0.000    0.000    0.001    0.000 partial_eval.py:2130(debug_info)\n",
      "       15    0.000    0.000    0.167    0.011 api_util.py:688(result_paths)\n",
      "       29    0.000    0.000    0.000    0.000 partial_eval.py:1428(<listcomp>)\n",
      "       16    0.000    0.000    0.000    0.000 api_util.py:662(fun_sourceinfo)\n",
      "      420    0.000    0.000    0.000    0.000 pjit.py:1839(<genexpr>)\n",
      "        9    0.000    0.000    0.001    0.000 array_methods.py:299(_reshape)\n",
      "       15    0.000    0.000    0.000    0.000 partial_eval.py:1518(<listcomp>)\n",
      "      420    0.000    0.000    0.000    0.000 {method 'keys' of 'collections.OrderedDict' objects}\n",
      "        2    0.000    0.000    0.000    0.000 iostream.py:655(write)\n",
      "       73    0.000    0.000    0.000    0.000 monitoring.py:56(record_event_duration_secs)\n",
      "       58    0.000    0.000    0.002    0.000 pxla.py:2812(finalize_shardings)\n",
      "       29    0.000    0.000    0.000    0.000 partial_eval.py:1427(<listcomp>)\n",
      "       83    0.000    0.000    0.000    0.000 mlir.py:1506(<listcomp>)\n",
      "       29    0.000    0.000    0.000    0.000 pjit.py:283(<listcomp>)\n",
      "        1    0.000    0.000   26.851   26.851 low_level_jit.py:212(dK_jax)\n",
      "       30    0.000    0.000    0.000    0.000 partial_eval.py:1358(_prune_closed_jaxpr_outputs)\n",
      "      210    0.000    0.000    0.000    0.000 pjit.py:2438(<listcomp>)\n",
      "       99    0.000    0.000    0.000    0.000 {built-in method numpy.ascontiguousarray}\n",
      "      630    0.000    0.000    0.000    0.000 ad_util.py:72(<lambda>)\n",
      "       30    0.000    0.000    0.002    0.000 lax.py:6164(_iota_lower)\n",
      "       48    0.000    0.000    0.000    0.000 function_base.py:873(copy)\n",
      "       29    0.000    0.000    0.000    0.000 util.py:196(unflatten)\n",
      "       16    0.000    0.000    0.001    0.000 api_util.py:643(debug_info)\n",
      "       57    0.000    0.000    0.000    0.000 pxla.py:2241(<genexpr>)\n",
      "       15    0.000    0.000    0.000    0.000 partial_eval.py:1519(<listcomp>)\n",
      "       64    0.000    0.000    0.000    0.000 core.py:1056(take_current_trace)\n",
      "      210    0.000    0.000    0.000    0.000 mlir.py:818(set_tokens_out)\n",
      "       87    0.000    0.000    0.000    0.000 util.py:552(stable_unique)\n",
      "       16    0.000    0.000    0.000    0.000 api_util.py:718(hoist_obj_attrs)\n",
      "       29    0.000    0.000    0.000    0.000 compiler.py:102(log_persistent_cache_miss)\n",
      "       15    0.000    0.000    0.000    0.000 mlir.py:2468(convert_hlo)\n",
      "       29    0.000    0.000    0.000    0.000 pjit.py:284(<listcomp>)\n",
      "       29    0.000    0.000    0.000    0.000 pxla.py:2718(<lambda>)\n",
      "      285    0.000    0.000    0.000    0.000 util.py:684(test_event)\n",
      "       28    0.000    0.000    0.000    0.000 sharding_impls.py:953(is_fully_replicated)\n",
      "      644    0.000    0.000    0.000    0.000 pxla.py:123(identity)\n",
      "      315    0.000    0.000    0.000    0.000 lax.py:4906(<genexpr>)\n",
      "      134    0.000    0.000    0.000    0.000 core.py:386(gensym)\n",
      "       59    0.000    0.000    0.000    0.000 partial_eval.py:2229(get_states)\n",
      "       29    0.000    0.000    0.000    0.000 cache_key.py:135(<lambda>)\n",
      "      272    0.000    0.000    0.000    0.000 ad.py:747(<genexpr>)\n",
      "      115    0.000    0.000    0.000    0.000 pxla.py:2592(<genexpr>)\n",
      "        1    0.000    0.000   18.782   18.782 api.py:1962(_vjp)\n",
      "      390    0.000    0.000    0.000    0.000 {built-in method from_iterable}\n",
      "        1    0.000    0.000  110.604  110.604 <string>:1(<module>)\n",
      "       29    0.000    0.000    0.000    0.000 compiler.py:185(<lambda>)\n",
      "       47    0.000    0.000    0.000    0.000 tree_util.py:725(keystr)\n",
      "       29    0.000    0.000    0.001    0.000 cache_key.py:115(<lambda>)\n",
      "       29    0.000    0.000    0.000    0.000 pjit.py:282(<listcomp>)\n",
      "      145    0.000    0.000    0.000    0.000 {method 'encode' of 'str' objects}\n",
      "       29    0.000    0.000    0.000    0.000 compilation_cache.py:207(get_executable_and_time)\n",
      "       16    0.000    0.000    0.000    0.000 util.py:260(_remove_duplicates)\n",
      "      392    0.000    0.000    0.000    0.000 fromnumeric.py:1021(_argsort_dispatcher)\n",
      "     16/1    0.000    0.000   16.788   16.788 api_util.py:71(flatten_fun)\n",
      "       60    0.000    0.000    0.000    0.000 lax.py:111(<setcomp>)\n",
      "      369    0.000    0.000    0.000    0.000 core.py:117(debug_info)\n",
      "       29    0.000    0.000    0.000    0.000 {built-in method jaxlib.mlir._mlir_libs._mlir.ir.enable_multithreading}\n",
      "       15    0.000    0.000    0.000    0.000 lax.py:2081(_iter)\n",
      "       47    0.000    0.000    0.000    0.000 util.py:489(__hash__)\n",
      "       60    0.000    0.000    0.000    0.000 core.py:1298(same_referent)\n",
      "       45    0.000    0.000    0.000    0.000 _aliases.py:236(astype)\n",
      "      145    0.000    0.000    0.002    0.000 pxla.py:3073(unsafe_call)\n",
      "       30    0.000    0.000    0.000    0.000 partial_eval.py:1397(has_effects)\n",
      "      128    0.000    0.000    0.000    0.000 lax_numpy.py:11845(<genexpr>)\n",
      "       83    0.000    0.000    0.000    0.000 mlir.py:1568(<listcomp>)\n",
      "       16    0.000    0.000    0.000    0.000 partial_eval.py:614(<listcomp>)\n",
      "      105    0.000    0.000    0.000    0.000 lax.py:1925(<listcomp>)\n",
      "       17    0.000    0.000    0.000    0.000 util.py:484(__eq__)\n",
      "        1    0.000    0.000    1.176    1.176 _optimize.py:203(_prepare_scalar_function)\n",
      "       45    0.000    0.000    0.000    0.000 _funcs.py:12(atleast_nd)\n",
      "       58    0.000    0.000    0.000    0.000 effects.py:103(filter_not_in)\n",
      "        2    0.000    0.000    0.000    0.000 api_util.py:457(check_callable)\n",
      "      116    0.000    0.000    0.000    0.000 {built-in method time.monotonic}\n",
      "       29    0.000    0.000    0.000    0.000 cache_key.py:133(<lambda>)\n",
      "       58    0.000    0.000    0.000    0.000 <frozen os>:756(encode)\n",
      "       59    0.000    0.000    0.000    0.000 partial_eval.py:2196(<listcomp>)\n",
      "       29    0.000    0.000    0.010    0.000 cache_key.py:103(<lambda>)\n",
      "       15    0.000    0.000    0.000    0.000 _stablehlo_ops_gen.py:1358(__init__)\n",
      "        1    0.000    0.000    0.000    0.000 api_util.py:226(argnums_partial)\n",
      "       58    0.000    0.000    0.000    0.000 {method 'flatten' of 'numpy.ndarray' objects}\n",
      "       28    0.000    0.000    0.001    0.000 sharding_impls.py:894(_hlo_sharding_hash)\n",
      "        1    0.000    0.000    0.000    0.000 api.py:338(grad)\n",
      "       29    0.000    0.000    0.000    0.000 mlir.py:1106(<listcomp>)\n",
      "       58    0.000    0.000    0.000    0.000 function_base.py:2453(<listcomp>)\n",
      "       15    0.000    0.000    0.000    0.000 partial_eval.py:1517(_move_to_front)\n",
      "       54    0.000    0.000    0.000    0.000 pjit.py:1928(<listcomp>)\n",
      "       15    0.000    0.000    0.000    0.000 core.py:704(__iter__)\n",
      "       81    0.000    0.000    0.000    0.000 {built-in method _abc._abc_subclasscheck}\n",
      "       29    0.000    0.000    0.000    0.000 dispatch.py:311(needs_check_special)\n",
      "       87    0.000    0.000    0.000    0.000 __init__.py:1467(debug)\n",
      "      128    0.000    0.000    0.000    0.000 lax_numpy.py:11809(_is_simple_reverse_slice)\n",
      "       29    0.000    0.000    0.001    0.000 dispatch.py:288(jaxpr_replicas)\n",
      "       16    0.000    0.000    0.000    0.000 inspect.py:3190(bind)\n",
      "       29    0.000    0.000    0.010    0.000 pxla.py:1170(__call__)\n",
      "      256    0.000    0.000    0.000    0.000 lax_numpy.py:11842(<genexpr>)\n",
      "       29    0.000    0.000    0.000    0.000 mlir.py:646(__init__)\n",
      "       16    0.000    0.000    0.000    0.000 inspect.py:167(get_annotations)\n",
      "      128    0.000    0.000    0.000    0.000 lax_numpy.py:11828(_is_contiguous_slice)\n",
      "       16    0.000    0.000    0.000    0.000 ad.py:62(jvp)\n",
      "        8    0.000    0.000    0.000    0.000 array_methods.py:421(_transpose_property)\n",
      "        1    0.000    0.000    0.000    0.000 parser.py:289(parse_einsum_input)\n",
      "      138    0.000    0.000    0.000    0.000 ad.py:829(instantiate_zeros)\n",
      "       60    0.000    0.000    0.000    0.000 lax_numpy.py:178(__hash__)\n",
      "        1    0.000    0.000    0.001    0.001 api.py:491(_check_input_dtype_revderiv)\n",
      "        2    0.000    0.000    0.000    0.000 inspect.py:391(_has_code_flag)\n",
      "       62    0.000    0.000    0.000    0.000 tree_util.py:359(<genexpr>)\n",
      "       29    0.000    0.000    0.000    0.000 compiler.py:676(_cache_read)\n",
      "       29    0.000    0.000    0.000    0.000 copy.py:243(_keep_alive)\n",
      "       63    0.000    0.000    0.000    0.000 partial_eval.py:587(<genexpr>)\n",
      "        8    0.000    0.000    0.000    0.000 functools.py:35(update_wrapper)\n",
      "       15    0.000    0.000    0.000    0.000 partial_eval.py:939(<listcomp>)\n",
      "       58    0.000    0.000    0.000    0.000 {method 'startswith' of 'str' objects}\n",
      "       29    0.000    0.000    0.000    0.000 mlir.py:1406(<listcomp>)\n",
      "       51    0.000    0.000    0.000    0.000 tree_util.py:1133(tree_leaves_with_path)\n",
      "       15    0.000    0.000    0.009    0.001 lax_numpy.py:6579(eye)\n",
      "       54    0.000    0.000    0.000    0.000 mlir.py:1624(<listcomp>)\n",
      "      120    0.000    0.000    0.000    0.000 core.py:1295(get_referent)\n",
      "       51    0.000    0.000    0.000    0.000 tree_util.py:1142(generate_key_paths)\n",
      "       29    0.000    0.000    0.000    0.000 xla_bridge.py:817(canonicalize_platform)\n",
      "      210    0.000    0.000    0.000    0.000 {method 'issubset' of 'set' objects}\n",
      "       16    0.000    0.000    0.001    0.000 inspect.py:3007(from_callable)\n",
      "        3    0.000    0.000    0.000    0.000 {method 'format' of 'str' objects}\n",
      "       16    0.000    0.000    0.001    0.000 api_util.py:655(fun_signature)\n",
      "        9    0.000    0.000    0.012    0.001 array_methods.py:144(_conj)\n",
      "      210    0.000    0.000    0.000    0.000 pjit.py:1955(<listcomp>)\n",
      "       50    0.000    0.000    0.000    0.000 array.py:1034(_get_aval_array)\n",
      "       15    0.000    0.000    0.001    0.000 partial_eval.py:2138(debug_info_final)\n",
      "       29    0.000    0.000    0.000    0.000 pjit.py:1722(_get_jaxpr_as_fun)\n",
      "       45    0.000    0.000    0.000    0.000 enum.py:1257(value)\n",
      "       15    0.000    0.000    0.000    0.000 dtypes.py:336(coerce_to_array)\n",
      "       30    0.000    0.000    0.000    0.000 mlir.py:116(i64_attr)\n",
      "       59    0.000    0.000    0.000    0.000 partial_eval.py:2225(set_states)\n",
      "        1    0.000    0.000    0.000    0.000 _differentiable_functions.py:55(_wrapper_hess)\n",
      "      196    0.000    0.000    0.000    0.000 fromnumeric.py:91(_take_dispatcher)\n",
      "       15    0.000    0.000    0.000    0.000 core.py:1486(concrete_dim_or_error)\n",
      "       29    0.000    0.000    0.000    0.000 compilation_cache.py:128(_initialize_cache)\n",
      "       16    0.000    0.000    0.000    0.000 partial_eval.py:613(<listcomp>)\n",
      "       29    0.000    0.000    0.000    0.000 mlir.py:686(__init__)\n",
      "       56    0.000    0.000    0.000    0.000 array.py:257(ndim)\n",
      "        4    0.000    0.000    0.000    0.000 source_info_util.py:166(is_user_filename)\n",
      "       16    0.000    0.000    0.001    0.000 inspect.py:3261(signature)\n",
      "       29    0.000    0.000    0.001    0.000 cache_key.py:129(<lambda>)\n",
      "       16    0.000    0.000    0.000    0.000 partial_eval.py:627(<listcomp>)\n",
      "        1    0.000    0.000   18.782   18.782 ad.py:222(vjp)\n",
      "       58    0.000    0.000    0.000    0.000 pxla.py:2242(<genexpr>)\n",
      "        1    0.000    0.000    0.000    0.000 pjit.py:479(_make_jit_wrapper)\n",
      "       16    0.000    0.000    0.000    0.000 partial_eval.py:146(__init__)\n",
      "        1    0.000    0.000   26.850   26.850 api.py:390(grad_f)\n",
      "        2    0.000    0.000    0.000    0.000 sharding_impls.py:1114(prepare_axis_resources)\n",
      "        4    0.000    0.000    0.000    0.000 util.py:422(wrapper)\n",
      "       29    0.000    0.000    0.000    0.000 {method 'hex' of 'bytes' objects}\n",
      "        4    0.000    0.000    0.000    0.000 source_info_util.py:301(transform_name_stack)\n",
      "       16    0.000    0.000    0.000    0.000 ad.py:110(<listcomp>)\n",
      "       18    0.000    0.000    0.000    0.000 {method 'values' of 'mappingproxy' objects}\n",
      "        1    0.000    0.000    0.000    0.000 {built-in method builtins.print}\n",
      "        1    0.000    0.000    0.000    0.000 pjit.py:328(_cpp_pjit)\n",
      "       81    0.000    0.000    0.000    0.000 <frozen abc>:121(__subclasscheck__)\n",
      "       54    0.000    0.000    0.000    0.000 mlir.py:1657(<listcomp>)\n",
      "       58    0.000    0.000    0.000    0.000 function_base.py:348(iterable)\n",
      "        7    0.000    0.000    0.000    0.000 traceback_util.py:153(api_boundary)\n",
      "       15    0.000    0.000    0.000    0.000 core.py:2093(min_dim)\n",
      "        1    0.000    0.000    0.001    0.001 contextlib.py:78(inner)\n",
      "       29    0.000    0.000    0.000    0.000 pxla.py:1186(__init__)\n",
      "        1    0.000    0.000    0.000    0.000 helpers.py:50(find_contraction)\n",
      "       29    0.000    0.000    0.000    0.000 pxla.py:2246(<listcomp>)\n",
      "       29    0.000    0.000    0.000    0.000 contextlib.py:763(__init__)\n",
      "      108    0.000    0.000    0.000    0.000 inspect.py:2722(name)\n",
      "       54    0.000    0.000    0.000    0.000 pjit.py:1929(<listcomp>)\n",
      "       45    0.000    0.000    0.000    0.000 _cobyla_py.py:288(wrapped_callback)\n",
      "       32    0.000    0.000    0.000    0.000 pjit.py:1027(_create_sharding_for_array)\n",
      "       15    0.000    0.000    0.002    0.000 array_methods.py:109(_astype)\n",
      "       15    0.000    0.000    0.000    0.000 partial_eval.py:970(<listcomp>)\n",
      "        8    0.000    0.000    0.000    0.000 lax_numpy.py:1330(<listcomp>)\n",
      "      128    0.000    0.000    0.000    0.000 lax_numpy.py:11865(<genexpr>)\n",
      "       23    0.000    0.000    0.000    0.000 lax_numpy.py:11899(<listcomp>)\n",
      "       32    0.000    0.000    0.000    0.000 util.py:480(__init__)\n",
      "       18    0.000    0.000    0.000    0.000 api_util.py:245(_ensure_inbounds)\n",
      "       52    0.000    0.000    0.000    0.000 inspect.py:3002(<genexpr>)\n",
      "       23    0.000    0.000    0.000    0.000 lax_numpy.py:11900(<listcomp>)\n",
      "       14    0.000    0.000    0.113    0.008 linear_util.py:350(hashable_partial)\n",
      "       30    0.000    0.000    0.000    0.000 lax_numpy.py:5660(canonicalize_device_to_sharding)\n",
      "       58    0.000    0.000    0.000    0.000 copy.py:264(<genexpr>)\n",
      "       29    0.000    0.000    0.000    0.000 compilation_cache.py:161(is_persistent_cache_enabled)\n",
      "       30    0.000    0.000    0.000    0.000 lax.py:1789(<listcomp>)\n",
      "        2    0.000    0.000    0.000    0.000 ad.py:204(<genexpr>)\n",
      "       32    0.000    0.000    0.000    0.000 pjit.py:596(<genexpr>)\n",
      "       29    0.000    0.000    0.000    0.000 copyreg.py:104(__newobj__)\n",
      "       30    0.000    0.000    0.000    0.000 api_util.py:117(<genexpr>)\n",
      "       16    0.000    0.000    0.000    0.000 partial_eval.py:612(<listcomp>)\n",
      "        1    0.000    0.000    0.000    0.000 lax_numpy.py:9729(<setcomp>)\n",
      "       16    0.000    0.000    0.000    0.000 pjit.py:726(_infer_params_cached)\n",
      "       15    0.000    0.000    0.000    0.000 partial_eval.py:948(<listcomp>)\n",
      "        2    0.000    0.000    0.000    0.000 api_util.py:469(infer_argnums_and_argnames)\n",
      "      102    0.000    0.000    0.000    0.000 inspect.py:2734(kind)\n",
      "       36    0.000    0.000    0.000    0.000 {method 'isidentifier' of 'str' objects}\n",
      "        1    0.000    0.000    0.000    0.000 lax.py:1931(full_like)\n",
      "       30    0.000    0.000    0.000    0.000 lax.py:1790(<listcomp>)\n",
      "        1    0.000    0.000    0.000    0.000 api_util.py:501(resolve_argnums)\n",
      "        1    0.000    0.000    0.000    0.000 lax.py:4754(_reshape_shape_rule)\n",
      "      100    0.000    0.000    0.000    0.000 {built-in method builtins.callable}\n",
      "       15    0.000    0.000    0.000    0.000 api_util.py:150(__eq__)\n",
      "       58    0.000    0.000    0.000    0.000 {method 'getvalue' of '_io.BytesIO' objects}\n",
      "       58    0.000    0.000    0.000    0.000 {method 'strip' of 'bytes' objects}\n",
      "       15    0.000    0.000    0.000    0.000 ad.py:951(<listcomp>)\n",
      "       31    0.000    0.000    0.000    0.000 pjit.py:1409(__hash__)\n",
      "       47    0.000    0.000    0.000    0.000 partial_eval.py:620(<genexpr>)\n",
      "        2    0.000    0.000    0.000    0.000 ad.py:205(<genexpr>)\n",
      "       42    0.000    0.000    0.000    0.000 pxla.py:140(<lambda>)\n",
      "       16    0.000    0.000    0.000    0.000 ad.py:377(__init__)\n",
      "       15    0.000    0.000    0.000    0.000 core.py:2105(max_dim)\n",
      "        1    0.000    0.000    0.000    0.000 threading.py:575(is_set)\n",
      "       36    0.000    0.000    0.000    0.000 enum.py:1095(__new__)\n",
      "       15    0.000    0.000    0.000    0.000 util.py:492(__call__)\n",
      "       15    0.000    0.000    0.000    0.000 partial_eval.py:973(<listcomp>)\n",
      "       16    0.000    0.000    0.000    0.000 api_util.py:260(argnums_partial_except)\n",
      "       60    0.000    0.000    0.000    0.000 lax_numpy.py:5633(<genexpr>)\n",
      "      120    0.000    0.000    0.000    0.000 core.py:713(to_concrete_value)\n",
      "       29    0.000    0.000    0.000    0.000 copy.py:211(<listcomp>)\n",
      "       30    0.000    0.000    0.000    0.000 lax_numpy.py:5605(<lambda>)\n",
      "       57    0.000    0.000    0.000    0.000 array_methods.py:464(<genexpr>)\n",
      "        1    0.000    0.000    0.001    0.001 3237540815.py:3(get_x_from_k)\n",
      "        2    0.000    0.000    0.000    0.000 source_info_util.py:116(transform)\n",
      "       28    0.000    0.000    0.000    0.000 array_methods.py:468(<genexpr>)\n",
      "       91    0.000    0.000    0.000    0.000 ad.py:826(<lambda>)\n",
      "       45    0.000    0.000    0.000    0.000 numeric.py:2374(_array_equal_dispatcher)\n",
      "        6    0.000    0.000    0.000    0.000 parser.py:169(<genexpr>)\n",
      "      2/1    0.000    0.000    7.838    7.838 tree_util.py:476(__call__)\n",
      "       34    0.000    0.000    0.000    0.000 inspect.py:378(isfunction)\n",
      "       15    0.000    0.000    0.000    0.000 ad.py:941(<listcomp>)\n",
      "        1    0.000    0.000    0.000    0.000 parser.py:156(find_output_shape)\n",
      "        8    0.000    0.000    0.000    0.000 {method 'search' of 're.Pattern' objects}\n",
      "       29    0.000    0.000    0.000    0.000 mlir.py:531(dump_module_to_file)\n",
      "        4    0.000    0.000    0.000    0.000 util.py:412(wraps)\n",
      "       31    0.000    0.000    0.000    0.000 partial_eval.py:552(is_known)\n",
      "       15    0.000    0.000    0.000    0.000 partial_eval.py:965(<listcomp>)\n",
      "        2    0.000    0.000    0.000    0.000 tree_util.py:541(__new__)\n",
      "       32    0.000    0.000    0.000    0.000 linear_util.py:164(__name__)\n",
      "       59    0.000    0.000    0.000    0.000 partial_eval.py:1771(<setcomp>)\n",
      "       15    0.000    0.000    0.000    0.000 partial_eval.py:945(<listcomp>)\n",
      "       58    0.000    0.000    0.000    0.000 {method '__exit__' of '_thread.lock' objects}\n",
      "       83    0.000    0.000    0.000    0.000 mlir.py:1308(<listcomp>)\n",
      "       83    0.000    0.000    0.000    0.000 mlir.py:1860(<genexpr>)\n",
      "        1    0.000    0.000    0.000    0.000 _array_api.py:114(array_namespace)\n",
      "       83    0.000    0.000    0.000    0.000 mlir.py:1645(<listcomp>)\n",
      "       83    0.000    0.000    0.000    0.000 mlir.py:1394(<listcomp>)\n",
      "        1    0.000    0.000    0.000    0.000 api.py:478(_check_scalar)\n",
      "        1    0.000    0.000    0.000    0.000 _differentiable_functions.py:39(wrapped)\n",
      "       15    0.000    0.000    0.000    0.000 api_util.py:692(<listcomp>)\n",
      "       16    0.000    0.000    0.000    0.000 util.py:239(<listcomp>)\n",
      "       29    0.000    0.000    0.000    0.000 monitoring.py:46(record_event)\n",
      "       14    0.000    0.000    0.000    0.000 pxla.py:237(<listcomp>)\n",
      "       36    0.000    0.000    0.000    0.000 {method '__contains__' of 'frozenset' objects}\n",
      "       15    0.000    0.000    0.000    0.000 partial_eval.py:974(<listcomp>)\n",
      "        2    0.000    0.000    0.000    0.000 api_util.py:188(_validate_argnames)\n",
      "       59    0.000    0.000    0.000    0.000 partial_eval.py:2230(<listcomp>)\n",
      "        3    0.000    0.000    0.000    0.000 helpers.py:95(<genexpr>)\n",
      "        1    0.000    0.000    7.838    7.838 api.py:1854(_vjp_pullback_wrapper)\n",
      "        1    0.000    0.000    0.000    0.000 api_util.py:240(<listcomp>)\n",
      "        2    0.000    0.000    0.000    0.000 iostream.py:505(parent_header)\n",
      "       16    0.000    0.000    0.000    0.000 api_util.py:679(<listcomp>)\n",
      "        2    0.000    0.000    0.000    0.000 inspect.py:402(isgeneratorfunction)\n",
      "       60    0.000    0.000    0.000    0.000 lax_numpy.py:5608(<genexpr>)\n",
      "        1    0.000    0.000    0.000    0.000 _aliases.py:487(isdtype)\n",
      "       21    0.000    0.000    0.000    0.000 inspect.py:3015(parameters)\n",
      "        1    0.000    0.000    0.000    0.000 pjit.py:513(make_jit)\n",
      "       58    0.000    0.000    0.000    0.000 effects.py:104(<listcomp>)\n",
      "       59    0.000    0.000    0.000    0.000 partial_eval.py:1661(<listcomp>)\n",
      "       15    0.000    0.000    0.000    0.000 partial_eval.py:951(<listcomp>)\n",
      "        2    0.000    0.000    0.000    0.000 inspect.py:300(ismethod)\n",
      "       59    0.000    0.000    0.000    0.000 partial_eval.py:1670(<listcomp>)\n",
      "       59    0.000    0.000    0.000    0.000 partial_eval.py:1659(<genexpr>)\n",
      "        8    0.000    0.000    0.000    0.000 array.py:261(size)\n",
      "       15    0.000    0.000    0.000    0.000 partial_eval.py:962(<listcomp>)\n",
      "       16    0.000    0.000    0.000    0.000 <string>:2(__init__)\n",
      "       16    0.000    0.000    0.000    0.000 inspect.py:2814(__init__)\n",
      "       48    0.000    0.000    0.000    0.000 function_base.py:869(_copy_dispatcher)\n",
      "       30    0.000    0.000    0.000    0.000 partial_eval.py:938(<genexpr>)\n",
      "        2    0.000    0.000    0.000    0.000 shape_base.py:23(atleast_1d)\n",
      "       16    0.000    0.000    0.000    0.000 util.py:381(fun_qual_name)\n",
      "       32    0.000    0.000    0.000    0.000 pjit.py:600(<genexpr>)\n",
      "       58    0.000    0.000    0.000    0.000 cache_key.py:347(<genexpr>)\n",
      "        1    0.000    0.000    0.000    0.000 lax.py:4814(_reshape_transpose_rule)\n",
      "       14    0.000    0.000    0.000    0.000 ad.py:359(<lambda>)\n",
      "       30    0.000    0.000    0.000    0.000 ad.py:255(<genexpr>)\n",
      "        1    0.000    0.000    0.000    0.000 api_util.py:43(_ensure_index)\n",
      "        1    0.000    0.000    0.000    0.000 parser.py:334(<listcomp>)\n",
      "        2    0.000    0.000    0.000    0.000 api_util.py:158(_validate_argnums)\n",
      "       32    0.000    0.000    0.000    0.000 {built-in method sys.getrecursionlimit}\n",
      "       15    0.000    0.000    0.000    0.000 core.py:1611(canonicalize_dim)\n",
      "       16    0.000    0.000    0.000    0.000 api_util.py:292(<listcomp>)\n",
      "       30    0.000    0.000    0.000    0.000 lax.py:2086(<genexpr>)\n",
      "       58    0.000    0.000    0.000    0.000 profiler.py:419(trace)\n",
      "        1    0.000    0.000    0.000    0.000 core.py:1700(<lambda>)\n",
      "        3    0.000    0.000    0.000    0.000 source_info_util.py:275(extend_name_stack)\n",
      "        1    0.000    0.000    0.000    0.000 _differentiable_functions.py:35(_wrapper_grad)\n",
      "       16    0.000    0.000    0.000    0.000 partial_eval.py:590(<listcomp>)\n",
      "        5    0.000    0.000    0.000    0.000 parser.py:169(<listcomp>)\n",
      "       10    0.000    0.000    0.000    0.000 lax.py:202(_extract_tracers_dyn_shape)\n",
      "       16    0.000    0.000    0.000    0.000 partial_eval.py:625(<listcomp>)\n",
      "       29    0.000    0.000    0.000    0.000 dispatch.py:188(should_tuple_args)\n",
      "       29    0.000    0.000    0.000    0.000 sharding_impls.py:1214(__post_init__)\n",
      "        9    0.000    0.000    0.000    0.000 array_methods.py:447(<listcomp>)\n",
      "       29    0.000    0.000    0.000    0.000 compiler.py:353(<lambda>)\n",
      "       29    0.000    0.000    0.000    0.000 pxla.py:1764(<setcomp>)\n",
      "       29    0.000    0.000    0.000    0.000 pjit.py:273(<genexpr>)\n",
      "       58    0.000    0.000    0.000    0.000 copy.py:182(_deepcopy_atomic)\n",
      "       15    0.000    0.000    0.000    0.000 lax_numpy.py:6002(_normalize_to_sharding)\n",
      "       32    0.000    0.000    0.000    0.000 partial_eval.py:800(<genexpr>)\n",
      "        2    0.000    0.000    0.000    0.000 pjit.py:372(_split_layout_and_sharding)\n",
      "        1    0.000    0.000    0.000    0.000 _internal.py:26(wrapped_f)\n",
      "       30    0.000    0.000    0.000    0.000 partial_eval.py:1398(<setcomp>)\n",
      "       16    0.000    0.000    0.000    0.000 ad.py:81(<listcomp>)\n",
      "       29    0.000    0.000    0.000    0.000 cache_key.py:315(<listcomp>)\n",
      "        2    0.000    0.000    0.000    0.000 iostream.py:577(_schedule_flush)\n",
      "       15    0.000    0.000    0.000    0.000 lax_numpy.py:490(issubdtype)\n",
      "        1    0.000    0.000    0.000    0.000 lax.py:6382(_one)\n",
      "       16    0.000    0.000    0.000    0.000 api_util.py:296(argnames_partial_except)\n",
      "        3    0.000    0.000    0.000    0.000 util.py:369(__hash__)\n",
      "       31    0.000    0.000    0.000    0.000 tree_util.py:358(<listcomp>)\n",
      "       29    0.000    0.000    0.000    0.000 cache_key.py:50(get_flag_prefixes)\n",
      "       29    0.000    0.000    0.000    0.000 pxla.py:2147(<genexpr>)\n",
      "       15    0.000    0.000    0.000    0.000 core.py:1996(is_symbolic_dim)\n",
      "        1    0.000    0.000    0.000    0.000 _differentiable_functions.py:13(_wrapper_fun)\n",
      "        1    0.000    0.000    0.000    0.000 blas.py:10(can_blas)\n",
      "       29    0.000    0.000    0.000    0.000 pxla.py:2135(<genexpr>)\n",
      "       16    0.000    0.000    0.000    0.000 core.py:562(invalidate)\n",
      "        6    0.000    0.000    0.000    0.000 api_util.py:493(<genexpr>)\n",
      "       16    0.000    0.000    0.000    0.000 pjit.py:697(get_abstract_mesh_from_avals)\n",
      "       29    0.000    0.000    0.000    0.000 pxla.py:1785(<listcomp>)\n",
      "        5    0.000    0.000    0.000    0.000 api_util.py:144(__init__)\n",
      "        3    0.000    0.000    0.000    0.000 util.py:372(__eq__)\n",
      "        1    0.000    0.000    0.000    0.000 threading.py:1192(is_alive)\n",
      "       29    0.000    0.000    0.000    0.000 compiler.py:71(get_latest_profile_version)\n",
      "        6    0.000    0.000    0.000    0.000 helpers.py:22(compute_size_by_dict)\n",
      "        2    0.000    0.000    0.000    0.000 {method 'union' of 'frozenset' objects}\n",
      "       40    0.000    0.000    0.000    0.000 {built-in method builtins.setattr}\n",
      "        2    0.000    0.000    0.000    0.000 lax_numpy.py:9742(<genexpr>)\n",
      "       15    0.000    0.000    0.000    0.000 ad.py:955(<listcomp>)\n",
      "        4    0.000    0.000    0.000    0.000 parser.py:175(get_shape)\n",
      "       29    0.000    0.000    0.000    0.000 contextlib.py:766(__enter__)\n",
      "       15    0.000    0.000    0.000    0.000 ad.py:954(<listcomp>)\n",
      "        8    0.000    0.000    0.000    0.000 functools.py:65(wraps)\n",
      "       16    0.000    0.000    0.000    0.000 {method 'count' of 'str' objects}\n",
      "       15    0.000    0.000    0.000    0.000 partial_eval.py:961(<listcomp>)\n",
      "       30    0.000    0.000    0.000    0.000 lax_numpy.py:5607(<lambda>)\n",
      "        1    0.000    0.000    0.000    0.000 api.py:2640(named_call)\n",
      "       16    0.000    0.000    0.000    0.000 api_util.py:680(<dictcomp>)\n",
      "       15    0.000    0.000    0.000    0.000 api_util.py:147(__hash__)\n",
      "        1    0.000    0.000    0.000    0.000 lax.py:4811(_reshape_dtype_rule)\n",
      "        1    0.000    0.000    0.000    0.000 _differentiable_functions.py:303(_update_grad)\n",
      "       29    0.000    0.000    0.000    0.000 cache_key.py:56(custom_hook)\n",
      "        1    0.000    0.000    0.000    0.000 ad.py:230(<listcomp>)\n",
      "       16    0.000    0.000    0.000    0.000 pjit.py:717(__init__)\n",
      "        1    0.000    0.000    0.000    0.000 api.py:511(_check_output_dtype_revderiv)\n",
      "       29    0.000    0.000    0.000    0.000 contextlib.py:769(__exit__)\n",
      "        2    0.000    0.000    0.000    0.000 iostream.py:550(_is_master_process)\n",
      "        1    0.000    0.000    0.000    0.000 _minimize.py:1066(standardize_constraints)\n",
      "       15    0.000    0.000    0.000    0.000 pjit.py:1328(<genexpr>)\n",
      "       16    0.000    0.000    0.000    0.000 pjit.py:1397(<listcomp>)\n",
      "       16    0.000    0.000    0.000    0.000 pjit.py:809(_flat_axes_specs)\n",
      "        1    0.000    0.000    0.000    0.000 api.py:141(jit)\n",
      "        1    0.000    0.000    0.000    0.000 contract.py:332(<listcomp>)\n",
      "        2    0.000    0.000    0.000    0.000 helpers.py:106(flop_count)\n",
      "       16    0.000    0.000    0.000    0.000 pjit.py:671(<genexpr>)\n",
      "        1    0.000    0.000    0.000    0.000 iostream.py:138(_event_pipe)\n",
      "        2    0.000    0.000    0.000    0.000 sharding_impls.py:1138(_check_unique_resources)\n",
      "        1    0.000    0.000    0.000    0.000 threading.py:1125(_wait_for_tstate_lock)\n",
      "       10    0.000    0.000    0.000    0.000 {method 'find' of 'str' objects}\n",
      "        3    0.000    0.000    0.000    0.000 {method 'split' of 'str' objects}\n",
      "        2    0.000    0.000    0.000    0.000 {method 'replace' of 'str' objects}\n",
      "        1    0.000    0.000    0.000    0.000 shape_base.py:81(atleast_2d)\n",
      "        1    0.000    0.000    0.000    0.000 api_util.py:554(_assert_no_intersection)\n",
      "        1    0.000    0.000    0.000    0.000 contract.py:298(<listcomp>)\n",
      "        1    0.000    0.000    0.000    0.000 {method 'acquire' of '_thread.lock' objects}\n",
      "        5    0.000    0.000    0.000    0.000 util.py:378(fun_name)\n",
      "        1    0.000    0.000    0.000    0.000 contract.py:302(<listcomp>)\n",
      "        2    0.000    0.000    0.000    0.000 ad.py:211(<genexpr>)\n",
      "        1    0.000    0.000    0.000    0.000 contextlib.py:77(__call__)\n",
      "        5    0.000    0.000    0.000    0.000 api_util.py:387(is_hashable)\n",
      "        1    0.000    0.000    0.000    0.000 _util.py:1086(__getattr__)\n",
      "        1    0.000    0.000    0.000    0.000 api_util.py:352(rebase_donate_argnums)\n",
      "       14    0.000    0.000    0.000    0.000 sharding_impls.py:488(is_fully_replicated)\n",
      "        3    0.000    0.000    0.000    0.000 {method 'items' of 'mappingproxy' objects}\n",
      "        6    0.000    0.000    0.000    0.000 core.py:1701(<genexpr>)\n",
      "        1    0.000    0.000    0.000    0.000 ad.py:216(<listcomp>)\n",
      "        2    0.000    0.000    0.000    0.000 functools.py:421(_unwrap_partial)\n",
      "        1    0.000    0.000    0.000    0.000 special.py:18(__new__)\n",
      "        1    0.000    0.000    0.000    0.000 contextlib.py:118(_recreate_cm)\n",
      "        6    0.000    0.000    0.000    0.000 util.py:345(__init__)\n",
      "        1    0.000    0.000    0.000    0.000 core.py:2434(typecompat)\n",
      "        2    0.000    0.000    0.000    0.000 api_util.py:266(<genexpr>)\n",
      "        2    0.000    0.000    0.000    0.000 {built-in method posix.getpid}\n",
      "        2    0.000    0.000    0.000    0.000 ad.py:229(<genexpr>)\n",
      "        1    0.000    0.000    0.000    0.000 _base.py:1400(issparse)\n",
      "        1    0.000    0.000    0.000    0.000 {method 'disable' of '_lsprof.Profiler' objects}\n",
      "        3    0.000    0.000    0.000    0.000 contract.py:340(<genexpr>)\n",
      "        2    0.000    0.000    0.000    0.000 {method 'get' of '_contextvars.ContextVar' objects}\n",
      "        2    0.000    0.000    0.000    0.000 {method 'write' of '_io.StringIO' objects}\n",
      "        1    0.000    0.000    0.000    0.000 tz.py:74(utcoffset)\n",
      "        1    0.000    0.000    0.000    0.000 <string>:1(<lambda>)\n",
      "        1    0.000    0.000    0.000    0.000 contract.py:102(_choose_memory_arg)\n",
      "        4    0.000    0.000    0.000    0.000 lax.py:4755(<genexpr>)\n",
      "        2    0.000    0.000    0.000    0.000 tree_util.py:473(__init__)\n",
      "        2    0.000    0.000    0.000    0.000 api_util.py:242(<genexpr>)\n",
      "        1    0.000    0.000    0.000    0.000 contract.py:378(<listcomp>)\n",
      "        1    0.000    0.000    0.000    0.000 contract.py:379(<listcomp>)\n",
      "        1    0.000    0.000    0.000    0.000 {method 'lower' of 'str' objects}\n",
      "        3    0.000    0.000    0.000    0.000 util.py:370(<genexpr>)\n",
      "        2    0.000    0.000    0.000    0.000 api_util.py:267(<genexpr>)\n",
      "        1    0.000    0.000    0.000    0.000 util.py:366(__init__)\n",
      "        1    0.000    0.000    0.000    0.000 lax.py:132(asarray)\n",
      "        2    0.000    0.000    0.000    0.000 sharding_impls.py:1118(<lambda>)\n",
      "        1    0.000    0.000    0.000    0.000 pjit.py:1411(__eq__)\n",
      "        1    0.000    0.000    0.000    0.000 _optimize.py:175(_check_unknown_options)\n",
      "        2    0.000    0.000    0.000    0.000 shape_base.py:19(_atleast_1d_dispatcher)\n",
      "        2    0.000    0.000    0.000    0.000 pjit.py:373(<lambda>)\n",
      "        1    0.000    0.000    0.000    0.000 {method 'intersection' of 'set' objects}\n",
      "        1    0.000    0.000    0.000    0.000 shape_base.py:77(_atleast_2d_dispatcher)\n",
      "        1    0.000    0.000    0.000    0.000 api_util.py:300(<dictcomp>)\n",
      "        1    0.000    0.000    0.000    0.000 _optimize.py:88(_wrap_callback)\n",
      "        1    0.000    0.000    0.000    0.000 pjit.py:172(__eq__)\n",
      "        1    0.000    0.000    0.000    0.000 _optimize.py:283(hess)\n",
      "        1    0.000    0.000    0.000    0.000 _cobyla_py.py:275(_jac)"
     ]
    }
   ],
   "source": [
    "%prun -D program_jax.prof compute_new_x({\"use_jax\":True})"
   ]
  },
  {
   "cell_type": "markdown",
   "id": "68314b00",
   "metadata": {},
   "source": [
    "## Jitting jax cost function"
   ]
  },
  {
   "cell_type": "markdown",
   "id": "5b8117b9",
   "metadata": {},
   "source": [
    "### 1GST"
   ]
  },
  {
   "cell_type": "code",
   "execution_count": 6,
   "id": "63139642",
   "metadata": {},
   "outputs": [
    {
     "name": "stderr",
     "output_type": "stream",
     "text": [
      "2025-01-14 15:12:33,248 - iqm.benchmarks.logging_config - INFO - Now generating 100 random GST circuits...\n",
      "2025-01-14 15:12:33,524 - iqm.benchmarks.logging_config - INFO - Will transpile all 100 circuits according to fixed physical layout\n",
      "2025-01-14 15:12:33,525 - iqm.benchmarks.logging_config - INFO - Transpiling for backend IQMFakeApolloBackend with optimization level 0, sabre routing method all circuits\n",
      "2025-01-14 15:12:34,017 - iqm.benchmarks.logging_config - INFO - Submitting batch with 100 circuits corresponding to qubits [0]\n",
      "2025-01-14 15:12:34,032 - iqm.benchmarks.logging_config - INFO - Now executing the corresponding circuit batch\n",
      "2025-01-14 15:12:34,109 - iqm.benchmarks.logging_config - INFO - Retrieving all counts\n"
     ]
    }
   ],
   "source": [
    "# First using the JAX compilation with smaller qubits to see if this helps\n",
    "Q1_GST = GSTConfiguration(\n",
    "    qubit_layouts=[[0]],\n",
    "    gate_set=\"1QXYI\",\n",
    "    num_circuits=100,\n",
    "    shots=1000,\n",
    "    rank=4,\n",
    ")\n",
    "\n",
    "K, X, E, rho, y, J, l, d, pdim, r, n_povm, bsize, meas_samples, n, nt, rK = get_full_mgst_parameters_from_configuration(\n",
    "    Q1_GST, backend\n",
    ")"
   ]
  },
  {
   "cell_type": "code",
   "execution_count": 7,
   "id": "643a40f7",
   "metadata": {},
   "outputs": [],
   "source": [
    "J_processed = [row[row != -1] for row in J]\n",
    "# cost_function_jax_jit(K, d, r, E, rho, J_processed, y)"
   ]
  },
  {
   "cell_type": "code",
   "execution_count": 9,
   "id": "98e894d9",
   "metadata": {},
   "outputs": [
    {
     "name": "stdout",
     "output_type": "stream",
     "text": [
      "differnet length at: 0-th iteration\n",
      "differnet length at: 1-th iteration\n",
      "differnet length at: 4-th iteration\n",
      "differnet length at: 10-th iteration\n",
      "differnet length at: 16-th iteration\n",
      "differnet length at: 22-th iteration\n",
      "differnet length at: 29-th iteration\n",
      "differnet length at: 36-th iteration\n",
      "differnet length at: 43-th iteration\n",
      "differnet length at: 50-th iteration\n",
      "differnet length at: 58-th iteration\n",
      "differnet length at: 66-th iteration\n",
      "differnet length at: 74-th iteration\n",
      "differnet length at: 82-th iteration\n",
      "differnet length at: 91-th iteration\n"
     ]
    }
   ],
   "source": [
    "# We see this is kind of what we expected. The _mean_squared_error_inner_jit is not compiled again! This is good!\n",
    "# However, the contraction gets compiled 15 times. Why?\n",
    "# My theory is that it's because of the change in the elements lengths of the J. Which would make sense!\n",
    "\n",
    "previous_length = len(J[0])\n",
    "for i, element in enumerate(J_processed):\n",
    "    new_length = len(element)\n",
    "    if new_length != previous_length:\n",
    "        print(f\"differnet length at: {i}-th iteration\")\n",
    "        previous_length = new_length"
   ]
  },
  {
   "cell_type": "code",
   "execution_count": 10,
   "id": "90407da1",
   "metadata": {},
   "outputs": [
    {
     "name": "stderr",
     "output_type": "stream",
     "text": [
      "INFO:2025-01-14 13:59:13,562:jax._src.xla_bridge:927: Unable to initialize backend 'rocm': module 'jaxlib.xla_extension' has no attribute 'GpuAllocatorConfig'\n",
      "2025-01-14 13:59:13,562 - jax._src.xla_bridge - INFO - Unable to initialize backend 'rocm': module 'jaxlib.xla_extension' has no attribute 'GpuAllocatorConfig'\n",
      "INFO:2025-01-14 13:59:13,564:jax._src.xla_bridge:927: Unable to initialize backend 'tpu': INTERNAL: Failed to open libtpu.so: dlopen(libtpu.so, 0x0001): tried: 'libtpu.so' (no such file), '/System/Volumes/Preboot/Cryptexes/OSlibtpu.so' (no such file), '/Users/emiliano.godinez/.pyenv/versions/3.11.10/lib/libtpu.so' (no such file), '/System/Volumes/Preboot/Cryptexes/OS/Users/emiliano.godinez/.pyenv/versions/3.11.10/lib/libtpu.so' (no such file), '/opt/homebrew/lib/libtpu.so' (no such file), '/System/Volumes/Preboot/Cryptexes/OS/opt/homebrew/lib/libtpu.so' (no such file), '/Users/emiliano.godinez/.pyenv/versions/3.11.10/lib/libtpu.so' (no such file), '/System/Volumes/Preboot/Cryptexes/OS/Users/emiliano.godinez/.pyenv/versions/3.11.10/lib/libtpu.so' (no such file), '/opt/homebrew/lib/libtpu.so' (no such file), '/System/Volumes/Preboot/Cryptexes/OS/opt/homebrew/lib/libtpu.so' (no such file), '/Users/emiliano.godinez/.pyenv/versions/3.11.10/lib/libtpu.so' (no such file), '/System/Volumes/Preboot/Cryptexes/OS/Users/emiliano.godinez/.pyenv/versions/3.11.10/lib/libtpu.so' (no such file), '/opt/homebrew/lib/libtpu.so' (no such file), '/System/Volumes/Preboot/Cryptexes/OS/opt/homebrew/lib/libtpu.so' (no such file), '/usr/lib/libtpu.so' (no such file, not in dyld cache), 'libtpu.so' (no such file), '/usr/local/lib/libtpu.so' (no such file), '/usr/lib/libtpu.so' (no such file, not in dyld cache)\n",
      "2025-01-14 13:59:13,564 - jax._src.xla_bridge - INFO - Unable to initialize backend 'tpu': INTERNAL: Failed to open libtpu.so: dlopen(libtpu.so, 0x0001): tried: 'libtpu.so' (no such file), '/System/Volumes/Preboot/Cryptexes/OSlibtpu.so' (no such file), '/Users/emiliano.godinez/.pyenv/versions/3.11.10/lib/libtpu.so' (no such file), '/System/Volumes/Preboot/Cryptexes/OS/Users/emiliano.godinez/.pyenv/versions/3.11.10/lib/libtpu.so' (no such file), '/opt/homebrew/lib/libtpu.so' (no such file), '/System/Volumes/Preboot/Cryptexes/OS/opt/homebrew/lib/libtpu.so' (no such file), '/Users/emiliano.godinez/.pyenv/versions/3.11.10/lib/libtpu.so' (no such file), '/System/Volumes/Preboot/Cryptexes/OS/Users/emiliano.godinez/.pyenv/versions/3.11.10/lib/libtpu.so' (no such file), '/opt/homebrew/lib/libtpu.so' (no such file), '/System/Volumes/Preboot/Cryptexes/OS/opt/homebrew/lib/libtpu.so' (no such file), '/Users/emiliano.godinez/.pyenv/versions/3.11.10/lib/libtpu.so' (no such file), '/System/Volumes/Preboot/Cryptexes/OS/Users/emiliano.godinez/.pyenv/versions/3.11.10/lib/libtpu.so' (no such file), '/opt/homebrew/lib/libtpu.so' (no such file), '/System/Volumes/Preboot/Cryptexes/OS/opt/homebrew/lib/libtpu.so' (no such file), '/usr/lib/libtpu.so' (no such file, not in dyld cache), 'libtpu.so' (no such file), '/usr/local/lib/libtpu.so' (no such file), '/usr/lib/libtpu.so' (no such file, not in dyld cache)\n"
     ]
    },
    {
     "data": {
      "text/plain": [
       "Array(0.00462135, dtype=float64)"
      ]
     },
     "execution_count": 10,
     "metadata": {},
     "output_type": "execute_result"
    }
   ],
   "source": [
    "cost_function_jax(K, d, r, E, rho, J, y)"
   ]
  },
  {
   "cell_type": "code",
   "execution_count": 17,
   "id": "4054cc76",
   "metadata": {},
   "outputs": [
    {
     "data": {
      "text/plain": [
       "Array(0.00250767, dtype=float64)"
      ]
     },
     "execution_count": 17,
     "metadata": {},
     "output_type": "execute_result"
    }
   ],
   "source": [
    "# J_processed[1] = [2]\n",
    "# cost_function_jax_jit(K, d, r, E, rho, J_processed, y)\n",
    "# Result: Changing the values of the J does make us have to recompile"
   ]
  },
  {
   "cell_type": "code",
   "execution_count": 8,
   "id": "5af6cf0f",
   "metadata": {},
   "outputs": [
    {
     "name": "stderr",
     "output_type": "stream",
     "text": [
      "INFO:2025-01-14 15:12:39,282:jax._src.xla_bridge:927: Unable to initialize backend 'rocm': module 'jaxlib.xla_extension' has no attribute 'GpuAllocatorConfig'\n",
      "2025-01-14 15:12:39,282 - jax._src.xla_bridge - INFO - Unable to initialize backend 'rocm': module 'jaxlib.xla_extension' has no attribute 'GpuAllocatorConfig'\n",
      "INFO:2025-01-14 15:12:39,284:jax._src.xla_bridge:927: Unable to initialize backend 'tpu': INTERNAL: Failed to open libtpu.so: dlopen(libtpu.so, 0x0001): tried: 'libtpu.so' (no such file), '/System/Volumes/Preboot/Cryptexes/OSlibtpu.so' (no such file), '/Users/emiliano.godinez/.pyenv/versions/3.11.10/lib/libtpu.so' (no such file), '/System/Volumes/Preboot/Cryptexes/OS/Users/emiliano.godinez/.pyenv/versions/3.11.10/lib/libtpu.so' (no such file), '/opt/homebrew/lib/libtpu.so' (no such file), '/System/Volumes/Preboot/Cryptexes/OS/opt/homebrew/lib/libtpu.so' (no such file), '/Users/emiliano.godinez/.pyenv/versions/3.11.10/lib/libtpu.so' (no such file), '/System/Volumes/Preboot/Cryptexes/OS/Users/emiliano.godinez/.pyenv/versions/3.11.10/lib/libtpu.so' (no such file), '/opt/homebrew/lib/libtpu.so' (no such file), '/System/Volumes/Preboot/Cryptexes/OS/opt/homebrew/lib/libtpu.so' (no such file), '/Users/emiliano.godinez/.pyenv/versions/3.11.10/lib/libtpu.so' (no such file), '/System/Volumes/Preboot/Cryptexes/OS/Users/emiliano.godinez/.pyenv/versions/3.11.10/lib/libtpu.so' (no such file), '/opt/homebrew/lib/libtpu.so' (no such file), '/System/Volumes/Preboot/Cryptexes/OS/opt/homebrew/lib/libtpu.so' (no such file), '/usr/lib/libtpu.so' (no such file, not in dyld cache), 'libtpu.so' (no such file), '/usr/local/lib/libtpu.so' (no such file), '/usr/lib/libtpu.so' (no such file, not in dyld cache)\n",
      "2025-01-14 15:12:39,284 - jax._src.xla_bridge - INFO - Unable to initialize backend 'tpu': INTERNAL: Failed to open libtpu.so: dlopen(libtpu.so, 0x0001): tried: 'libtpu.so' (no such file), '/System/Volumes/Preboot/Cryptexes/OSlibtpu.so' (no such file), '/Users/emiliano.godinez/.pyenv/versions/3.11.10/lib/libtpu.so' (no such file), '/System/Volumes/Preboot/Cryptexes/OS/Users/emiliano.godinez/.pyenv/versions/3.11.10/lib/libtpu.so' (no such file), '/opt/homebrew/lib/libtpu.so' (no such file), '/System/Volumes/Preboot/Cryptexes/OS/opt/homebrew/lib/libtpu.so' (no such file), '/Users/emiliano.godinez/.pyenv/versions/3.11.10/lib/libtpu.so' (no such file), '/System/Volumes/Preboot/Cryptexes/OS/Users/emiliano.godinez/.pyenv/versions/3.11.10/lib/libtpu.so' (no such file), '/opt/homebrew/lib/libtpu.so' (no such file), '/System/Volumes/Preboot/Cryptexes/OS/opt/homebrew/lib/libtpu.so' (no such file), '/Users/emiliano.godinez/.pyenv/versions/3.11.10/lib/libtpu.so' (no such file), '/System/Volumes/Preboot/Cryptexes/OS/Users/emiliano.godinez/.pyenv/versions/3.11.10/lib/libtpu.so' (no such file), '/opt/homebrew/lib/libtpu.so' (no such file), '/System/Volumes/Preboot/Cryptexes/OS/opt/homebrew/lib/libtpu.so' (no such file), '/usr/lib/libtpu.so' (no such file, not in dyld cache), 'libtpu.so' (no such file), '/usr/local/lib/libtpu.so' (no such file), '/usr/lib/libtpu.so' (no such file, not in dyld cache)\n"
     ]
    },
    {
     "name": "stdout",
     "output_type": "stream",
     "text": [
      "63.5 ms ± 1.34 ms per loop (mean ± std. dev. of 7 runs, 1 loop each)\n"
     ]
    }
   ],
   "source": [
    "# not Jitting anything\n",
    "%timeit cost_function_jax(K, d, r, E, rho, J, y)"
   ]
  },
  {
   "cell_type": "code",
   "execution_count": 9,
   "id": "2886212c",
   "metadata": {},
   "outputs": [
    {
     "name": "stdout",
     "output_type": "stream",
     "text": [
      "CPU times: user 1.64 s, sys: 57.4 ms, total: 1.69 s\n",
      "Wall time: 681 ms\n"
     ]
    },
    {
     "data": {
      "text/plain": [
       "Array(0.00203852, dtype=float64)"
      ]
     },
     "execution_count": 9,
     "metadata": {},
     "output_type": "execute_result"
    }
   ],
   "source": [
    "# Jitting everything\n",
    "%time cost_function_jax_jit(K, d, r, E, rho, J_processed, y)"
   ]
  },
  {
   "cell_type": "code",
   "execution_count": 17,
   "id": "1492dfeb",
   "metadata": {},
   "outputs": [
    {
     "name": "stdout",
     "output_type": "stream",
     "text": [
      "375 μs ± 842 ns per loop (mean ± std. dev. of 7 runs, 1,000 loops each)\n"
     ]
    }
   ],
   "source": [
    "# Jitting everything\n",
    "from mGST.low_level_jit import _cost_function_jax_jit, _cost_function_jax_unjit\n",
    "\n",
    "# This is the time it takes to compile the whole Jittable function\n",
    "cost_1gst = jax.jit(_cost_function_jax_jit)\n",
    "X = _cost_function_jax_unjit(K, d, r)\n",
    "%timeit cost_1gst.lower(X, E, rho, J, y).compile()"
   ]
  },
  {
   "cell_type": "code",
   "execution_count": null,
   "id": "0c3088e2",
   "metadata": {},
   "outputs": [],
   "source": [
    "# Preparing for evaluation\n",
    "X = _cost_function_jax_unjit(K, d, r)\n",
    "cost_1gst_compiled =  cost_1gst.lower(X, E, rho, J, y).compile()"
   ]
  },
  {
   "cell_type": "code",
   "execution_count": 20,
   "id": "e01a213d",
   "metadata": {},
   "outputs": [
    {
     "name": "stdout",
     "output_type": "stream",
     "text": [
      "983 μs ± 26.1 μs per loop (mean ± std. dev. of 7 runs, 1,000 loops each)\n"
     ]
    }
   ],
   "source": [
    "%%timeit X = _cost_function_jax_unjit(K, d, r)\n",
    "cost_1gst_compiled(X, E, rho, J, y)\n",
    "# This is how long it takes to evaluate once it was compiled once already"
   ]
  },
  {
   "cell_type": "code",
   "execution_count": 24,
   "id": "d59a73d6",
   "metadata": {},
   "outputs": [
    {
     "data": {
      "text/plain": [
       "1.3579999999999999"
      ]
     },
     "execution_count": 24,
     "metadata": {},
     "output_type": "execute_result"
    }
   ],
   "source": [
    "# less than we had just running it for the first time only once (218 ms)\n",
    "total_time_first_run = 375e-6 + 983e-6\n",
    "total_time_first_run*1000 # ms"
   ]
  },
  {
   "cell_type": "code",
   "execution_count": 10,
   "id": "2a9f2e91",
   "metadata": {},
   "outputs": [
    {
     "name": "stdout",
     "output_type": "stream",
     "text": [
      "6.38 ms ± 194 μs per loop (mean ± std. dev. of 7 runs, 100 loops each)\n"
     ]
    }
   ],
   "source": [
    "%timeit cost_function_jax_jit(K, d, r, E, rho, J_processed, y)"
   ]
  },
  {
   "cell_type": "code",
   "execution_count": 12,
   "id": "607188df",
   "metadata": {},
   "outputs": [
    {
     "name": "stdout",
     "output_type": "stream",
     "text": [
      "215 μs ± 4.56 μs per loop (mean ± std. dev. of 7 runs, 1 loop each)\n"
     ]
    }
   ],
   "source": [
    "%%timeit X = get_x_from_k(k=K, d=d, r=r)\n",
    "objf(X, E, rho, J, y)\n",
    "# Jitting using Numba"
   ]
  },
  {
   "cell_type": "markdown",
   "id": "d17058e1",
   "metadata": {},
   "source": [
    "**Conclusions from timeit comparison**\n",
    "\n",
    "* Numba still has an edge over JAX even when Jitting everything. After running both once to not include compilation time, wee see the comparison:\n",
    "    * 1GST:\n",
    "        * NUMBA: 224 μs ± 2.24 μs per loop (mean ± std. dev. of 7 runs, 1,000 loops each)\n",
    "        * JAX (JIT all): 511 μs ± 7.08 μs per loop (mean ± std. dev. of 7 runs, 1,000 loops each)\n",
    "        * JAX (JIT nothing): 61.2 ms ± 338 μs per loop (mean ± std. dev. of 7 runs, 10 loops each)\n",
    "\n",
    "* Not a big difference. But already for 2GST the compilation time for JAX becomes too high. The problem is that currently we are compilling the whole function. How about instead we compile only the loops part that are the heaviest?"
   ]
  },
  {
   "cell_type": "markdown",
   "id": "dd2b2b53",
   "metadata": {},
   "source": [
    "#### Profiling 1GST\n",
    "\n",
    "We need to see what parts are worth compiling or not"
   ]
  },
  {
   "cell_type": "code",
   "execution_count": 16,
   "id": "45c157a7",
   "metadata": {},
   "outputs": [
    {
     "data": {
      "text/plain": [
       "100"
      ]
     },
     "execution_count": 16,
     "metadata": {},
     "output_type": "execute_result"
    }
   ],
   "source": [
    "J_processed = [row[row != -1] for row in J]\n",
    "len(J_processed)"
   ]
  },
  {
   "cell_type": "code",
   "execution_count": 17,
   "id": "c22b9636",
   "metadata": {},
   "outputs": [
    {
     "data": {
      "text/plain": [
       "Array(0.0021935, dtype=float64)"
      ]
     },
     "execution_count": 17,
     "metadata": {},
     "output_type": "execute_result"
    }
   ],
   "source": [
    "cost_function_jax(K, d, r, E, rho, J, y)"
   ]
  },
  {
   "cell_type": "code",
   "execution_count": 11,
   "id": "dc8c66b4",
   "metadata": {},
   "outputs": [
    {
     "name": "stdout",
     "output_type": "stream",
     "text": [
      " \n",
      "*** Profile stats marshalled to file 'jit_jax_cost.prof'.\n"
     ]
    },
    {
     "name": "stdout",
     "output_type": "stream",
     "text": [
      "         245752 function calls in 0.126 seconds\n",
      "\n",
      "   Ordered by: internal time\n",
      "\n",
      "   ncalls  tottime  percall  cumtime  percall filename:lineno(function)\n",
      "     2437    0.017    0.000    0.022    0.000 dispatch.py:83(apply_primitive)\n",
      "      918    0.011    0.000    0.060    0.000 lax_numpy.py:11834(_attempt_rewriting_take_via_slice)\n",
      "      818    0.006    0.000    0.011    0.000 lax_numpy.py:2910(where)\n",
      "    53127    0.005    0.000    0.009    0.000 {built-in method builtins.isinstance}\n",
      "     2718    0.004    0.000    0.007    0.000 dtypes.py:742(dtype)\n",
      "      818    0.004    0.000    0.004    0.000 array_methods.py:188(_dot)\n",
      "     1202    0.004    0.000    0.019    0.000 array_methods.py:568(deferring_binary_op)\n",
      "     2437    0.003    0.000    0.003    0.000 config.py:194(trace_context)\n",
      "      500    0.003    0.000    0.005    0.000 ufunc_api.py:172(__call__)\n",
      "      100    0.003    0.000    0.104    0.001 low_level_jit.py:238(contract_jax)\n",
      "     2437    0.003    0.000    0.035    0.000 core.py:447(bind)\n",
      "     2437    0.003    0.000    0.030    0.000 core.py:928(process_primitive)\n",
      "     6190    0.002    0.000    0.011    0.000 {built-in method builtins.any}\n",
      "     2437    0.002    0.000    0.005    0.000 util.py:298(wrapper)\n",
      "      918    0.002    0.000    0.014    0.000 slicing.py:1356(_slice_impl)\n",
      "     4874    0.002    0.000    0.002    0.000 core.py:1039(set_trace)\n",
      "      918    0.002    0.000    0.063    0.000 array.py:334(__getitem__)\n",
      "     4054    0.002    0.000    0.006    0.000 util.py:132(_arraylike)\n",
      "     3618    0.002    0.000    0.002    0.000 dtypes.py:365(issubdtype)\n",
      "      918    0.002    0.000    0.014    0.000 lax.py:1905(squeeze)\n",
      "      500    0.002    0.000    0.009    0.000 lax.py:545(_convert_element_type)\n",
      "     5753    0.001    0.000    0.003    0.000 {built-in method _abc._abc_instancecheck}\n",
      "      200    0.001    0.000    0.009    0.000 lax_numpy.py:5483(array)\n",
      "     5772    0.001    0.000    0.007    0.000 util.py:140(<genexpr>)\n",
      "        1    0.001    0.001    0.125    0.125 low_level_jit.py:147(cost_function_jax)\n",
      "      200    0.001    0.000    0.017    0.000 low_level_jit.py:185(_mean_squared_error_inner)\n",
      "     2954    0.001    0.000    0.002    0.000 array.py:257(ndim)\n",
      "     2037    0.001    0.000    0.003    0.000 {built-in method builtins.all}\n",
      "      600    0.001    0.000    0.002    0.000 dtypes.py:823(check_user_dtype_supported)\n",
      "     5753    0.001    0.000    0.004    0.000 <frozen abc>:117(__instancecheck__)\n",
      "     1718    0.001    0.000    0.009    0.000 util.py:137(check_arraylike)\n",
      "     3672    0.001    0.000    0.001    0.000 lax_numpy.py:11898(<genexpr>)\n",
      "      200    0.001    0.000    0.001    0.000 array_methods.py:934(<lambda>)\n",
      "      100    0.001    0.000    0.022    0.000 lax_numpy.py:6639(_eye)\n",
      "     1836    0.001    0.000    0.001    0.000 <frozen importlib._bootstrap>:1207(_handle_fromlist)\n",
      "     2438    0.001    0.000    0.001    0.000 {jaxlib.utils.safe_map}\n",
      "     3734    0.001    0.000    0.001    0.000 {built-in method _abc._abc_subclasscheck}\n",
      "     2437    0.001    0.000    0.030    0.000 core.py:467(bind_with_trace)\n",
      "     2218    0.001    0.000    0.001    0.000 dtypes.py:273(canonicalize_dtype)\n",
      "     1836    0.001    0.000    0.001    0.000 {built-in method numpy.array}\n",
      "      918    0.001    0.000    0.001    0.000 numerictypes.py:357(issubdtype)\n",
      "     5912    0.001    0.000    0.001    0.000 array.py:249(shape)\n",
      "      918    0.001    0.000    0.019    0.000 slicing.py:56(slice)\n",
      "     3734    0.001    0.000    0.001    0.000 <frozen abc>:121(__subclasscheck__)\n",
      "     3672    0.001    0.000    0.001    0.000 lax_numpy.py:11838(<genexpr>)\n",
      "     9808    0.001    0.000    0.001    0.000 {built-in method builtins.len}\n",
      "     2437    0.001    0.000    0.001    0.000 core.py:921(check_eval_args)\n",
      "     1836    0.001    0.000    0.001    0.000 numerictypes.py:283(issubclass_)\n",
      "      918    0.001    0.000    0.060    0.000 lax_numpy.py:11915(_rewriting_take)\n",
      "      400    0.001    0.000    0.002    0.000 dtypes.py:766(_lattice_result_type)\n",
      "      200    0.000    0.000    0.003    0.000 lax.py:1784(broadcasted_iota)\n",
      "      922    0.000    0.000    0.001    0.000 {built-in method builtins.sorted}\n",
      "      100    0.000    0.000    0.009    0.000 lax_numpy.py:5676(astype)\n",
      "      918    0.000    0.000    0.001    0.000 lax_numpy.py:11806(_is_integer_index)\n",
      "      918    0.000    0.000    0.001    0.000 lax_numpy.py:11855(<setcomp>)\n",
      "     2237    0.000    0.000    0.001    0.000 core.py:1289(full_lower)\n",
      "      200    0.000    0.000    0.010    0.000 ufuncs.py:2565(power)\n",
      "      922    0.000    0.000    0.000    0.000 fromnumeric.py:1980(shape)\n",
      "      918    0.000    0.000    0.001    0.000 sharding_impls.py:1599(is_single_device_sharding)\n",
      "      918    0.000    0.000    0.000    0.000 lax_numpy.py:11899(<listcomp>)\n",
      "      918    0.000    0.000    0.000    0.000 util.py:385(canonicalize_axis)\n",
      "      918    0.000    0.000    0.001    0.000 sharding_impls.py:458(num_devices)\n",
      "     5163    0.000    0.000    0.000    0.000 {built-in method builtins.hasattr}\n",
      "      918    0.000    0.000    0.001    0.000 lax_numpy.py:11814(_is_valid_integer_index_for_slice)\n",
      "      200    0.000    0.000    0.001    0.000 tree_util.py:351(tree_map)\n",
      "     1836    0.000    0.000    0.001    0.000 lax.py:1908(<genexpr>)\n",
      "     2365    0.000    0.000    0.000    0.000 {built-in method builtins.getattr}\n",
      "        1    0.000    0.000    0.000    0.000 api_util.py:51(_ensure_index_tuple)\n",
      "      918    0.000    0.000    0.003    0.000 lax_numpy.py:166(_dtype)\n",
      "      400    0.000    0.000    0.002    0.000 dtypes.py:537(_dtype_and_weaktype)\n",
      "     1319    0.000    0.000    0.000    0.000 numeric.py:1855(isscalar)\n",
      "      918    0.000    0.000    0.000    0.000 lax_numpy.py:11900(<listcomp>)\n",
      "      918    0.000    0.000    0.001    0.000 lax_numpy.py:11854(<setcomp>)\n",
      "     1100    0.000    0.000    0.000    0.000 dtypes.py:723(is_weakly_typed)\n",
      "     1118    0.000    0.000    0.001    0.000 fromnumeric.py:3176(ndim)\n",
      "      100    0.000    0.000    0.023    0.000 lax_numpy.py:6579(eye)\n",
      "      200    0.000    0.000    0.004    0.000 util.py:105(promote_dtypes_numeric)\n",
      "      918    0.000    0.000    0.001    0.000 lax_numpy.py:11857(<setcomp>)\n",
      "      300    0.000    0.000    0.000    0.000 getlimits.py:685(__init__)\n",
      "     2200    0.000    0.000    0.000    0.000 array.py:253(dtype)\n",
      "      302    0.000    0.000    0.000    0.000 core.py:1594(canonicalize_shape)\n",
      "      600    0.000    0.000    0.001    0.000 util.py:162(<genexpr>)\n",
      "     1944    0.000    0.000    0.000    0.000 {built-in method builtins.max}\n",
      "     5527    0.000    0.000    0.000    0.000 {method 'append' of 'list' objects}\n",
      "     2754    0.000    0.000    0.000    0.000 {built-in method builtins.issubclass}\n",
      "      500    0.000    0.000    0.000    0.000 typing.py:1695(__hash__)\n",
      "      500    0.000    0.000    0.001    0.000 typing.py:373(inner)\n",
      "      100    0.000    0.000    0.001    0.000 lax.py:85(_clip_int_to_valid_range)\n",
      "     1836    0.000    0.000    0.000    0.000 array.py:265(sharding)\n",
      "      200    0.000    0.000    0.010    0.000 lax_numpy.py:5742(asarray)\n",
      "      500    0.000    0.000    0.001    0.000 typing.py:1397(__or__)\n",
      "      918    0.000    0.000    0.000    0.000 {jaxlib.utils.safe_zip}\n",
      "     1836    0.000    0.000    0.000    0.000 {method 'indices' of 'slice' objects}\n",
      "      918    0.000    0.000    0.000    0.000 lax_numpy.py:11845(<genexpr>)\n",
      "     1836    0.000    0.000    0.000    0.000 lax_numpy.py:11842(<genexpr>)\n",
      "      918    0.000    0.000    0.000    0.000 lax_numpy.py:11809(_is_simple_reverse_slice)\n",
      "     1836    0.000    0.000    0.000    0.000 lax_numpy.py:11850(<genexpr>)\n",
      "      100    0.000    0.000    0.000    0.000 dtypes.py:306(_scalar_type_to_dtype)\n",
      "      800    0.000    0.000    0.002    0.000 dtypes.py:767(<genexpr>)\n",
      "      918    0.000    0.000    0.000    0.000 sharding_impls.py:462(device_set)\n",
      "     2318    0.000    0.000    0.000    0.000 multiarray.py:669(result_type)\n",
      "      918    0.000    0.000    0.000    0.000 array.py:592(_check_if_deleted)\n",
      "      201    0.000    0.000    0.000    0.000 {method 'conj' of 'numpy.ndarray' objects}\n",
      "      918    0.000    0.000    0.000    0.000 lax_numpy.py:11828(_is_contiguous_slice)\n",
      "     1600    0.000    0.000    0.000    0.000 dtypes.py:539(<genexpr>)\n",
      "     2133    0.000    0.000    0.000    0.000 {built-in method _operator.index}\n",
      "      200    0.000    0.000    0.000    0.000 tree_util.py:88(tree_leaves)\n",
      "      200    0.000    0.000    0.000    0.000 dtypes.py:231(to_numeric_dtype)\n",
      "      100    0.000    0.000    0.000    0.000 warnings.py:467(__enter__)\n",
      "      200    0.000    0.000    0.003    0.000 lax.py:3079(_convert_element_type_bind_with_trace)\n",
      "      300    0.000    0.000    0.000    0.000 {built-in method numpy.asarray}\n",
      "      506    0.000    0.000    0.000    0.000 core.py:1575(_canonicalize_dimension)\n",
      "      100    0.000    0.000    0.000    0.000 warnings.py:182(_add_filter)\n",
      "        1    0.000    0.000    0.000    0.000 contextlib.py:78(inner)\n",
      "      400    0.000    0.000    0.000    0.000 lax_numpy.py:178(__hash__)\n",
      "      204    0.000    0.000    0.000    0.000 tree_util.py:74(tree_flatten)\n",
      "        1    0.000    0.000    0.126    0.126 <string>:1(<module>)\n",
      "      200    0.000    0.000    0.003    0.000 util.py:112(<listcomp>)\n",
      "     1118    0.000    0.000    0.000    0.000 fromnumeric.py:3172(_ndim_dispatcher)\n",
      "      918    0.000    0.000    0.000    0.000 lax_numpy.py:11865(<genexpr>)\n",
      "      301    0.000    0.000    0.000    0.000 core.py:1473(concrete_or_error)\n",
      "      200    0.000    0.000    0.002    0.000 lax.py:403(integer_pow)\n",
      "      200    0.000    0.000    0.000    0.000 lax.py:1790(<listcomp>)\n",
      "      100    0.000    0.000    0.001    0.000 dtypes.py:336(coerce_to_array)\n",
      "      400    0.000    0.000    0.000    0.000 tree_util.py:359(<genexpr>)\n",
      "      100    0.000    0.000    0.000    0.000 core.py:1486(concrete_dim_or_error)\n",
      "      200    0.000    0.000    0.000    0.000 getlimits.py:696(min)\n",
      "      901    0.000    0.000    0.000    0.000 {built-in method builtins.hash}\n",
      "      200    0.000    0.000    0.001    0.000 {built-in method builtins.abs}\n",
      "      408    0.000    0.000    0.000    0.000 core.py:2004(is_constant_dim)\n",
      "      100    0.000    0.000    0.000    0.000 warnings.py:488(__exit__)\n",
      "      922    0.000    0.000    0.000    0.000 fromnumeric.py:1976(_shape_dispatcher)\n",
      "      200    0.000    0.000    0.000    0.000 lax.py:1789(<listcomp>)\n",
      "      100    0.000    0.000    0.000    0.000 warnings.py:166(simplefilter)\n",
      "      400    0.000    0.000    0.000    0.000 lax_numpy.py:5633(<genexpr>)\n",
      "      100    0.000    0.000    0.000    0.000 {method 'remove' of 'list' objects}\n",
      "      100    0.000    0.000    0.009    0.000 array_methods.py:109(_astype)\n",
      "      100    0.000    0.000    0.000    0.000 core.py:2093(min_dim)\n",
      "      200    0.000    0.000    0.000    0.000 core.py:1446(is_concrete)\n",
      "      200    0.000    0.000    0.001    0.000 util.py:160(check_no_float0s)\n",
      "      200    0.000    0.000    0.000    0.000 lax_numpy.py:5660(canonicalize_device_to_sharding)\n",
      "      200    0.000    0.000    0.000    0.000 getlimits.py:709(max)\n",
      "      100    0.000    0.000    0.000    0.000 core.py:2105(max_dim)\n",
      "      100    0.000    0.000    0.000    0.000 warnings.py:441(__init__)\n",
      "      100    0.000    0.000    0.000    0.000 lax_numpy.py:490(issubdtype)\n",
      "      400    0.000    0.000    0.000    0.000 lax_numpy.py:5608(<genexpr>)\n",
      "      200    0.000    0.000    0.000    0.000 lax_numpy.py:5605(<lambda>)\n",
      "        1    0.000    0.000    0.000    0.000 contract.py:170(contract_path)\n",
      "      100    0.000    0.000    0.000    0.000 core.py:1611(canonicalize_dim)\n",
      "      200    0.000    0.000    0.000    0.000 core.py:1449(to_concrete_value)\n",
      "      504    0.000    0.000    0.000    0.000 typing.py:2287(cast)\n",
      "        1    0.000    0.000    0.126    0.126 {built-in method builtins.exec}\n",
      "        1    0.000    0.000    0.000    0.000 pjit.py:328(_cpp_pjit)\n",
      "        1    0.000    0.000    0.000    0.000 inspect.py:2331(_signature_from_function)\n",
      "      100    0.000    0.000    0.000    0.000 lax_numpy.py:6002(_normalize_to_sharding)\n",
      "        1    0.000    0.000    0.001    0.001 pjit.py:393(_parse_jit_arguments)\n",
      "        1    0.000    0.000    0.001    0.001 lax_numpy.py:9503(einsum)\n",
      "      101    0.000    0.000    0.000    0.000 {built-in method builtins.min}\n",
      "      100    0.000    0.000    0.000    0.000 core.py:1996(is_symbolic_dim)\n",
      "      200    0.000    0.000    0.000    0.000 tree_util.py:358(<listcomp>)\n",
      "      200    0.000    0.000    0.000    0.000 lax_numpy.py:5607(<lambda>)\n",
      "      300    0.000    0.000    0.000    0.000 {built-in method _warnings._filters_mutated}\n",
      "        1    0.000    0.000    0.000    0.000 api_util.py:501(resolve_argnums)\n",
      "        5    0.000    0.000    0.000    0.000 functools.py:35(update_wrapper)\n",
      "      100    0.000    0.000    0.000    0.000 {method 'insert' of 'list' objects}\n",
      "        1    0.000    0.000    0.000    0.000 array_methods.py:439(_compute_newshape)\n",
      "        1    0.000    0.000    0.000    0.000 lax.py:1290(reshape)\n",
      "        6    0.000    0.000    0.000    0.000 inspect.py:2669(__init__)\n",
      "        1    0.000    0.000    0.000    0.000 inspect.py:2435(_signature_from_callable)\n",
      "        2    0.000    0.000    0.000    0.000 api_util.py:188(_validate_argnames)\n",
      "        2    0.000    0.000    0.000    0.000 api_util.py:469(infer_argnums_and_argnames)\n",
      "        1    0.000    0.000    0.000    0.000 array_methods.py:299(_reshape)\n",
      "        4    0.000    0.000    0.000    0.000 traceback_util.py:153(api_boundary)\n",
      "        1    0.000    0.000    0.000    0.000 inspect.py:3007(from_callable)\n",
      "        1    0.000    0.000    0.000    0.000 lax_numpy.py:9729(<setcomp>)\n",
      "        1    0.000    0.000    0.001    0.001 pjit.py:513(make_jit)\n",
      "        2    0.000    0.000    0.000    0.000 api_util.py:158(_validate_argnums)\n",
      "        1    0.000    0.000    0.000    0.000 parser.py:289(parse_einsum_input)\n",
      "        1    0.000    0.000    0.000    0.000 functools.py:981(__get__)\n",
      "        2    0.000    0.000    0.000    0.000 sharding_impls.py:1114(prepare_axis_resources)\n",
      "        1    0.000    0.000    0.000    0.000 helpers.py:50(find_contraction)\n",
      "        1    0.000    0.000    0.000    0.000 pjit.py:479(_make_jit_wrapper)\n",
      "        6    0.000    0.000    0.000    0.000 enum.py:688(__call__)\n",
      "        3    0.000    0.000    0.000    0.000 source_info_util.py:275(extend_name_stack)\n",
      "        6    0.000    0.000    0.000    0.000 api_util.py:493(<genexpr>)\n",
      "        2    0.000    0.000    0.000    0.000 pjit.py:372(_split_layout_and_sharding)\n",
      "        1    0.000    0.000    0.000    0.000 inspect.py:2955(__init__)\n",
      "        1    0.000    0.000    0.000    0.000 blas.py:10(can_blas)\n",
      "        1    0.000    0.000    0.000    0.000 api_util.py:662(fun_sourceinfo)\n",
      "        1    0.000    0.000    0.000    0.000 inspect.py:391(_has_code_flag)\n",
      "        1    0.000    0.000    0.000    0.000 source_info_util.py:105(extend)\n",
      "        6    0.000    0.000    0.000    0.000 helpers.py:22(compute_size_by_dict)\n",
      "        1    0.000    0.000    0.000    0.000 util.py:422(wrapper)\n",
      "        2    0.000    0.000    0.000    0.000 inspect.py:735(unwrap)\n",
      "        1    0.000    0.000    0.000    0.000 api.py:2640(named_call)\n",
      "        1    0.000    0.000    0.000    0.000 lax.py:202(_extract_tracers_dyn_shape)\n",
      "        2    0.000    0.000    0.000    0.000 contextlib.py:104(__init__)\n",
      "        6    0.000    0.000    0.000    0.000 tree_util.py:82(tree_unflatten)\n",
      "       18    0.000    0.000    0.000    0.000 {method 'count' of 'str' objects}\n",
      "        5    0.000    0.000    0.000    0.000 parser.py:169(<listcomp>)\n",
      "        1    0.000    0.000    0.000    0.000 <string>:1(<lambda>)\n",
      "        2    0.000    0.000    0.000    0.000 {built-in method builtins.next}\n",
      "        1    0.000    0.000    0.001    0.001 api.py:141(jit)\n",
      "       25    0.000    0.000    0.000    0.000 {built-in method builtins.setattr}\n",
      "        1    0.000    0.000    0.000    0.000 <string>:2(__eq__)\n",
      "       11    0.000    0.000    0.000    0.000 parser.py:169(<genexpr>)\n",
      "        4    0.000    0.000    0.000    0.000 array_methods.py:468(<genexpr>)\n",
      "        1    0.000    0.000    0.000    0.000 api_util.py:457(check_callable)\n",
      "       30    0.000    0.000    0.000    0.000 inspect.py:2734(kind)\n",
      "        1    0.000    0.000    0.000    0.000 parser.py:334(<listcomp>)\n",
      "        7    0.000    0.000    0.000    0.000 inspect.py:3002(<genexpr>)\n",
      "        5    0.000    0.000    0.000    0.000 functools.py:65(wraps)\n",
      "        1    0.000    0.000    0.000    0.000 contract.py:332(<listcomp>)\n",
      "        1    0.000    0.000    0.000    0.000 parser.py:156(find_output_shape)\n",
      "        1    0.000    0.000    0.000    0.000 <string>:2(__hash__)\n",
      "        1    0.000    0.000    0.000    0.000 array.py:261(size)\n",
      "        2    0.000    0.000    0.000    0.000 helpers.py:106(flop_count)\n",
      "        1    0.000    0.000    0.000    0.000 inspect.py:3261(signature)\n",
      "        1    0.000    0.000    0.000    0.000 inspect.py:167(get_annotations)\n",
      "        9    0.000    0.000    0.000    0.000 array_methods.py:464(<genexpr>)\n",
      "        1    0.000    0.000    0.000    0.000 contextlib.py:299(helper)\n",
      "        1    0.000    0.000    0.000    0.000 api_util.py:352(rebase_donate_argnums)\n",
      "        1    0.000    0.000    0.000    0.000 api_util.py:655(fun_signature)\n",
      "        1    0.000    0.000    0.000    0.000 api_util.py:554(_assert_no_intersection)\n",
      "        4    0.000    0.000    0.000    0.000 parser.py:175(get_shape)\n",
      "        3    0.000    0.000    0.000    0.000 core.py:1304(definitely_equal)\n",
      "        2    0.000    0.000    0.000    0.000 {built-in method builtins.sum}\n",
      "        3    0.000    0.000    0.000    0.000 helpers.py:95(<genexpr>)\n",
      "       10    0.000    0.000    0.000    0.000 {method 'find' of 'str' objects}\n",
      "        1    0.000    0.000    0.000    0.000 inspect.py:402(isgeneratorfunction)\n",
      "        2    0.000    0.000    0.000    0.000 sharding_impls.py:1138(_check_unique_resources)\n",
      "        1    0.000    0.000    0.000    0.000 contract.py:298(<listcomp>)\n",
      "        2    0.000    0.000    0.000    0.000 {method 'join' of 'str' objects}\n",
      "        6    0.000    0.000    0.000    0.000 {method 'update' of 'dict' objects}\n",
      "        1    0.000    0.000    0.000    0.000 source_info_util.py:156(replace)\n",
      "        2    0.000    0.000    0.000    0.000 {built-in method math.prod}\n",
      "        1    0.000    0.000    0.000    0.000 contextlib.py:141(__exit__)\n",
      "        1    0.000    0.000    0.000    0.000 contextlib.py:132(__enter__)\n",
      "        2    0.000    0.000    0.000    0.000 {method 'replace' of 'str' objects}\n",
      "       12    0.000    0.000    0.000    0.000 {method 'add' of 'set' objects}\n",
      "        1    0.000    0.000    0.000    0.000 contextlib.py:77(__call__)\n",
      "        6    0.000    0.000    0.000    0.000 {method 'pop' of 'list' objects}\n",
      "        1    0.000    0.000    0.000    0.000 array_methods.py:447(<listcomp>)\n",
      "        6    0.000    0.000    0.000    0.000 enum.py:1095(__new__)\n",
      "        2    0.000    0.000    0.000    0.000 lax_numpy.py:9742(<genexpr>)\n",
      "        3    0.000    0.000    0.000    0.000 {method 'items' of 'mappingproxy' objects}\n",
      "        2    0.000    0.000    0.000    0.000 {method 'union' of 'frozenset' objects}\n",
      "        9    0.000    0.000    0.000    0.000 {method 'get' of 'dict' objects}\n",
      "        1    0.000    0.000    0.000    0.000 special.py:18(__new__)\n",
      "        1    0.000    0.000    0.000    0.000 contextlib.py:118(_recreate_cm)\n",
      "        1    0.000    0.000    0.000    0.000 contract.py:302(<listcomp>)\n",
      "        6    0.000    0.000    0.000    0.000 {method 'isidentifier' of 'str' objects}\n",
      "        2    0.000    0.000    0.000    0.000 util.py:378(fun_name)\n",
      "        3    0.000    0.000    0.000    0.000 {method 'split' of 'str' objects}\n",
      "        1    0.000    0.000    0.000    0.000 inspect.py:300(ismethod)\n",
      "        3    0.000    0.000    0.000    0.000 inspect.py:378(isfunction)\n",
      "        6    0.000    0.000    0.000    0.000 {method '__contains__' of 'frozenset' objects}\n",
      "        1    0.000    0.000    0.000    0.000 contract.py:378(<listcomp>)\n",
      "        1    0.000    0.000    0.000    0.000 core.py:2022(definitely_equal_shape)\n",
      "        1    0.000    0.000    0.000    0.000 util.py:412(wraps)\n",
      "        6    0.000    0.000    0.000    0.000 inspect.py:2722(name)\n",
      "        5    0.000    0.000    0.000    0.000 inspect.py:3015(parameters)\n",
      "        2    0.000    0.000    0.000    0.000 {method 'values' of 'mappingproxy' objects}\n",
      "        2    0.000    0.000    0.000    0.000 {built-in method __new__ of type object at 0x1015d3c78}\n",
      "        1    0.000    0.000    0.000    0.000 contract.py:102(_choose_memory_arg)\n",
      "        3    0.000    0.000    0.000    0.000 contract.py:340(<genexpr>)\n",
      "        1    0.000    0.000    0.000    0.000 functools.py:421(_unwrap_partial)\n",
      "        1    0.000    0.000    0.000    0.000 pjit.py:321(_get_cpp_global_cache)\n",
      "        1    0.000    0.000    0.000    0.000 <string>:2(__init__)\n",
      "        1    0.000    0.000    0.000    0.000 source_info_util.py:152(__init__)\n",
      "        1    0.000    0.000    0.000    0.000 contract.py:379(<listcomp>)\n",
      "        1    0.000    0.000    0.000    0.000 pxla.py:3022(contains_explicit_attributes)\n",
      "        1    0.000    0.000    0.000    0.000 {method 'disable' of '_lsprof.Profiler' objects}\n",
      "        1    0.000    0.000    0.000    0.000 {method '__exit__' of '_thread.RLock' objects}\n",
      "        2    0.000    0.000    0.000    0.000 pjit.py:373(<lambda>)\n",
      "        2    0.000    0.000    0.000    0.000 {built-in method builtins.id}\n",
      "        2    0.000    0.000    0.000    0.000 sharding_impls.py:1118(<lambda>)\n",
      "        2    0.000    0.000    0.000    0.000 {built-in method sys.getrecursionlimit}\n",
      "        1    0.000    0.000    0.000    0.000 {method 'pop' of 'dict' objects}\n",
      "        1    0.000    0.000    0.000    0.000 {method 'intersection' of 'set' objects}\n",
      "        3    0.000    0.000    0.000    0.000 {built-in method builtins.callable}\n",
      "        1    0.000    0.000    0.000    0.000 {built-in method builtins.iter}\n",
      "        1    0.000    0.000    0.000    0.000 core.py:1476(<lambda>)"
     ]
    }
   ],
   "source": [
    "%prun -D jit_jax_cost.prof cost_function_jax(K, d, r, E, rho, J, y)"
   ]
  },
  {
   "cell_type": "markdown",
   "id": "e6072f3d",
   "metadata": {},
   "source": [
    "**Conclusions from Cprofile**\n",
    "\n",
    "* We see that the most resource consuming components are the `contract_jax` and the `mean_squared_error_inner` functions. So it makes sense to JIT them. \n",
    "\n",
    "* The test below show that these do not get recompiled even when some thing changes as long as they have the same shape."
   ]
  },
  {
   "cell_type": "markdown",
   "id": "e56f3c25",
   "metadata": {},
   "source": [
    "### Timing each JIT component"
   ]
  },
  {
   "cell_type": "code",
   "execution_count": 58,
   "id": "8263cc8e",
   "metadata": {},
   "outputs": [],
   "source": [
    "# Does the contraction get recompiled?\n",
    "from mGST.low_level_jit import contract_jax_jit, contract_jax, _mean_squared_error_inner_jit, _mean_squared_error_inner"
   ]
  },
  {
   "cell_type": "code",
   "execution_count": 59,
   "id": "1ee0b974",
   "metadata": {},
   "outputs": [],
   "source": [
    "X = get_x_from_k(K, d, r)"
   ]
  },
  {
   "cell_type": "code",
   "execution_count": 60,
   "id": "73457c91",
   "metadata": {},
   "outputs": [
    {
     "data": {
      "text/plain": [
       "(array([-1, -1, -1, -1, -1, -1, -1, -1, -1, -1, -1,  1,  0,  1]),\n",
       " array([1, 0, 1]))"
      ]
     },
     "execution_count": 60,
     "metadata": {},
     "output_type": "execute_result"
    }
   ],
   "source": [
    "J[10], J_processed[10]"
   ]
  },
  {
   "cell_type": "code",
   "execution_count": 61,
   "id": "807338cb",
   "metadata": {},
   "outputs": [
    {
     "name": "stdout",
     "output_type": "stream",
     "text": [
      "140 μs ± 78.8 μs per loop (mean ± std. dev. of 7 runs, 1 loop each)\n"
     ]
    }
   ],
   "source": [
    "contract_1gst = jax.jit(contract_jax)\n",
    "\n",
    "%timeit contract_1gst.lower(X, j_vec=J_processed[10]).compile()"
   ]
  },
  {
   "cell_type": "code",
   "execution_count": 62,
   "id": "66db3172",
   "metadata": {},
   "outputs": [
    {
     "name": "stdout",
     "output_type": "stream",
     "text": [
      "7.83 μs ± 60.5 ns per loop (mean ± std. dev. of 7 runs, 100,000 loops each)\n"
     ]
    }
   ],
   "source": [
    "contract_1gst_compiled = jax.jit(contract_jax).lower(X, j_vec=J_processed[10]).compile()\n",
    "%timeit contract_1gst_compiled(X, j_vec=J_processed[10])"
   ]
  },
  {
   "cell_type": "code",
   "execution_count": 63,
   "id": "84d7f9cb",
   "metadata": {},
   "outputs": [
    {
     "name": "stdout",
     "output_type": "stream",
     "text": [
      "125 μs ± 1.11 μs per loop (mean ± std. dev. of 7 runs, 10,000 loops each)\n"
     ]
    }
   ],
   "source": [
    "%timeit contract_jax(X, j_vec=J_processed[10])"
   ]
  },
  {
   "cell_type": "code",
   "execution_count": 71,
   "id": "8dcf907e",
   "metadata": {},
   "outputs": [
    {
     "data": {
      "text/plain": [
       "1.9320000000000003e-06"
      ]
     },
     "execution_count": 71,
     "metadata": {},
     "output_type": "execute_result"
    }
   ],
   "source": [
    "# Compilation time: 76.6 μs ± 85.9 ns per loop (mean ± std. dev. of 7 runs, 10,000 loops each) \n",
    "# From above we know this gets compiled 15 times, so:\n",
    "time_contract = 15 * 76.6e-6 + 100 * 7.83e-6\n",
    "time_contract/1000"
   ]
  },
  {
   "cell_type": "code",
   "execution_count": 16,
   "id": "355e7c55",
   "metadata": {},
   "outputs": [
    {
     "name": "stdout",
     "output_type": "stream",
     "text": [
      "CPU times: user 62.4 ms, sys: 12 ms, total: 74.4 ms\n",
      "Wall time: 39.8 ms\n"
     ]
    },
    {
     "data": {
      "text/plain": [
       "Array([[ 0.52678199+0.j        , -0.02652781+0.49607538j,\n",
       "        -0.02652781-0.49607538j,  0.47453026+0.j        ],\n",
       "       [ 0.01559817+0.49634251j,  0.52360493+0.01250515j,\n",
       "         0.46875118-0.03828833j, -0.01538341-0.4962317j ],\n",
       "       [ 0.01559817-0.49634251j,  0.46875118+0.03828833j,\n",
       "         0.52360493-0.01250515j, -0.01538341+0.4962317j ],\n",
       "       [ 0.47321801+0.j        ,  0.02652781-0.49607538j,\n",
       "         0.02652781+0.49607538j,  0.52546974+0.j        ]],      dtype=complex128)"
      ]
     },
     "execution_count": 16,
     "metadata": {},
     "output_type": "execute_result"
    }
   ],
   "source": [
    "%time contract_jax_jit(X, j_vec=J_processed[10])\n",
    "# This is to test the compilation time"
   ]
  },
  {
   "cell_type": "code",
   "execution_count": 17,
   "id": "44b30a06",
   "metadata": {},
   "outputs": [
    {
     "name": "stdout",
     "output_type": "stream",
     "text": [
      "7.55 μs ± 80.4 ns per loop (mean ± std. dev. of 7 runs, 100,000 loops each)\n"
     ]
    }
   ],
   "source": [
    "%timeit contract_jax_jit(X, j_vec=J_processed[10])"
   ]
  },
  {
   "cell_type": "code",
   "execution_count": 18,
   "id": "62855eed",
   "metadata": {},
   "outputs": [
    {
     "data": {
      "text/plain": [
       "array([0, 0, 1])"
      ]
     },
     "execution_count": 18,
     "metadata": {},
     "output_type": "execute_result"
    }
   ],
   "source": [
    "J_processed[11]"
   ]
  },
  {
   "cell_type": "code",
   "execution_count": 22,
   "id": "bed6d12a",
   "metadata": {},
   "outputs": [
    {
     "name": "stdout",
     "output_type": "stream",
     "text": [
      "7.88 μs ± 248 ns per loop (mean ± std. dev. of 7 runs, 100,000 loops each)\n"
     ]
    }
   ],
   "source": [
    "%timeit contract_jax_jit(X, j_vec=J_processed[11])\n",
    "# From the time order of magnitude we see that the function does not get compiled again. It just uses the previous compilation!"
   ]
  },
  {
   "cell_type": "code",
   "execution_count": 20,
   "id": "5e2de640",
   "metadata": {},
   "outputs": [
    {
     "data": {
      "text/plain": [
       "(3, 4, 4)"
      ]
     },
     "execution_count": 20,
     "metadata": {},
     "output_type": "execute_result"
    }
   ],
   "source": [
    "X.shape"
   ]
  },
  {
   "cell_type": "code",
   "execution_count": 24,
   "id": "9586b984",
   "metadata": {},
   "outputs": [
    {
     "data": {
      "text/plain": [
       "Array([[ 0.51810885+6.94743899e-18j,  0.01951509+4.89910021e-01j,\n",
       "         0.01951509-4.89910021e-01j,  0.49441546+7.20783474e-18j],\n",
       "       [-0.02087604+4.90825122e-01j,  0.50439206+1.49427037e-03j,\n",
       "         0.478247  +4.01933403e-02j,  0.02003762-4.92207672e-01j],\n",
       "       [-0.02087604-4.90825122e-01j,  0.478247  -4.01933403e-02j,\n",
       "         0.50439206-1.49427037e-03j,  0.02003762+4.92207672e-01j],\n",
       "       [ 0.48189115+7.35491429e-19j, -0.01951509-4.89910021e-01j,\n",
       "        -0.01951509+4.89910021e-01j,  0.50558454-1.28335256e-18j]],      dtype=complex128)"
      ]
     },
     "execution_count": 24,
     "metadata": {},
     "output_type": "execute_result"
    }
   ],
   "source": [
    "contract_jax_jit(X, j_vec=np.array([1,2,7,8,11]))"
   ]
  },
  {
   "cell_type": "code",
   "execution_count": 25,
   "id": "0b2a384c",
   "metadata": {},
   "outputs": [
    {
     "data": {
      "text/plain": [
       "17"
      ]
     },
     "execution_count": 25,
     "metadata": {},
     "output_type": "execute_result"
    }
   ],
   "source": [
    "contract_jax_jit._cache_size()\n",
    "# From this a very interesting conclusion is that the function gets compiled ONLY when there is no previous cached implementation that can be used. This only happens for different lengths of j_vec in this function"
   ]
  },
  {
   "cell_type": "code",
   "execution_count": 64,
   "id": "b6253428",
   "metadata": {},
   "outputs": [],
   "source": [
    "# Does the same thing happen for the _mean_squared_error_inner_jit function?\n",
    "i = 10\n",
    "o = 1\n",
    "C = contract_jax(X, j_vec=J_processed[i])"
   ]
  },
  {
   "cell_type": "code",
   "execution_count": 65,
   "id": "fea95dd7",
   "metadata": {},
   "outputs": [
    {
     "name": "stdout",
     "output_type": "stream",
     "text": [
      "94.7 μs ± 1.08 μs per loop (mean ± std. dev. of 7 runs, 10,000 loops each)\n"
     ]
    }
   ],
   "source": [
    "mse_1gst = jax.jit(_mean_squared_error_inner)\n",
    "\n",
    "%timeit mse_1gst.lower(E=E[o], C=C, rho=rho, y=y[o, i]).compile()"
   ]
  },
  {
   "cell_type": "code",
   "execution_count": 66,
   "id": "997d06b8",
   "metadata": {},
   "outputs": [
    {
     "name": "stdout",
     "output_type": "stream",
     "text": [
      "8.16 μs ± 50 ns per loop (mean ± std. dev. of 7 runs, 100,000 loops each)\n"
     ]
    }
   ],
   "source": [
    "mse_1gst_compiled =  mse_1gst.lower(E=E[o], C=C, rho=rho, y=y[o, i]).compile()\n",
    "\n",
    "%timeit mse_1gst_compiled(E=E[o], C=C, rho=rho, y=y[o, i])"
   ]
  },
  {
   "cell_type": "code",
   "execution_count": 74,
   "id": "42a77402",
   "metadata": {},
   "outputs": [
    {
     "data": {
      "text/plain": [
       "3.6587"
      ]
     },
     "execution_count": 74,
     "metadata": {},
     "output_type": "execute_result"
    }
   ],
   "source": [
    "# Do the compilations + running time reflect how long it takes?\n",
    "time_mse = 1 * 94.7e-6 + 200 * 8.16e-6\n",
    "total_time = time_mse + time_contract\n",
    "total_time*1000 # in ms\n"
   ]
  },
  {
   "cell_type": "code",
   "execution_count": 28,
   "id": "989c8123",
   "metadata": {},
   "outputs": [
    {
     "name": "stdout",
     "output_type": "stream",
     "text": [
      "CPU times: user 368 μs, sys: 496 μs, total: 864 μs\n",
      "Wall time: 535 μs\n"
     ]
    },
    {
     "data": {
      "text/plain": [
       "Array(0.00120979, dtype=float64)"
      ]
     },
     "execution_count": 28,
     "metadata": {},
     "output_type": "execute_result"
    }
   ],
   "source": [
    "%time _mean_squared_error_inner(E=E[o], C=C, rho=rho, y=y[o, i])"
   ]
  },
  {
   "cell_type": "code",
   "execution_count": 29,
   "id": "2eb35f8e",
   "metadata": {},
   "outputs": [
    {
     "name": "stdout",
     "output_type": "stream",
     "text": [
      "CPU times: user 34.3 ms, sys: 1.84 ms, total: 36.2 ms\n",
      "Wall time: 24.1 ms\n"
     ]
    },
    {
     "data": {
      "text/plain": [
       "Array(0.00120979, dtype=float64)"
      ]
     },
     "execution_count": 29,
     "metadata": {},
     "output_type": "execute_result"
    }
   ],
   "source": [
    "%time _mean_squared_error_inner_jit(E=E[o], C=C, rho=rho, y=y[o, i])"
   ]
  },
  {
   "cell_type": "code",
   "execution_count": 30,
   "id": "aebd33f5",
   "metadata": {},
   "outputs": [
    {
     "name": "stdout",
     "output_type": "stream",
     "text": [
      "8.01 μs ± 214 ns per loop (mean ± std. dev. of 7 runs, 100,000 loops each)\n"
     ]
    }
   ],
   "source": [
    "%timeit _mean_squared_error_inner_jit(E=E[o], C=C, rho=rho, y=y[o, i])"
   ]
  },
  {
   "cell_type": "code",
   "execution_count": 33,
   "id": "a506846f",
   "metadata": {},
   "outputs": [
    {
     "data": {
      "text/plain": [
       "2"
      ]
     },
     "execution_count": 33,
     "metadata": {},
     "output_type": "execute_result"
    }
   ],
   "source": [
    "_mean_squared_error_inner_jit._cache_size()"
   ]
  },
  {
   "cell_type": "markdown",
   "id": "01b1c078",
   "metadata": {},
   "source": [
    "We see it actually helps compiling if this process runs a significant amount of times. \n",
    "\n",
    "Now, does it get recompiled when changing the inputs?"
   ]
  },
  {
   "cell_type": "code",
   "execution_count": 34,
   "id": "48bba332",
   "metadata": {},
   "outputs": [
    {
     "name": "stdout",
     "output_type": "stream",
     "text": [
      "8.19 μs ± 262 ns per loop (mean ± std. dev. of 7 runs, 100,000 loops each)\n"
     ]
    }
   ],
   "source": [
    "%timeit _mean_squared_error_inner_jit(E=E[0], C=C, rho=rho, y=y[0, i])"
   ]
  },
  {
   "cell_type": "code",
   "execution_count": 35,
   "id": "5e936962",
   "metadata": {},
   "outputs": [
    {
     "data": {
      "text/plain": [
       "2"
      ]
     },
     "execution_count": 35,
     "metadata": {},
     "output_type": "execute_result"
    }
   ],
   "source": [
    "_mean_squared_error_inner_jit._cache_size()"
   ]
  },
  {
   "cell_type": "code",
   "execution_count": 36,
   "id": "45e9d96f",
   "metadata": {},
   "outputs": [],
   "source": [
    "# new C\n",
    "i = 20\n",
    "o = 0\n",
    "E_test = E[o]\n",
    "C_test = contract_jax(X, j_vec=J_processed[i])\n",
    "y_test = y[o, i]"
   ]
  },
  {
   "cell_type": "code",
   "execution_count": 37,
   "id": "41936fe2",
   "metadata": {},
   "outputs": [
    {
     "name": "stdout",
     "output_type": "stream",
     "text": [
      "7.89 μs ± 181 ns per loop (mean ± std. dev. of 7 runs, 100,000 loops each)\n"
     ]
    }
   ],
   "source": [
    "%timeit _mean_squared_error_inner_jit(E=E_test, C=C_test, rho=rho, y=y_test)"
   ]
  },
  {
   "cell_type": "code",
   "execution_count": 38,
   "id": "f180a716",
   "metadata": {},
   "outputs": [
    {
     "data": {
      "text/plain": [
       "2"
      ]
     },
     "execution_count": 38,
     "metadata": {},
     "output_type": "execute_result"
    }
   ],
   "source": [
    "_mean_squared_error_inner_jit._cache_size()"
   ]
  },
  {
   "cell_type": "markdown",
   "id": "c8fe2b92",
   "metadata": {},
   "source": [
    "It seems like it doesnt! So it might be a good idea to use the JITTED version!"
   ]
  },
  {
   "cell_type": "code",
   "execution_count": 39,
   "id": "73f5d7a0",
   "metadata": {},
   "outputs": [
    {
     "name": "stdout",
     "output_type": "stream",
     "text": [
      "76.7 μs ± 331 ns per loop (mean ± std. dev. of 7 runs, 10,000 loops each)\n"
     ]
    }
   ],
   "source": [
    "# Just checking, is doing the processing of J inside a bad idea?\n",
    "%timeit [row[row != -1] for row in J]\n",
    "# From this we see it is actually an important part! Ideally we would generate the J without the -1!"
   ]
  },
  {
   "cell_type": "markdown",
   "id": "7d70362f",
   "metadata": {},
   "source": [
    "### 2GST"
   ]
  },
  {
   "cell_type": "code",
   "execution_count": 11,
   "id": "6d2bb446",
   "metadata": {},
   "outputs": [
    {
     "name": "stderr",
     "output_type": "stream",
     "text": [
      "2025-01-14 15:13:44,116 - iqm.benchmarks.logging_config - INFO - Now generating 800 random GST circuits...\n",
      "2025-01-14 15:13:44,281 - iqm.benchmarks.logging_config - INFO - Will transpile all 800 circuits according to fixed physical layout\n",
      "2025-01-14 15:13:44,281 - iqm.benchmarks.logging_config - INFO - Transpiling for backend IQMFakeApolloBackend with optimization level 0, sabre routing method all circuits\n",
      "2025-01-14 15:13:45,832 - iqm.benchmarks.logging_config - INFO - Submitting batch with 800 circuits corresponding to qubits [0, 1]\n",
      "2025-01-14 15:13:45,834 - iqm.benchmarks.logging_config - INFO - Now executing the corresponding circuit batch\n",
      "2025-01-14 15:13:45,903 - iqm.benchmarks.logging_config - INFO - Retrieving all counts\n"
     ]
    }
   ],
   "source": [
    "# Euclidean Gradient\n",
    "Q2_GST = GSTConfiguration(\n",
    "    qubit_layouts=[[0, 1]],\n",
    "    gate_set=\"2QXYCZ\",\n",
    "    num_circuits=800,\n",
    "    shots=1000,\n",
    "    rank=4,\n",
    ")\n",
    "\n",
    "K, X, E, rho, y, J, l, d, pdim, r, n_povm, bsize, meas_samples, n, nt, rK = get_full_mgst_parameters_from_configuration(\n",
    "    Q2_GST, backend\n",
    ")"
   ]
  },
  {
   "cell_type": "code",
   "execution_count": 12,
   "id": "3a814641",
   "metadata": {},
   "outputs": [
    {
     "data": {
      "text/plain": [
       "800"
      ]
     },
     "execution_count": 12,
     "metadata": {},
     "output_type": "execute_result"
    }
   ],
   "source": [
    "J_processed = [row[row != -1] for row in J]\n",
    "len(J_processed)"
   ]
  },
  {
   "cell_type": "code",
   "execution_count": 36,
   "id": "584c2e90",
   "metadata": {},
   "outputs": [
    {
     "name": "stdout",
     "output_type": "stream",
     "text": [
      "75.7 μs ± 384 ns per loop (mean ± std. dev. of 7 runs, 10,000 loops each)\n"
     ]
    }
   ],
   "source": [
    "f_test_2 = jax.jit(contract_jax)\n",
    "\n",
    "%timeit f_test_2.lower(X, j_vec=J_processed[10]).compile()"
   ]
  },
  {
   "cell_type": "code",
   "execution_count": 37,
   "id": "7abd707a",
   "metadata": {},
   "outputs": [
    {
     "name": "stdout",
     "output_type": "stream",
     "text": [
      "141 μs ± 1.6 μs per loop (mean ± std. dev. of 7 runs, 10,000 loops each)\n"
     ]
    }
   ],
   "source": [
    "%timeit contract_jax(X, j_vec=J_processed[10])"
   ]
  },
  {
   "cell_type": "code",
   "execution_count": 38,
   "id": "b54b05bc",
   "metadata": {},
   "outputs": [
    {
     "name": "stdout",
     "output_type": "stream",
     "text": [
      "95.1 μs ± 1.33 μs per loop (mean ± std. dev. of 7 runs, 10,000 loops each)\n"
     ]
    }
   ],
   "source": [
    "i = 10\n",
    "o = 1\n",
    "C = contract_jax(X, j_vec=J_processed[i])\n",
    "\n",
    "f_test_3 = jax.jit(_mean_squared_error_inner)\n",
    "\n",
    "%timeit f_test_3.lower(E=E[1], C=C, rho=rho, y=y[1, 10]).compile()"
   ]
  },
  {
   "cell_type": "code",
   "execution_count": 41,
   "id": "0a65aa3e",
   "metadata": {},
   "outputs": [
    {
     "name": "stdout",
     "output_type": "stream",
     "text": [
      "39.6 μs ± 309 ns per loop (mean ± std. dev. of 7 runs, 10,000 loops each)\n"
     ]
    }
   ],
   "source": [
    "%timeit _mean_squared_error_inner(E=E[o], C=C, rho=rho, y=y[o, i])"
   ]
  },
  {
   "cell_type": "code",
   "execution_count": 13,
   "id": "132c9b58",
   "metadata": {},
   "outputs": [
    {
     "name": "stdout",
     "output_type": "stream",
     "text": [
      "707 ms ± 20 ms per loop (mean ± std. dev. of 7 runs, 1 loop each)\n"
     ]
    }
   ],
   "source": [
    "%timeit cost_function_jax(K, d, r, E, rho, J, y)"
   ]
  },
  {
   "cell_type": "code",
   "execution_count": 28,
   "id": "aeb6d639",
   "metadata": {},
   "outputs": [
    {
     "name": "stdout",
     "output_type": "stream",
     "text": [
      "8.91 ms ± 88.7 μs per loop (mean ± std. dev. of 7 runs, 1 loop each)\n"
     ]
    }
   ],
   "source": [
    "%%timeit X = get_x_from_k(k=K, d=d, r=r)\n",
    "objf(X, E, rho, J, y)\n",
    "# Jitting using Numba"
   ]
  },
  {
   "cell_type": "code",
   "execution_count": 14,
   "id": "00561ec5",
   "metadata": {},
   "outputs": [
    {
     "name": "stdout",
     "output_type": "stream",
     "text": [
      "CPU times: user 2.15 s, sys: 120 ms, total: 2.27 s\n",
      "Wall time: 833 ms\n"
     ]
    },
    {
     "data": {
      "text/plain": [
       "Array(0.00160813, dtype=float64)"
      ]
     },
     "execution_count": 14,
     "metadata": {},
     "output_type": "execute_result"
    }
   ],
   "source": [
    "# Jitting everything\n",
    "%time cost_function_jax_jit(K, d, r, E, rho, J_processed, y)"
   ]
  },
  {
   "cell_type": "code",
   "execution_count": 15,
   "id": "a8085238",
   "metadata": {},
   "outputs": [
    {
     "name": "stdout",
     "output_type": "stream",
     "text": [
      "117 ms ± 2.16 ms per loop (mean ± std. dev. of 7 runs, 10 loops each)\n"
     ]
    }
   ],
   "source": [
    "%timeit cost_function_jax_jit(K, d, r, E, rho, J_processed, y)"
   ]
  },
  {
   "cell_type": "code",
   "execution_count": null,
   "id": "e2559e42",
   "metadata": {},
   "outputs": [
    {
     "name": "stderr",
     "output_type": "stream",
     "text": [
      "INFO:2025-01-14 14:24:03,641:jax._src.xla_bridge:927: Unable to initialize backend 'rocm': module 'jaxlib.xla_extension' has no attribute 'GpuAllocatorConfig'\n",
      "2025-01-14 14:24:03,641 - jax._src.xla_bridge - INFO - Unable to initialize backend 'rocm': module 'jaxlib.xla_extension' has no attribute 'GpuAllocatorConfig'\n",
      "INFO:2025-01-14 14:24:03,644:jax._src.xla_bridge:927: Unable to initialize backend 'tpu': INTERNAL: Failed to open libtpu.so: dlopen(libtpu.so, 0x0001): tried: 'libtpu.so' (no such file), '/System/Volumes/Preboot/Cryptexes/OSlibtpu.so' (no such file), '/Users/emiliano.godinez/.pyenv/versions/3.11.10/lib/libtpu.so' (no such file), '/System/Volumes/Preboot/Cryptexes/OS/Users/emiliano.godinez/.pyenv/versions/3.11.10/lib/libtpu.so' (no such file), '/opt/homebrew/lib/libtpu.so' (no such file), '/System/Volumes/Preboot/Cryptexes/OS/opt/homebrew/lib/libtpu.so' (no such file), '/Users/emiliano.godinez/.pyenv/versions/3.11.10/lib/libtpu.so' (no such file), '/System/Volumes/Preboot/Cryptexes/OS/Users/emiliano.godinez/.pyenv/versions/3.11.10/lib/libtpu.so' (no such file), '/opt/homebrew/lib/libtpu.so' (no such file), '/System/Volumes/Preboot/Cryptexes/OS/opt/homebrew/lib/libtpu.so' (no such file), '/Users/emiliano.godinez/.pyenv/versions/3.11.10/lib/libtpu.so' (no such file), '/System/Volumes/Preboot/Cryptexes/OS/Users/emiliano.godinez/.pyenv/versions/3.11.10/lib/libtpu.so' (no such file), '/opt/homebrew/lib/libtpu.so' (no such file), '/System/Volumes/Preboot/Cryptexes/OS/opt/homebrew/lib/libtpu.so' (no such file), '/usr/lib/libtpu.so' (no such file, not in dyld cache), 'libtpu.so' (no such file), '/usr/local/lib/libtpu.so' (no such file), '/usr/lib/libtpu.so' (no such file, not in dyld cache)\n",
      "2025-01-14 14:24:03,644 - jax._src.xla_bridge - INFO - Unable to initialize backend 'tpu': INTERNAL: Failed to open libtpu.so: dlopen(libtpu.so, 0x0001): tried: 'libtpu.so' (no such file), '/System/Volumes/Preboot/Cryptexes/OSlibtpu.so' (no such file), '/Users/emiliano.godinez/.pyenv/versions/3.11.10/lib/libtpu.so' (no such file), '/System/Volumes/Preboot/Cryptexes/OS/Users/emiliano.godinez/.pyenv/versions/3.11.10/lib/libtpu.so' (no such file), '/opt/homebrew/lib/libtpu.so' (no such file), '/System/Volumes/Preboot/Cryptexes/OS/opt/homebrew/lib/libtpu.so' (no such file), '/Users/emiliano.godinez/.pyenv/versions/3.11.10/lib/libtpu.so' (no such file), '/System/Volumes/Preboot/Cryptexes/OS/Users/emiliano.godinez/.pyenv/versions/3.11.10/lib/libtpu.so' (no such file), '/opt/homebrew/lib/libtpu.so' (no such file), '/System/Volumes/Preboot/Cryptexes/OS/opt/homebrew/lib/libtpu.so' (no such file), '/Users/emiliano.godinez/.pyenv/versions/3.11.10/lib/libtpu.so' (no such file), '/System/Volumes/Preboot/Cryptexes/OS/Users/emiliano.godinez/.pyenv/versions/3.11.10/lib/libtpu.so' (no such file), '/opt/homebrew/lib/libtpu.so' (no such file), '/System/Volumes/Preboot/Cryptexes/OS/opt/homebrew/lib/libtpu.so' (no such file), '/usr/lib/libtpu.so' (no such file, not in dyld cache), 'libtpu.so' (no such file), '/usr/local/lib/libtpu.so' (no such file), '/usr/lib/libtpu.so' (no such file, not in dyld cache)\n",
      "2025-01-14 14:26:30.991626: E external/xla/xla/service/slow_operation_alarm.cc:73] \n",
      "********************************\n",
      "[Compiling module jit__cost_function_jax_jit] Very slow compile? If you want to file a bug, run with envvar XLA_FLAGS=--xla_dump_to=/tmp/foo and attach the results.\n",
      "********************************\n"
     ]
    }
   ],
   "source": [
    "# Jitting everything\n",
    "from mGST.low_level_jit import _cost_function_jax_jit, _cost_function_jax_unjit\n",
    "\n",
    "# This is the time it takes to compile the whole Jittable function\n",
    "cost_jit = jax.jit(_cost_function_jax_jit)\n",
    "X = _cost_function_jax_unjit(K, d, r)\n",
    "%timeit cost_jit.lower(X, E, rho, J_processed, y).compile()"
   ]
  },
  {
   "cell_type": "markdown",
   "id": "43724591",
   "metadata": {},
   "source": [
    "### 3GST"
   ]
  },
  {
   "cell_type": "code",
   "execution_count": 16,
   "id": "cbe259b9",
   "metadata": {},
   "outputs": [
    {
     "name": "stderr",
     "output_type": "stream",
     "text": [
      "2025-01-14 15:15:14,038 - iqm.benchmarks.logging_config - INFO - Now generating 1000 random GST circuits...\n",
      "2025-01-14 15:15:14,438 - iqm.benchmarks.logging_config - INFO - Will transpile all 1000 circuits according to fixed physical layout\n",
      "2025-01-14 15:15:14,438 - iqm.benchmarks.logging_config - INFO - Transpiling for backend IQMFakeApolloBackend with optimization level 0, sabre routing method all circuits\n",
      "2025-01-14 15:15:16,636 - iqm.benchmarks.logging_config - INFO - Submitting batch with 1000 circuits corresponding to qubits [0, 1, 3]\n",
      "2025-01-14 15:15:16,638 - iqm.benchmarks.logging_config - INFO - Now executing the corresponding circuit batch\n",
      "2025-01-14 15:15:16,693 - iqm.benchmarks.logging_config - INFO - Retrieving all counts\n"
     ]
    }
   ],
   "source": [
    "Q3_GST = GSTConfiguration(\n",
    "    qubit_layouts=[[0,1,3]],\n",
    "    gate_set=\"3QXYCZ\",\n",
    "    num_circuits=1000,\n",
    "    shots=1000,\n",
    "    rank=4,\n",
    ")\n",
    "\n",
    "K, X, E, rho, y, J, l, d, pdim, r, n_povm, bsize, meas_samples, n, nt, rK = get_full_mgst_parameters_from_configuration(\n",
    "    Q3_GST, backend\n",
    ")"
   ]
  },
  {
   "cell_type": "code",
   "execution_count": 17,
   "id": "7c4a8ce9",
   "metadata": {},
   "outputs": [
    {
     "name": "stdout",
     "output_type": "stream",
     "text": [
      "1.89 s ± 39.3 ms per loop (mean ± std. dev. of 7 runs, 1 loop each)\n"
     ]
    }
   ],
   "source": [
    "# only Jitting the contraction\n",
    "%timeit cost_function_jax(K, d, r, E, rho, J, y)\n",
    "# previous run: 1.35 s ± 4.54 ms per loop \n",
    "# NOTE: new time is without JITing anything"
   ]
  },
  {
   "cell_type": "code",
   "execution_count": 20,
   "id": "2a3b9c20",
   "metadata": {},
   "outputs": [
    {
     "name": "stdout",
     "output_type": "stream",
     "text": [
      "1.04 s ± 150 ms per loop (mean ± std. dev. of 7 runs, 1 loop each)\n"
     ]
    }
   ],
   "source": [
    "%%timeit X = get_x_from_k(k=K, d=d, r=r)\n",
    "objf(X, E, rho, J, y)\n",
    "# This is Jitting everything with Numba\n",
    "# Previous run: 786 ms ± 68.6 ms"
   ]
  },
  {
   "cell_type": "code",
   "execution_count": 35,
   "id": "686522d7",
   "metadata": {},
   "outputs": [
    {
     "name": "stdout",
     "output_type": "stream",
     "text": [
      "1.06 s ± 180 ms per loop (mean ± std. dev. of 7 runs, 1 loop each)\n"
     ]
    }
   ],
   "source": [
    "# This previous run was taking more time somehow: 1.06 s ± 180 ms per loop (mean ± std. dev. of 7 runs, 1 loop each)\n",
    "# %%timeit X = get_x_from_k(k=K, d=d, r=r)\n",
    "# objf(X, E, rho, J, y)"
   ]
  },
  {
   "cell_type": "code",
   "execution_count": 18,
   "id": "d06d601d",
   "metadata": {},
   "outputs": [
    {
     "data": {
      "text/plain": [
       "1000"
      ]
     },
     "execution_count": 18,
     "metadata": {},
     "output_type": "execute_result"
    }
   ],
   "source": [
    "# Process J beforehand\n",
    "J_processed = [row[row != -1] for row in J]\n",
    "len(J_processed)"
   ]
  },
  {
   "cell_type": "code",
   "execution_count": 49,
   "id": "62d9bde0",
   "metadata": {},
   "outputs": [
    {
     "name": "stdout",
     "output_type": "stream",
     "text": [
      "76.4 μs ± 210 ns per loop (mean ± std. dev. of 7 runs, 10,000 loops each)\n"
     ]
    }
   ],
   "source": [
    "contract_3gst = jax.jit(contract_jax)\n",
    "\n",
    "%timeit contract_3gst.lower(X, j_vec=J_processed[10]).compile()"
   ]
  },
  {
   "cell_type": "code",
   "execution_count": 50,
   "id": "c9399324",
   "metadata": {},
   "outputs": [
    {
     "name": "stdout",
     "output_type": "stream",
     "text": [
      "95.8 μs ± 985 ns per loop (mean ± std. dev. of 7 runs, 10,000 loops each)\n"
     ]
    }
   ],
   "source": [
    "i = 10\n",
    "o = 1\n",
    "C = contract_jax(X, j_vec=J_processed[i])\n",
    "\n",
    "mse_3gst = jax.jit(_mean_squared_error_inner)\n",
    "\n",
    "%timeit mse_3gst.lower(E=E[o], C=C, rho=rho, y=y[o, i]).compile()"
   ]
  },
  {
   "cell_type": "code",
   "execution_count": 19,
   "id": "cb452b49",
   "metadata": {},
   "outputs": [
    {
     "name": "stdout",
     "output_type": "stream",
     "text": [
      "CPU times: user 4.03 s, sys: 567 ms, total: 4.6 s\n",
      "Wall time: 2.14 s\n"
     ]
    },
    {
     "data": {
      "text/plain": [
       "Array(0.0008383, dtype=float64)"
      ]
     },
     "execution_count": 19,
     "metadata": {},
     "output_type": "execute_result"
    }
   ],
   "source": [
    "%time cost_function_jax_jit(K, d, r, E, rho, J_processed, y)"
   ]
  },
  {
   "cell_type": "code",
   "execution_count": 20,
   "id": "30801a4d",
   "metadata": {},
   "outputs": [
    {
     "name": "stdout",
     "output_type": "stream",
     "text": [
      "991 ms ± 6.09 ms per loop (mean ± std. dev. of 7 runs, 1 loop each)\n"
     ]
    }
   ],
   "source": [
    "%timeit cost_function_jax_jit(K, d, r, E, rho, J_processed, y)"
   ]
  },
  {
   "cell_type": "code",
   "execution_count": null,
   "id": "f454f181",
   "metadata": {},
   "outputs": [
    {
     "name": "stderr",
     "output_type": "stream",
     "text": [
      "2025-01-10 15:01:36.190417: E external/xla/xla/service/slow_operation_alarm.cc:73] \n",
      "********************************\n",
      "[Compiling module jit__cost_function_jax_jit] Very slow compile? If you want to file a bug, run with envvar XLA_FLAGS=--xla_dump_to=/tmp/foo and attach the results.\n",
      "********************************\n"
     ]
    }
   ],
   "source": [
    "# Let's now time it with JIT\n",
    "# %timeit cost_function_jax_jit(K, d, r, E, rho, J_processed, y)\n",
    "# This took over 40 mins. So we need to find a way to avoid recompilation!"
   ]
  },
  {
   "cell_type": "markdown",
   "id": "cf0daabf",
   "metadata": {},
   "source": [
    "### 4GST"
   ]
  },
  {
   "cell_type": "code",
   "execution_count": 21,
   "id": "a4962ea3",
   "metadata": {},
   "outputs": [
    {
     "name": "stderr",
     "output_type": "stream",
     "text": [
      "2025-01-14 15:17:13,439 - iqm.benchmarks.logging_config - INFO - Now generating 2000 random GST circuits...\n",
      "2025-01-14 15:17:13,878 - iqm.benchmarks.logging_config - INFO - Will transpile all 2000 circuits according to fixed physical layout\n",
      "2025-01-14 15:17:13,878 - iqm.benchmarks.logging_config - INFO - Transpiling for backend IQMFakeApolloBackend with optimization level 0, sabre routing method all circuits\n",
      "2025-01-14 15:17:17,192 - iqm.benchmarks.logging_config - INFO - Submitting batch with 2000 circuits corresponding to qubits [0, 1, 3, 4]\n",
      "2025-01-14 15:17:17,194 - iqm.benchmarks.logging_config - INFO - Now executing the corresponding circuit batch\n",
      "2025-01-14 15:17:17,263 - iqm.benchmarks.logging_config - INFO - Retrieving all counts\n"
     ]
    }
   ],
   "source": [
    "from iqm.qiskit_iqm import IQMCircuit as QuantumCircuit\n",
    "from qiskit.circuit.library import CZGate, RGate\n",
    "\n",
    "cz_cz = QuantumCircuit(4)\n",
    "cz_cz.append(CZGate(), [0,1])\n",
    "cz_cz.append(CZGate(), [2,3])\n",
    "\n",
    "gate_list = [\n",
    "    RGate(0.5 * np.pi, 0),\n",
    "    RGate(0.5 * np.pi, 0),\n",
    "    RGate(0.5 * np.pi, 0),\n",
    "    RGate(0.5 * np.pi, 0),\n",
    "    RGate(0.5 * np.pi, np.pi / 2),\n",
    "    RGate(0.5 * np.pi, np.pi / 2),\n",
    "    RGate(0.5 * np.pi, np.pi / 2),\n",
    "    RGate(0.5 * np.pi, np.pi / 2),\n",
    "    cz_cz,\n",
    "]\n",
    "gates = [QuantumCircuit(4, 0) for _ in range(len(gate_list))]\n",
    "gate_qubits = [[0], [1], [2], [3], [0], [1], [2], [3], [0, 1, 2, 3]]\n",
    "for i, gate in enumerate(gate_list):\n",
    "    if isinstance(gate, QuantumCircuit):\n",
    "        gates[i].compose(gate, gate_qubits[i], inplace = True)\n",
    "    else:\n",
    "        gates[i].append(gate, gate_qubits[i])\n",
    "gate_labels = [\"Rx(pi/2)\", \"Rx(pi/2)\", \"Rx(pi/2)\", \"Rx(pi/2)\", \n",
    "               \"Ry(pi/2)\", \"Ry(pi/2)\", \"Ry(pi/2)\", \"Ry(pi/2)\", \n",
    "               \"CZ-CZ\"]\n",
    "\n",
    "Q4_GST = GSTConfiguration(\n",
    "    qubit_layouts=[[0,1,3,4]],\n",
    "    gate_set=gates,\n",
    "    gate_labels=gate_labels,\n",
    "    num_circuits=2000,\n",
    "    shots=1000,\n",
    "    rank=1,\n",
    ")\n",
    "\n",
    "K, X, E, rho, y, J, l, d, pdim, r, n_povm, bsize, meas_samples, n, nt, rK = get_full_mgst_parameters_from_configuration(\n",
    "    Q4_GST, backend\n",
    ")"
   ]
  },
  {
   "cell_type": "code",
   "execution_count": 22,
   "id": "526466ed",
   "metadata": {},
   "outputs": [
    {
     "data": {
      "text/plain": [
       "(9, 2000)"
      ]
     },
     "execution_count": 22,
     "metadata": {},
     "output_type": "execute_result"
    }
   ],
   "source": [
    "d, len(J)"
   ]
  },
  {
   "cell_type": "code",
   "execution_count": 8,
   "id": "8461375b",
   "metadata": {},
   "outputs": [
    {
     "name": "stdout",
     "output_type": "stream",
     "text": [
      "31 s ± 862 ms per loop (mean ± std. dev. of 7 runs, 1 loop each)\n"
     ]
    }
   ],
   "source": [
    "%%timeit X = get_x_from_k(k=K, d=d, r=r)\n",
    "objf(X, E, rho, J, y)"
   ]
  },
  {
   "cell_type": "code",
   "execution_count": 9,
   "id": "1aa41d95",
   "metadata": {},
   "outputs": [
    {
     "name": "stderr",
     "output_type": "stream",
     "text": [
      "INFO:2025-01-14 14:39:40,980:jax._src.xla_bridge:927: Unable to initialize backend 'rocm': module 'jaxlib.xla_extension' has no attribute 'GpuAllocatorConfig'\n",
      "2025-01-14 14:39:40,980 - jax._src.xla_bridge - INFO - Unable to initialize backend 'rocm': module 'jaxlib.xla_extension' has no attribute 'GpuAllocatorConfig'\n",
      "INFO:2025-01-14 14:39:40,984:jax._src.xla_bridge:927: Unable to initialize backend 'tpu': INTERNAL: Failed to open libtpu.so: dlopen(libtpu.so, 0x0001): tried: 'libtpu.so' (no such file), '/System/Volumes/Preboot/Cryptexes/OSlibtpu.so' (no such file), '/Users/emiliano.godinez/.pyenv/versions/3.11.10/lib/libtpu.so' (no such file), '/System/Volumes/Preboot/Cryptexes/OS/Users/emiliano.godinez/.pyenv/versions/3.11.10/lib/libtpu.so' (no such file), '/opt/homebrew/lib/libtpu.so' (no such file), '/System/Volumes/Preboot/Cryptexes/OS/opt/homebrew/lib/libtpu.so' (no such file), '/Users/emiliano.godinez/.pyenv/versions/3.11.10/lib/libtpu.so' (no such file), '/System/Volumes/Preboot/Cryptexes/OS/Users/emiliano.godinez/.pyenv/versions/3.11.10/lib/libtpu.so' (no such file), '/opt/homebrew/lib/libtpu.so' (no such file), '/System/Volumes/Preboot/Cryptexes/OS/opt/homebrew/lib/libtpu.so' (no such file), '/Users/emiliano.godinez/.pyenv/versions/3.11.10/lib/libtpu.so' (no such file), '/System/Volumes/Preboot/Cryptexes/OS/Users/emiliano.godinez/.pyenv/versions/3.11.10/lib/libtpu.so' (no such file), '/opt/homebrew/lib/libtpu.so' (no such file), '/System/Volumes/Preboot/Cryptexes/OS/opt/homebrew/lib/libtpu.so' (no such file), '/usr/lib/libtpu.so' (no such file, not in dyld cache), 'libtpu.so' (no such file), '/usr/local/lib/libtpu.so' (no such file), '/usr/lib/libtpu.so' (no such file, not in dyld cache)\n",
      "2025-01-14 14:39:40,984 - jax._src.xla_bridge - INFO - Unable to initialize backend 'tpu': INTERNAL: Failed to open libtpu.so: dlopen(libtpu.so, 0x0001): tried: 'libtpu.so' (no such file), '/System/Volumes/Preboot/Cryptexes/OSlibtpu.so' (no such file), '/Users/emiliano.godinez/.pyenv/versions/3.11.10/lib/libtpu.so' (no such file), '/System/Volumes/Preboot/Cryptexes/OS/Users/emiliano.godinez/.pyenv/versions/3.11.10/lib/libtpu.so' (no such file), '/opt/homebrew/lib/libtpu.so' (no such file), '/System/Volumes/Preboot/Cryptexes/OS/opt/homebrew/lib/libtpu.so' (no such file), '/Users/emiliano.godinez/.pyenv/versions/3.11.10/lib/libtpu.so' (no such file), '/System/Volumes/Preboot/Cryptexes/OS/Users/emiliano.godinez/.pyenv/versions/3.11.10/lib/libtpu.so' (no such file), '/opt/homebrew/lib/libtpu.so' (no such file), '/System/Volumes/Preboot/Cryptexes/OS/opt/homebrew/lib/libtpu.so' (no such file), '/Users/emiliano.godinez/.pyenv/versions/3.11.10/lib/libtpu.so' (no such file), '/System/Volumes/Preboot/Cryptexes/OS/Users/emiliano.godinez/.pyenv/versions/3.11.10/lib/libtpu.so' (no such file), '/opt/homebrew/lib/libtpu.so' (no such file), '/System/Volumes/Preboot/Cryptexes/OS/opt/homebrew/lib/libtpu.so' (no such file), '/usr/lib/libtpu.so' (no such file, not in dyld cache), 'libtpu.so' (no such file), '/usr/local/lib/libtpu.so' (no such file), '/usr/lib/libtpu.so' (no such file, not in dyld cache)\n"
     ]
    },
    {
     "name": "stdout",
     "output_type": "stream",
     "text": [
      "31.1 s ± 0 ns per loop (mean ± std. dev. of 1 run, 3 loops each)\n"
     ]
    }
   ],
   "source": [
    "%timeit -n3 -r1 cost_function_jax(K, d, r, E, rho, J, y)"
   ]
  },
  {
   "cell_type": "code",
   "execution_count": 23,
   "id": "7e00b43e",
   "metadata": {},
   "outputs": [
    {
     "data": {
      "text/plain": [
       "2000"
      ]
     },
     "execution_count": 23,
     "metadata": {},
     "output_type": "execute_result"
    }
   ],
   "source": [
    "# Process J beforehand\n",
    "J_processed = [row[row != -1] for row in J]\n",
    "len(J_processed)"
   ]
  },
  {
   "cell_type": "code",
   "execution_count": 24,
   "id": "d024bbfc",
   "metadata": {},
   "outputs": [
    {
     "name": "stdout",
     "output_type": "stream",
     "text": [
      "CPU times: user 2min 4s, sys: 7.79 s, total: 2min 12s\n",
      "Wall time: 26.5 s\n"
     ]
    },
    {
     "data": {
      "text/plain": [
       "Array(0.0005246, dtype=float64)"
      ]
     },
     "execution_count": 24,
     "metadata": {},
     "output_type": "execute_result"
    }
   ],
   "source": [
    "%time cost_function_jax_jit(K, d, r, E, rho, J_processed, y)"
   ]
  },
  {
   "cell_type": "code",
   "execution_count": 25,
   "id": "dfac37f3",
   "metadata": {},
   "outputs": [
    {
     "name": "stdout",
     "output_type": "stream",
     "text": [
      "25.8 s ± 169 ms per loop (mean ± std. dev. of 3 runs, 1 loop each)\n"
     ]
    }
   ],
   "source": [
    "%timeit -n1 -r3 cost_function_jax_jit(K, d, r, E, rho, J_processed, y)"
   ]
  },
  {
   "cell_type": "markdown",
   "id": "c00e8647",
   "metadata": {},
   "source": [
    "## Further tests"
   ]
  },
  {
   "cell_type": "code",
   "execution_count": 28,
   "id": "10a5b386",
   "metadata": {},
   "outputs": [
    {
     "name": "stdout",
     "output_type": "stream",
     "text": [
      "0\n",
      "-----\n",
      "3\n",
      "1\n",
      "-----\n",
      "3\n",
      "1\n",
      "-----\n",
      "3\n",
      "2\n",
      "-----\n",
      "5\n",
      "3\n",
      "-----\n"
     ]
    }
   ],
   "source": [
    "import jax\n",
    "import jax.numpy as jnp\n",
    "\n",
    "@jax.jit\n",
    "def f(x):\n",
    "    m = len(x)\n",
    "    value = 0\n",
    "    for i in range(m):\n",
    "        value += 1\n",
    "    return value\n",
    "\n",
    "print(f._cache_size())\n",
    "# 0\n",
    "print('-----')\n",
    "\n",
    "print(f(jnp.arange(3)))\n",
    "print(f._cache_size())\n",
    "# 1\n",
    "print('-----')\n",
    "\n",
    "print(f(jnp.arange(2,5)))  # should not trigger a recompilation\n",
    "print(f._cache_size())\n",
    "# 1\n",
    "print('-----')\n",
    "\n",
    "print(f(np.arange(3)))  # should not trigger a recompilation\n",
    "print(f._cache_size())\n",
    "# 1\n",
    "print('-----')\n",
    "\n",
    "\n",
    "print(f(jnp.arange(5)))  # should trigger a recompilation\n",
    "print(f._cache_size())\n",
    "print('-----')\n"
   ]
  },
  {
   "cell_type": "code",
   "execution_count": 27,
   "id": "86472ad9",
   "metadata": {},
   "outputs": [
    {
     "data": {
      "text/plain": [
       "Array([False, False, False], dtype=bool)"
      ]
     },
     "execution_count": 27,
     "metadata": {},
     "output_type": "execute_result"
    }
   ],
   "source": [
    "jnp.arange(3) == jnp.arange(1,4)"
   ]
  },
  {
   "cell_type": "markdown",
   "id": "c72601b2",
   "metadata": {},
   "source": [
    "# Results"
   ]
  },
  {
   "cell_type": "markdown",
   "id": "fce9fd93",
   "metadata": {},
   "source": [
    "<table>\n",
    "  <tr>\n",
    "    <th>Function</th>\n",
    "    <th>Running time</th>\n",
    "  </tr>\n",
    "  <tr>\n",
    "    <td colspan=\"2\", style=\"text-align: center;\">1 GST</td>\n",
    "  </tr>\n",
    "  <tr>\n",
    "    <td>Numba</td> \n",
    "    <td> 230 μs ± 3.63 μs</td>\n",
    "  </tr>\n",
    "  <tr>\n",
    "    <td>JAX </td>\n",
    "    <td> 60.8 ms ± 580 μs</td>\n",
    "  </tr>\n",
    "  <tr>\n",
    "    <td>JAX + JIT (contraction + mse)</td>\n",
    "    <td> 6.01 ms ± 67.8 μs/ First compilation: 681 ms</td>\n",
    "  </tr>\n",
    "  <tr>\n",
    "    <td>JAX + JIT (contraction)</td>\n",
    "    <td> 12.5 ms ± 66.8 μs</td>\n",
    "  </tr>\n",
    "  <tr>\n",
    "    <td>JAX + JIT (contraction + MSE + outter function)</td>\n",
    "    <td> 586 μs ± 6.07 μs (second run onwards) / 375 μs ± 842 ns (compilation) + 983 μs ± 26.1 μs (run) =  1.3579 ms (first run). Actual reported: 2.95 s </td>\n",
    "  </tr>\n",
    "  <tr>\n",
    "    <td colspan=\"2\", style=\"text-align: center;\">2 GST</td>\n",
    "  <tr>\n",
    "    <td>Numba</td> \n",
    "    <td> 8.83 ms ± 22 μs</td>\n",
    "  </tr>\n",
    "  <tr>\n",
    "    <td>JAX </td>\n",
    "    <td> 707 ms ± 31.7 ms</td>\n",
    "  </tr>\n",
    "  <tr>\n",
    "    <td>JAX + JIT (contraction + mse)</td>\n",
    "    <td> 115 ms ± 2.31 ms / First compilation: 833 ms</td>\n",
    "  </tr>\n",
    "  <tr>\n",
    "    <td>JAX + JIT (contraction)</td>\n",
    "    <td> 194 ms ± 2.65 ms</td>\n",
    "  </tr>\n",
    "  <tr>\n",
    "    <td>JAX + JIT (contraction + MSE + outter function)</td>\n",
    "    <td> NA: compilation took minutes to run (stopped after >5mins).</td>\n",
    "  </tr>\n",
    "  <tr>\n",
    "    <td colspan=\"2\", style=\"text-align: center;\">3 GST</td>\n",
    "  <tr>\n",
    "    <td>Numba</td> \n",
    "    <td> 1.04 s ± 150 ms</td>\n",
    "  </tr>\n",
    "  <tr>\n",
    "    <td>JAX </td>\n",
    "    <td> 1.84 s ± 10.4 ms </td>\n",
    "  </tr>\n",
    "  <tr>\n",
    "    <td>JAX + JIT (contraction + mse)</td>\n",
    "    <td> 991 ms ± 6.09 ms/ First compilation: 2.14 s</td>\n",
    "  </tr>\n",
    "  <tr>\n",
    "    <td>JAX + JIT (contraction)</td>\n",
    "    <td> 1.35 s ± 4.98 ms</td>\n",
    "  </tr>\n",
    "  <tr>\n",
    "    <td>JAX + JIT (contraction + MSE + outter function)</td>\n",
    "    <td> NA: compilation took minutes to run (stopped after >5mins).</td>\n",
    "  </tr>\n",
    "  <tr>\n",
    "    <td colspan=\"2\", style=\"text-align: center;\">4 GST</td>\n",
    "  <tr>\n",
    "    <td>Numba</td> \n",
    "    <td> 31 s ± 862 ms</td>\n",
    "  </tr>\n",
    "  <tr>\n",
    "    <td>JAX </td>\n",
    "    <td> 31.1 s ± 0 ns </td>\n",
    "  </tr>\n",
    "  <tr>\n",
    "    <td>JAX + JIT (contraction + mse)</td>\n",
    "    <td> 25.8 s ± 169 ms / First compilation: 26.5 s</td>\n",
    "  </tr>\n",
    "  <tr>\n",
    "    <td>JAX + JIT (contraction)</td>\n",
    "    <td> Not attempted</td>\n",
    "  </tr>\n",
    "  <tr>\n",
    "    <td>JAX + JIT (contraction + MSE + outter function)</td>\n",
    "    <td> Not attempted</td>\n",
    "  </tr>\n",
    "</table>\n"
   ]
  },
  {
   "cell_type": "markdown",
   "id": "e744ad21",
   "metadata": {},
   "source": []
  }
 ],
 "metadata": {
  "kernelspec": {
   "display_name": "qcvv-env",
   "language": "python",
   "name": "python3"
  },
  "language_info": {
   "codemirror_mode": {
    "name": "ipython",
    "version": 3
   },
   "file_extension": ".py",
   "mimetype": "text/x-python",
   "name": "python",
   "nbconvert_exporter": "python",
   "pygments_lexer": "ipython3",
   "version": "3.11.10"
  }
 },
 "nbformat": 4,
 "nbformat_minor": 5
}
