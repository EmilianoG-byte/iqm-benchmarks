{
 "cells": [
  {
   "cell_type": "markdown",
   "id": "bd7af26b-26d0-4ae0-acf4-38e7d1e29b51",
   "metadata": {},
   "source": [
    "## Imports "
   ]
  },
  {
   "cell_type": "code",
   "execution_count": 1,
   "id": "fcd88d9d-af4e-48b7-8b1c-b20e52af4e51",
   "metadata": {},
   "outputs": [
    {
     "ename": "ImportError",
     "evalue": "cannot import name 'CompressiveGST' from 'iqm.benchmarks.compressive_gst.compressive_gst' (/Users/emiliano.godinez/Documents/phd/iqm-benchmarks/src/iqm/benchmarks/compressive_gst/compressive_gst.py)",
     "output_type": "error",
     "traceback": [
      "\u001b[0;31m---------------------------------------------------------------------------\u001b[0m",
      "\u001b[0;31mImportError\u001b[0m                               Traceback (most recent call last)",
      "Cell \u001b[0;32mIn[1], line 5\u001b[0m\n\u001b[1;32m      3\u001b[0m \u001b[38;5;28;01mfrom\u001b[39;00m \u001b[38;5;21;01mmGST\u001b[39;00m\u001b[38;5;21;01m.\u001b[39;00m\u001b[38;5;21;01moptimization\u001b[39;00m \u001b[38;5;28;01mimport\u001b[39;00m tangent_proj\n\u001b[1;32m      4\u001b[0m \u001b[38;5;28;01mfrom\u001b[39;00m \u001b[38;5;21;01mmGST\u001b[39;00m \u001b[38;5;28;01mimport\u001b[39;00m additional_fns, algorithm, compatibility\n\u001b[0;32m----> 5\u001b[0m \u001b[38;5;28;01mfrom\u001b[39;00m \u001b[38;5;21;01miqm\u001b[39;00m\u001b[38;5;21;01m.\u001b[39;00m\u001b[38;5;21;01mbenchmarks\u001b[39;00m\u001b[38;5;21;01m.\u001b[39;00m\u001b[38;5;21;01mcompressive_gst\u001b[39;00m\u001b[38;5;21;01m.\u001b[39;00m\u001b[38;5;21;01mcompressive_gst\u001b[39;00m \u001b[38;5;28;01mimport\u001b[39;00m GSTConfiguration, CompressiveGST\n\u001b[1;32m      6\u001b[0m \u001b[38;5;28;01mfrom\u001b[39;00m \u001b[38;5;21;01miqm\u001b[39;00m\u001b[38;5;21;01m.\u001b[39;00m\u001b[38;5;21;01mbenchmarks\u001b[39;00m\u001b[38;5;21;01m.\u001b[39;00m\u001b[38;5;21;01mcompressive_gst\u001b[39;00m\u001b[38;5;21;01m.\u001b[39;00m\u001b[38;5;21;01mgst_analysis\u001b[39;00m \u001b[38;5;28;01mimport\u001b[39;00m dataset_counts_to_mgst_format\n\u001b[1;32m      8\u001b[0m \u001b[38;5;28;01mfrom\u001b[39;00m \u001b[38;5;21;01mmGST\u001b[39;00m\u001b[38;5;21;01m.\u001b[39;00m\u001b[38;5;21;01mqiskit_interface\u001b[39;00m \u001b[38;5;28;01mimport\u001b[39;00m qiskit_gate_to_operator\n",
      "\u001b[0;31mImportError\u001b[0m: cannot import name 'CompressiveGST' from 'iqm.benchmarks.compressive_gst.compressive_gst' (/Users/emiliano.godinez/Documents/phd/iqm-benchmarks/src/iqm/benchmarks/compressive_gst/compressive_gst.py)"
     ]
    }
   ],
   "source": [
    "# Needs iqm-benchmarks from the github repo to access all the mGST functions: https://github.com/iqm-finland/iqm-benchmarks\n",
    "from mGST.low_level_jit import dK, objf, ddM, dK_dMdM\n",
    "from mGST.optimization import tangent_proj\n",
    "from mGST import additional_fns, algorithm, compatibility\n",
    "from iqm.benchmarks.compressive_gst.compressive_gst import GSTConfiguration, CompressiveGST\n",
    "from iqm.benchmarks.compressive_gst.gst_analysis import dataset_counts_to_mgst_format\n",
    "\n",
    "from mGST.qiskit_interface import qiskit_gate_to_operator\n",
    "\n",
    "import numpy as np\n",
    "\n",
    "backend = \"iqmfakeapollo\""
   ]
  },
  {
   "cell_type": "markdown",
   "id": "7dd99f55-7122-4cd8-af5d-061b309c9199",
   "metadata": {},
   "source": [
    "## Running the circuits on a simulator"
   ]
  },
  {
   "cell_type": "code",
   "execution_count": 2,
   "id": "67aca8c8-a79a-489e-94f1-b12fe3338246",
   "metadata": {},
   "outputs": [],
   "source": [
    "Q2_GST = GSTConfiguration(\n",
    "    qubit_layouts=[[0, 1]],\n",
    "    gate_set=\"2QXYCZ\",\n",
    "    num_circuits=800,\n",
    "    shots=1000,\n",
    "    rank=4,\n",
    ")\n",
    "\n",
    "# Example configurations for 1 and 3 qubits:\n",
    "# Q1_GST = GSTConfiguration(\n",
    "#     qubit_layouts=[[0]],\n",
    "#     gate_set=\"1QXYI\",\n",
    "#     num_circuits=100,\n",
    "#     shots=1000,\n",
    "#     rank=4,\n",
    "# )\n",
    "\n",
    "# Q3_GST = GSTConfiguration(\n",
    "#     qubit_layouts=[[0,1,3]],\n",
    "#     gate_set=\"3QXYCZ\",\n",
    "#     num_circuits=1000,\n",
    "#     shots=1000,\n",
    "#     rank=4,\n",
    "# )"
   ]
  },
  {
   "cell_type": "code",
   "execution_count": 4,
   "id": "c502bd99-f2ba-43b7-b063-c24b4e1ad065",
   "metadata": {},
   "outputs": [
    {
     "name": "stderr",
     "output_type": "stream",
     "text": [
      "2025-01-07 11:41:23,842 - iqm.benchmarks.logging_config - INFO - Now generating 800 random GST circuits...\n",
      "2025-01-07 11:41:24,492 - iqm.benchmarks.logging_config - INFO - Will transpile all 800 circuits according to fixed physical layout\n",
      "2025-01-07 11:41:24,493 - iqm.benchmarks.logging_config - INFO - Transpiling for backend IQMFakeApolloBackend with optimization level 0, sabre routing method all circuits\n",
      "2025-01-07 11:41:27,597 - iqm.benchmarks.logging_config - INFO - Submitting batch with 800 circuits corresponding to qubits [0, 1]\n",
      "2025-01-07 11:41:27,647 - iqm.benchmarks.logging_config - INFO - Now executing the corresponding circuit batch\n",
      "2025-01-07 11:41:27,795 - iqm.benchmarks.logging_config - INFO - Retrieving all counts\n"
     ]
    }
   ],
   "source": [
    "benchmark = CompressiveGST(backend, Q2_GST)\n",
    "result = benchmark.run()"
   ]
  },
  {
   "cell_type": "markdown",
   "id": "c202d1d9-2957-460f-89f0-1b9794eab515",
   "metadata": {},
   "source": [
    "## Renaming the parameters for the convention used in the derivatives"
   ]
  },
  {
   "cell_type": "code",
   "execution_count": 5,
   "id": "73a60aa2-6fd0-4def-bc11-10a80fa38fa7",
   "metadata": {},
   "outputs": [],
   "source": [
    "qubit_layout = [0, 1]\n",
    "dataset = result.dataset\n",
    "y = dataset_counts_to_mgst_format(dataset, qubit_layout)\n",
    "J = dataset.attrs[\"J\"]\n",
    "l = dataset.attrs[\"seq_len_list\"][-1]\n",
    "d = dataset.attrs[\"num_gates\"]\n",
    "pdim = dataset.attrs[\"pdim\"]\n",
    "r = pdim ** 2\n",
    "n_povm = dataset.attrs[\"num_povm\"]\n",
    "bsize = dataset.attrs[\"batch_size\"]\n",
    "meas_samples = dataset.attrs[\"shots\"]\n",
    "\n",
    "rK = 4 # Setting the Kraus rank\n",
    "\n",
    "# Setting some additional matrix shape parameters for the first and second derivatives\n",
    "n = rK * pdim\n",
    "nt = rK * r"
   ]
  },
  {
   "cell_type": "markdown",
   "id": "73193287-2612-4c72-a582-bc7274c989ab",
   "metadata": {},
   "source": [
    "## Initialization"
   ]
  },
  {
   "cell_type": "code",
   "execution_count": 6,
   "id": "a696860a-a0fd-42ef-89ac-787de4fdaa60",
   "metadata": {},
   "outputs": [],
   "source": [
    "## Preparing an initialization (random gate set or target gate set)\n",
    "\n",
    "target_init = True\n",
    "\n",
    "if target_init:\n",
    "    K_target = qiskit_gate_to_operator(dataset.attrs[\"gate_set\"])\n",
    "    X_target = np.einsum(\"ijkl,ijnm -> iknlm\", K_target, K_target.conj()).reshape(\n",
    "        (dataset.attrs[\"num_gates\"], dataset.attrs[\"pdim\"] ** 2, dataset.attrs[\"pdim\"] ** 2)\n",
    "    )  # tensor of superoperators\n",
    "    \n",
    "    rho = (\n",
    "        np.kron(additional_fns.basis(dataset.attrs[\"pdim\"], 0).T.conj(), additional_fns.basis(dataset.attrs[\"pdim\"], 0))\n",
    "        .reshape(-1)\n",
    "        .astype(np.complex128)\n",
    "    )\n",
    "    \n",
    "    # Computational basis measurement:\n",
    "    E = np.array(\n",
    "        [\n",
    "            np.kron(\n",
    "                additional_fns.basis(dataset.attrs[\"pdim\"], i).T.conj(), additional_fns.basis(dataset.attrs[\"pdim\"], i)\n",
    "            ).reshape(-1)\n",
    "            for i in range(dataset.attrs[\"pdim\"])\n",
    "        ]\n",
    "    ).astype(np.complex128)\n",
    "    \n",
    "    \n",
    "    K = additional_fns.perturbed_target_init(X_target, dataset.attrs[\"rank\"])\n",
    "    X = np.einsum(\"ijkl,ijnm -> iknlm\", K, K.conj()).reshape((d, r, r))\n",
    "else:\n",
    "    K, X, E, rho = random_gs(d, r, rK, n_povm)"
   ]
  },
  {
   "cell_type": "markdown",
   "id": "ec53228c-def9-4377-847d-af3b4a019434",
   "metadata": {},
   "source": [
    "## Gradient and Hessian"
   ]
  },
  {
   "cell_type": "markdown",
   "id": "a707975e-7ff9-457a-bbe4-6daedd8551b0",
   "metadata": {},
   "source": [
    "The function dK computes the Wirtinger derivative $\\frac{\\partial \\mathcal L}{\\partial K}$.\n",
    "Here $\\mathcal L$ is the cost function \"objf\"."
   ]
  },
  {
   "cell_type": "code",
   "execution_count": 7,
   "id": "5741ca58-ec41-4c41-a7d5-901979f35464",
   "metadata": {},
   "outputs": [],
   "source": [
    "# Euclidean Gradient\n",
    "dK_ = dK(X, K, E, rho, J, y, d, r, rK)"
   ]
  },
  {
   "cell_type": "markdown",
   "id": "03df35a8-6ace-43ff-b696-d077fb7b374f",
   "metadata": {},
   "source": [
    "The following code computes the Wirtinger derivatives \"Fyconjy\" $= \\frac{\\partial^2 \\mathcal L}{\\partial K \\partial K^*}$ and \"Fyy\" $= \\frac{\\partial^2 \\mathcal L}{\\partial K \\partial K}$. \\\n",
    "Here $\\mathcal L$ is the cost function \"objf\"."
   ]
  },
  {
   "cell_type": "code",
   "execution_count": 8,
   "id": "ec31204e-0bf8-46ba-8091-c457ada039ab",
   "metadata": {},
   "outputs": [],
   "source": [
    "# Euclidean Hessian (can take a while to compute depending on rK)\n",
    "# compute individual second derivative terms\n",
    "dK_, dM10, dM11 = dK_dMdM(X, K, E, rho, J, y, d, r, rK)\n",
    "dd, dconjd = ddM(X, K, E, rho, J, y, d, r, rK)\n",
    "\n",
    "# Assemple terms\n",
    "Fyconjy = dM11.reshape(d, nt, d, nt) + np.einsum(\"ijklmnop->ikmojlnp\", dconjd).reshape((d, nt, d, nt)) # Mixed derivate by K and K.conj()\n",
    "Fyy = dM10.reshape(d, nt, d, nt) + np.einsum(\"ijklmnop->ikmojlnp\", dd).reshape((d, nt, d, nt)) # Second derivate by K"
   ]
  },
  {
   "cell_type": "code",
   "execution_count": 9,
   "id": "af171c2d-9083-4881-94a6-9d0ab574459a",
   "metadata": {},
   "outputs": [
    {
     "name": "stdout",
     "output_type": "stream",
     "text": [
      "(5, 4, 4, 4)\n",
      "(5, 64, 5, 64) 5 64\n"
     ]
    }
   ],
   "source": [
    "print(K.shape)\n",
    "print(Fyy.shape, d, nt)\n",
    "# The second derivative is ordered with d = \"nubmer of gates\" and nt = pdim*pdim*rK = \"Product of all Kraus tensor dimenstions per gate\"\n",
    "# So for instance the second derivative just by gate 0 - parameters is stored in Fyy[0,:,0,:], while a mixed derivative by gate 0 and gate 1 - parameters is in Fyy[0,:,1,:] and Fyy[1,:,0,:]"
   ]
  }
 ],
 "metadata": {
  "kernelspec": {
   "display_name": "qcvv-env",
   "language": "python",
   "name": "python3"
  },
  "language_info": {
   "codemirror_mode": {
    "name": "ipython",
    "version": 3
   },
   "file_extension": ".py",
   "mimetype": "text/x-python",
   "name": "python",
   "nbconvert_exporter": "python",
   "pygments_lexer": "ipython3",
   "version": "3.11.10"
  }
 },
 "nbformat": 4,
 "nbformat_minor": 5
}
