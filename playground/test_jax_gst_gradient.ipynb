{
 "cells": [
  {
   "cell_type": "code",
   "execution_count": 1,
   "metadata": {},
   "outputs": [],
   "source": [
    "# You will need to install iqm-benchmarks from the github repo to access all the mGST functions: https://github.com/iqm-finland/iqm-benchmarks\n",
    "from mGST.low_level_jit import dK, objf\n",
    "import shelve\n",
    "import numpy as np\n",
    "\n",
    "%load_ext autoreload\n",
    "%autoreload 2"
   ]
  },
  {
   "cell_type": "code",
   "execution_count": 2,
   "metadata": {},
   "outputs": [
    {
     "name": "stdout",
     "output_type": "stream",
     "text": [
      "K\n",
      "E_new\n",
      "rho\n",
      "y\n",
      "J\n",
      "d\n",
      "r\n",
      "rK\n",
      "fixed_elements\n"
     ]
    }
   ],
   "source": [
    "# Loading parameters\n",
    "filename = \"./Minimal_gradient/shelve_out\"\n",
    "my_shelf = shelve.open(filename)\n",
    "for key in [\"K\", \"E_new\", \"rho\", \"y\", \"J\", \"d\", \"r\", \"rK\", \"fixed_elements\"]:\n",
    "    print(key)\n",
    "    globals()[key]=my_shelf[key]\n",
    "my_shelf.close()"
   ]
  },
  {
   "cell_type": "code",
   "execution_count": 3,
   "metadata": {},
   "outputs": [
    {
     "name": "stdout",
     "output_type": "stream",
     "text": [
      "3\n",
      "4\n",
      "[]\n"
     ]
    },
    {
     "data": {
      "text/plain": [
       "(None, None, None)"
      ]
     },
     "execution_count": 3,
     "metadata": {},
     "output_type": "execute_result"
    }
   ],
   "source": [
    "print(d), print(r), print(fixed_elements)"
   ]
  },
  {
   "cell_type": "code",
   "execution_count": 4,
   "metadata": {},
   "outputs": [],
   "source": [
    "# Setting some additional_parameters\n",
    "E = E_new\n",
    "pdim = int(np.sqrt(r))\n",
    "n = rK * pdim\n",
    "Delta = np.zeros((d, n, pdim)).astype(np.complex128)\n",
    "X = np.einsum(\"ijkl,ijnm -> iknlm\", K, K.conj()).reshape((d, r, r))"
   ]
  },
  {
   "cell_type": "code",
   "execution_count": 5,
   "metadata": {},
   "outputs": [
    {
     "name": "stdout",
     "output_type": "stream",
     "text": [
      "0.0019762572998321807\n"
     ]
    }
   ],
   "source": [
    "print(objf(X, E, rho, J, y))"
   ]
  },
  {
   "cell_type": "code",
   "execution_count": 7,
   "metadata": {},
   "outputs": [
    {
     "ename": "TypingError",
     "evalue": "Failed in nopython mode pipeline (step: nopython frontend)\n\u001b[1m\u001b[1mUse of unsupported NumPy function 'numpy.einsum' or unsupported use of the function.\n\u001b[1m\nFile \"../src/mGST/low_level_jit.py\", line 349:\u001b[0m\n\u001b[1mdef dK(X, K, E, rho, J, y, d, r, rK):\n    <source elided>\n    \"\"\"\n\u001b[1m    X = np.einsum(\"ijkl,ijnm -> iknlm\", K, K.conj()).reshape((d, r, r))\n\u001b[0m    \u001b[1m^\u001b[0m\u001b[0m\n\u001b[0m\n\u001b[0m\u001b[1mDuring: typing of get attribute at /Users/emiliano.godinez/Documents/phd/iqm-benchmarks/src/mGST/low_level_jit.py (349)\u001b[0m\n\u001b[1m\nFile \"../src/mGST/low_level_jit.py\", line 349:\u001b[0m\n\u001b[1mdef dK(X, K, E, rho, J, y, d, r, rK):\n    <source elided>\n    \"\"\"\n\u001b[1m    X = np.einsum(\"ijkl,ijnm -> iknlm\", K, K.conj()).reshape((d, r, r))\n\u001b[0m    \u001b[1m^\u001b[0m\u001b[0m\n",
     "output_type": "error",
     "traceback": [
      "\u001b[0;31m---------------------------------------------------------------------------\u001b[0m",
      "\u001b[0;31mTypingError\u001b[0m                               Traceback (most recent call last)",
      "Cell \u001b[0;32mIn[7], line 1\u001b[0m\n\u001b[0;32m----> 1\u001b[0m dK_ \u001b[38;5;241m=\u001b[39m \u001b[43mdK\u001b[49m\u001b[43m(\u001b[49m\u001b[43mX\u001b[49m\u001b[43m,\u001b[49m\u001b[43m \u001b[49m\u001b[43mK\u001b[49m\u001b[43m,\u001b[49m\u001b[43m \u001b[49m\u001b[43mE\u001b[49m\u001b[43m,\u001b[49m\u001b[43m \u001b[49m\u001b[43mrho\u001b[49m\u001b[43m,\u001b[49m\u001b[43m \u001b[49m\u001b[43mJ\u001b[49m\u001b[43m,\u001b[49m\u001b[43m \u001b[49m\u001b[43my\u001b[49m\u001b[43m,\u001b[49m\u001b[43m \u001b[49m\u001b[43md\u001b[49m\u001b[43m,\u001b[49m\u001b[43m \u001b[49m\u001b[43mr\u001b[49m\u001b[43m,\u001b[49m\u001b[43m \u001b[49m\u001b[43mrK\u001b[49m\u001b[43m)\u001b[49m\n",
      "File \u001b[0;32m~/.pyenv/versions/qcvv-env/lib/python3.11/site-packages/numba/core/dispatcher.py:423\u001b[0m, in \u001b[0;36m_DispatcherBase._compile_for_args\u001b[0;34m(self, *args, **kws)\u001b[0m\n\u001b[1;32m    419\u001b[0m         msg \u001b[38;5;241m=\u001b[39m (\u001b[38;5;124mf\u001b[39m\u001b[38;5;124m\"\u001b[39m\u001b[38;5;132;01m{\u001b[39;00m\u001b[38;5;28mstr\u001b[39m(e)\u001b[38;5;241m.\u001b[39mrstrip()\u001b[38;5;132;01m}\u001b[39;00m\u001b[38;5;124m \u001b[39m\u001b[38;5;130;01m\\n\u001b[39;00m\u001b[38;5;130;01m\\n\u001b[39;00m\u001b[38;5;124mThis error may have been caused \u001b[39m\u001b[38;5;124m\"\u001b[39m\n\u001b[1;32m    420\u001b[0m                \u001b[38;5;124mf\u001b[39m\u001b[38;5;124m\"\u001b[39m\u001b[38;5;124mby the following argument(s):\u001b[39m\u001b[38;5;130;01m\\n\u001b[39;00m\u001b[38;5;132;01m{\u001b[39;00margs_str\u001b[38;5;132;01m}\u001b[39;00m\u001b[38;5;130;01m\\n\u001b[39;00m\u001b[38;5;124m\"\u001b[39m)\n\u001b[1;32m    421\u001b[0m         e\u001b[38;5;241m.\u001b[39mpatch_message(msg)\n\u001b[0;32m--> 423\u001b[0m     \u001b[43merror_rewrite\u001b[49m\u001b[43m(\u001b[49m\u001b[43me\u001b[49m\u001b[43m,\u001b[49m\u001b[43m \u001b[49m\u001b[38;5;124;43m'\u001b[39;49m\u001b[38;5;124;43mtyping\u001b[39;49m\u001b[38;5;124;43m'\u001b[39;49m\u001b[43m)\u001b[49m\n\u001b[1;32m    424\u001b[0m \u001b[38;5;28;01mexcept\u001b[39;00m errors\u001b[38;5;241m.\u001b[39mUnsupportedError \u001b[38;5;28;01mas\u001b[39;00m e:\n\u001b[1;32m    425\u001b[0m     \u001b[38;5;66;03m# Something unsupported is present in the user code, add help info\u001b[39;00m\n\u001b[1;32m    426\u001b[0m     error_rewrite(e, \u001b[38;5;124m'\u001b[39m\u001b[38;5;124munsupported_error\u001b[39m\u001b[38;5;124m'\u001b[39m)\n",
      "File \u001b[0;32m~/.pyenv/versions/qcvv-env/lib/python3.11/site-packages/numba/core/dispatcher.py:364\u001b[0m, in \u001b[0;36m_DispatcherBase._compile_for_args.<locals>.error_rewrite\u001b[0;34m(e, issue_type)\u001b[0m\n\u001b[1;32m    362\u001b[0m     \u001b[38;5;28;01mraise\u001b[39;00m e\n\u001b[1;32m    363\u001b[0m \u001b[38;5;28;01melse\u001b[39;00m:\n\u001b[0;32m--> 364\u001b[0m     \u001b[38;5;28;01mraise\u001b[39;00m e\u001b[38;5;241m.\u001b[39mwith_traceback(\u001b[38;5;28;01mNone\u001b[39;00m)\n",
      "\u001b[0;31mTypingError\u001b[0m: Failed in nopython mode pipeline (step: nopython frontend)\n\u001b[1m\u001b[1mUse of unsupported NumPy function 'numpy.einsum' or unsupported use of the function.\n\u001b[1m\nFile \"../src/mGST/low_level_jit.py\", line 349:\u001b[0m\n\u001b[1mdef dK(X, K, E, rho, J, y, d, r, rK):\n    <source elided>\n    \"\"\"\n\u001b[1m    X = np.einsum(\"ijkl,ijnm -> iknlm\", K, K.conj()).reshape((d, r, r))\n\u001b[0m    \u001b[1m^\u001b[0m\u001b[0m\n\u001b[0m\n\u001b[0m\u001b[1mDuring: typing of get attribute at /Users/emiliano.godinez/Documents/phd/iqm-benchmarks/src/mGST/low_level_jit.py (349)\u001b[0m\n\u001b[1m\nFile \"../src/mGST/low_level_jit.py\", line 349:\u001b[0m\n\u001b[1mdef dK(X, K, E, rho, J, y, d, r, rK):\n    <source elided>\n    \"\"\"\n\u001b[1m    X = np.einsum(\"ijkl,ijnm -> iknlm\", K, K.conj()).reshape((d, r, r))\n\u001b[0m    \u001b[1m^\u001b[0m\u001b[0m\n"
     ]
    }
   ],
   "source": [
    "dK_ = dK(X, K, E, rho, J, y, d, r, rK)"
   ]
  },
  {
   "cell_type": "code",
   "execution_count": 6,
   "metadata": {},
   "outputs": [
    {
     "ename": "NameError",
     "evalue": "name 'dK_' is not defined",
     "output_type": "error",
     "traceback": [
      "\u001b[0;31m---------------------------------------------------------------------------\u001b[0m",
      "\u001b[0;31mNameError\u001b[0m                                 Traceback (most recent call last)",
      "Cell \u001b[0;32mIn[6], line 1\u001b[0m\n\u001b[0;32m----> 1\u001b[0m \u001b[43mdK_\u001b[49m\u001b[38;5;241m.\u001b[39mshape, dK_\u001b[38;5;241m.\u001b[39mdtype, \u001b[38;5;28mtype\u001b[39m(dK_)\n",
      "\u001b[0;31mNameError\u001b[0m: name 'dK_' is not defined"
     ]
    }
   ],
   "source": [
    "dK_.shape, dK_.dtype, type(dK_)"
   ]
  },
  {
   "cell_type": "markdown",
   "metadata": {},
   "source": [
    "# Try obtain the derivative but with JAX"
   ]
  },
  {
   "cell_type": "code",
   "execution_count": 7,
   "metadata": {},
   "outputs": [],
   "source": [
    "import jax\n",
    "import jax.numpy as jnp"
   ]
  },
  {
   "cell_type": "code",
   "execution_count": 6,
   "metadata": {},
   "outputs": [
    {
     "data": {
      "text/plain": [
       "Array([1.+0.j, 1.+0.j], dtype=complex128)"
      ]
     },
     "execution_count": 6,
     "metadata": {},
     "output_type": "execute_result"
    }
   ],
   "source": [
    "a = jnp.array([1,1])\n",
    "jnp.complex128(a)"
   ]
  },
  {
   "cell_type": "code",
   "execution_count": 8,
   "metadata": {},
   "outputs": [],
   "source": [
    "from mGST.low_level_jit import cost_function_jax\n",
    "d = 3\n",
    "r = 4"
   ]
  },
  {
   "cell_type": "code",
   "execution_count": 11,
   "metadata": {},
   "outputs": [
    {
     "data": {
      "text/plain": [
       "Array(0.00197626, dtype=float64)"
      ]
     },
     "execution_count": 11,
     "metadata": {},
     "output_type": "execute_result"
    }
   ],
   "source": [
    "cost_function_jax(K, d, r, E, rho, J, y)"
   ]
  },
  {
   "cell_type": "markdown",
   "metadata": {},
   "source": [
    "**Result with single precision**: Array(0.00197626, dtype=float32)"
   ]
  },
  {
   "cell_type": "code",
   "execution_count": 12,
   "metadata": {},
   "outputs": [],
   "source": [
    "grad_jax = jax.grad(fun=cost_function_jax, argnums=0)(K, d, r, E, rho, J, y)"
   ]
  },
  {
   "cell_type": "code",
   "execution_count": 13,
   "metadata": {},
   "outputs": [
    {
     "data": {
      "text/plain": [
       "((3, 4, 2, 2), dtype('complex128'))"
      ]
     },
     "execution_count": 13,
     "metadata": {},
     "output_type": "execute_result"
    }
   ],
   "source": [
    "grad_jax.shape, grad_jax.dtype"
   ]
  },
  {
   "cell_type": "code",
   "execution_count": 14,
   "metadata": {},
   "outputs": [
    {
     "data": {
      "text/plain": [
       "Array(True, dtype=bool)"
      ]
     },
     "execution_count": 14,
     "metadata": {},
     "output_type": "execute_result"
    }
   ],
   "source": [
    "jnp.allclose(grad_jax/2, dK_)"
   ]
  },
  {
   "cell_type": "code",
   "execution_count": 15,
   "metadata": {},
   "outputs": [
    {
     "data": {
      "text/plain": [
       "Array(0.06980057, dtype=float64)"
      ]
     },
     "execution_count": 15,
     "metadata": {},
     "output_type": "execute_result"
    }
   ],
   "source": [
    "jnp.linalg.norm(grad_jax - dK_)"
   ]
  },
  {
   "cell_type": "code",
   "execution_count": 17,
   "metadata": {},
   "outputs": [
    {
     "data": {
      "text/plain": [
       "(dtype('complex128'),\n",
       " dtype('complex128'),\n",
       " dtype('complex128'),\n",
       " dtype('int32'),\n",
       " dtype('float64'))"
      ]
     },
     "execution_count": 17,
     "metadata": {},
     "output_type": "execute_result"
    }
   ],
   "source": [
    "K.dtype, E.dtype, rho.dtype, J.dtype, y.dtype"
   ]
  },
  {
   "cell_type": "code",
   "execution_count": 18,
   "metadata": {},
   "outputs": [
    {
     "data": {
      "text/plain": [
       "Array([[ 6.89530895e-06+1.41335293e-05j, -6.95757287e-07+2.63181640e-05j],\n",
       "       [ 1.79551344e-05-1.89523399e-05j,  1.34852364e-05+4.34467736e-06j]],      dtype=complex128)"
      ]
     },
     "execution_count": 18,
     "metadata": {},
     "output_type": "execute_result"
    }
   ],
   "source": [
    "grad_jax[0,0,:,:]/2"
   ]
  },
  {
   "cell_type": "code",
   "execution_count": 19,
   "metadata": {},
   "outputs": [
    {
     "data": {
      "text/plain": [
       "array([[ 6.89530895e-06+1.41335293e-05j, -6.95757287e-07+2.63181640e-05j],\n",
       "       [ 1.79551344e-05-1.89523399e-05j,  1.34852364e-05+4.34467736e-06j]])"
      ]
     },
     "execution_count": 19,
     "metadata": {},
     "output_type": "execute_result"
    }
   ],
   "source": [
    "dK_[0,0,:,:]"
   ]
  },
  {
   "cell_type": "markdown",
   "metadata": {},
   "source": [
    "## Conclusion up to now:\n",
    "\n",
    "The gradients seem to match up to a factor of 2 and the conjugation. I will now check the results both of these return inside the algorithm.\n",
    "\n",
    "### TODO:\n",
    "* Once I verify they both give reasonable results, I can time both executions"
   ]
  },
  {
   "cell_type": "markdown",
   "metadata": {},
   "source": [
    "# Gradient Descent"
   ]
  },
  {
   "cell_type": "code",
   "execution_count": 20,
   "metadata": {},
   "outputs": [],
   "source": [
    "from mGST.algorithm import gd"
   ]
  },
  {
   "cell_type": "code",
   "execution_count": 25,
   "metadata": {},
   "outputs": [],
   "source": [
    "fixed_gates = np.array([(f\"G%i\" % i in fixed_elements) for i in range(d)])\n",
    "fixed_gates\n",
    "\n",
    "def get_x_from_k(k):\n",
    "    return np.einsum(\"ijkl,ijnm -> iknlm\", k, k.conj()).reshape((d, r, r))\n",
    "\n",
    "K_gds = gd(K, E_new, rho, y, J, d, r, rK, fixed_gates=fixed_gates, ls=\"COBYLA\")"
   ]
  },
  {
   "cell_type": "code",
   "execution_count": 26,
   "metadata": {},
   "outputs": [
    {
     "name": "stdout",
     "output_type": "stream",
     "text": [
      "Old f(x): 0.0019762572998321807\n",
      "New f(x): 0.0015298804063626297\n"
     ]
    }
   ],
   "source": [
    "x_gds = get_x_from_k(k=K_gds)\n",
    "\n",
    "print('Old f(x):', objf(X, E, rho, J, y))\n",
    "print('New f(x):', objf(x_gds, E, rho, J, y))"
   ]
  },
  {
   "cell_type": "code",
   "execution_count": 32,
   "metadata": {},
   "outputs": [
    {
     "name": "stdout",
     "output_type": "stream",
     "text": [
      "Using JAX power\n"
     ]
    }
   ],
   "source": [
    "K_gds_jax = gd(K, E_new, rho, y, J, d, r, rK, fixed_gates=fixed_gates, ls=\"COBYLA\", use_jax=True)"
   ]
  },
  {
   "cell_type": "code",
   "execution_count": 33,
   "metadata": {},
   "outputs": [
    {
     "name": "stdout",
     "output_type": "stream",
     "text": [
      "Old f(x): 0.0019762572998321807\n",
      "New f(x): 0.0015298804016647602\n"
     ]
    }
   ],
   "source": [
    "x_gds_jax = get_x_from_k(k=K_gds_jax)\n",
    "\n",
    "print('Old f(x):', objf(X, E, rho, J, y))\n",
    "print('New f(x):', objf(x_gds_jax, E, rho, J, y))"
   ]
  },
  {
   "cell_type": "code",
   "execution_count": 34,
   "metadata": {},
   "outputs": [],
   "source": [
    "# NOTE: we are able to obtain the same result up to numerical precision.\n",
    "# However, this is without taking the conj() of the gradient, which is weird!\n",
    "# Could the definition be taking already the conjugate into accoiunt? \n",
    "# (so that the conjugate of the gradient is actually the direction we want to follow)"
   ]
  },
  {
   "cell_type": "markdown",
   "metadata": {},
   "source": [
    "# Timing: (after restarting to avoid cache)"
   ]
  },
  {
   "cell_type": "code",
   "execution_count": 5,
   "metadata": {},
   "outputs": [],
   "source": [
    "# defining the numba function including the contraction of X:\n",
    "def grad_numba(K, E, rho, J, y, d, r, rK):\n",
    "    X = np.einsum(\"ijkl,ijnm -> iknlm\", K, K.conj()).reshape((d, r, r))\n",
    "    grad = dK(X, K, E, rho, J, y, d, r, rK)\n",
    "    return grad"
   ]
  },
  {
   "cell_type": "code",
   "execution_count": 7,
   "metadata": {},
   "outputs": [
    {
     "name": "stdout",
     "output_type": "stream",
     "text": [
      "43.8 ms ± 219 μs per loop (mean ± std. dev. of 7 runs, 10 loops each)\n"
     ]
    }
   ],
   "source": [
    "# lets time how long it takes to compute the gradients\n",
    "\n",
    "# Without JIT\n",
    "# First let's time the TN contraction:\n",
    "%timeit dK(X, K, E, rho, J, y, d, r, rK)"
   ]
  },
  {
   "cell_type": "code",
   "execution_count": 8,
   "metadata": {},
   "outputs": [
    {
     "name": "stdout",
     "output_type": "stream",
     "text": [
      "534 ms ± 2.06 ms per loop (mean ± std. dev. of 7 runs, 1 loop each)\n"
     ]
    }
   ],
   "source": [
    "# Without JIT\n",
    "# Now let's time JAX:\n",
    "%timeit jax.grad(fun=cost_function_jax, argnums=0)(K, d, r, E, rho, J, y)"
   ]
  },
  {
   "cell_type": "code",
   "execution_count": 6,
   "metadata": {},
   "outputs": [
    {
     "name": "stdout",
     "output_type": "stream",
     "text": [
      "5.25 ms ± 88.4 μs per loop (mean ± std. dev. of 7 runs, 1 loop each)\n"
     ]
    }
   ],
   "source": [
    "# With Numba cache and JIT\n",
    "%timeit grad_numba(K, E, rho, J, y, d, r, rK)"
   ]
  },
  {
   "cell_type": "code",
   "execution_count": 9,
   "metadata": {},
   "outputs": [
    {
     "name": "stdout",
     "output_type": "stream",
     "text": [
      "275 ms ± 1.25 ms per loop (mean ± std. dev. of 7 runs, 1 loop each)\n"
     ]
    }
   ],
   "source": [
    "# With JIT\n",
    "%timeit jax.grad(fun=cost_function_jax, argnums=0)(K, d, r, E, rho, J, y)"
   ]
  },
  {
   "cell_type": "code",
   "execution_count": null,
   "metadata": {},
   "outputs": [],
   "source": []
  }
 ],
 "metadata": {
  "kernelspec": {
   "display_name": "qcvv-env",
   "language": "python",
   "name": "python3"
  },
  "language_info": {
   "codemirror_mode": {
    "name": "ipython",
    "version": 3
   },
   "file_extension": ".py",
   "mimetype": "text/x-python",
   "name": "python",
   "nbconvert_exporter": "python",
   "pygments_lexer": "ipython3",
   "version": "3.11.10"
  }
 },
 "nbformat": 4,
 "nbformat_minor": 2
}
