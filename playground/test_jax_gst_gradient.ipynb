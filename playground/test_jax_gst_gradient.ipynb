{
 "cells": [
  {
   "cell_type": "code",
   "execution_count": 1,
   "metadata": {},
   "outputs": [],
   "source": [
    "# You will need to install iqm-benchmarks from the github repo to access all the mGST functions: https://github.com/iqm-finland/iqm-benchmarks\n",
    "from mGST.low_level_jit import dK, objf\n",
    "import shelve\n",
    "import numpy as np\n",
    "\n",
    "import matplotlib.pyplot as plt\n",
    "\n",
    "import jax\n",
    "import jax.numpy as jnp\n",
    "\n",
    "from mGST.algorithm import gd\n",
    "from mGST.low_level_jit import cost_function_jax\n",
    "\n",
    "%load_ext autoreload\n",
    "%autoreload 2"
   ]
  },
  {
   "cell_type": "code",
   "execution_count": 2,
   "metadata": {},
   "outputs": [
    {
     "name": "stdout",
     "output_type": "stream",
     "text": [
      "K\n",
      "E_new\n",
      "rho\n",
      "y\n",
      "J\n",
      "d\n",
      "r\n",
      "rK\n",
      "fixed_elements\n"
     ]
    }
   ],
   "source": [
    "# Loading parameters\n",
    "filename = \"./Minimal_gradient/shelve_out\"\n",
    "my_shelf = shelve.open(filename)\n",
    "for key in [\"K\", \"E_new\", \"rho\", \"y\", \"J\", \"d\", \"r\", \"rK\", \"fixed_elements\"]:\n",
    "    print(key)\n",
    "    globals()[key]=my_shelf[key]\n",
    "my_shelf.close()"
   ]
  },
  {
   "cell_type": "code",
   "execution_count": 3,
   "metadata": {},
   "outputs": [
    {
     "data": {
      "text/plain": [
       "(100, 14)"
      ]
     },
     "execution_count": 3,
     "metadata": {},
     "output_type": "execute_result"
    }
   ],
   "source": [
    "J.shape\n",
    "# Suggestion:\n",
    "# Change J into a list of lists. -> so that the difference in length is not a problem\n",
    "# See if JAX complains about it."
   ]
  },
  {
   "cell_type": "code",
   "execution_count": 4,
   "metadata": {},
   "outputs": [
    {
     "name": "stdout",
     "output_type": "stream",
     "text": [
      "3\n",
      "4\n",
      "[]\n"
     ]
    },
    {
     "data": {
      "text/plain": [
       "(None, None, None)"
      ]
     },
     "execution_count": 4,
     "metadata": {},
     "output_type": "execute_result"
    }
   ],
   "source": [
    "print(d), print(r), print(fixed_elements)"
   ]
  },
  {
   "cell_type": "code",
   "execution_count": 5,
   "metadata": {},
   "outputs": [],
   "source": [
    "# Setting some additional_parameters\n",
    "E = E_new\n",
    "pdim = int(np.sqrt(r))\n",
    "n = rK * pdim\n",
    "Delta = np.zeros((d, n, pdim)).astype(np.complex128)\n",
    "X = np.einsum(\"ijkl,ijnm -> iknlm\", K, K.conj()).reshape((d, r, r))"
   ]
  },
  {
   "cell_type": "code",
   "execution_count": 6,
   "metadata": {},
   "outputs": [
    {
     "name": "stdout",
     "output_type": "stream",
     "text": [
      "0.001976257299832181\n"
     ]
    }
   ],
   "source": [
    "print(objf(X, E, rho, J, y))"
   ]
  },
  {
   "cell_type": "code",
   "execution_count": 17,
   "metadata": {},
   "outputs": [],
   "source": [
    "dK_ = dK(X, K, E, rho, J, y, d, r, rK)"
   ]
  },
  {
   "cell_type": "code",
   "execution_count": 18,
   "metadata": {},
   "outputs": [
    {
     "data": {
      "text/plain": [
       "((3, 4, 2, 2), dtype('complex128'), numpy.ndarray)"
      ]
     },
     "execution_count": 18,
     "metadata": {},
     "output_type": "execute_result"
    }
   ],
   "source": [
    "dK_.shape, dK_.dtype, type(dK_)"
   ]
  },
  {
   "cell_type": "markdown",
   "metadata": {},
   "source": [
    "# Try obtain the derivative but with JAX"
   ]
  },
  {
   "cell_type": "code",
   "execution_count": 11,
   "metadata": {},
   "outputs": [
    {
     "data": {
      "text/plain": [
       "Array([1.+0.j, 1.+0.j], dtype=complex128)"
      ]
     },
     "execution_count": 11,
     "metadata": {},
     "output_type": "execute_result"
    }
   ],
   "source": [
    "a = jnp.array([1,1])\n",
    "jnp.complex128(a)"
   ]
  },
  {
   "cell_type": "code",
   "execution_count": 12,
   "metadata": {},
   "outputs": [],
   "source": [
    "d = 3\n",
    "r = 4"
   ]
  },
  {
   "cell_type": "code",
   "execution_count": 13,
   "metadata": {},
   "outputs": [
    {
     "data": {
      "text/plain": [
       "Array(0.00197626, dtype=float64)"
      ]
     },
     "execution_count": 13,
     "metadata": {},
     "output_type": "execute_result"
    }
   ],
   "source": [
    "cost_function_jax(K, d, r, E, rho, J, y)"
   ]
  },
  {
   "cell_type": "markdown",
   "metadata": {},
   "source": [
    "**Result with single precision**: Array(0.00197626, dtype=float32)"
   ]
  },
  {
   "cell_type": "code",
   "execution_count": 14,
   "metadata": {},
   "outputs": [],
   "source": [
    "grad_jax = jax.grad(fun=cost_function_jax, argnums=0)(K, d, r, E, rho, J, y)"
   ]
  },
  {
   "cell_type": "code",
   "execution_count": 15,
   "metadata": {},
   "outputs": [
    {
     "data": {
      "text/plain": [
       "((3, 4, 2, 2), dtype('complex128'))"
      ]
     },
     "execution_count": 15,
     "metadata": {},
     "output_type": "execute_result"
    }
   ],
   "source": [
    "grad_jax.shape, grad_jax.dtype"
   ]
  },
  {
   "cell_type": "code",
   "execution_count": 19,
   "metadata": {},
   "outputs": [
    {
     "data": {
      "text/plain": [
       "Array(True, dtype=bool)"
      ]
     },
     "execution_count": 19,
     "metadata": {},
     "output_type": "execute_result"
    }
   ],
   "source": [
    "jnp.allclose(grad_jax/2, dK_)"
   ]
  },
  {
   "cell_type": "code",
   "execution_count": 20,
   "metadata": {},
   "outputs": [
    {
     "data": {
      "text/plain": [
       "Array(0.06980057, dtype=float64)"
      ]
     },
     "execution_count": 20,
     "metadata": {},
     "output_type": "execute_result"
    }
   ],
   "source": [
    "jnp.linalg.norm(grad_jax - dK_)"
   ]
  },
  {
   "cell_type": "code",
   "execution_count": 21,
   "metadata": {},
   "outputs": [
    {
     "data": {
      "text/plain": [
       "(dtype('complex128'),\n",
       " dtype('complex128'),\n",
       " dtype('complex128'),\n",
       " dtype('int32'),\n",
       " dtype('float64'))"
      ]
     },
     "execution_count": 21,
     "metadata": {},
     "output_type": "execute_result"
    }
   ],
   "source": [
    "K.dtype, E.dtype, rho.dtype, J.dtype, y.dtype"
   ]
  },
  {
   "cell_type": "code",
   "execution_count": 22,
   "metadata": {},
   "outputs": [
    {
     "data": {
      "text/plain": [
       "Array([[ 6.89530895e-06+1.41335293e-05j, -6.95757287e-07+2.63181640e-05j],\n",
       "       [ 1.79551344e-05-1.89523399e-05j,  1.34852364e-05+4.34467736e-06j]],      dtype=complex128)"
      ]
     },
     "execution_count": 22,
     "metadata": {},
     "output_type": "execute_result"
    }
   ],
   "source": [
    "grad_jax[0,0,:,:]/2"
   ]
  },
  {
   "cell_type": "code",
   "execution_count": 28,
   "metadata": {},
   "outputs": [
    {
     "data": {
      "text/plain": [
       "array([[ 6.89530895e-06+1.41335293e-05j, -6.95757287e-07+2.63181640e-05j],\n",
       "       [ 1.79551344e-05-1.89523399e-05j,  1.34852364e-05+4.34467736e-06j]])"
      ]
     },
     "execution_count": 28,
     "metadata": {},
     "output_type": "execute_result"
    }
   ],
   "source": [
    "dK_[0,0,:,:]"
   ]
  },
  {
   "cell_type": "markdown",
   "metadata": {},
   "source": [
    "## Conclusion up to now:\n",
    "\n",
    "The gradients seem to match up to a factor of 2 and the conjugation. I will now check the results both of these return inside the algorithm.\n",
    "\n",
    "### TODO:\n",
    "* Once I verify they both give reasonable results, I can time both executions"
   ]
  },
  {
   "cell_type": "markdown",
   "metadata": {},
   "source": [
    "# Gradient Descent"
   ]
  },
  {
   "cell_type": "code",
   "execution_count": 30,
   "metadata": {},
   "outputs": [],
   "source": [
    "fixed_gates = np.array([(f\"G%i\" % i in fixed_elements) for i in range(d)])\n",
    "fixed_gates\n",
    "\n",
    "def get_x_from_k(k):\n",
    "    return np.einsum(\"ijkl,ijnm -> iknlm\", k, k.conj()).reshape((d, r, r))\n",
    "\n",
    "K_gds = gd(K, E_new, rho, y, J, d, r, rK, fixed_gates=fixed_gates, ls=\"COBYLA\")"
   ]
  },
  {
   "cell_type": "code",
   "execution_count": 31,
   "metadata": {},
   "outputs": [
    {
     "name": "stdout",
     "output_type": "stream",
     "text": [
      "Old f(x): 0.001976257299832181\n",
      "New f(x): 0.0015298804063626525\n"
     ]
    }
   ],
   "source": [
    "x_gds = get_x_from_k(k=K_gds)\n",
    "\n",
    "print('Old f(x):', objf(X, E, rho, J, y))\n",
    "print('New f(x):', objf(x_gds, E, rho, J, y))"
   ]
  },
  {
   "cell_type": "code",
   "execution_count": 32,
   "metadata": {},
   "outputs": [
    {
     "name": "stdout",
     "output_type": "stream",
     "text": [
      "Using JAX power\n"
     ]
    }
   ],
   "source": [
    "K_gds_jax = gd(K, E_new, rho, y, J, d, r, rK, fixed_gates=fixed_gates, ls=\"COBYLA\", use_jax=True)"
   ]
  },
  {
   "cell_type": "code",
   "execution_count": 33,
   "metadata": {},
   "outputs": [
    {
     "name": "stdout",
     "output_type": "stream",
     "text": [
      "Old f(x): 0.001976257299832181\n",
      "New f(x): 0.001529880401664766\n"
     ]
    }
   ],
   "source": [
    "x_gds_jax = get_x_from_k(k=K_gds_jax)\n",
    "\n",
    "print('Old f(x):', objf(X, E, rho, J, y))\n",
    "print('New f(x):', objf(x_gds_jax, E, rho, J, y))"
   ]
  },
  {
   "cell_type": "code",
   "execution_count": 34,
   "metadata": {},
   "outputs": [],
   "source": [
    "# NOTE: we are able to obtain the same result up to numerical precision.\n",
    "# However, this is without taking the conj() of the gradient, which is weird!\n",
    "# Could the definition be taking already the conjugate into accoiunt? \n",
    "# (so that the conjugate of the gradient is actually the direction we want to follow)"
   ]
  },
  {
   "cell_type": "markdown",
   "metadata": {},
   "source": [
    "# Timing: (after restarting to avoid cache) - Do not run again"
   ]
  },
  {
   "cell_type": "code",
   "execution_count": 34,
   "metadata": {},
   "outputs": [],
   "source": [
    "# defining the numba function including the contraction of X:\n",
    "def grad_numba(K, E, rho, J, y, d, r, rK):\n",
    "    X = np.einsum(\"ijkl,ijnm -> iknlm\", K, K.conj()).reshape((d, r, r))\n",
    "    grad = dK(X, K, E, rho, J, y, d, r, rK)\n",
    "    return grad"
   ]
  },
  {
   "cell_type": "code",
   "execution_count": 6,
   "metadata": {},
   "outputs": [
    {
     "name": "stdout",
     "output_type": "stream",
     "text": [
      "44.2 ms ± 741 μs per loop (mean ± std. dev. of 7 runs, 10 loops each)\n"
     ]
    }
   ],
   "source": [
    "# lets time how long it takes to compute the gradients\n",
    "\n",
    "# Without JIT\n",
    "# First let's time the TN contraction:\n",
    "%timeit grad_numba(K, E, rho, J, y, d, r, rK)"
   ]
  },
  {
   "cell_type": "code",
   "execution_count": 7,
   "metadata": {},
   "outputs": [
    {
     "name": "stdout",
     "output_type": "stream",
     "text": [
      "43.8 ms ± 219 μs per loop (mean ± std. dev. of 7 runs, 10 loops each)\n"
     ]
    }
   ],
   "source": [
    "# lets time how long it takes to compute the gradients\n",
    "\n",
    "# Without JIT\n",
    "# First let's time the TN contraction:\n",
    "%timeit dK(X, K, E, rho, J, y, d, r, rK)"
   ]
  },
  {
   "cell_type": "code",
   "execution_count": 8,
   "metadata": {},
   "outputs": [
    {
     "name": "stdout",
     "output_type": "stream",
     "text": [
      "534 ms ± 2.06 ms per loop (mean ± std. dev. of 7 runs, 1 loop each)\n"
     ]
    }
   ],
   "source": [
    "# Without JIT\n",
    "# Now let's time JAX:\n",
    "%timeit jax.grad(fun=cost_function_jax, argnums=0)(K, d, r, E, rho, J, y)"
   ]
  },
  {
   "cell_type": "code",
   "execution_count": 6,
   "metadata": {},
   "outputs": [
    {
     "name": "stdout",
     "output_type": "stream",
     "text": [
      "5.25 ms ± 88.4 μs per loop (mean ± std. dev. of 7 runs, 1 loop each)\n"
     ]
    }
   ],
   "source": [
    "# With Numba cache and JIT\n",
    "%timeit grad_numba(K, E, rho, J, y, d, r, rK)"
   ]
  },
  {
   "cell_type": "code",
   "execution_count": 9,
   "metadata": {},
   "outputs": [
    {
     "name": "stdout",
     "output_type": "stream",
     "text": [
      "275 ms ± 1.25 ms per loop (mean ± std. dev. of 7 runs, 1 loop each)\n"
     ]
    }
   ],
   "source": [
    "# With JIT\n",
    "%timeit jax.grad(fun=cost_function_jax, argnums=0)(K, d, r, E, rho, J, y)"
   ]
  },
  {
   "cell_type": "code",
   "execution_count": 30,
   "metadata": {},
   "outputs": [
    {
     "data": {
      "text/plain": [
       "52.38095238095238"
      ]
     },
     "execution_count": 30,
     "metadata": {},
     "output_type": "execute_result"
    }
   ],
   "source": [
    "275/5.25"
   ]
  },
  {
   "cell_type": "code",
   "execution_count": null,
   "metadata": {},
   "outputs": [],
   "source": [
    "# 1. Change np -> jax.numpy: compute gradient.\n",
    "# 2. Efficiency: whether we JIT or not. We can JIT the main cost function and see what's the best performance we can get with JAX.\n",
    "# 3. Scaling: So far we have run only for single qubit. We can check for 2 and 3 qubits.\n",
    "#   -> 2-qubit: ~500x100 tensors."
   ]
  },
  {
   "cell_type": "markdown",
   "metadata": {},
   "source": [
    "# Test that the gradient is correct"
   ]
  },
  {
   "cell_type": "code",
   "execution_count": 185,
   "metadata": {},
   "outputs": [],
   "source": [
    "# lets construct the left hand side of the equation\n",
    "f_k = lambda k: cost_function_jax(K=k, d=d, r=r, E=E, rho=rho, J=J, y=y)\n",
    "def cost_alpha(alpha, k, gradient):\n",
    "    \"cost function f(x + alpha*gradient) as a function of alpha\"\n",
    "    k_alpha = k + 2 * alpha * gradient\n",
    "    return f_k(k_alpha)\n",
    "\n",
    "alphas = np.arange(-0.1, 0.1, 0.002)\n",
    "function_value_jax = [cost_alpha(alpha, K, grad_jax) for alpha in alphas]"
   ]
  },
  {
   "cell_type": "code",
   "execution_count": 186,
   "metadata": {},
   "outputs": [],
   "source": [
    "function_value_alpha_tn = [cost_alpha(alpha, K, dK_) for alpha in alphas]"
   ]
  },
  {
   "cell_type": "code",
   "execution_count": 187,
   "metadata": {},
   "outputs": [],
   "source": [
    "# Now let's construct the linear approximation\n",
    "\n",
    "def tensor_inner_product_euclidean(tensor:jnp.array):\n",
    "    \"Euclidean norm of a tensor of rank 4\"\n",
    "    return jnp.real(jnp.einsum(\"ijkl,ijkl\", tensor, tensor.conj()))\n",
    "\n",
    "def linear_approx(alpha, k0, gradient):\n",
    "    \"Linear approximation of cost_alpha around k\"\n",
    "    return f_k(k0) + alpha * tensor_inner_product_euclidean(gradient)\n",
    "\n",
    "linear_approx_jax = [linear_approx(alpha, K, grad_jax) for alpha in alphas]"
   ]
  },
  {
   "cell_type": "code",
   "execution_count": 188,
   "metadata": {},
   "outputs": [],
   "source": [
    "linear_approx_tn = [linear_approx(alpha, K, dK_) for alpha in alphas]"
   ]
  },
  {
   "cell_type": "code",
   "execution_count": 158,
   "metadata": {},
   "outputs": [
    {
     "data": {
      "text/plain": [
       "<matplotlib.legend.Legend at 0x14b9c4890>"
      ]
     },
     "execution_count": 158,
     "metadata": {},
     "output_type": "execute_result"
    },
    {
     "data": {
      "image/png": "[encoded data removed]",
      "text/plain": [
       "<Figure size 800x600 with 1 Axes>"
      ]
     },
     "metadata": {},
     "output_type": "display_data"
    },
    {
     "data": {
      "image/png": "[encoded data removed]",
      "text/plain": [
       "<Figure size 800x600 with 1 Axes>"
      ]
     },
     "metadata": {},
     "output_type": "display_data"
    }
   ],
   "source": [
    "\n",
    "plt.figure(dpi=200, figsize=(4,3))\n",
    "# Plot function and approximations with matching colors and different line styles\n",
    "plt.plot(alphas, function_value_jax, color='C0', label='function: jax')           # Solid blue\n",
    "plt.plot(alphas, linear_approx_jax, '--', color='C0', alpha=0.7, label='linear approx: jax')  # Dashed blue, transparent\n",
    "\n",
    "plt.xlabel(r'$\\alpha$')\n",
    "plt.ylabel(r'f($\\alpha$)')\n",
    "\n",
    "plt.legend()\n",
    "\n",
    "plt.figure(dpi=200, figsize=(4,3))\n",
    "\n",
    "plt.plot(alphas, function_value_alpha_tn, color='C1', label='function: tn')       # Solid orange\n",
    "plt.plot(alphas, linear_approx_tn, '--', color='C1', alpha=0.7, label='linear approx: tn')    # Dashed orange, transparent\n",
    "\n",
    "plt.xlabel(r'$\\alpha$')\n",
    "plt.ylabel(r'f($\\alpha$)')\n",
    "\n",
    "plt.legend()"
   ]
  },
  {
   "cell_type": "code",
   "execution_count": null,
   "metadata": {},
   "outputs": [],
   "source": [
    "# My idea to test what is going on:\n",
    "# I should look at another real-valued function like Re(x.conj().T @ A @ x), whose gradient we know\n",
    "# and then do the same procedure verifying that what we obtain from jax is 2*wirtinger derivative.\n",
    "# Maybe I just need to multiply the derivative coming from his code? And then include the 2 in the lHS?"
   ]
  },
  {
   "cell_type": "code",
   "execution_count": 23,
   "metadata": {},
   "outputs": [
    {
     "data": {
      "text/plain": [
       "(Array(-1.98963185, dtype=float64),\n",
       " Array([[-0.38915185+0.00000000e+00j,  0.09239622+0.00000000e+00j,\n",
       "          0.04377127+0.00000000e+00j],\n",
       "        [-0.28363886+0.00000000e+00j,  0.03990889+1.73472348e-18j,\n",
       "         -0.15353217+0.00000000e+00j],\n",
       "        [ 0.95746197+0.00000000e+00j, -0.07903597+0.00000000e+00j,\n",
       "         -0.17628233+0.00000000e+00j]], dtype=complex128))"
      ]
     },
     "execution_count": 23,
     "metadata": {},
     "output_type": "execute_result"
    }
   ],
   "source": [
    "key = jax.random.PRNGKey (1)\n",
    "key1 , key2 , key3 = jax.random.split(key , num=3) \n",
    "\n",
    "A = jax.random.normal(key1 , (3, 3), dtype=complex)\n",
    "z = jax.random.normal(key2 , (3,), dtype=complex)\n",
    "\n",
    "\n",
    "def f(z):\n",
    "    return jnp.real(z.conj() @ A @ z)\n",
    "\n",
    "f(z), jnp.real(A)*z*z.conj()"
   ]
  },
  {
   "cell_type": "code",
   "execution_count": 24,
   "metadata": {},
   "outputs": [
    {
     "data": {
      "text/plain": [
       "(Array([ 0.94996481-0.16077747j, -0.85476061-0.34907628j,\n",
       "        -0.48227655+1.33139114j], dtype=complex128),\n",
       " Array([-0.48989732+1.64139669j, -1.10006515-0.15938573j,\n",
       "        -0.71109612-0.29168526j], dtype=complex128))"
      ]
     },
     "execution_count": 24,
     "metadata": {},
     "output_type": "execute_result"
    }
   ],
   "source": [
    "def df_dz_conj(z):\n",
    "    return z.T @ A.T\n",
    "\n",
    "def df_dz(z):\n",
    "    return z.conj().T@A\n",
    "\n",
    "def grad_analytical(z):\n",
    "    return (A.conj().T @ z) + (A @ z)\n",
    "\n",
    "wirtinger_conjugate = df_dz_conj(z)\n",
    "wirtinger = df_dz(z)\n",
    "wirtinger_conjugate, wirtinger"
   ]
  },
  {
   "cell_type": "code",
   "execution_count": 25,
   "metadata": {},
   "outputs": [
    {
     "data": {
      "text/plain": [
       "Array([ 0.46006749-1.80217416j, -1.95482576-0.18969055j,\n",
       "       -1.19337267+1.6230764j ], dtype=complex128)"
      ]
     },
     "execution_count": 25,
     "metadata": {},
     "output_type": "execute_result"
    }
   ],
   "source": [
    "grad_z_anal = grad_analytical(z)\n",
    "grad_z_anal"
   ]
  },
  {
   "cell_type": "code",
   "execution_count": 26,
   "metadata": {},
   "outputs": [
    {
     "data": {
      "text/plain": [
       "Array([ 0.46006749+1.80217416j, -1.95482576+0.18969055j,\n",
       "       -1.19337267-1.6230764j ], dtype=complex128)"
      ]
     },
     "execution_count": 26,
     "metadata": {},
     "output_type": "execute_result"
    }
   ],
   "source": [
    "grad_f = jax.grad(f)\n",
    "grad_z = grad_f(z)\n",
    "grad_z"
   ]
  },
  {
   "cell_type": "code",
   "execution_count": 27,
   "metadata": {},
   "outputs": [
    {
     "data": {
      "text/plain": [
       "Array(True, dtype=bool)"
      ]
     },
     "execution_count": 27,
     "metadata": {},
     "output_type": "execute_result"
    }
   ],
   "source": [
    "jnp.allclose(wirtinger_conjugate.T + wirtinger.conj().T, grad_z.conj())"
   ]
  },
  {
   "cell_type": "code",
   "execution_count": 28,
   "metadata": {},
   "outputs": [
    {
     "data": {
      "text/plain": [
       "Array([ 1.89992961, -1.70952121, -0.96455309], dtype=float64)"
      ]
     },
     "execution_count": 28,
     "metadata": {},
     "output_type": "execute_result"
    }
   ],
   "source": [
    "2*jnp.real(wirtinger_conjugate)"
   ]
  },
  {
   "cell_type": "code",
   "execution_count": 29,
   "metadata": {},
   "outputs": [
    {
     "data": {
      "text/plain": [
       "Array(False, dtype=bool)"
      ]
     },
     "execution_count": 29,
     "metadata": {},
     "output_type": "execute_result"
    }
   ],
   "source": [
    "jnp.allclose(2*jnp.real(wirtinger_conjugate), grad_z)"
   ]
  },
  {
   "cell_type": "code",
   "execution_count": 30,
   "metadata": {},
   "outputs": [
    {
     "data": {
      "text/plain": [
       "Array(False, dtype=bool)"
      ]
     },
     "execution_count": 30,
     "metadata": {},
     "output_type": "execute_result"
    }
   ],
   "source": [
    "jnp.allclose(2*jnp.real(wirtinger.T), grad_z)"
   ]
  },
  {
   "cell_type": "code",
   "execution_count": 31,
   "metadata": {},
   "outputs": [
    {
     "data": {
      "text/plain": [
       "Array(True, dtype=bool)"
      ]
     },
     "execution_count": 31,
     "metadata": {},
     "output_type": "execute_result"
    }
   ],
   "source": [
    "jnp.allclose(grad_z.conj(), grad_z_anal)"
   ]
  },
  {
   "cell_type": "code",
   "execution_count": 32,
   "metadata": {},
   "outputs": [
    {
     "data": {
      "text/plain": [
       "Array([ 0.46006749+1.48061922j, -1.95482576-0.50846201j,\n",
       "       -1.19337267+1.03970588j], dtype=complex128)"
      ]
     },
     "execution_count": 32,
     "metadata": {},
     "output_type": "execute_result"
    }
   ],
   "source": [
    "wirtinger_conjugate + wirtinger"
   ]
  },
  {
   "cell_type": "code",
   "execution_count": 33,
   "metadata": {},
   "outputs": [
    {
     "data": {
      "text/plain": [
       "(Array([ 0.23003374-0.90108708j, -0.97741288-0.09484527j,\n",
       "        -0.59668633+0.8115382j ], dtype=complex128),\n",
       " Array([ 0.23003374+0.90108708j, -0.97741288+0.09484527j,\n",
       "        -0.59668633-0.8115382j ], dtype=complex128))"
      ]
     },
     "execution_count": 33,
     "metadata": {},
     "output_type": "execute_result"
    }
   ],
   "source": [
    "def df_dz_2(z):\n",
    "    return 0.5*z.conj().T @ (A + A.conj().T)\n",
    "\n",
    "def df_dz_2_conj_2(z):\n",
    "    return 0.5*z.T @ (A.conj() + A.T)\n",
    "\n",
    "wirtinger_conjugate_2 = df_dz_2_conj_2(z)\n",
    "wirtinger_2 = df_dz_2(z)\n",
    "wirtinger_conjugate_2, wirtinger_2"
   ]
  },
  {
   "cell_type": "code",
   "execution_count": 36,
   "metadata": {},
   "outputs": [
    {
     "data": {
      "text/plain": [
       "Array(True, dtype=bool)"
      ]
     },
     "execution_count": 36,
     "metadata": {},
     "output_type": "execute_result"
    }
   ],
   "source": [
    "grad_analytical_2 = wirtinger_2.conj() + wirtinger_conjugate_2\n",
    "jnp.allclose(grad_analytical_2, grad_z.conj())"
   ]
  },
  {
   "cell_type": "code",
   "execution_count": 35,
   "metadata": {},
   "outputs": [
    {
     "data": {
      "text/plain": [
       "Array(True, dtype=bool)"
      ]
     },
     "execution_count": 35,
     "metadata": {},
     "output_type": "execute_result"
    }
   ],
   "source": [
    "grad_jax_2 = 2 * wirtinger_2\n",
    "jnp.allclose(grad_jax_2, grad_z)"
   ]
  },
  {
   "cell_type": "code",
   "execution_count": 37,
   "metadata": {},
   "outputs": [
    {
     "data": {
      "text/plain": [
       "Array(True, dtype=bool)"
      ]
     },
     "execution_count": 37,
     "metadata": {},
     "output_type": "execute_result"
    }
   ],
   "source": [
    "jnp.allclose(2 * wirtinger_conjugate_2, grad_analytical_2)"
   ]
  },
  {
   "cell_type": "code",
   "execution_count": 38,
   "metadata": {},
   "outputs": [
    {
     "data": {
      "text/plain": [
       "Array(True, dtype=bool)"
      ]
     },
     "execution_count": 38,
     "metadata": {},
     "output_type": "execute_result"
    }
   ],
   "source": [
    "jnp.allclose(grad_z.conj(), 2 * wirtinger_conjugate_2)"
   ]
  },
  {
   "cell_type": "code",
   "execution_count": 28,
   "metadata": {},
   "outputs": [],
   "source": [
    "# Search: what is the relation between wirtinger derivatives for real functions.\n",
    "# Conclusions so far:\n",
    "# 1. The differential df is not the same as the gradient!\n",
    "# 2. My second attempt work perfectly! I derived the wirtinger derivatives from the Re(v@Av) expressions and used the relations:\n",
    "# grad_jax = 2 @ df/dz or grad = 2 @ df/dz*, which also uses df/dz = (df/dz*)* because here f is real valued (unlike in the example from the paper)!\n",
    "#  This satisfied all the relations I wanted! Including: grad f = VJP at fbar equal 1 = (df/dz)* + (df/dz*)\n"
   ]
  },
  {
   "cell_type": "markdown",
   "metadata": {},
   "source": [
    "# New tests: using $df/dz$ vs $df/dz^*$ in gradient descent!\n",
    "\n",
    "start: 08.01.25\n",
    "\n",
    "update: moved to the gst_opt_testbed.ipynb\n",
    "\n",
    "goal: Currently the code from Raphael uses the df/dz instead of df/dz*, even thought the latter is the correct one (one relates to the other by conjugation)"
   ]
  },
  {
   "cell_type": "code",
   "execution_count": 9,
   "metadata": {},
   "outputs": [
    {
     "name": "stdout",
     "output_type": "stream",
     "text": [
      "Un-optimized f(x): 0.001976257299832181\n",
      "Optimized f(x): 0.0015298804063626462\n"
     ]
    }
   ],
   "source": [
    "# First let's run the optimization normally with the df/dz:\n",
    "\n",
    "fixed_gates = np.array([(f\"G%i\" % i in []) for i in range(d)])\n",
    "fixed_gates\n",
    "\n",
    "def get_x_from_k(k):\n",
    "    return np.einsum(\"ijkl,ijnm -> iknlm\", k, k.conj()).reshape((d, r, r))\n",
    "\n",
    "K_gds = gd(K, E_new, rho, y, J, d, r, rK, fixed_gates=fixed_gates, ls=\"COBYLA\")\n",
    "\n",
    "\n",
    "print('Un-optimized f(x):', objf(X, E, rho, J, y))\n",
    "print('Optimized f(x):', objf(x_gds, E, rho, J, y))"
   ]
  },
  {
   "cell_type": "code",
   "execution_count": 10,
   "metadata": {},
   "outputs": [
    {
     "data": {
      "text/plain": [
       "array([False, False, False])"
      ]
     },
     "execution_count": 10,
     "metadata": {},
     "output_type": "execute_result"
    }
   ],
   "source": [
    "fixed_gates"
   ]
  },
  {
   "cell_type": "code",
   "execution_count": 37,
   "metadata": {},
   "outputs": [
    {
     "name": "stdout",
     "output_type": "stream",
     "text": [
      "Un-optimized f(x): 0.001976257299832181\n",
      "Optimized f(x): 0.0018796878033150999\n"
     ]
    }
   ],
   "source": [
    "# Now let's check with the conjugate:\n",
    "K_gds = gd(K, E_new, rho, y, J, d, r, rK, fixed_gates=fixed_gates, ls=\"COBYLA\", conjugate=True)\n",
    "\n",
    "x_gds = get_x_from_k(k=K_gds)\n",
    "\n",
    "print('Un-optimized f(x):', objf(X, E, rho, J, y))\n",
    "print('Optimized f(x):', objf(x_gds, E, rho, J, y))"
   ]
  },
  {
   "cell_type": "code",
   "execution_count": 38,
   "metadata": {},
   "outputs": [
    {
     "name": "stdout",
     "output_type": "stream",
     "text": [
      "Using JAX power\n",
      "Un-optimized f(x): 0.001976257299832181\n",
      "Optimized f(x): 0.001529880401664766\n"
     ]
    }
   ],
   "source": [
    "# Now let's check with the conjugate:\n",
    "K_gds = gd(K, E_new, rho, y, J, d, r, rK, fixed_gates=fixed_gates, ls=\"COBYLA\", conjugate=False, use_jax=True)\n",
    "\n",
    "x_gds = get_x_from_k(k=K_gds)\n",
    "\n",
    "print('Un-optimized f(x):', objf(X, E, rho, J, y))\n",
    "print('Optimized f(x):', objf(x_gds, E, rho, J, y))"
   ]
  },
  {
   "cell_type": "code",
   "execution_count": 39,
   "metadata": {},
   "outputs": [
    {
     "name": "stdout",
     "output_type": "stream",
     "text": [
      "Using JAX power\n",
      "Un-optimized f(x): 0.001976257299832181\n",
      "Optimized f(x): 0.001879688023486612\n"
     ]
    }
   ],
   "source": [
    "# Now let's check with the conjugate:\n",
    "K_gds = gd(K, E_new, rho, y, J, d, r, rK, fixed_gates=fixed_gates, ls=\"COBYLA\", conjugate=True, use_jax=True)\n",
    "\n",
    "x_gds = get_x_from_k(k=K_gds)\n",
    "\n",
    "print('Un-optimized f(x):', objf(X, E, rho, J, y))\n",
    "print('Optimized f(x):', objf(x_gds, E, rho, J, y))"
   ]
  },
  {
   "cell_type": "code",
   "execution_count": null,
   "metadata": {},
   "outputs": [],
   "source": []
  }
 ],
 "metadata": {
  "kernelspec": {
   "display_name": "qcvv-env",
   "language": "python",
   "name": "python3"
  },
  "language_info": {
   "codemirror_mode": {
    "name": "ipython",
    "version": 3
   },
   "file_extension": ".py",
   "mimetype": "text/x-python",
   "name": "python",
   "nbconvert_exporter": "python",
   "pygments_lexer": "ipython3",
   "version": "3.11.10"
  }
 },
 "nbformat": 4,
 "nbformat_minor": 2
}
