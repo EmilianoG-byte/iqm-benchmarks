{
 "cells": [
  {
   "cell_type": "code",
   "execution_count": null,
   "metadata": {},
   "outputs": [
    {
     "name": "stdout",
     "output_type": "stream",
     "text": [
      "The autoreload extension is already loaded. To reload it, use:\n",
      "  %reload_ext autoreload\n"
     ]
    }
   ],
   "source": [
    "# Needs iqm-benchmarks from the github repo to access all the mGST functions: https://github.com/iqm-finland/iqm-benchmarks\n",
    "from mGST.low_level_jit import dK, objf\n",
    "from mGST.low_level_jit import dK_jax, dK_jax_jit\n",
    "from iqm.benchmarks.compressive_gst.compressive_gst import GSTConfiguration\n",
    "from mGST.utility_functions_comparisons import get_full_mgst_parameters_from_configuration\n",
    "# Check compilation time for contract_jax_jit.\n",
    "import jax.numpy as jnp\n",
    "import numpy as np\n",
    "\n",
    "backend = \"iqmfakeapollo\"\n",
    "\n",
    "%load_ext autoreload\n",
    "%autoreload 2"
   ]
  },
  {
   "cell_type": "markdown",
   "metadata": {},
   "source": [
    "# 1GST"
   ]
  },
  {
   "cell_type": "code",
   "execution_count": 37,
   "metadata": {},
   "outputs": [
    {
     "name": "stderr",
     "output_type": "stream",
     "text": [
      "2025-01-14 16:02:48,529 - iqm.benchmarks.logging_config - INFO - Now generating 100 random GST circuits...\n",
      "2025-01-14 16:02:48,547 - iqm.benchmarks.logging_config - INFO - Will transpile all 100 circuits according to fixed physical layout\n",
      "2025-01-14 16:02:48,547 - iqm.benchmarks.logging_config - INFO - Transpiling for backend IQMFakeApolloBackend with optimization level 0, sabre routing method all circuits\n",
      "2025-01-14 16:02:48,653 - iqm.benchmarks.logging_config - INFO - Submitting batch with 100 circuits corresponding to qubits [0]\n",
      "2025-01-14 16:02:48,653 - iqm.benchmarks.logging_config - INFO - Now executing the corresponding circuit batch\n",
      "2025-01-14 16:02:48,672 - iqm.benchmarks.logging_config - INFO - Retrieving all counts\n"
     ]
    }
   ],
   "source": [
    "# First using the JAX compilation with smaller qubits to see if this helps\n",
    "Q1_GST = GSTConfiguration(\n",
    "    qubit_layouts=[[0]],\n",
    "    gate_set=\"1QXYI\",\n",
    "    num_circuits=100,\n",
    "    shots=1000,\n",
    "    rank=4,\n",
    ")\n",
    "\n",
    "K, X, E, rho, y, J, l, d, pdim, r, n_povm, bsize, meas_samples, n, nt, rK = get_full_mgst_parameters_from_configuration(\n",
    "    Q1_GST, backend\n",
    ")"
   ]
  },
  {
   "cell_type": "code",
   "execution_count": 38,
   "metadata": {},
   "outputs": [
    {
     "data": {
      "text/plain": [
       "100"
      ]
     },
     "execution_count": 38,
     "metadata": {},
     "output_type": "execute_result"
    }
   ],
   "source": [
    "J_processed = [row[row != -1] for row in J]\n",
    "len(J_processed)"
   ]
  },
  {
   "cell_type": "code",
   "execution_count": 17,
   "metadata": {},
   "outputs": [
    {
     "name": "stdout",
     "output_type": "stream",
     "text": [
      "5.66 ms ± 188 μs per loop (mean ± std. dev. of 7 runs, 100 loops each)\n"
     ]
    }
   ],
   "source": [
    "# Numba\n",
    "%timeit dK(X, K, E, rho, J, y, d, r, rK)"
   ]
  },
  {
   "cell_type": "code",
   "execution_count": 18,
   "metadata": {},
   "outputs": [
    {
     "name": "stdout",
     "output_type": "stream",
     "text": [
      "Using JAX power\n",
      "Using JAX power\n",
      "Using JAX power\n",
      "Using JAX power\n",
      "Using JAX power\n",
      "Using JAX power\n",
      "Using JAX power\n",
      "Using JAX power\n",
      "718 ms ± 7.46 ms per loop (mean ± std. dev. of 7 runs, 1 loop each)\n"
     ]
    }
   ],
   "source": [
    "# JAX\n",
    "%timeit dK_jax(K, E, rho, J, y, d, r)"
   ]
  },
  {
   "cell_type": "code",
   "execution_count": 19,
   "metadata": {},
   "outputs": [
    {
     "name": "stdout",
     "output_type": "stream",
     "text": [
      "Using JAX power\n",
      "Using JAX power\n",
      "Using JAX power\n",
      "Using JAX power\n",
      "Using JAX power\n",
      "Using JAX power\n",
      "Using JAX power\n",
      "Using JAX power\n",
      "168 ms ± 1.14 ms per loop (mean ± std. dev. of 7 runs, 1 loop each)\n"
     ]
    }
   ],
   "source": [
    "# JAX JIT\n",
    "%timeit dK_jax_jit(K, E, rho, J_processed, y, d, r)\n",
    "# before using J: 213 ms ± 1.13 ms per loop (mean ± std. dev. of 7 runs, 1 loop each)"
   ]
  },
  {
   "cell_type": "code",
   "execution_count": null,
   "metadata": {},
   "outputs": [
    {
     "name": "stdout",
     "output_type": "stream",
     "text": [
      "Using JAX power\n"
     ]
    },
    {
     "data": {
      "text/plain": [
       "Array(True, dtype=bool)"
      ]
     },
     "execution_count": 20,
     "metadata": {},
     "output_type": "execute_result"
    }
   ],
   "source": [
    "# just checking correctness\n",
    "numba_grad = dK(X, K, E, rho, J, y, d, r, rK)\n",
    "jax_grad = dK_jax_jit(K, E, rho, J_processed, y, d, r)\n",
    "jnp.allclose(2*numba_grad, jax_grad)\n",
    "# apparantly the result is the same whether we use J or J_processed (?)"
   ]
  },
  {
   "cell_type": "markdown",
   "metadata": {},
   "source": [
    "# 2GST"
   ]
  },
  {
   "cell_type": "code",
   "execution_count": 21,
   "metadata": {},
   "outputs": [
    {
     "name": "stderr",
     "output_type": "stream",
     "text": [
      "2025-01-14 15:39:53,802 - iqm.benchmarks.logging_config - INFO - Now generating 800 random GST circuits...\n",
      "2025-01-14 15:39:53,968 - iqm.benchmarks.logging_config - INFO - Will transpile all 800 circuits according to fixed physical layout\n",
      "2025-01-14 15:39:53,968 - iqm.benchmarks.logging_config - INFO - Transpiling for backend IQMFakeApolloBackend with optimization level 0, sabre routing method all circuits\n",
      "2025-01-14 15:39:55,562 - iqm.benchmarks.logging_config - INFO - Submitting batch with 800 circuits corresponding to qubits [0, 1]\n",
      "2025-01-14 15:39:55,564 - iqm.benchmarks.logging_config - INFO - Now executing the corresponding circuit batch\n",
      "2025-01-14 15:39:55,620 - iqm.benchmarks.logging_config - INFO - Retrieving all counts\n"
     ]
    }
   ],
   "source": [
    "# Euclidean Gradient\n",
    "Q2_GST = GSTConfiguration(\n",
    "    qubit_layouts=[[0, 1]],\n",
    "    gate_set=\"2QXYCZ\",\n",
    "    num_circuits=800,\n",
    "    shots=1000,\n",
    "    rank=4,\n",
    ")\n",
    "\n",
    "K, X, E, rho, y, J, l, d, pdim, r, n_povm, bsize, meas_samples, n, nt, rK = get_full_mgst_parameters_from_configuration(\n",
    "    Q2_GST, backend\n",
    ")"
   ]
  },
  {
   "cell_type": "code",
   "execution_count": 22,
   "metadata": {},
   "outputs": [
    {
     "data": {
      "text/plain": [
       "800"
      ]
     },
     "execution_count": 22,
     "metadata": {},
     "output_type": "execute_result"
    }
   ],
   "source": [
    "J_processed = [row[row != -1] for row in J]\n",
    "len(J_processed)"
   ]
  },
  {
   "cell_type": "code",
   "execution_count": 23,
   "metadata": {},
   "outputs": [
    {
     "name": "stdout",
     "output_type": "stream",
     "text": [
      "411 ms ± 18.6 ms per loop (mean ± std. dev. of 7 runs, 1 loop each)\n"
     ]
    }
   ],
   "source": [
    "# Numba\n",
    "%timeit dK(X, K, E, rho, J, y, d, r, rK)"
   ]
  },
  {
   "cell_type": "code",
   "execution_count": 24,
   "metadata": {},
   "outputs": [
    {
     "name": "stdout",
     "output_type": "stream",
     "text": [
      "Using JAX power\n",
      "Using JAX power\n",
      "Using JAX power\n",
      "Using JAX power\n",
      "Using JAX power\n",
      "Using JAX power\n",
      "Using JAX power\n",
      "Using JAX power\n",
      "7.56 s ± 69.1 ms per loop (mean ± std. dev. of 7 runs, 1 loop each)\n"
     ]
    }
   ],
   "source": [
    "# JAX\n",
    "%timeit dK_jax(K, E, rho, J, y, d, r)"
   ]
  },
  {
   "cell_type": "code",
   "execution_count": 25,
   "metadata": {},
   "outputs": [
    {
     "name": "stdout",
     "output_type": "stream",
     "text": [
      "Using JAX power\n",
      "Using JAX power\n",
      "Using JAX power\n",
      "Using JAX power\n",
      "Using JAX power\n",
      "Using JAX power\n",
      "Using JAX power\n",
      "Using JAX power\n",
      "2.02 s ± 33.6 ms per loop (mean ± std. dev. of 7 runs, 1 loop each)\n"
     ]
    }
   ],
   "source": [
    "# JAX JIT\n",
    "%timeit dK_jax_jit(K, E, rho, J_processed, y, d, r)"
   ]
  },
  {
   "cell_type": "markdown",
   "metadata": {},
   "source": [
    "# 3GST"
   ]
  },
  {
   "cell_type": "code",
   "execution_count": 26,
   "metadata": {},
   "outputs": [
    {
     "name": "stderr",
     "output_type": "stream",
     "text": [
      "2025-01-14 15:42:25,133 - iqm.benchmarks.logging_config - INFO - Now generating 1000 random GST circuits...\n",
      "2025-01-14 15:42:25,647 - iqm.benchmarks.logging_config - INFO - Will transpile all 1000 circuits according to fixed physical layout\n",
      "2025-01-14 15:42:25,647 - iqm.benchmarks.logging_config - INFO - Transpiling for backend IQMFakeApolloBackend with optimization level 0, sabre routing method all circuits\n",
      "2025-01-14 15:42:28,056 - iqm.benchmarks.logging_config - INFO - Submitting batch with 1000 circuits corresponding to qubits [0, 1, 3]\n",
      "2025-01-14 15:42:28,057 - iqm.benchmarks.logging_config - INFO - Now executing the corresponding circuit batch\n",
      "2025-01-14 15:42:28,114 - iqm.benchmarks.logging_config - INFO - Retrieving all counts\n"
     ]
    }
   ],
   "source": [
    "Q3_GST = GSTConfiguration(\n",
    "    qubit_layouts=[[0,1,3]],\n",
    "    gate_set=\"3QXYCZ\",\n",
    "    num_circuits=1000,\n",
    "    shots=1000,\n",
    "    rank=4,\n",
    ")\n",
    "\n",
    "K, X, E, rho, y, J, l, d, pdim, r, n_povm, bsize, meas_samples, n, nt, rK = get_full_mgst_parameters_from_configuration(\n",
    "    Q3_GST, backend\n",
    ")"
   ]
  },
  {
   "cell_type": "code",
   "execution_count": 27,
   "metadata": {},
   "outputs": [
    {
     "data": {
      "text/plain": [
       "1000"
      ]
     },
     "execution_count": 27,
     "metadata": {},
     "output_type": "execute_result"
    }
   ],
   "source": [
    "J_processed = [row[row != -1] for row in J]\n",
    "len(J_processed)"
   ]
  },
  {
   "cell_type": "code",
   "execution_count": 28,
   "metadata": {},
   "outputs": [
    {
     "name": "stdout",
     "output_type": "stream",
     "text": [
      "1min 20s ± 8.24 s per loop (mean ± std. dev. of 7 runs, 1 loop each)\n"
     ]
    }
   ],
   "source": [
    "# Numba\n",
    "%timeit dK(X, K, E, rho, J, y, d, r, rK)"
   ]
  },
  {
   "cell_type": "code",
   "execution_count": 29,
   "metadata": {},
   "outputs": [
    {
     "name": "stdout",
     "output_type": "stream",
     "text": [
      "Using JAX power\n",
      "Using JAX power\n",
      "Using JAX power\n",
      "15 s ± 354 ms per loop (mean ± std. dev. of 3 runs, 1 loop each)\n"
     ]
    }
   ],
   "source": [
    "# JAX\n",
    "%timeit -n1 -r3 dK_jax(K, E, rho, J, y, d, r)"
   ]
  },
  {
   "cell_type": "code",
   "execution_count": 30,
   "metadata": {},
   "outputs": [
    {
     "name": "stdout",
     "output_type": "stream",
     "text": [
      "Using JAX power\n",
      "Using JAX power\n",
      "Using JAX power\n",
      "5.72 s ± 926 ms per loop (mean ± std. dev. of 3 runs, 1 loop each)\n"
     ]
    }
   ],
   "source": [
    "# JAX JIT\n",
    "%timeit -n1 -r3 dK_jax_jit(K, E, rho, J_processed, y, d, r)"
   ]
  },
  {
   "cell_type": "code",
   "execution_count": 31,
   "metadata": {},
   "outputs": [],
   "source": [
    "# Is it still correct?\n",
    "numba_grad = dK(X, K, E, rho, J, y, d, r, rK)"
   ]
  },
  {
   "cell_type": "code",
   "execution_count": 32,
   "metadata": {},
   "outputs": [
    {
     "name": "stdout",
     "output_type": "stream",
     "text": [
      "Using JAX power\n"
     ]
    }
   ],
   "source": [
    "jax_grad = dK_jax_jit(K, E, rho, J_processed, y, d, r)"
   ]
  },
  {
   "cell_type": "code",
   "execution_count": 33,
   "metadata": {},
   "outputs": [
    {
     "data": {
      "text/plain": [
       "Array(True, dtype=bool)"
      ]
     },
     "execution_count": 33,
     "metadata": {},
     "output_type": "execute_result"
    }
   ],
   "source": [
    "jnp.allclose(2*numba_grad, jax_grad)\n",
    "# apparantly the result is the same whether we use J or J_processed (?)"
   ]
  },
  {
   "cell_type": "markdown",
   "metadata": {},
   "source": [
    "# 4GST"
   ]
  },
  {
   "cell_type": "code",
   "execution_count": 39,
   "metadata": {},
   "outputs": [
    {
     "name": "stderr",
     "output_type": "stream",
     "text": [
      "2025-01-14 16:03:09,344 - iqm.benchmarks.logging_config - INFO - Now generating 2000 random GST circuits...\n",
      "2025-01-14 16:03:10,251 - iqm.benchmarks.logging_config - INFO - Will transpile all 2000 circuits according to fixed physical layout\n",
      "2025-01-14 16:03:10,251 - iqm.benchmarks.logging_config - INFO - Transpiling for backend IQMFakeApolloBackend with optimization level 0, sabre routing method all circuits\n",
      "2025-01-14 16:03:13,559 - iqm.benchmarks.logging_config - INFO - Submitting batch with 2000 circuits corresponding to qubits [0, 1, 3, 4]\n",
      "2025-01-14 16:03:13,561 - iqm.benchmarks.logging_config - INFO - Now executing the corresponding circuit batch\n",
      "2025-01-14 16:03:13,630 - iqm.benchmarks.logging_config - INFO - Retrieving all counts\n"
     ]
    }
   ],
   "source": [
    "from iqm.qiskit_iqm import IQMCircuit as QuantumCircuit\n",
    "from qiskit.circuit.library import CZGate, RGate\n",
    "\n",
    "cz_cz = QuantumCircuit(4)\n",
    "cz_cz.append(CZGate(), [0,1])\n",
    "cz_cz.append(CZGate(), [2,3])\n",
    "\n",
    "gate_list = [\n",
    "    RGate(0.5 * np.pi, 0),\n",
    "    RGate(0.5 * np.pi, 0),\n",
    "    RGate(0.5 * np.pi, 0),\n",
    "    RGate(0.5 * np.pi, 0),\n",
    "    RGate(0.5 * np.pi, np.pi / 2),\n",
    "    RGate(0.5 * np.pi, np.pi / 2),\n",
    "    RGate(0.5 * np.pi, np.pi / 2),\n",
    "    RGate(0.5 * np.pi, np.pi / 2),\n",
    "    cz_cz,\n",
    "]\n",
    "gates = [QuantumCircuit(4, 0) for _ in range(len(gate_list))]\n",
    "gate_qubits = [[0], [1], [2], [3], [0], [1], [2], [3], [0, 1, 2, 3]]\n",
    "for i, gate in enumerate(gate_list):\n",
    "    if isinstance(gate, QuantumCircuit):\n",
    "        gates[i].compose(gate, gate_qubits[i], inplace = True)\n",
    "    else:\n",
    "        gates[i].append(gate, gate_qubits[i])\n",
    "gate_labels = [\"Rx(pi/2)\", \"Rx(pi/2)\", \"Rx(pi/2)\", \"Rx(pi/2)\", \n",
    "               \"Ry(pi/2)\", \"Ry(pi/2)\", \"Ry(pi/2)\", \"Ry(pi/2)\", \n",
    "               \"CZ-CZ\"]\n",
    "\n",
    "Q4_GST = GSTConfiguration(\n",
    "    qubit_layouts=[[0,1,3,4]],\n",
    "    gate_set=gates,\n",
    "    gate_labels=gate_labels,\n",
    "    num_circuits=2000,\n",
    "    shots=1000,\n",
    "    rank=1,\n",
    ")\n",
    "\n",
    "K, X, E, rho, y, J, l, d, pdim, r, n_povm, bsize, meas_samples, n, nt, rK = get_full_mgst_parameters_from_configuration(\n",
    "    Q4_GST, backend\n",
    ")"
   ]
  },
  {
   "cell_type": "code",
   "execution_count": 40,
   "metadata": {},
   "outputs": [
    {
     "data": {
      "text/plain": [
       "2000"
      ]
     },
     "execution_count": 40,
     "metadata": {},
     "output_type": "execute_result"
    }
   ],
   "source": [
    "# Process J beforehand\n",
    "J_processed = [row[row != -1] for row in J]\n",
    "len(J_processed)"
   ]
  },
  {
   "cell_type": "code",
   "execution_count": 41,
   "metadata": {},
   "outputs": [
    {
     "name": "stdout",
     "output_type": "stream",
     "text": [
      "Using JAX power\n",
      "Using JAX power\n",
      "Using JAX power\n",
      "3min 1s ± 5.24 s per loop (mean ± std. dev. of 3 runs, 1 loop each)\n"
     ]
    }
   ],
   "source": [
    "# JAX JIT\n",
    "%timeit -n1 -r3 dK_jax_jit(K, E, rho, J_processed, y, d, r)"
   ]
  },
  {
   "cell_type": "markdown",
   "metadata": {},
   "source": [
    "# Results"
   ]
  },
  {
   "cell_type": "markdown",
   "metadata": {},
   "source": [
    "<table>\n",
    "  <tr>\n",
    "    <th>Function</th>\n",
    "    <th>Running time</th>\n",
    "  </tr>\n",
    "  <tr>\n",
    "    <td colspan=\"2\", style=\"text-align: center;\">1 GST</td>\n",
    "  </tr>\n",
    "  <tr>\n",
    "    <td>Numba</td> \n",
    "    <td> 5.66 ms ± 188 μs</td>\n",
    "  </tr>\n",
    "  <tr>\n",
    "    <td>JAX </td>\n",
    "    <td> 718 ms ± 7.46 ms</td>\n",
    "  </tr>\n",
    "  <tr>\n",
    "    <td>JAX + JIT (contraction + mse)</td>\n",
    "    <td> 168 ms ± 1.14 ms</td>\n",
    "  </tr>\n",
    "  <tr>\n",
    "    <td colspan=\"2\", style=\"text-align: center;\">2 GST</td>\n",
    "  <tr>\n",
    "    <td>Numba</td> \n",
    "    <td> 411 ms ± 18.6 ms</td>\n",
    "  </tr>\n",
    "  <tr>\n",
    "    <td>JAX </td>\n",
    "    <td> 7.56 s ± 69.1 ms</td>\n",
    "  </tr>\n",
    "  <tr>\n",
    "    <td>JAX + JIT (contraction + mse)</td>\n",
    "    <td> 2.02 s ± 33.6 ms</td>\n",
    "  </tr>\n",
    "  <tr>\n",
    "    <td colspan=\"2\", style=\"text-align: center;\">3 GST</td>\n",
    "  <tr>\n",
    "    <td>Numba</td> \n",
    "    <td> 1min 20s ± 8.24 s</td>\n",
    "  </tr>\n",
    "  <tr>\n",
    "    <td>JAX </td>\n",
    "    <td> 15 s ± 354 ms </td>\n",
    "  </tr>\n",
    "  <tr>\n",
    "    <td>JAX + JIT (contraction + mse)</td>\n",
    "    <td> 5.72 s ± 926 ms</td>\n",
    "  <tr>\n",
    "    <td colspan=\"2\", style=\"text-align: center;\">4 GST</td>\n",
    "  <tr>\n",
    "    <td>Numba</td> \n",
    "    <td> 89.63 min</td>\n",
    "  </tr>\n",
    "  <tr>\n",
    "    <td>JAX </td>\n",
    "    <td> NA </td>\n",
    "  </tr>\n",
    "  <tr>\n",
    "    <td>JAX + JIT (contraction + mse)</td>\n",
    "    <td> 3min 1s ± 5.24 s</td>\n",
    "  </tr>\n",
    "</table>\n"
   ]
  },
  {
   "cell_type": "markdown",
   "metadata": {},
   "source": []
  }
 ],
 "metadata": {
  "kernelspec": {
   "display_name": "qcvv-env",
   "language": "python",
   "name": "python3"
  },
  "language_info": {
   "codemirror_mode": {
    "name": "ipython",
    "version": 3
   },
   "file_extension": ".py",
   "mimetype": "text/x-python",
   "name": "python",
   "nbconvert_exporter": "python",
   "pygments_lexer": "ipython3",
   "version": "3.11.10"
  }
 },
 "nbformat": 4,
 "nbformat_minor": 2
}
