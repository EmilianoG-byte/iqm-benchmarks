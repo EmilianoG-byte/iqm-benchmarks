{
 "cells": [
  {
   "cell_type": "code",
   "execution_count": 3,
   "metadata": {},
   "outputs": [
    {
     "name": "stdout",
     "output_type": "stream",
     "text": [
      "The autoreload extension is already loaded. To reload it, use:\n",
      "  %reload_ext autoreload\n"
     ]
    }
   ],
   "source": [
    "# Needs iqm-benchmarks from the github repo to access all the mGST functions: https://github.com/iqm-finland/iqm-benchmarks\n",
    "from mGST.low_level_jit import dK, objf\n",
    "from mGST.low_level_jit import cost_function_jax, cost_function_jax_jit\n",
    "from iqm.benchmarks.compressive_gst.compressive_gst import GSTConfiguration\n",
    "from mGST.utility_functions_comparisons import get_full_mgst_parameters_from_configuration\n",
    "# Check compilation time for contract_jax_jit.\n",
    "import jax\n",
    "import numpy as np\n",
    "\n",
    "backend = \"iqmfakeapollo\"\n",
    "\n",
    "%load_ext autoreload\n",
    "%autoreload 2"
   ]
  },
  {
   "cell_type": "markdown",
   "metadata": {},
   "source": [
    "# 1GST"
   ]
  },
  {
   "cell_type": "code",
   "execution_count": 4,
   "metadata": {},
   "outputs": [
    {
     "name": "stderr",
     "output_type": "stream",
     "text": [
      "2025-01-14 15:29:54,585 - iqm.benchmarks.logging_config - INFO - Now generating 100 random GST circuits...\n",
      "2025-01-14 15:29:54,812 - iqm.benchmarks.logging_config - INFO - Will transpile all 100 circuits according to fixed physical layout\n",
      "2025-01-14 15:29:54,812 - iqm.benchmarks.logging_config - INFO - Transpiling for backend IQMFakeApolloBackend with optimization level 0, sabre routing method all circuits\n",
      "2025-01-14 15:29:55,299 - iqm.benchmarks.logging_config - INFO - Submitting batch with 100 circuits corresponding to qubits [0]\n",
      "2025-01-14 15:29:55,307 - iqm.benchmarks.logging_config - INFO - Now executing the corresponding circuit batch\n",
      "2025-01-14 15:29:55,343 - iqm.benchmarks.logging_config - INFO - Retrieving all counts\n"
     ]
    }
   ],
   "source": [
    "# First using the JAX compilation with smaller qubits to see if this helps\n",
    "Q1_GST = GSTConfiguration(\n",
    "    qubit_layouts=[[0]],\n",
    "    gate_set=\"1QXYI\",\n",
    "    num_circuits=100,\n",
    "    shots=1000,\n",
    "    rank=4,\n",
    ")\n",
    "\n",
    "K, X, E, rho, y, J, l, d, pdim, r, n_povm, bsize, meas_samples, n, nt, rK = get_full_mgst_parameters_from_configuration(\n",
    "    Q1_GST, backend\n",
    ")"
   ]
  },
  {
   "cell_type": "code",
   "execution_count": 5,
   "metadata": {},
   "outputs": [
    {
     "name": "stdout",
     "output_type": "stream",
     "text": [
      "5.86 ms ± 264 μs per loop (mean ± std. dev. of 7 runs, 1 loop each)\n"
     ]
    }
   ],
   "source": [
    "# Numba\n",
    "%timeit dK(X, K, E, rho, J, y, d, r, rK)"
   ]
  },
  {
   "cell_type": "code",
   "execution_count": null,
   "metadata": {},
   "outputs": [],
   "source": []
  }
 ],
 "metadata": {
  "kernelspec": {
   "display_name": "qcvv-env",
   "language": "python",
   "name": "python3"
  },
  "language_info": {
   "codemirror_mode": {
    "name": "ipython",
    "version": 3
   },
   "file_extension": ".py",
   "mimetype": "text/x-python",
   "name": "python",
   "nbconvert_exporter": "python",
   "pygments_lexer": "ipython3",
   "version": "3.11.10"
  }
 },
 "nbformat": 4,
 "nbformat_minor": 2
}
